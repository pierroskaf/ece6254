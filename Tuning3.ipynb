{
 "cells": [
  {
   "cell_type": "code",
   "execution_count": 1,
   "metadata": {},
   "outputs": [],
   "source": [
    "from sklearn.naive_bayes import GaussianNB\n",
    "from sklearn.linear_model import SGDClassifier, LogisticRegression\n",
    "from sklearn.neighbors import KNeighborsClassifier\n",
    "from sklearn.tree import DecisionTreeClassifier\n",
    "from sklearn.ensemble import RandomForestClassifier\n",
    "from sklearn.svm import SVC\n",
    "from sklearn.neural_network import MLPClassifier\n",
    "from xgboost import XGBClassifier, XGBRFClassifier\n",
    "from xgboost import plot_tree, plot_importance\n",
    "\n",
    "from sklearn.metrics import confusion_matrix, accuracy_score, roc_auc_score, roc_curve\n",
    "from sklearn import preprocessing\n",
    "from sklearn.model_selection import train_test_split\n",
    "from sklearn.feature_selection import RFE\n",
    "import pandas as pd\n",
    "import numpy as np\n",
    "from tqdm import tqdm"
   ]
  },
  {
   "cell_type": "code",
   "execution_count": 2,
   "metadata": {},
   "outputs": [
    {
     "data": {
      "text/html": [
       "<div>\n",
       "<style scoped>\n",
       "    .dataframe tbody tr th:only-of-type {\n",
       "        vertical-align: middle;\n",
       "    }\n",
       "\n",
       "    .dataframe tbody tr th {\n",
       "        vertical-align: top;\n",
       "    }\n",
       "\n",
       "    .dataframe thead th {\n",
       "        text-align: right;\n",
       "    }\n",
       "</style>\n",
       "<table border=\"1\" class=\"dataframe\">\n",
       "  <thead>\n",
       "    <tr style=\"text-align: right;\">\n",
       "      <th></th>\n",
       "      <th>filename</th>\n",
       "      <th>length</th>\n",
       "      <th>chroma_stft_mean</th>\n",
       "      <th>chroma_stft_var</th>\n",
       "      <th>rms_mean</th>\n",
       "      <th>rms_var</th>\n",
       "      <th>spectral_centroid_mean</th>\n",
       "      <th>spectral_centroid_var</th>\n",
       "      <th>spectral_bandwidth_mean</th>\n",
       "      <th>spectral_bandwidth_var</th>\n",
       "      <th>...</th>\n",
       "      <th>mfcc16_var</th>\n",
       "      <th>mfcc17_mean</th>\n",
       "      <th>mfcc17_var</th>\n",
       "      <th>mfcc18_mean</th>\n",
       "      <th>mfcc18_var</th>\n",
       "      <th>mfcc19_mean</th>\n",
       "      <th>mfcc19_var</th>\n",
       "      <th>mfcc20_mean</th>\n",
       "      <th>mfcc20_var</th>\n",
       "      <th>label</th>\n",
       "    </tr>\n",
       "  </thead>\n",
       "  <tbody>\n",
       "    <tr>\n",
       "      <th>0</th>\n",
       "      <td>pop.00027.wav</td>\n",
       "      <td>15.0</td>\n",
       "      <td>0.379576</td>\n",
       "      <td>0.088084</td>\n",
       "      <td>0.150022</td>\n",
       "      <td>0.002675</td>\n",
       "      <td>2587.140475</td>\n",
       "      <td>8.744579e+05</td>\n",
       "      <td>2956.302829</td>\n",
       "      <td>198766.050606</td>\n",
       "      <td>...</td>\n",
       "      <td>1.0</td>\n",
       "      <td>8.857656e-09</td>\n",
       "      <td>1.0</td>\n",
       "      <td>1.476276e-09</td>\n",
       "      <td>1.0</td>\n",
       "      <td>-1.181021e-08</td>\n",
       "      <td>1.0</td>\n",
       "      <td>8.857656e-09</td>\n",
       "      <td>1.0</td>\n",
       "      <td>pop</td>\n",
       "    </tr>\n",
       "    <tr>\n",
       "      <th>1</th>\n",
       "      <td>pop.00033.wav</td>\n",
       "      <td>15.0</td>\n",
       "      <td>0.393467</td>\n",
       "      <td>0.093529</td>\n",
       "      <td>0.124740</td>\n",
       "      <td>0.003191</td>\n",
       "      <td>2756.163230</td>\n",
       "      <td>6.958309e+05</td>\n",
       "      <td>2616.865245</td>\n",
       "      <td>244235.670584</td>\n",
       "      <td>...</td>\n",
       "      <td>1.0</td>\n",
       "      <td>5.905104e-09</td>\n",
       "      <td>1.0</td>\n",
       "      <td>5.905104e-09</td>\n",
       "      <td>1.0</td>\n",
       "      <td>-1.181021e-08</td>\n",
       "      <td>1.0</td>\n",
       "      <td>0.000000e+00</td>\n",
       "      <td>1.0</td>\n",
       "      <td>pop</td>\n",
       "    </tr>\n",
       "    <tr>\n",
       "      <th>2</th>\n",
       "      <td>pop.00032.wav</td>\n",
       "      <td>15.0</td>\n",
       "      <td>0.421139</td>\n",
       "      <td>0.092977</td>\n",
       "      <td>0.095513</td>\n",
       "      <td>0.002106</td>\n",
       "      <td>4330.352239</td>\n",
       "      <td>1.974231e+06</td>\n",
       "      <td>3457.327124</td>\n",
       "      <td>112476.744036</td>\n",
       "      <td>...</td>\n",
       "      <td>1.0</td>\n",
       "      <td>0.000000e+00</td>\n",
       "      <td>1.0</td>\n",
       "      <td>0.000000e+00</td>\n",
       "      <td>1.0</td>\n",
       "      <td>5.905104e-09</td>\n",
       "      <td>1.0</td>\n",
       "      <td>5.905104e-09</td>\n",
       "      <td>1.0</td>\n",
       "      <td>pop</td>\n",
       "    </tr>\n",
       "    <tr>\n",
       "      <th>3</th>\n",
       "      <td>pop.00026.wav</td>\n",
       "      <td>15.0</td>\n",
       "      <td>0.315736</td>\n",
       "      <td>0.086414</td>\n",
       "      <td>0.198041</td>\n",
       "      <td>0.007539</td>\n",
       "      <td>2483.616949</td>\n",
       "      <td>8.635061e+05</td>\n",
       "      <td>2836.591500</td>\n",
       "      <td>251765.001210</td>\n",
       "      <td>...</td>\n",
       "      <td>1.0</td>\n",
       "      <td>0.000000e+00</td>\n",
       "      <td>1.0</td>\n",
       "      <td>-5.905104e-09</td>\n",
       "      <td>1.0</td>\n",
       "      <td>-1.181021e-08</td>\n",
       "      <td>1.0</td>\n",
       "      <td>1.181021e-08</td>\n",
       "      <td>1.0</td>\n",
       "      <td>pop</td>\n",
       "    </tr>\n",
       "    <tr>\n",
       "      <th>4</th>\n",
       "      <td>pop.00030.wav</td>\n",
       "      <td>15.0</td>\n",
       "      <td>0.375461</td>\n",
       "      <td>0.081815</td>\n",
       "      <td>0.200531</td>\n",
       "      <td>0.006887</td>\n",
       "      <td>2982.381296</td>\n",
       "      <td>5.960961e+05</td>\n",
       "      <td>2924.271786</td>\n",
       "      <td>133121.273287</td>\n",
       "      <td>...</td>\n",
       "      <td>1.0</td>\n",
       "      <td>8.857656e-09</td>\n",
       "      <td>1.0</td>\n",
       "      <td>1.476276e-08</td>\n",
       "      <td>1.0</td>\n",
       "      <td>2.952552e-09</td>\n",
       "      <td>1.0</td>\n",
       "      <td>0.000000e+00</td>\n",
       "      <td>1.0</td>\n",
       "      <td>pop</td>\n",
       "    </tr>\n",
       "  </tbody>\n",
       "</table>\n",
       "<p>5 rows × 60 columns</p>\n",
       "</div>"
      ],
      "text/plain": [
       "        filename  length  chroma_stft_mean  chroma_stft_var  rms_mean  \\\n",
       "0  pop.00027.wav    15.0          0.379576         0.088084  0.150022   \n",
       "1  pop.00033.wav    15.0          0.393467         0.093529  0.124740   \n",
       "2  pop.00032.wav    15.0          0.421139         0.092977  0.095513   \n",
       "3  pop.00026.wav    15.0          0.315736         0.086414  0.198041   \n",
       "4  pop.00030.wav    15.0          0.375461         0.081815  0.200531   \n",
       "\n",
       "    rms_var  spectral_centroid_mean  spectral_centroid_var  \\\n",
       "0  0.002675             2587.140475           8.744579e+05   \n",
       "1  0.003191             2756.163230           6.958309e+05   \n",
       "2  0.002106             4330.352239           1.974231e+06   \n",
       "3  0.007539             2483.616949           8.635061e+05   \n",
       "4  0.006887             2982.381296           5.960961e+05   \n",
       "\n",
       "   spectral_bandwidth_mean  spectral_bandwidth_var  ...  mfcc16_var  \\\n",
       "0              2956.302829           198766.050606  ...         1.0   \n",
       "1              2616.865245           244235.670584  ...         1.0   \n",
       "2              3457.327124           112476.744036  ...         1.0   \n",
       "3              2836.591500           251765.001210  ...         1.0   \n",
       "4              2924.271786           133121.273287  ...         1.0   \n",
       "\n",
       "    mfcc17_mean  mfcc17_var   mfcc18_mean  mfcc18_var   mfcc19_mean  \\\n",
       "0  8.857656e-09         1.0  1.476276e-09         1.0 -1.181021e-08   \n",
       "1  5.905104e-09         1.0  5.905104e-09         1.0 -1.181021e-08   \n",
       "2  0.000000e+00         1.0  0.000000e+00         1.0  5.905104e-09   \n",
       "3  0.000000e+00         1.0 -5.905104e-09         1.0 -1.181021e-08   \n",
       "4  8.857656e-09         1.0  1.476276e-08         1.0  2.952552e-09   \n",
       "\n",
       "   mfcc19_var   mfcc20_mean  mfcc20_var  label  \n",
       "0         1.0  8.857656e-09         1.0    pop  \n",
       "1         1.0  0.000000e+00         1.0    pop  \n",
       "2         1.0  5.905104e-09         1.0    pop  \n",
       "3         1.0  1.181021e-08         1.0    pop  \n",
       "4         1.0  0.000000e+00         1.0    pop  \n",
       "\n",
       "[5 rows x 60 columns]"
      ]
     },
     "execution_count": 2,
     "metadata": {},
     "output_type": "execute_result"
    }
   ],
   "source": [
    "\n",
    "data = pd.read_csv('/Users/pierros/Documents/Courses/ECE6254/Projects/Final Project/features15sec.csv')\n",
    "data = data.iloc[0:, 1:] \n",
    "data.head()"
   ]
  },
  {
   "cell_type": "code",
   "execution_count": 3,
   "metadata": {},
   "outputs": [],
   "source": [
    "data = data.drop([\"filename\",\"length\"], axis=1)"
   ]
  },
  {
   "cell_type": "code",
   "execution_count": 4,
   "metadata": {},
   "outputs": [],
   "source": [
    "y = data['label'] # genre variable.\n",
    "X = data.loc[:, data.columns != 'label'] #select all columns but not the labels\n",
    "\n",
    "#### NORMALIZE X ####\n",
    "\n",
    "# Normalize so everything is on the same scale. \n",
    "\n",
    "cols = X.columns\n",
    "min_max_scaler = preprocessing.MinMaxScaler()\n",
    "np_scaled = min_max_scaler.fit_transform(X)\n",
    "\n",
    "# new data frame with the new scaled data. \n",
    "X = pd.DataFrame(np_scaled, columns = cols)"
   ]
  },
  {
   "cell_type": "code",
   "execution_count": 5,
   "metadata": {},
   "outputs": [],
   "source": [
    "X_train, X_test, y_train, y_test = train_test_split(X, y, test_size=0.3, random_state=42)"
   ]
  },
  {
   "cell_type": "code",
   "execution_count": 6,
   "metadata": {},
   "outputs": [],
   "source": [
    "def model_assess(model, title = \"Default\"):\n",
    "    model.fit(X_train, y_train)\n",
    "    preds = model.predict(X_test)\n",
    "    #print(confusion_matrix(y_test, preds))\n",
    "    print('Accuracy', title, ':', round(accuracy_score(y_test, preds), 5), '\\n')\n",
    "    return round(accuracy_score(y_test, preds), 5)"
   ]
  },
  {
   "cell_type": "markdown",
   "metadata": {},
   "source": [
    "Native Bayes"
   ]
  },
  {
   "cell_type": "code",
   "execution_count": 7,
   "metadata": {},
   "outputs": [
    {
     "name": "stdout",
     "output_type": "stream",
     "text": [
      "Accuracy Naive Bayes : 0.44 \n",
      "\n"
     ]
    }
   ],
   "source": [
    "nb = GaussianNB()\n",
    "score = model_assess(nb, \"Naive Bayes\")"
   ]
  },
  {
   "cell_type": "markdown",
   "metadata": {},
   "source": [
    "Stochastic Gradient Descent"
   ]
  },
  {
   "cell_type": "code",
   "execution_count": 8,
   "metadata": {},
   "outputs": [
    {
     "name": "stdout",
     "output_type": "stream",
     "text": [
      "Accuracy Stochastic Gradient Descent : 0.42333 \n",
      "\n"
     ]
    }
   ],
   "source": [
    "sgd = SGDClassifier(max_iter=500, random_state=0)\n",
    "score = model_assess(sgd, \"Stochastic Gradient Descent\")"
   ]
  },
  {
   "cell_type": "markdown",
   "metadata": {},
   "source": [
    "KNN"
   ]
  },
  {
   "cell_type": "code",
   "execution_count": 9,
   "metadata": {},
   "outputs": [
    {
     "name": "stdout",
     "output_type": "stream",
     "text": [
      "Accuracy KNN : 0.26 \n",
      "\n",
      "Accuracy KNN : 0.25667 \n",
      "\n",
      "Accuracy KNN : 0.26333 \n",
      "\n",
      "Accuracy KNN : 0.26333 \n",
      "\n",
      "Accuracy KNN : 0.29 \n",
      "\n",
      "Accuracy KNN : 0.29 \n",
      "\n",
      "Accuracy KNN : 0.31333 \n",
      "\n",
      "Accuracy KNN : 0.30667 \n",
      "\n",
      "Accuracy KNN : 0.32 \n",
      "\n",
      "Accuracy KNN : 0.34 \n",
      "\n",
      "Accuracy KNN : 0.33333 \n",
      "\n",
      "Accuracy KNN : 0.35 \n",
      "\n",
      "Accuracy KNN : 0.32333 \n",
      "\n",
      "Accuracy KNN : 0.34 \n",
      "\n",
      "Accuracy KNN : 0.35667 \n",
      "\n",
      "Accuracy KNN : 0.35 \n",
      "\n",
      "Accuracy KNN : 0.33667 \n",
      "\n",
      "Accuracy KNN : 0.34333 \n",
      "\n",
      "Accuracy KNN : 0.33667 \n",
      "\n",
      "Accuracy KNN : 0.34 \n",
      "\n",
      "Accuracy KNN : 0.35 \n",
      "\n",
      "Accuracy KNN : 0.36667 \n",
      "\n",
      "Accuracy KNN : 0.34667 \n",
      "\n",
      "Accuracy KNN : 0.35333 \n",
      "\n",
      "Accuracy KNN : 0.36333 \n",
      "\n",
      "Accuracy KNN : 0.38667 \n",
      "\n",
      "Accuracy KNN : 0.37333 \n",
      "\n",
      "Accuracy KNN : 0.38333 \n",
      "\n",
      "Accuracy KNN : 0.38 \n",
      "\n",
      "Accuracy KNN : 0.38 \n",
      "\n",
      "Accuracy KNN : 0.36333 \n",
      "\n",
      "Accuracy KNN : 0.37 \n",
      "\n",
      "Accuracy KNN : 0.38 \n",
      "\n",
      "Accuracy KNN : 0.38 \n",
      "\n",
      "Accuracy KNN : 0.37667 \n",
      "\n",
      "Accuracy KNN : 0.37667 \n",
      "\n",
      "Accuracy KNN : 0.37 \n",
      "\n",
      "Accuracy KNN : 0.36667 \n",
      "\n",
      "Accuracy KNN : 0.37333 \n",
      "\n",
      "Accuracy KNN : 0.37333 \n",
      "\n",
      "Accuracy KNN : 0.36667 \n",
      "\n",
      "Accuracy KNN : 0.37 \n",
      "\n",
      "Accuracy KNN : 0.36667 \n",
      "\n",
      "Accuracy KNN : 0.36 \n",
      "\n",
      "Accuracy KNN : 0.36667 \n",
      "\n",
      "Accuracy KNN : 0.37 \n",
      "\n",
      "Accuracy KNN : 0.36667 \n",
      "\n",
      "Accuracy KNN : 0.37333 \n",
      "\n",
      "Accuracy KNN : 0.36667 \n",
      "\n",
      "Accuracy KNN : 0.37 \n",
      "\n",
      "Accuracy KNN : 0.37667 \n",
      "\n",
      "Accuracy KNN : 0.38333 \n",
      "\n",
      "Accuracy KNN : 0.37667 \n",
      "\n",
      "Accuracy KNN : 0.37 \n",
      "\n",
      "Accuracy KNN : 0.37 \n",
      "\n",
      "Accuracy KNN : 0.37333 \n",
      "\n",
      "Accuracy KNN : 0.37333 \n",
      "\n",
      "Accuracy KNN : 0.37 \n",
      "\n",
      "Accuracy KNN : 0.36 \n",
      "\n",
      "Accuracy KNN : 0.37333 \n",
      "\n",
      "Accuracy KNN : 0.37667 \n",
      "\n",
      "Accuracy KNN : 0.36333 \n",
      "\n",
      "Accuracy KNN : 0.37 \n",
      "\n",
      "Accuracy KNN : 0.35333 \n",
      "\n",
      "Accuracy KNN : 0.36 \n",
      "\n",
      "Accuracy KNN : 0.34333 \n",
      "\n",
      "Accuracy KNN : 0.34333 \n",
      "\n",
      "Accuracy KNN : 0.35667 \n",
      "\n",
      "Accuracy KNN : 0.35667 \n",
      "\n",
      "Accuracy KNN : 0.35333 \n",
      "\n",
      "Accuracy KNN : 0.35333 \n",
      "\n",
      "Accuracy KNN : 0.35667 \n",
      "\n",
      "Accuracy KNN : 0.35667 \n",
      "\n",
      "Accuracy KNN : 0.35667 \n",
      "\n",
      "Accuracy KNN : 0.35667 \n",
      "\n",
      "Accuracy KNN : 0.34667 \n",
      "\n",
      "Accuracy KNN : 0.33333 \n",
      "\n",
      "Accuracy KNN : 0.33667 \n",
      "\n",
      "Accuracy KNN : 0.32667 \n",
      "\n",
      "Accuracy KNN : 0.32333 \n",
      "\n",
      "Accuracy KNN : 0.32667 \n",
      "\n",
      "Accuracy KNN : 0.33 \n",
      "\n",
      "Accuracy KNN : 0.33667 \n",
      "\n",
      "Accuracy KNN : 0.33667 \n",
      "\n",
      "Accuracy KNN : 0.34 \n",
      "\n",
      "Accuracy KNN : 0.34 \n",
      "\n",
      "Accuracy KNN : 0.34 \n",
      "\n",
      "Accuracy KNN : 0.34 \n",
      "\n",
      "Accuracy KNN : 0.32667 \n",
      "\n",
      "Accuracy KNN : 0.33 \n",
      "\n",
      "Accuracy KNN : 0.33667 \n",
      "\n",
      "Accuracy KNN : 0.33667 \n",
      "\n",
      "Accuracy KNN : 0.33667 \n",
      "\n",
      "Accuracy KNN : 0.34 \n",
      "\n",
      "Accuracy KNN : 0.33667 \n",
      "\n",
      "Accuracy KNN : 0.34333 \n",
      "\n",
      "Accuracy KNN : 0.34667 \n",
      "\n",
      "Accuracy KNN : 0.34 \n",
      "\n",
      "Accuracy KNN : 0.34 \n",
      "\n",
      "Accuracy KNN : 0.34667 \n",
      "\n",
      "Accuracy KNN : 0.35 \n",
      "\n",
      "Accuracy KNN : 0.35333 \n",
      "\n",
      "Accuracy KNN : 0.34 \n",
      "\n",
      "Accuracy KNN : 0.34333 \n",
      "\n",
      "Accuracy KNN : 0.34333 \n",
      "\n",
      "Accuracy KNN : 0.33667 \n",
      "\n",
      "Accuracy KNN : 0.33333 \n",
      "\n",
      "Accuracy KNN : 0.33 \n",
      "\n",
      "Accuracy KNN : 0.33 \n",
      "\n",
      "Accuracy KNN : 0.33667 \n",
      "\n",
      "Accuracy KNN : 0.33 \n",
      "\n",
      "Accuracy KNN : 0.33333 \n",
      "\n",
      "Accuracy KNN : 0.33667 \n",
      "\n",
      "Accuracy KNN : 0.34 \n",
      "\n",
      "Accuracy KNN : 0.33333 \n",
      "\n",
      "Accuracy KNN : 0.34 \n",
      "\n",
      "Accuracy KNN : 0.32333 \n",
      "\n",
      "Accuracy KNN : 0.33 \n",
      "\n",
      "Accuracy KNN : 0.33 \n",
      "\n",
      "Accuracy KNN : 0.33667 \n",
      "\n",
      "Accuracy KNN : 0.33 \n",
      "\n",
      "Accuracy KNN : 0.34 \n",
      "\n",
      "Accuracy KNN : 0.33333 \n",
      "\n",
      "Accuracy KNN : 0.33667 \n",
      "\n",
      "Accuracy KNN : 0.33667 \n",
      "\n",
      "Accuracy KNN : 0.33667 \n",
      "\n",
      "Accuracy KNN : 0.33333 \n",
      "\n",
      "Accuracy KNN : 0.34667 \n",
      "\n",
      "Accuracy KNN : 0.34 \n",
      "\n",
      "Accuracy KNN : 0.33667 \n",
      "\n",
      "Accuracy KNN : 0.32667 \n",
      "\n",
      "Accuracy KNN : 0.33333 \n",
      "\n",
      "Accuracy KNN : 0.34 \n",
      "\n",
      "Accuracy KNN : 0.32667 \n",
      "\n",
      "Accuracy KNN : 0.34 \n",
      "\n",
      "Accuracy KNN : 0.33667 \n",
      "\n",
      "Accuracy KNN : 0.33667 \n",
      "\n",
      "Accuracy KNN : 0.33333 \n",
      "\n",
      "Accuracy KNN : 0.33 \n",
      "\n",
      "Accuracy KNN : 0.31667 \n",
      "\n",
      "Accuracy KNN : 0.30667 \n",
      "\n",
      "Accuracy KNN : 0.31 \n",
      "\n",
      "Accuracy KNN : 0.29667 \n",
      "\n",
      "Accuracy KNN : 0.29667 \n",
      "\n",
      "Accuracy KNN : 0.3 \n",
      "\n",
      "Accuracy KNN : 0.30333 \n",
      "\n",
      "Accuracy KNN : 0.31667 \n",
      "\n",
      "Accuracy KNN : 0.31667 \n",
      "\n",
      "Accuracy KNN : 0.32 \n",
      "\n",
      "Accuracy KNN : 0.32 \n",
      "\n",
      "Accuracy KNN : 0.31667 \n",
      "\n",
      "Accuracy KNN : 0.30667 \n",
      "\n",
      "Accuracy KNN : 0.31 \n",
      "\n",
      "Accuracy KNN : 0.31 \n",
      "\n",
      "Accuracy KNN : 0.32333 \n",
      "\n",
      "Accuracy KNN : 0.31667 \n",
      "\n",
      "Accuracy KNN : 0.31 \n",
      "\n",
      "Accuracy KNN : 0.30667 \n",
      "\n",
      "Accuracy KNN : 0.30333 \n",
      "\n",
      "Accuracy KNN : 0.29667 \n",
      "\n",
      "Accuracy KNN : 0.29667 \n",
      "\n",
      "Accuracy KNN : 0.3 \n",
      "\n",
      "Accuracy KNN : 0.3 \n",
      "\n",
      "Accuracy KNN : 0.30667 \n",
      "\n",
      "Accuracy KNN : 0.30667 \n",
      "\n",
      "Accuracy KNN : 0.30333 \n",
      "\n",
      "Accuracy KNN : 0.31 \n",
      "\n",
      "Accuracy KNN : 0.3 \n",
      "\n",
      "Accuracy KNN : 0.31 \n",
      "\n",
      "Accuracy KNN : 0.31 \n",
      "\n",
      "Accuracy KNN : 0.30667 \n",
      "\n",
      "Accuracy KNN : 0.31 \n",
      "\n",
      "Accuracy KNN : 0.31333 \n",
      "\n",
      "Accuracy KNN : 0.31 \n",
      "\n",
      "Accuracy KNN : 0.30333 \n",
      "\n",
      "Accuracy KNN : 0.30333 \n",
      "\n",
      "Accuracy KNN : 0.3 \n",
      "\n",
      "Accuracy KNN : 0.29667 \n",
      "\n",
      "Accuracy KNN : 0.29 \n",
      "\n",
      "Accuracy KNN : 0.29 \n",
      "\n",
      "Accuracy KNN : 0.28 \n",
      "\n",
      "Accuracy KNN : 0.28 \n",
      "\n",
      "Accuracy KNN : 0.28333 \n",
      "\n",
      "Accuracy KNN : 0.28 \n",
      "\n",
      "Accuracy KNN : 0.28667 \n",
      "\n",
      "Accuracy KNN : 0.29 \n",
      "\n",
      "Accuracy KNN : 0.29333 \n",
      "\n",
      "Accuracy KNN : 0.3 \n",
      "\n",
      "Accuracy KNN : 0.29333 \n",
      "\n",
      "Accuracy KNN : 0.28667 \n",
      "\n",
      "Accuracy KNN : 0.29 \n",
      "\n",
      "Accuracy KNN : 0.28 \n",
      "\n",
      "Accuracy KNN : 0.27667 \n",
      "\n",
      "Accuracy KNN : 0.28 \n",
      "\n",
      "Accuracy KNN : 0.28333 \n",
      "\n",
      "Accuracy KNN : 0.28667 \n",
      "\n",
      "Accuracy KNN : 0.28667 \n",
      "\n",
      "Accuracy KNN : 0.29333 \n",
      "\n",
      "Accuracy KNN : 0.29333 \n",
      "\n",
      "Accuracy KNN : 0.29333 \n",
      "\n",
      "Accuracy KNN : 0.29 \n",
      "\n",
      "Accuracy KNN : 0.29333 \n",
      "\n",
      "Accuracy KNN : 0.29333 \n",
      "\n",
      "Accuracy KNN : 0.29667 \n",
      "\n",
      "Accuracy KNN : 0.28333 \n",
      "\n",
      "Accuracy KNN : 0.29333 \n",
      "\n",
      "Accuracy KNN : 0.29333 \n",
      "\n",
      "Accuracy KNN : 0.29333 \n",
      "\n",
      "Accuracy KNN : 0.29333 \n",
      "\n",
      "Accuracy KNN : 0.3 \n",
      "\n",
      "Accuracy KNN : 0.30667 \n",
      "\n",
      "Accuracy KNN : 0.30667 \n",
      "\n",
      "Accuracy KNN : 0.30667 \n",
      "\n",
      "Accuracy KNN : 0.30333 \n",
      "\n",
      "Accuracy KNN : 0.3 \n",
      "\n",
      "Accuracy KNN : 0.3 \n",
      "\n",
      "Accuracy KNN : 0.29 \n",
      "\n",
      "Accuracy KNN : 0.29 \n",
      "\n",
      "Accuracy KNN : 0.3 \n",
      "\n",
      "Accuracy KNN : 0.29333 \n",
      "\n",
      "Accuracy KNN : 0.29333 \n",
      "\n",
      "Accuracy KNN : 0.3 \n",
      "\n",
      "Accuracy KNN : 0.30333 \n",
      "\n",
      "Accuracy KNN : 0.29667 \n",
      "\n",
      "Accuracy KNN : 0.29667 \n",
      "\n",
      "Accuracy KNN : 0.30667 \n",
      "\n",
      "Accuracy KNN : 0.30333 \n",
      "\n",
      "Accuracy KNN : 0.29667 \n",
      "\n",
      "Accuracy KNN : 0.29667 \n",
      "\n",
      "Accuracy KNN : 0.29 \n",
      "\n",
      "Accuracy KNN : 0.29333 \n",
      "\n",
      "Accuracy KNN : 0.29667 \n",
      "\n",
      "Accuracy KNN : 0.3 \n",
      "\n",
      "Accuracy KNN : 0.29333 \n",
      "\n",
      "Accuracy KNN : 0.29667 \n",
      "\n",
      "Accuracy KNN : 0.3 \n",
      "\n",
      "Accuracy KNN : 0.3 \n",
      "\n",
      "Accuracy KNN : 0.29 \n",
      "\n",
      "Accuracy KNN : 0.28667 \n",
      "\n",
      "Accuracy KNN : 0.28667 \n",
      "\n",
      "Accuracy KNN : 0.29333 \n",
      "\n",
      "Accuracy KNN : 0.29333 \n",
      "\n",
      "Accuracy KNN : 0.28667 \n",
      "\n",
      "Accuracy KNN : 0.29 \n",
      "\n",
      "Accuracy KNN : 0.29333 \n",
      "\n",
      "Accuracy KNN : 0.29 \n",
      "\n",
      "Accuracy KNN : 0.29 \n",
      "\n",
      "Accuracy KNN : 0.28 \n",
      "\n",
      "Accuracy KNN : 0.27667 \n",
      "\n",
      "Accuracy KNN : 0.29 \n",
      "\n",
      "Accuracy KNN : 0.29 \n",
      "\n",
      "Accuracy KNN : 0.3 \n",
      "\n",
      "Accuracy KNN : 0.29333 \n",
      "\n",
      "Accuracy KNN : 0.28667 \n",
      "\n",
      "Accuracy KNN : 0.28333 \n",
      "\n",
      "Accuracy KNN : 0.28667 \n",
      "\n",
      "Accuracy KNN : 0.29 \n",
      "\n",
      "Accuracy KNN : 0.29 \n",
      "\n",
      "Accuracy KNN : 0.28667 \n",
      "\n",
      "Accuracy KNN : 0.28333 \n",
      "\n",
      "Accuracy KNN : 0.28667 \n",
      "\n",
      "Accuracy KNN : 0.28333 \n",
      "\n",
      "Accuracy KNN : 0.27667 \n",
      "\n",
      "Accuracy KNN : 0.27333 \n",
      "\n",
      "Accuracy KNN : 0.26667 \n",
      "\n",
      "Accuracy KNN : 0.26333 \n",
      "\n",
      "Accuracy KNN : 0.26 \n",
      "\n",
      "Accuracy KNN : 0.26333 \n",
      "\n",
      "Accuracy KNN : 0.26333 \n",
      "\n",
      "Accuracy KNN : 0.26 \n",
      "\n",
      "Accuracy KNN : 0.25333 \n",
      "\n",
      "Accuracy KNN : 0.25333 \n",
      "\n",
      "Accuracy KNN : 0.25 \n",
      "\n",
      "Accuracy KNN : 0.26 \n",
      "\n",
      "Accuracy KNN : 0.26 \n",
      "\n",
      "Accuracy KNN : 0.25 \n",
      "\n",
      "Accuracy KNN : 0.24333 \n",
      "\n",
      "Accuracy KNN : 0.24667 \n",
      "\n",
      "Accuracy KNN : 0.24667 \n",
      "\n",
      "Accuracy KNN : 0.25667 \n",
      "\n",
      "Accuracy KNN : 0.25 \n",
      "\n",
      "Accuracy KNN : 0.25667 \n",
      "\n",
      "Accuracy KNN : 0.25333 \n",
      "\n",
      "Accuracy KNN : 0.25667 \n",
      "\n",
      "Accuracy KNN : 0.24667 \n",
      "\n",
      "Accuracy KNN : 0.25 \n",
      "\n",
      "Accuracy KNN : 0.25333 \n",
      "\n",
      "Accuracy KNN : 0.25667 \n",
      "\n",
      "Accuracy KNN : 0.26 \n",
      "\n",
      "Accuracy KNN : 0.25333 \n",
      "\n",
      "Accuracy KNN : 0.26 \n",
      "\n",
      "Accuracy KNN : 0.25667 \n",
      "\n",
      "Accuracy KNN : 0.25 \n",
      "\n",
      "Accuracy KNN : 0.25 \n",
      "\n",
      "Accuracy KNN : 0.25 \n",
      "\n",
      "Accuracy KNN : 0.24333 \n",
      "\n",
      "Accuracy KNN : 0.24667 \n",
      "\n",
      "Accuracy KNN : 0.25 \n",
      "\n",
      "Accuracy KNN : 0.24667 \n",
      "\n",
      "Accuracy KNN : 0.25 \n",
      "\n",
      "Accuracy KNN : 0.25 \n",
      "\n",
      "Accuracy KNN : 0.24667 \n",
      "\n",
      "Accuracy KNN : 0.24333 \n",
      "\n",
      "Accuracy KNN : 0.24667 \n",
      "\n",
      "Accuracy KNN : 0.24333 \n",
      "\n",
      "Accuracy KNN : 0.24 \n",
      "\n",
      "Accuracy KNN : 0.23333 \n",
      "\n",
      "Accuracy KNN : 0.25 \n",
      "\n",
      "Accuracy KNN : 0.25 \n",
      "\n",
      "Accuracy KNN : 0.24667 \n",
      "\n",
      "Accuracy KNN : 0.24333 \n",
      "\n",
      "Accuracy KNN : 0.24667 \n",
      "\n",
      "Accuracy KNN : 0.24333 \n",
      "\n",
      "Accuracy KNN : 0.24667 \n",
      "\n",
      "Accuracy KNN : 0.24667 \n",
      "\n",
      "Accuracy KNN : 0.25333 \n",
      "\n",
      "Accuracy KNN : 0.26 \n",
      "\n",
      "Accuracy KNN : 0.26333 \n",
      "\n",
      "Accuracy KNN : 0.26 \n",
      "\n",
      "Accuracy KNN : 0.25667 \n",
      "\n",
      "Accuracy KNN : 0.25333 \n",
      "\n",
      "Accuracy KNN : 0.25667 \n",
      "\n",
      "Accuracy KNN : 0.24 \n",
      "\n",
      "Accuracy KNN : 0.23333 \n",
      "\n",
      "Accuracy KNN : 0.24667 \n",
      "\n",
      "Accuracy KNN : 0.24667 \n",
      "\n",
      "Accuracy KNN : 0.24667 \n",
      "\n",
      "Accuracy KNN : 0.24 \n",
      "\n",
      "Accuracy KNN : 0.23333 \n",
      "\n",
      "Accuracy KNN : 0.23333 \n",
      "\n",
      "Accuracy KNN : 0.22667 \n",
      "\n",
      "Accuracy KNN : 0.23 \n",
      "\n",
      "Accuracy KNN : 0.23 \n",
      "\n",
      "Accuracy KNN : 0.22333 \n",
      "\n",
      "Accuracy KNN : 0.22333 \n",
      "\n",
      "Accuracy KNN : 0.22 \n",
      "\n",
      "Accuracy KNN : 0.23333 \n",
      "\n",
      "Accuracy KNN : 0.22667 \n",
      "\n",
      "Accuracy KNN : 0.22667 \n",
      "\n",
      "Accuracy KNN : 0.22333 \n",
      "\n",
      "Accuracy KNN : 0.22 \n",
      "\n",
      "Accuracy KNN : 0.22333 \n",
      "\n",
      "Accuracy KNN : 0.22333 \n",
      "\n",
      "Accuracy KNN : 0.22 \n",
      "\n",
      "Accuracy KNN : 0.22333 \n",
      "\n",
      "Accuracy KNN : 0.22333 \n",
      "\n",
      "Accuracy KNN : 0.22333 \n",
      "\n",
      "Accuracy KNN : 0.22333 \n",
      "\n",
      "Accuracy KNN : 0.22333 \n",
      "\n",
      "Accuracy KNN : 0.21 \n",
      "\n",
      "Accuracy KNN : 0.22 \n",
      "\n",
      "Accuracy KNN : 0.22667 \n",
      "\n",
      "Accuracy KNN : 0.23 \n",
      "\n",
      "Accuracy KNN : 0.22667 \n",
      "\n",
      "Accuracy KNN : 0.22 \n",
      "\n",
      "Accuracy KNN : 0.22333 \n",
      "\n",
      "Accuracy KNN : 0.21667 \n",
      "\n",
      "Accuracy KNN : 0.21333 \n",
      "\n",
      "Accuracy KNN : 0.21 \n",
      "\n",
      "Accuracy KNN : 0.20333 \n",
      "\n",
      "Accuracy KNN : 0.20667 \n",
      "\n",
      "Accuracy KNN : 0.22 \n",
      "\n",
      "Accuracy KNN : 0.21667 \n",
      "\n",
      "Accuracy KNN : 0.21667 \n",
      "\n",
      "Accuracy KNN : 0.21667 \n",
      "\n",
      "Accuracy KNN : 0.21333 \n",
      "\n",
      "Accuracy KNN : 0.20667 \n",
      "\n",
      "Accuracy KNN : 0.21 \n",
      "\n",
      "Accuracy KNN : 0.21333 \n",
      "\n",
      "Accuracy KNN : 0.21 \n",
      "\n",
      "Accuracy KNN : 0.21333 \n",
      "\n",
      "Accuracy KNN : 0.21667 \n",
      "\n",
      "Accuracy KNN : 0.22 \n",
      "\n",
      "Accuracy KNN : 0.21667 \n",
      "\n",
      "Accuracy KNN : 0.22667 \n",
      "\n",
      "Accuracy KNN : 0.22 \n",
      "\n",
      "Accuracy KNN : 0.21667 \n",
      "\n",
      "Accuracy KNN : 0.21667 \n",
      "\n",
      "Accuracy KNN : 0.21667 \n",
      "\n",
      "Accuracy KNN : 0.21667 \n",
      "\n",
      "Accuracy KNN : 0.22667 \n",
      "\n",
      "Accuracy KNN : 0.22 \n",
      "\n",
      "Accuracy KNN : 0.21667 \n",
      "\n",
      "Accuracy KNN : 0.21333 \n",
      "\n",
      "Accuracy KNN : 0.21667 \n",
      "\n",
      "Accuracy KNN : 0.21333 \n",
      "\n",
      "Accuracy KNN : 0.21 \n",
      "\n",
      "Accuracy KNN : 0.20333 \n",
      "\n",
      "Accuracy KNN : 0.20333 \n",
      "\n",
      "Accuracy KNN : 0.2 \n",
      "\n",
      "Accuracy KNN : 0.19667 \n",
      "\n",
      "Accuracy KNN : 0.2 \n",
      "\n",
      "Accuracy KNN : 0.20333 \n",
      "\n",
      "Accuracy KNN : 0.20667 \n",
      "\n",
      "Accuracy KNN : 0.20667 \n",
      "\n",
      "Accuracy KNN : 0.21 \n",
      "\n",
      "Accuracy KNN : 0.20667 \n",
      "\n",
      "Accuracy KNN : 0.21 \n",
      "\n",
      "Accuracy KNN : 0.22 \n",
      "\n",
      "Accuracy KNN : 0.21667 \n",
      "\n",
      "Accuracy KNN : 0.21667 \n",
      "\n",
      "Accuracy KNN : 0.21333 \n",
      "\n",
      "Accuracy KNN : 0.20667 \n",
      "\n",
      "Accuracy KNN : 0.2 \n",
      "\n",
      "Accuracy KNN : 0.20667 \n",
      "\n",
      "Accuracy KNN : 0.20333 \n",
      "\n",
      "Accuracy KNN : 0.20333 \n",
      "\n",
      "Accuracy KNN : 0.20333 \n",
      "\n",
      "Accuracy KNN : 0.20667 \n",
      "\n",
      "Accuracy KNN : 0.19667 \n",
      "\n",
      "Accuracy KNN : 0.19667 \n",
      "\n",
      "Accuracy KNN : 0.19667 \n",
      "\n",
      "Accuracy KNN : 0.19667 \n",
      "\n",
      "Accuracy KNN : 0.2 \n",
      "\n",
      "Accuracy KNN : 0.2 \n",
      "\n",
      "Accuracy KNN : 0.19667 \n",
      "\n",
      "Accuracy KNN : 0.19667 \n",
      "\n",
      "Accuracy KNN : 0.19667 \n",
      "\n",
      "Accuracy KNN : 0.19333 \n",
      "\n",
      "Accuracy KNN : 0.19667 \n",
      "\n",
      "Accuracy KNN : 0.19667 \n",
      "\n",
      "Accuracy KNN : 0.2 \n",
      "\n",
      "Accuracy KNN : 0.2 \n",
      "\n",
      "Accuracy KNN : 0.2 \n",
      "\n",
      "Accuracy KNN : 0.20333 \n",
      "\n",
      "Accuracy KNN : 0.20667 \n",
      "\n",
      "Accuracy KNN : 0.20667 \n",
      "\n",
      "Accuracy KNN : 0.21 \n",
      "\n",
      "Accuracy KNN : 0.20333 \n",
      "\n",
      "Accuracy KNN : 0.20333 \n",
      "\n",
      "Accuracy KNN : 0.20667 \n",
      "\n",
      "Accuracy KNN : 0.20333 \n",
      "\n",
      "Accuracy KNN : 0.19333 \n",
      "\n",
      "Accuracy KNN : 0.19 \n",
      "\n",
      "Accuracy KNN : 0.19 \n",
      "\n",
      "Accuracy KNN : 0.19 \n",
      "\n",
      "Accuracy KNN : 0.18667 \n",
      "\n",
      "Accuracy KNN : 0.19 \n",
      "\n",
      "Accuracy KNN : 0.19 \n",
      "\n",
      "Accuracy KNN : 0.17667 \n",
      "\n",
      "Accuracy KNN : 0.17667 \n",
      "\n",
      "Accuracy KNN : 0.19 \n",
      "\n",
      "Accuracy KNN : 0.19 \n",
      "\n",
      "Accuracy KNN : 0.18667 \n",
      "\n",
      "Accuracy KNN : 0.19 \n",
      "\n",
      "Accuracy KNN : 0.18333 \n",
      "\n",
      "Accuracy KNN : 0.18333 \n",
      "\n",
      "Accuracy KNN : 0.17333 \n",
      "\n",
      "Accuracy KNN : 0.17667 \n",
      "\n",
      "Accuracy KNN : 0.17 \n",
      "\n",
      "Accuracy KNN : 0.17 \n",
      "\n",
      "Accuracy KNN : 0.16667 \n",
      "\n",
      "Accuracy KNN : 0.16667 \n",
      "\n",
      "Accuracy KNN : 0.16333 \n",
      "\n",
      "Accuracy KNN : 0.17 \n",
      "\n",
      "Accuracy KNN : 0.17 \n",
      "\n",
      "Accuracy KNN : 0.16333 \n",
      "\n",
      "Accuracy KNN : 0.16667 \n",
      "\n",
      "Accuracy KNN : 0.16667 \n",
      "\n",
      "Accuracy KNN : 0.16667 \n",
      "\n",
      "Accuracy KNN : 0.16667 \n",
      "\n",
      "Accuracy KNN : 0.16667 \n",
      "\n",
      "Accuracy KNN : 0.16333 \n",
      "\n",
      "Accuracy KNN : 0.16667 \n",
      "\n",
      "Accuracy KNN : 0.16667 \n",
      "\n",
      "Accuracy KNN : 0.16 \n",
      "\n",
      "Accuracy KNN : 0.16333 \n",
      "\n",
      "Accuracy KNN : 0.16333 \n",
      "\n",
      "Accuracy KNN : 0.16667 \n",
      "\n",
      "Accuracy KNN : 0.16333 \n",
      "\n",
      "Accuracy KNN : 0.16 \n",
      "\n",
      "Accuracy KNN : 0.15667 \n",
      "\n",
      "Accuracy KNN : 0.15667 \n",
      "\n",
      "Accuracy KNN : 0.15667 \n",
      "\n",
      "Accuracy KNN : 0.15667 \n",
      "\n",
      "Accuracy KNN : 0.15333 \n",
      "\n",
      "Accuracy KNN : 0.15333 \n",
      "\n",
      "Accuracy KNN : 0.15333 \n",
      "\n",
      "Accuracy KNN : 0.15667 \n",
      "\n",
      "Accuracy KNN : 0.15667 \n",
      "\n",
      "Accuracy KNN : 0.16 \n",
      "\n",
      "Accuracy KNN : 0.15667 \n",
      "\n",
      "Accuracy KNN : 0.15 \n",
      "\n",
      "Accuracy KNN : 0.15 \n",
      "\n",
      "Accuracy KNN : 0.15 \n",
      "\n",
      "Accuracy KNN : 0.14333 \n",
      "\n",
      "Accuracy KNN : 0.14 \n",
      "\n",
      "Accuracy KNN : 0.14333 \n",
      "\n",
      "Accuracy KNN : 0.14 \n",
      "\n",
      "Accuracy KNN : 0.14 \n",
      "\n",
      "Accuracy KNN : 0.13667 \n",
      "\n",
      "Accuracy KNN : 0.13667 \n",
      "\n",
      "Accuracy KNN : 0.13333 \n",
      "\n",
      "Accuracy KNN : 0.13333 \n",
      "\n",
      "Accuracy KNN : 0.13333 \n",
      "\n",
      "Accuracy KNN : 0.13333 \n",
      "\n",
      "Accuracy KNN : 0.13 \n",
      "\n",
      "Accuracy KNN : 0.13 \n",
      "\n",
      "Accuracy KNN : 0.13 \n",
      "\n",
      "Best K: 26 Value: 0.38667\n"
     ]
    }
   ],
   "source": [
    "knn_scores = []\n",
    "\n",
    "for k in range(1,500):\n",
    "    knn = KNeighborsClassifier(n_neighbors=k)\n",
    "    # print(k)\n",
    "    score = model_assess(knn, \"KNN\")\n",
    "    knn_scores.append(score)\n",
    "\n",
    "# Find index with the lowest error\n",
    "df_knn = pd.DataFrame(knn_scores)\n",
    "df_knn.index = np.arange(1, len(df_knn) + 1)\n",
    "best_k = df_knn.idxmax()[0]\n",
    "print('Best K:',best_k, 'Value:',df_knn.max()[0])\n"
   ]
  },
  {
   "cell_type": "code",
   "execution_count": 10,
   "metadata": {},
   "outputs": [
    {
     "data": {
      "text/plain": [
       "26"
      ]
     },
     "execution_count": 10,
     "metadata": {},
     "output_type": "execute_result"
    }
   ],
   "source": [
    "best_k"
   ]
  },
  {
   "cell_type": "code",
   "execution_count": 11,
   "metadata": {},
   "outputs": [
    {
     "name": "stdout",
     "output_type": "stream",
     "text": [
      "Accuracy KNN : 0.38667 \n",
      "\n"
     ]
    }
   ],
   "source": [
    "# With tuned parameter\n",
    "knn = KNeighborsClassifier(n_neighbors=best_k)\n",
    "score = model_assess(knn, \"KNN\")"
   ]
  },
  {
   "cell_type": "markdown",
   "metadata": {},
   "source": [
    "Decission trees"
   ]
  },
  {
   "cell_type": "code",
   "execution_count": 12,
   "metadata": {},
   "outputs": [
    {
     "name": "stdout",
     "output_type": "stream",
     "text": [
      "Accuracy Decission trees : 0.41333 \n",
      "\n"
     ]
    }
   ],
   "source": [
    "tree = DecisionTreeClassifier()\n",
    "score = model_assess(tree, \"Decission trees\")"
   ]
  },
  {
   "cell_type": "markdown",
   "metadata": {},
   "source": [
    "Random Forest"
   ]
  },
  {
   "cell_type": "code",
   "execution_count": 13,
   "metadata": {},
   "outputs": [
    {
     "name": "stderr",
     "output_type": "stream",
     "text": [
      "  0%|          | 0/20 [00:00<?, ?it/s]"
     ]
    },
    {
     "name": "stdout",
     "output_type": "stream",
     "text": [
      "Accuracy Random Forest : 0.31 \n",
      "\n",
      "Accuracy Random Forest : 0.60333 \n",
      "\n",
      "Accuracy Random Forest : 0.60333 \n",
      "\n",
      "Accuracy Random Forest : 0.60333 \n",
      "\n",
      "Accuracy Random Forest : 0.60333 \n",
      "\n",
      "Accuracy Random Forest : 0.60333 \n",
      "\n",
      "Accuracy Random Forest : 0.60333 \n",
      "\n",
      "Accuracy Random Forest : 0.60333 \n",
      "\n",
      "Accuracy Random Forest : 0.60333 \n",
      "\n"
     ]
    },
    {
     "name": "stderr",
     "output_type": "stream",
     "text": [
      "  5%|▌         | 1/20 [00:15<04:46, 15.06s/it]"
     ]
    },
    {
     "name": "stdout",
     "output_type": "stream",
     "text": [
      "Accuracy Random Forest : 0.60333 \n",
      "\n",
      "Accuracy Random Forest : 0.31333 \n",
      "\n",
      "Accuracy Random Forest : 0.60667 \n",
      "\n",
      "Accuracy Random Forest : 0.60667 \n",
      "\n",
      "Accuracy Random Forest : 0.60667 \n",
      "\n",
      "Accuracy Random Forest : 0.60667 \n",
      "\n",
      "Accuracy Random Forest : 0.60667 \n",
      "\n",
      "Accuracy Random Forest : 0.60667 \n",
      "\n",
      "Accuracy Random Forest : 0.60667 \n",
      "\n",
      "Accuracy Random Forest : 0.60667 \n",
      "\n"
     ]
    },
    {
     "name": "stderr",
     "output_type": "stream",
     "text": [
      " 10%|█         | 2/20 [00:31<04:45, 15.89s/it]"
     ]
    },
    {
     "name": "stdout",
     "output_type": "stream",
     "text": [
      "Accuracy Random Forest : 0.60667 \n",
      "\n",
      "Accuracy Random Forest : 0.31333 \n",
      "\n",
      "Accuracy Random Forest : 0.6 \n",
      "\n",
      "Accuracy Random Forest : 0.6 \n",
      "\n",
      "Accuracy Random Forest : 0.6 \n",
      "\n",
      "Accuracy Random Forest : 0.6 \n",
      "\n",
      "Accuracy Random Forest : 0.6 \n",
      "\n",
      "Accuracy Random Forest : 0.6 \n",
      "\n",
      "Accuracy Random Forest : 0.6 \n",
      "\n",
      "Accuracy Random Forest : 0.6 \n",
      "\n"
     ]
    },
    {
     "name": "stderr",
     "output_type": "stream",
     "text": [
      " 15%|█▌        | 3/20 [00:49<04:45, 16.79s/it]"
     ]
    },
    {
     "name": "stdout",
     "output_type": "stream",
     "text": [
      "Accuracy Random Forest : 0.6 \n",
      "\n",
      "Accuracy Random Forest : 0.31667 \n",
      "\n",
      "Accuracy Random Forest : 0.6 \n",
      "\n",
      "Accuracy Random Forest : 0.6 \n",
      "\n",
      "Accuracy Random Forest : 0.6 \n",
      "\n",
      "Accuracy Random Forest : 0.6 \n",
      "\n",
      "Accuracy Random Forest : 0.6 \n",
      "\n",
      "Accuracy Random Forest : 0.6 \n",
      "\n",
      "Accuracy Random Forest : 0.6 \n",
      "\n",
      "Accuracy Random Forest : 0.6 \n",
      "\n"
     ]
    },
    {
     "name": "stderr",
     "output_type": "stream",
     "text": [
      " 20%|██        | 4/20 [01:08<04:45, 17.82s/it]"
     ]
    },
    {
     "name": "stdout",
     "output_type": "stream",
     "text": [
      "Accuracy Random Forest : 0.6 \n",
      "\n",
      "Accuracy Random Forest : 0.31 \n",
      "\n",
      "Accuracy Random Forest : 0.58667 \n",
      "\n",
      "Accuracy Random Forest : 0.58667 \n",
      "\n",
      "Accuracy Random Forest : 0.58667 \n",
      "\n",
      "Accuracy Random Forest : 0.58667 \n",
      "\n",
      "Accuracy Random Forest : 0.58667 \n",
      "\n",
      "Accuracy Random Forest : 0.58667 \n",
      "\n",
      "Accuracy Random Forest : 0.58667 \n",
      "\n",
      "Accuracy Random Forest : 0.58667 \n",
      "\n"
     ]
    },
    {
     "name": "stderr",
     "output_type": "stream",
     "text": [
      " 25%|██▌       | 5/20 [01:29<04:44, 18.95s/it]"
     ]
    },
    {
     "name": "stdout",
     "output_type": "stream",
     "text": [
      "Accuracy Random Forest : 0.58667 \n",
      "\n",
      "Accuracy Random Forest : 0.31667 \n",
      "\n",
      "Accuracy Random Forest : 0.59 \n",
      "\n",
      "Accuracy Random Forest : 0.59 \n",
      "\n",
      "Accuracy Random Forest : 0.59 \n",
      "\n",
      "Accuracy Random Forest : 0.59 \n",
      "\n",
      "Accuracy Random Forest : 0.59 \n",
      "\n",
      "Accuracy Random Forest : 0.59 \n",
      "\n",
      "Accuracy Random Forest : 0.59 \n",
      "\n",
      "Accuracy Random Forest : 0.59 \n",
      "\n"
     ]
    },
    {
     "name": "stderr",
     "output_type": "stream",
     "text": [
      " 30%|███       | 6/20 [01:52<04:41, 20.13s/it]"
     ]
    },
    {
     "name": "stdout",
     "output_type": "stream",
     "text": [
      "Accuracy Random Forest : 0.59 \n",
      "\n",
      "Accuracy Random Forest : 0.31333 \n",
      "\n",
      "Accuracy Random Forest : 0.59333 \n",
      "\n",
      "Accuracy Random Forest : 0.59333 \n",
      "\n",
      "Accuracy Random Forest : 0.59333 \n",
      "\n",
      "Accuracy Random Forest : 0.59333 \n",
      "\n",
      "Accuracy Random Forest : 0.59333 \n",
      "\n",
      "Accuracy Random Forest : 0.59333 \n",
      "\n",
      "Accuracy Random Forest : 0.59333 \n",
      "\n",
      "Accuracy Random Forest : 0.59333 \n",
      "\n"
     ]
    },
    {
     "name": "stderr",
     "output_type": "stream",
     "text": [
      " 35%|███▌      | 7/20 [02:16<04:37, 21.35s/it]"
     ]
    },
    {
     "name": "stdout",
     "output_type": "stream",
     "text": [
      "Accuracy Random Forest : 0.59333 \n",
      "\n",
      "Accuracy Random Forest : 0.31333 \n",
      "\n",
      "Accuracy Random Forest : 0.59 \n",
      "\n",
      "Accuracy Random Forest : 0.59 \n",
      "\n",
      "Accuracy Random Forest : 0.59 \n",
      "\n",
      "Accuracy Random Forest : 0.59 \n",
      "\n",
      "Accuracy Random Forest : 0.59 \n",
      "\n",
      "Accuracy Random Forest : 0.59 \n",
      "\n",
      "Accuracy Random Forest : 0.59 \n",
      "\n",
      "Accuracy Random Forest : 0.59 \n",
      "\n"
     ]
    },
    {
     "name": "stderr",
     "output_type": "stream",
     "text": [
      " 40%|████      | 8/20 [02:41<04:31, 22.60s/it]"
     ]
    },
    {
     "name": "stdout",
     "output_type": "stream",
     "text": [
      "Accuracy Random Forest : 0.59 \n",
      "\n",
      "Accuracy Random Forest : 0.31333 \n",
      "\n",
      "Accuracy Random Forest : 0.59333 \n",
      "\n",
      "Accuracy Random Forest : 0.59333 \n",
      "\n",
      "Accuracy Random Forest : 0.59333 \n",
      "\n",
      "Accuracy Random Forest : 0.59333 \n",
      "\n",
      "Accuracy Random Forest : 0.59333 \n",
      "\n",
      "Accuracy Random Forest : 0.59333 \n",
      "\n",
      "Accuracy Random Forest : 0.59333 \n",
      "\n",
      "Accuracy Random Forest : 0.59333 \n",
      "\n"
     ]
    },
    {
     "name": "stderr",
     "output_type": "stream",
     "text": [
      " 45%|████▌     | 9/20 [03:08<04:23, 23.98s/it]"
     ]
    },
    {
     "name": "stdout",
     "output_type": "stream",
     "text": [
      "Accuracy Random Forest : 0.59333 \n",
      "\n",
      "Accuracy Random Forest : 0.31333 \n",
      "\n",
      "Accuracy Random Forest : 0.59 \n",
      "\n",
      "Accuracy Random Forest : 0.59 \n",
      "\n",
      "Accuracy Random Forest : 0.59 \n",
      "\n",
      "Accuracy Random Forest : 0.59 \n",
      "\n",
      "Accuracy Random Forest : 0.59 \n",
      "\n",
      "Accuracy Random Forest : 0.59 \n",
      "\n",
      "Accuracy Random Forest : 0.59 \n",
      "\n",
      "Accuracy Random Forest : 0.59 \n",
      "\n"
     ]
    },
    {
     "name": "stderr",
     "output_type": "stream",
     "text": [
      " 50%|█████     | 10/20 [03:36<04:13, 25.33s/it]"
     ]
    },
    {
     "name": "stdout",
     "output_type": "stream",
     "text": [
      "Accuracy Random Forest : 0.59 \n",
      "\n",
      "Accuracy Random Forest : 0.31 \n",
      "\n",
      "Accuracy Random Forest : 0.59333 \n",
      "\n",
      "Accuracy Random Forest : 0.59333 \n",
      "\n",
      "Accuracy Random Forest : 0.59333 \n",
      "\n",
      "Accuracy Random Forest : 0.59333 \n",
      "\n",
      "Accuracy Random Forest : 0.59333 \n",
      "\n",
      "Accuracy Random Forest : 0.59333 \n",
      "\n",
      "Accuracy Random Forest : 0.59333 \n",
      "\n",
      "Accuracy Random Forest : 0.59333 \n",
      "\n"
     ]
    },
    {
     "name": "stderr",
     "output_type": "stream",
     "text": [
      " 55%|█████▌    | 11/20 [04:06<04:00, 26.72s/it]"
     ]
    },
    {
     "name": "stdout",
     "output_type": "stream",
     "text": [
      "Accuracy Random Forest : 0.59333 \n",
      "\n",
      "Accuracy Random Forest : 0.31333 \n",
      "\n",
      "Accuracy Random Forest : 0.59333 \n",
      "\n",
      "Accuracy Random Forest : 0.59333 \n",
      "\n",
      "Accuracy Random Forest : 0.59333 \n",
      "\n",
      "Accuracy Random Forest : 0.59333 \n",
      "\n",
      "Accuracy Random Forest : 0.59333 \n",
      "\n",
      "Accuracy Random Forest : 0.59333 \n",
      "\n",
      "Accuracy Random Forest : 0.59333 \n",
      "\n",
      "Accuracy Random Forest : 0.59333 \n",
      "\n"
     ]
    },
    {
     "name": "stderr",
     "output_type": "stream",
     "text": [
      " 60%|██████    | 12/20 [04:38<03:46, 28.36s/it]"
     ]
    },
    {
     "name": "stdout",
     "output_type": "stream",
     "text": [
      "Accuracy Random Forest : 0.59333 \n",
      "\n",
      "Accuracy Random Forest : 0.32 \n",
      "\n",
      "Accuracy Random Forest : 0.59333 \n",
      "\n",
      "Accuracy Random Forest : 0.59333 \n",
      "\n",
      "Accuracy Random Forest : 0.59333 \n",
      "\n",
      "Accuracy Random Forest : 0.59333 \n",
      "\n",
      "Accuracy Random Forest : 0.59333 \n",
      "\n",
      "Accuracy Random Forest : 0.59333 \n",
      "\n",
      "Accuracy Random Forest : 0.59333 \n",
      "\n",
      "Accuracy Random Forest : 0.59333 \n",
      "\n"
     ]
    },
    {
     "name": "stderr",
     "output_type": "stream",
     "text": [
      " 65%|██████▌   | 13/20 [05:11<03:28, 29.78s/it]"
     ]
    },
    {
     "name": "stdout",
     "output_type": "stream",
     "text": [
      "Accuracy Random Forest : 0.59333 \n",
      "\n",
      "Accuracy Random Forest : 0.31667 \n",
      "\n",
      "Accuracy Random Forest : 0.59333 \n",
      "\n",
      "Accuracy Random Forest : 0.59333 \n",
      "\n",
      "Accuracy Random Forest : 0.59333 \n",
      "\n",
      "Accuracy Random Forest : 0.59333 \n",
      "\n",
      "Accuracy Random Forest : 0.59333 \n",
      "\n",
      "Accuracy Random Forest : 0.59333 \n",
      "\n",
      "Accuracy Random Forest : 0.59333 \n",
      "\n",
      "Accuracy Random Forest : 0.59333 \n",
      "\n"
     ]
    },
    {
     "name": "stderr",
     "output_type": "stream",
     "text": [
      " 70%|███████   | 14/20 [05:45<03:06, 31.13s/it]"
     ]
    },
    {
     "name": "stdout",
     "output_type": "stream",
     "text": [
      "Accuracy Random Forest : 0.59333 \n",
      "\n",
      "Accuracy Random Forest : 0.31667 \n",
      "\n",
      "Accuracy Random Forest : 0.59333 \n",
      "\n",
      "Accuracy Random Forest : 0.59333 \n",
      "\n",
      "Accuracy Random Forest : 0.59333 \n",
      "\n",
      "Accuracy Random Forest : 0.59333 \n",
      "\n",
      "Accuracy Random Forest : 0.59333 \n",
      "\n",
      "Accuracy Random Forest : 0.59333 \n",
      "\n",
      "Accuracy Random Forest : 0.59333 \n",
      "\n",
      "Accuracy Random Forest : 0.59333 \n",
      "\n"
     ]
    },
    {
     "name": "stderr",
     "output_type": "stream",
     "text": [
      " 75%|███████▌  | 15/20 [06:21<02:42, 32.54s/it]"
     ]
    },
    {
     "name": "stdout",
     "output_type": "stream",
     "text": [
      "Accuracy Random Forest : 0.59333 \n",
      "\n",
      "Accuracy Random Forest : 0.31667 \n",
      "\n",
      "Accuracy Random Forest : 0.59333 \n",
      "\n",
      "Accuracy Random Forest : 0.59333 \n",
      "\n",
      "Accuracy Random Forest : 0.59333 \n",
      "\n",
      "Accuracy Random Forest : 0.59333 \n",
      "\n",
      "Accuracy Random Forest : 0.59333 \n",
      "\n",
      "Accuracy Random Forest : 0.59333 \n",
      "\n",
      "Accuracy Random Forest : 0.59333 \n",
      "\n",
      "Accuracy Random Forest : 0.59333 \n",
      "\n"
     ]
    },
    {
     "name": "stderr",
     "output_type": "stream",
     "text": [
      " 80%|████████  | 16/20 [06:59<02:16, 34.07s/it]"
     ]
    },
    {
     "name": "stdout",
     "output_type": "stream",
     "text": [
      "Accuracy Random Forest : 0.59333 \n",
      "\n",
      "Accuracy Random Forest : 0.32 \n",
      "\n",
      "Accuracy Random Forest : 0.59333 \n",
      "\n",
      "Accuracy Random Forest : 0.59333 \n",
      "\n",
      "Accuracy Random Forest : 0.59333 \n",
      "\n",
      "Accuracy Random Forest : 0.59333 \n",
      "\n",
      "Accuracy Random Forest : 0.59333 \n",
      "\n",
      "Accuracy Random Forest : 0.59333 \n",
      "\n",
      "Accuracy Random Forest : 0.59333 \n",
      "\n",
      "Accuracy Random Forest : 0.59333 \n",
      "\n"
     ]
    },
    {
     "name": "stderr",
     "output_type": "stream",
     "text": [
      " 85%|████████▌ | 17/20 [07:38<01:46, 35.53s/it]"
     ]
    },
    {
     "name": "stdout",
     "output_type": "stream",
     "text": [
      "Accuracy Random Forest : 0.59333 \n",
      "\n",
      "Accuracy Random Forest : 0.31667 \n",
      "\n",
      "Accuracy Random Forest : 0.59 \n",
      "\n",
      "Accuracy Random Forest : 0.59 \n",
      "\n",
      "Accuracy Random Forest : 0.59 \n",
      "\n",
      "Accuracy Random Forest : 0.59 \n",
      "\n",
      "Accuracy Random Forest : 0.59 \n",
      "\n",
      "Accuracy Random Forest : 0.59 \n",
      "\n",
      "Accuracy Random Forest : 0.59 \n",
      "\n",
      "Accuracy Random Forest : 0.59 \n",
      "\n"
     ]
    },
    {
     "name": "stderr",
     "output_type": "stream",
     "text": [
      " 90%|█████████ | 18/20 [08:18<01:13, 36.97s/it]"
     ]
    },
    {
     "name": "stdout",
     "output_type": "stream",
     "text": [
      "Accuracy Random Forest : 0.59 \n",
      "\n",
      "Accuracy Random Forest : 0.31667 \n",
      "\n",
      "Accuracy Random Forest : 0.59 \n",
      "\n",
      "Accuracy Random Forest : 0.59 \n",
      "\n",
      "Accuracy Random Forest : 0.59 \n",
      "\n",
      "Accuracy Random Forest : 0.59 \n",
      "\n",
      "Accuracy Random Forest : 0.59 \n",
      "\n",
      "Accuracy Random Forest : 0.59 \n",
      "\n",
      "Accuracy Random Forest : 0.59 \n",
      "\n",
      "Accuracy Random Forest : 0.59 \n",
      "\n"
     ]
    },
    {
     "name": "stderr",
     "output_type": "stream",
     "text": [
      " 95%|█████████▌| 19/20 [09:00<00:38, 38.42s/it]"
     ]
    },
    {
     "name": "stdout",
     "output_type": "stream",
     "text": [
      "Accuracy Random Forest : 0.59 \n",
      "\n",
      "Accuracy Random Forest : 0.31667 \n",
      "\n",
      "Accuracy Random Forest : 0.59 \n",
      "\n",
      "Accuracy Random Forest : 0.59 \n",
      "\n",
      "Accuracy Random Forest : 0.59 \n",
      "\n",
      "Accuracy Random Forest : 0.59 \n",
      "\n",
      "Accuracy Random Forest : 0.59 \n",
      "\n",
      "Accuracy Random Forest : 0.59 \n",
      "\n",
      "Accuracy Random Forest : 0.59 \n",
      "\n",
      "Accuracy Random Forest : 0.59 \n",
      "\n"
     ]
    },
    {
     "name": "stderr",
     "output_type": "stream",
     "text": [
      "100%|██████████| 20/20 [09:44<00:00, 29.24s/it]"
     ]
    },
    {
     "name": "stdout",
     "output_type": "stream",
     "text": [
      "Accuracy Random Forest : 0.59 \n",
      "\n",
      "Best n_est: 1 Best depth: 1\n"
     ]
    },
    {
     "name": "stderr",
     "output_type": "stream",
     "text": [
      "\n"
     ]
    }
   ],
   "source": [
    "rf_scores = []\n",
    "for est in tqdm(range(1000,3000,100)):\n",
    "    d_scores = []\n",
    "    for d in range(1,1000,100):\n",
    "        rforest = RandomForestClassifier(n_estimators=est, max_depth=d, random_state=0)\n",
    "        score = model_assess(rforest, \"Random Forest\")\n",
    "        d_scores.append(score)\n",
    "    rf_scores.append(d_scores)\n",
    "\n",
    "df_rf = pd.DataFrame(rf_scores)\n",
    "\n",
    "best_rf_param = np.argwhere(rf_scores == np.max(rf_scores))[0]\n",
    "\n",
    "print(\"Best n_est:\",best_rf_param[0],\"Best depth:\",best_rf_param[1])"
   ]
  },
  {
   "cell_type": "code",
   "execution_count": 14,
   "metadata": {},
   "outputs": [
    {
     "name": "stdout",
     "output_type": "stream",
     "text": [
      "2 2\n"
     ]
    }
   ],
   "source": [
    "print(best_rf_param[0]+1, best_rf_param[1]+1)\n"
   ]
  },
  {
   "cell_type": "code",
   "execution_count": 15,
   "metadata": {},
   "outputs": [
    {
     "name": "stdout",
     "output_type": "stream",
     "text": [
      "Accuracy Random Forest : 0.26667 \n",
      "\n"
     ]
    }
   ],
   "source": [
    "# With tuned parameters\n",
    "rforest = RandomForestClassifier(n_estimators=best_rf_param[0]+1, max_depth=best_rf_param[1]+1, random_state=0)\n",
    "score = model_assess(rforest, \"Random Forest\")"
   ]
  },
  {
   "cell_type": "markdown",
   "metadata": {},
   "source": [
    "Support Vector Machine"
   ]
  },
  {
   "cell_type": "code",
   "execution_count": 16,
   "metadata": {},
   "outputs": [
    {
     "name": "stdout",
     "output_type": "stream",
     "text": [
      "Accuracy Support Vector Machine : 0.44 \n",
      "\n",
      "Accuracy Support Vector Machine : 0.44 \n",
      "\n"
     ]
    }
   ],
   "source": [
    "svm = SVC(decision_function_shape=\"ovo\")\n",
    "score = model_assess(svm, \"Support Vector Machine\")\n",
    "svm = SVC(decision_function_shape=\"ovr\")\n",
    "score = model_assess(svm, \"Support Vector Machine\")\n"
   ]
  },
  {
   "cell_type": "markdown",
   "metadata": {},
   "source": [
    "Logistic Regression"
   ]
  },
  {
   "cell_type": "code",
   "execution_count": 17,
   "metadata": {},
   "outputs": [
    {
     "name": "stdout",
     "output_type": "stream",
     "text": [
      "Accuracy Logistic Regression : 0.43 \n",
      "\n"
     ]
    },
    {
     "name": "stderr",
     "output_type": "stream",
     "text": [
      "/Users/pierros/opt/anaconda3/envs/keras_env/lib/python3.10/site-packages/sklearn/linear_model/_logistic.py:458: ConvergenceWarning: lbfgs failed to converge (status=1):\n",
      "STOP: TOTAL NO. of ITERATIONS REACHED LIMIT.\n",
      "\n",
      "Increase the number of iterations (max_iter) or scale the data as shown in:\n",
      "    https://scikit-learn.org/stable/modules/preprocessing.html\n",
      "Please also refer to the documentation for alternative solver options:\n",
      "    https://scikit-learn.org/stable/modules/linear_model.html#logistic-regression\n",
      "  n_iter_i = _check_optimize_result(\n"
     ]
    }
   ],
   "source": [
    "lg = LogisticRegression(random_state=0, solver='lbfgs', multi_class='multinomial')\n",
    "score = model_assess(lg, \"Logistic Regression\")"
   ]
  },
  {
   "cell_type": "markdown",
   "metadata": {},
   "source": [
    "Neural Nets"
   ]
  },
  {
   "cell_type": "code",
   "execution_count": 18,
   "metadata": {},
   "outputs": [
    {
     "name": "stderr",
     "output_type": "stream",
     "text": [
      "/Users/pierros/opt/anaconda3/envs/keras_env/lib/python3.10/site-packages/sklearn/neural_network/_multilayer_perceptron.py:541: ConvergenceWarning: lbfgs failed to converge (status=1):\n",
      "STOP: TOTAL NO. of ITERATIONS REACHED LIMIT.\n",
      "\n",
      "Increase the number of iterations (max_iter) or scale the data as shown in:\n",
      "    https://scikit-learn.org/stable/modules/preprocessing.html\n",
      "  self.n_iter_ = _check_optimize_result(\"lbfgs\", opt_res, self.max_iter)\n"
     ]
    },
    {
     "name": "stdout",
     "output_type": "stream",
     "text": [
      "Accuracy Neural Nets : 0.42 \n",
      "\n"
     ]
    },
    {
     "name": "stderr",
     "output_type": "stream",
     "text": [
      "/Users/pierros/opt/anaconda3/envs/keras_env/lib/python3.10/site-packages/sklearn/neural_network/_multilayer_perceptron.py:541: ConvergenceWarning: lbfgs failed to converge (status=1):\n",
      "STOP: TOTAL NO. of ITERATIONS REACHED LIMIT.\n",
      "\n",
      "Increase the number of iterations (max_iter) or scale the data as shown in:\n",
      "    https://scikit-learn.org/stable/modules/preprocessing.html\n",
      "  self.n_iter_ = _check_optimize_result(\"lbfgs\", opt_res, self.max_iter)\n"
     ]
    },
    {
     "name": "stdout",
     "output_type": "stream",
     "text": [
      "Accuracy Neural Nets : 0.41333 \n",
      "\n"
     ]
    },
    {
     "name": "stderr",
     "output_type": "stream",
     "text": [
      "/Users/pierros/opt/anaconda3/envs/keras_env/lib/python3.10/site-packages/sklearn/neural_network/_multilayer_perceptron.py:541: ConvergenceWarning: lbfgs failed to converge (status=1):\n",
      "STOP: TOTAL NO. of ITERATIONS REACHED LIMIT.\n",
      "\n",
      "Increase the number of iterations (max_iter) or scale the data as shown in:\n",
      "    https://scikit-learn.org/stable/modules/preprocessing.html\n",
      "  self.n_iter_ = _check_optimize_result(\"lbfgs\", opt_res, self.max_iter)\n"
     ]
    },
    {
     "name": "stdout",
     "output_type": "stream",
     "text": [
      "Accuracy Neural Nets : 0.42333 \n",
      "\n"
     ]
    },
    {
     "name": "stderr",
     "output_type": "stream",
     "text": [
      "/Users/pierros/opt/anaconda3/envs/keras_env/lib/python3.10/site-packages/sklearn/neural_network/_multilayer_perceptron.py:541: ConvergenceWarning: lbfgs failed to converge (status=1):\n",
      "STOP: TOTAL NO. of ITERATIONS REACHED LIMIT.\n",
      "\n",
      "Increase the number of iterations (max_iter) or scale the data as shown in:\n",
      "    https://scikit-learn.org/stable/modules/preprocessing.html\n",
      "  self.n_iter_ = _check_optimize_result(\"lbfgs\", opt_res, self.max_iter)\n"
     ]
    },
    {
     "name": "stdout",
     "output_type": "stream",
     "text": [
      "Accuracy Neural Nets : 0.43667 \n",
      "\n"
     ]
    },
    {
     "name": "stderr",
     "output_type": "stream",
     "text": [
      "/Users/pierros/opt/anaconda3/envs/keras_env/lib/python3.10/site-packages/sklearn/neural_network/_multilayer_perceptron.py:541: ConvergenceWarning: lbfgs failed to converge (status=1):\n",
      "STOP: TOTAL NO. of ITERATIONS REACHED LIMIT.\n",
      "\n",
      "Increase the number of iterations (max_iter) or scale the data as shown in:\n",
      "    https://scikit-learn.org/stable/modules/preprocessing.html\n",
      "  self.n_iter_ = _check_optimize_result(\"lbfgs\", opt_res, self.max_iter)\n"
     ]
    },
    {
     "name": "stdout",
     "output_type": "stream",
     "text": [
      "Accuracy Neural Nets : 0.43 \n",
      "\n"
     ]
    },
    {
     "name": "stderr",
     "output_type": "stream",
     "text": [
      "/Users/pierros/opt/anaconda3/envs/keras_env/lib/python3.10/site-packages/sklearn/neural_network/_multilayer_perceptron.py:541: ConvergenceWarning: lbfgs failed to converge (status=1):\n",
      "STOP: TOTAL NO. of ITERATIONS REACHED LIMIT.\n",
      "\n",
      "Increase the number of iterations (max_iter) or scale the data as shown in:\n",
      "    https://scikit-learn.org/stable/modules/preprocessing.html\n",
      "  self.n_iter_ = _check_optimize_result(\"lbfgs\", opt_res, self.max_iter)\n"
     ]
    },
    {
     "name": "stdout",
     "output_type": "stream",
     "text": [
      "Accuracy Neural Nets : 0.45 \n",
      "\n"
     ]
    },
    {
     "name": "stderr",
     "output_type": "stream",
     "text": [
      "/Users/pierros/opt/anaconda3/envs/keras_env/lib/python3.10/site-packages/sklearn/neural_network/_multilayer_perceptron.py:541: ConvergenceWarning: lbfgs failed to converge (status=1):\n",
      "STOP: TOTAL NO. of ITERATIONS REACHED LIMIT.\n",
      "\n",
      "Increase the number of iterations (max_iter) or scale the data as shown in:\n",
      "    https://scikit-learn.org/stable/modules/preprocessing.html\n",
      "  self.n_iter_ = _check_optimize_result(\"lbfgs\", opt_res, self.max_iter)\n"
     ]
    },
    {
     "name": "stdout",
     "output_type": "stream",
     "text": [
      "Accuracy Neural Nets : 0.43333 \n",
      "\n"
     ]
    },
    {
     "name": "stderr",
     "output_type": "stream",
     "text": [
      "/Users/pierros/opt/anaconda3/envs/keras_env/lib/python3.10/site-packages/sklearn/neural_network/_multilayer_perceptron.py:541: ConvergenceWarning: lbfgs failed to converge (status=1):\n",
      "STOP: TOTAL NO. of ITERATIONS REACHED LIMIT.\n",
      "\n",
      "Increase the number of iterations (max_iter) or scale the data as shown in:\n",
      "    https://scikit-learn.org/stable/modules/preprocessing.html\n",
      "  self.n_iter_ = _check_optimize_result(\"lbfgs\", opt_res, self.max_iter)\n"
     ]
    },
    {
     "name": "stdout",
     "output_type": "stream",
     "text": [
      "Accuracy Neural Nets : 0.45667 \n",
      "\n"
     ]
    },
    {
     "name": "stderr",
     "output_type": "stream",
     "text": [
      "/Users/pierros/opt/anaconda3/envs/keras_env/lib/python3.10/site-packages/sklearn/neural_network/_multilayer_perceptron.py:541: ConvergenceWarning: lbfgs failed to converge (status=1):\n",
      "STOP: TOTAL NO. of ITERATIONS REACHED LIMIT.\n",
      "\n",
      "Increase the number of iterations (max_iter) or scale the data as shown in:\n",
      "    https://scikit-learn.org/stable/modules/preprocessing.html\n",
      "  self.n_iter_ = _check_optimize_result(\"lbfgs\", opt_res, self.max_iter)\n"
     ]
    },
    {
     "name": "stdout",
     "output_type": "stream",
     "text": [
      "Accuracy Neural Nets : 0.44667 \n",
      "\n"
     ]
    },
    {
     "name": "stderr",
     "output_type": "stream",
     "text": [
      "/Users/pierros/opt/anaconda3/envs/keras_env/lib/python3.10/site-packages/sklearn/neural_network/_multilayer_perceptron.py:541: ConvergenceWarning: lbfgs failed to converge (status=1):\n",
      "STOP: TOTAL NO. of ITERATIONS REACHED LIMIT.\n",
      "\n",
      "Increase the number of iterations (max_iter) or scale the data as shown in:\n",
      "    https://scikit-learn.org/stable/modules/preprocessing.html\n",
      "  self.n_iter_ = _check_optimize_result(\"lbfgs\", opt_res, self.max_iter)\n"
     ]
    },
    {
     "name": "stdout",
     "output_type": "stream",
     "text": [
      "Accuracy Neural Nets : 0.43 \n",
      "\n"
     ]
    },
    {
     "name": "stderr",
     "output_type": "stream",
     "text": [
      "/Users/pierros/opt/anaconda3/envs/keras_env/lib/python3.10/site-packages/sklearn/neural_network/_multilayer_perceptron.py:541: ConvergenceWarning: lbfgs failed to converge (status=1):\n",
      "STOP: TOTAL NO. of ITERATIONS REACHED LIMIT.\n",
      "\n",
      "Increase the number of iterations (max_iter) or scale the data as shown in:\n",
      "    https://scikit-learn.org/stable/modules/preprocessing.html\n",
      "  self.n_iter_ = _check_optimize_result(\"lbfgs\", opt_res, self.max_iter)\n"
     ]
    },
    {
     "name": "stdout",
     "output_type": "stream",
     "text": [
      "Accuracy Neural Nets : 0.43667 \n",
      "\n"
     ]
    },
    {
     "name": "stderr",
     "output_type": "stream",
     "text": [
      "/Users/pierros/opt/anaconda3/envs/keras_env/lib/python3.10/site-packages/sklearn/neural_network/_multilayer_perceptron.py:541: ConvergenceWarning: lbfgs failed to converge (status=1):\n",
      "STOP: TOTAL NO. of ITERATIONS REACHED LIMIT.\n",
      "\n",
      "Increase the number of iterations (max_iter) or scale the data as shown in:\n",
      "    https://scikit-learn.org/stable/modules/preprocessing.html\n",
      "  self.n_iter_ = _check_optimize_result(\"lbfgs\", opt_res, self.max_iter)\n"
     ]
    },
    {
     "name": "stdout",
     "output_type": "stream",
     "text": [
      "Accuracy Neural Nets : 0.46 \n",
      "\n"
     ]
    },
    {
     "name": "stderr",
     "output_type": "stream",
     "text": [
      "/Users/pierros/opt/anaconda3/envs/keras_env/lib/python3.10/site-packages/sklearn/neural_network/_multilayer_perceptron.py:541: ConvergenceWarning: lbfgs failed to converge (status=1):\n",
      "STOP: TOTAL NO. of ITERATIONS REACHED LIMIT.\n",
      "\n",
      "Increase the number of iterations (max_iter) or scale the data as shown in:\n",
      "    https://scikit-learn.org/stable/modules/preprocessing.html\n",
      "  self.n_iter_ = _check_optimize_result(\"lbfgs\", opt_res, self.max_iter)\n"
     ]
    },
    {
     "name": "stdout",
     "output_type": "stream",
     "text": [
      "Accuracy Neural Nets : 0.46 \n",
      "\n"
     ]
    },
    {
     "name": "stderr",
     "output_type": "stream",
     "text": [
      "/Users/pierros/opt/anaconda3/envs/keras_env/lib/python3.10/site-packages/sklearn/neural_network/_multilayer_perceptron.py:541: ConvergenceWarning: lbfgs failed to converge (status=1):\n",
      "STOP: TOTAL NO. of ITERATIONS REACHED LIMIT.\n",
      "\n",
      "Increase the number of iterations (max_iter) or scale the data as shown in:\n",
      "    https://scikit-learn.org/stable/modules/preprocessing.html\n",
      "  self.n_iter_ = _check_optimize_result(\"lbfgs\", opt_res, self.max_iter)\n"
     ]
    },
    {
     "name": "stdout",
     "output_type": "stream",
     "text": [
      "Accuracy Neural Nets : 0.46333 \n",
      "\n"
     ]
    },
    {
     "name": "stderr",
     "output_type": "stream",
     "text": [
      "/Users/pierros/opt/anaconda3/envs/keras_env/lib/python3.10/site-packages/sklearn/neural_network/_multilayer_perceptron.py:541: ConvergenceWarning: lbfgs failed to converge (status=1):\n",
      "STOP: TOTAL NO. of ITERATIONS REACHED LIMIT.\n",
      "\n",
      "Increase the number of iterations (max_iter) or scale the data as shown in:\n",
      "    https://scikit-learn.org/stable/modules/preprocessing.html\n",
      "  self.n_iter_ = _check_optimize_result(\"lbfgs\", opt_res, self.max_iter)\n"
     ]
    },
    {
     "name": "stdout",
     "output_type": "stream",
     "text": [
      "Accuracy Neural Nets : 0.43333 \n",
      "\n"
     ]
    },
    {
     "name": "stderr",
     "output_type": "stream",
     "text": [
      "/Users/pierros/opt/anaconda3/envs/keras_env/lib/python3.10/site-packages/sklearn/neural_network/_multilayer_perceptron.py:541: ConvergenceWarning: lbfgs failed to converge (status=1):\n",
      "STOP: TOTAL NO. of ITERATIONS REACHED LIMIT.\n",
      "\n",
      "Increase the number of iterations (max_iter) or scale the data as shown in:\n",
      "    https://scikit-learn.org/stable/modules/preprocessing.html\n",
      "  self.n_iter_ = _check_optimize_result(\"lbfgs\", opt_res, self.max_iter)\n"
     ]
    },
    {
     "name": "stdout",
     "output_type": "stream",
     "text": [
      "Accuracy Neural Nets : 0.44667 \n",
      "\n"
     ]
    },
    {
     "name": "stderr",
     "output_type": "stream",
     "text": [
      "/Users/pierros/opt/anaconda3/envs/keras_env/lib/python3.10/site-packages/sklearn/neural_network/_multilayer_perceptron.py:541: ConvergenceWarning: lbfgs failed to converge (status=1):\n",
      "STOP: TOTAL NO. of ITERATIONS REACHED LIMIT.\n",
      "\n",
      "Increase the number of iterations (max_iter) or scale the data as shown in:\n",
      "    https://scikit-learn.org/stable/modules/preprocessing.html\n",
      "  self.n_iter_ = _check_optimize_result(\"lbfgs\", opt_res, self.max_iter)\n"
     ]
    },
    {
     "name": "stdout",
     "output_type": "stream",
     "text": [
      "Accuracy Neural Nets : 0.41667 \n",
      "\n"
     ]
    },
    {
     "name": "stderr",
     "output_type": "stream",
     "text": [
      "/Users/pierros/opt/anaconda3/envs/keras_env/lib/python3.10/site-packages/sklearn/neural_network/_multilayer_perceptron.py:541: ConvergenceWarning: lbfgs failed to converge (status=1):\n",
      "STOP: TOTAL NO. of ITERATIONS REACHED LIMIT.\n",
      "\n",
      "Increase the number of iterations (max_iter) or scale the data as shown in:\n",
      "    https://scikit-learn.org/stable/modules/preprocessing.html\n",
      "  self.n_iter_ = _check_optimize_result(\"lbfgs\", opt_res, self.max_iter)\n"
     ]
    },
    {
     "name": "stdout",
     "output_type": "stream",
     "text": [
      "Accuracy Neural Nets : 0.42 \n",
      "\n"
     ]
    },
    {
     "name": "stderr",
     "output_type": "stream",
     "text": [
      "/Users/pierros/opt/anaconda3/envs/keras_env/lib/python3.10/site-packages/sklearn/neural_network/_multilayer_perceptron.py:541: ConvergenceWarning: lbfgs failed to converge (status=1):\n",
      "STOP: TOTAL NO. of ITERATIONS REACHED LIMIT.\n",
      "\n",
      "Increase the number of iterations (max_iter) or scale the data as shown in:\n",
      "    https://scikit-learn.org/stable/modules/preprocessing.html\n",
      "  self.n_iter_ = _check_optimize_result(\"lbfgs\", opt_res, self.max_iter)\n"
     ]
    },
    {
     "name": "stdout",
     "output_type": "stream",
     "text": [
      "Accuracy Neural Nets : 0.43333 \n",
      "\n"
     ]
    },
    {
     "name": "stderr",
     "output_type": "stream",
     "text": [
      "/Users/pierros/opt/anaconda3/envs/keras_env/lib/python3.10/site-packages/sklearn/neural_network/_multilayer_perceptron.py:541: ConvergenceWarning: lbfgs failed to converge (status=1):\n",
      "STOP: TOTAL NO. of ITERATIONS REACHED LIMIT.\n",
      "\n",
      "Increase the number of iterations (max_iter) or scale the data as shown in:\n",
      "    https://scikit-learn.org/stable/modules/preprocessing.html\n",
      "  self.n_iter_ = _check_optimize_result(\"lbfgs\", opt_res, self.max_iter)\n"
     ]
    },
    {
     "name": "stdout",
     "output_type": "stream",
     "text": [
      "Accuracy Neural Nets : 0.44333 \n",
      "\n"
     ]
    }
   ],
   "source": [
    "best_score_mlp = 0\n",
    "for a in np.linspace(0.00001,0.0001,20):\n",
    "    nn = MLPClassifier(solver='lbfgs', alpha=a, hidden_layer_sizes=(5000, 10), random_state=1)\n",
    "    score = model_assess(nn, \"Neural Nets\")\n",
    "    if score > best_score_mlp:\n",
    "        best_score_mlp = score\n",
    "        best_alpha = a"
   ]
  },
  {
   "cell_type": "code",
   "execution_count": 19,
   "metadata": {},
   "outputs": [
    {
     "name": "stdout",
     "output_type": "stream",
     "text": [
      "7.157894736842105e-05\n"
     ]
    }
   ],
   "source": [
    "print(best_alpha)"
   ]
  },
  {
   "cell_type": "code",
   "execution_count": 20,
   "metadata": {},
   "outputs": [
    {
     "name": "stdout",
     "output_type": "stream",
     "text": [
      "Accuracy Neural Nets : 0.46333 \n",
      "\n"
     ]
    },
    {
     "name": "stderr",
     "output_type": "stream",
     "text": [
      "/Users/pierros/opt/anaconda3/envs/keras_env/lib/python3.10/site-packages/sklearn/neural_network/_multilayer_perceptron.py:541: ConvergenceWarning: lbfgs failed to converge (status=1):\n",
      "STOP: TOTAL NO. of ITERATIONS REACHED LIMIT.\n",
      "\n",
      "Increase the number of iterations (max_iter) or scale the data as shown in:\n",
      "    https://scikit-learn.org/stable/modules/preprocessing.html\n",
      "  self.n_iter_ = _check_optimize_result(\"lbfgs\", opt_res, self.max_iter)\n"
     ]
    }
   ],
   "source": [
    "nn = MLPClassifier(solver='lbfgs', alpha=best_alpha, hidden_layer_sizes=(5000, 10), random_state=1)\n",
    "score = model_assess(nn, \"Neural Nets\")"
   ]
  },
  {
   "cell_type": "code",
   "execution_count": 21,
   "metadata": {},
   "outputs": [],
   "source": [
    "# Transform Data for the next classifiers\n",
    "from sklearn.preprocessing import LabelEncoder\n",
    "le = LabelEncoder()\n",
    "y_train2 = le.fit_transform(y_train)\n",
    "y_test2 =le.fit_transform(y_test)"
   ]
  },
  {
   "cell_type": "markdown",
   "metadata": {},
   "source": [
    "Cross Gradient Booster"
   ]
  },
  {
   "cell_type": "code",
   "execution_count": 22,
   "metadata": {},
   "outputs": [
    {
     "name": "stderr",
     "output_type": "stream",
     "text": [
      "  0%|          | 0/10 [00:00<?, ?it/s]"
     ]
    },
    {
     "name": "stdout",
     "output_type": "stream",
     "text": [
      "Accuracy Cross Gradient Booster : 0.57667 \n",
      "\n",
      "Accuracy Cross Gradient Booster : 0.56667 \n",
      "\n",
      "Accuracy Cross Gradient Booster : 0.56667 \n",
      "\n",
      "Accuracy Cross Gradient Booster : 0.57 \n",
      "\n",
      "Accuracy Cross Gradient Booster : 0.57333 \n",
      "\n",
      "Accuracy Cross Gradient Booster : 0.56667 \n",
      "\n"
     ]
    },
    {
     "name": "stderr",
     "output_type": "stream",
     "text": [
      " 10%|█         | 1/10 [10:30<1:34:38, 630.92s/it]"
     ]
    },
    {
     "name": "stdout",
     "output_type": "stream",
     "text": [
      "Accuracy Cross Gradient Booster : 0.56 \n",
      "\n",
      "Accuracy Cross Gradient Booster : 0.57667 \n",
      "\n",
      "Accuracy Cross Gradient Booster : 0.57 \n",
      "\n",
      "Accuracy Cross Gradient Booster : 0.57333 \n",
      "\n",
      "Accuracy Cross Gradient Booster : 0.57 \n",
      "\n",
      "Accuracy Cross Gradient Booster : 0.57333 \n",
      "\n",
      "Accuracy Cross Gradient Booster : 0.56667 \n",
      "\n"
     ]
    },
    {
     "name": "stderr",
     "output_type": "stream",
     "text": [
      " 20%|██        | 2/10 [19:14<1:15:40, 567.53s/it]"
     ]
    },
    {
     "name": "stdout",
     "output_type": "stream",
     "text": [
      "Accuracy Cross Gradient Booster : 0.56 \n",
      "\n",
      "Accuracy Cross Gradient Booster : 0.57333 \n",
      "\n",
      "Accuracy Cross Gradient Booster : 0.57 \n",
      "\n",
      "Accuracy Cross Gradient Booster : 0.57333 \n",
      "\n",
      "Accuracy Cross Gradient Booster : 0.57 \n",
      "\n",
      "Accuracy Cross Gradient Booster : 0.57667 \n",
      "\n",
      "Accuracy Cross Gradient Booster : 0.56667 \n",
      "\n"
     ]
    },
    {
     "name": "stderr",
     "output_type": "stream",
     "text": [
      " 30%|███       | 3/10 [28:22<1:05:11, 558.84s/it]"
     ]
    },
    {
     "name": "stdout",
     "output_type": "stream",
     "text": [
      "Accuracy Cross Gradient Booster : 0.56333 \n",
      "\n",
      "Accuracy Cross Gradient Booster : 0.57667 \n",
      "\n",
      "Accuracy Cross Gradient Booster : 0.56667 \n",
      "\n",
      "Accuracy Cross Gradient Booster : 0.57 \n",
      "\n",
      "Accuracy Cross Gradient Booster : 0.57 \n",
      "\n",
      "Accuracy Cross Gradient Booster : 0.57667 \n",
      "\n",
      "Accuracy Cross Gradient Booster : 0.56333 \n",
      "\n"
     ]
    },
    {
     "name": "stderr",
     "output_type": "stream",
     "text": [
      " 40%|████      | 4/10 [38:20<57:24, 574.15s/it]  "
     ]
    },
    {
     "name": "stdout",
     "output_type": "stream",
     "text": [
      "Accuracy Cross Gradient Booster : 0.56333 \n",
      "\n",
      "Accuracy Cross Gradient Booster : 0.58 \n",
      "\n",
      "Accuracy Cross Gradient Booster : 0.57 \n",
      "\n",
      "Accuracy Cross Gradient Booster : 0.57 \n",
      "\n",
      "Accuracy Cross Gradient Booster : 0.56667 \n",
      "\n",
      "Accuracy Cross Gradient Booster : 0.57667 \n",
      "\n",
      "Accuracy Cross Gradient Booster : 0.56333 \n",
      "\n"
     ]
    },
    {
     "name": "stderr",
     "output_type": "stream",
     "text": [
      " 50%|█████     | 5/10 [48:44<49:21, 592.31s/it]"
     ]
    },
    {
     "name": "stdout",
     "output_type": "stream",
     "text": [
      "Accuracy Cross Gradient Booster : 0.56 \n",
      "\n",
      "Accuracy Cross Gradient Booster : 0.58333 \n",
      "\n",
      "Accuracy Cross Gradient Booster : 0.56667 \n",
      "\n",
      "Accuracy Cross Gradient Booster : 0.57333 \n",
      "\n",
      "Accuracy Cross Gradient Booster : 0.57 \n",
      "\n",
      "Accuracy Cross Gradient Booster : 0.57667 \n",
      "\n",
      "Accuracy Cross Gradient Booster : 0.56333 \n",
      "\n"
     ]
    },
    {
     "name": "stderr",
     "output_type": "stream",
     "text": [
      " 60%|██████    | 6/10 [1:00:28<42:00, 630.16s/it]"
     ]
    },
    {
     "name": "stdout",
     "output_type": "stream",
     "text": [
      "Accuracy Cross Gradient Booster : 0.56 \n",
      "\n",
      "Accuracy Cross Gradient Booster : 0.58333 \n",
      "\n",
      "Accuracy Cross Gradient Booster : 0.56333 \n",
      "\n",
      "Accuracy Cross Gradient Booster : 0.57333 \n",
      "\n",
      "Accuracy Cross Gradient Booster : 0.57 \n",
      "\n",
      "Accuracy Cross Gradient Booster : 0.57333 \n",
      "\n",
      "Accuracy Cross Gradient Booster : 0.56333 \n",
      "\n"
     ]
    },
    {
     "name": "stderr",
     "output_type": "stream",
     "text": [
      " 70%|███████   | 7/10 [1:12:30<33:00, 660.21s/it]"
     ]
    },
    {
     "name": "stdout",
     "output_type": "stream",
     "text": [
      "Accuracy Cross Gradient Booster : 0.56 \n",
      "\n",
      "Accuracy Cross Gradient Booster : 0.58333 \n",
      "\n",
      "Accuracy Cross Gradient Booster : 0.56333 \n",
      "\n",
      "Accuracy Cross Gradient Booster : 0.57 \n",
      "\n",
      "Accuracy Cross Gradient Booster : 0.57 \n",
      "\n",
      "Accuracy Cross Gradient Booster : 0.57667 \n",
      "\n",
      "Accuracy Cross Gradient Booster : 0.56333 \n",
      "\n"
     ]
    },
    {
     "name": "stderr",
     "output_type": "stream",
     "text": [
      " 80%|████████  | 8/10 [1:24:12<22:27, 673.60s/it]"
     ]
    },
    {
     "name": "stdout",
     "output_type": "stream",
     "text": [
      "Accuracy Cross Gradient Booster : 0.56 \n",
      "\n",
      "Accuracy Cross Gradient Booster : 0.58333 \n",
      "\n",
      "Accuracy Cross Gradient Booster : 0.56333 \n",
      "\n",
      "Accuracy Cross Gradient Booster : 0.57 \n",
      "\n",
      "Accuracy Cross Gradient Booster : 0.57 \n",
      "\n",
      "Accuracy Cross Gradient Booster : 0.57333 \n",
      "\n",
      "Accuracy Cross Gradient Booster : 0.56333 \n",
      "\n"
     ]
    },
    {
     "name": "stderr",
     "output_type": "stream",
     "text": [
      " 90%|█████████ | 9/10 [1:36:18<11:30, 690.04s/it]"
     ]
    },
    {
     "name": "stdout",
     "output_type": "stream",
     "text": [
      "Accuracy Cross Gradient Booster : 0.56 \n",
      "\n",
      "Accuracy Cross Gradient Booster : 0.59 \n",
      "\n",
      "Accuracy Cross Gradient Booster : 0.56333 \n",
      "\n",
      "Accuracy Cross Gradient Booster : 0.57 \n",
      "\n",
      "Accuracy Cross Gradient Booster : 0.57333 \n",
      "\n",
      "Accuracy Cross Gradient Booster : 0.57333 \n",
      "\n",
      "Accuracy Cross Gradient Booster : 0.56333 \n",
      "\n"
     ]
    },
    {
     "name": "stderr",
     "output_type": "stream",
     "text": [
      "100%|██████████| 10/10 [1:47:56<00:00, 647.68s/it]"
     ]
    },
    {
     "name": "stdout",
     "output_type": "stream",
     "text": [
      "Accuracy Cross Gradient Booster : 0.56333 \n",
      "\n"
     ]
    },
    {
     "name": "stderr",
     "output_type": "stream",
     "text": [
      "\n"
     ]
    }
   ],
   "source": [
    "best_cgb = [1,0.01]\n",
    "best_score_cgb = 0\n",
    "for est in tqdm(range(1000,2000,100)):\n",
    "    for lr in np.linspace(0.1,0.7,7):\n",
    "        xgb = XGBClassifier(n_estimators=est, learning_rate=lr)\n",
    "        # model_assess(xgb, \"Cross Gradient Booster\")\n",
    "        xgb.fit(X_train, y_train2)\n",
    "        preds = xgb.predict(X_test)\n",
    "        #print(confusion_matrix(y_test, preds))\n",
    "        print('Accuracy', \"Cross Gradient Booster\", ':', round(accuracy_score(y_test2, preds), 5), '\\n')\n",
    "        if round(accuracy_score(y_test2, preds), 5) > best_score_cgb:\n",
    "            best_score_cgb = round(accuracy_score(y_test2, preds), 5)\n",
    "            best_cgb = [est, lr]"
   ]
  },
  {
   "cell_type": "code",
   "execution_count": 23,
   "metadata": {},
   "outputs": [
    {
     "data": {
      "text/plain": [
       "[1900, 0.1]"
      ]
     },
     "execution_count": 23,
     "metadata": {},
     "output_type": "execute_result"
    }
   ],
   "source": [
    "best_cgb"
   ]
  },
  {
   "cell_type": "code",
   "execution_count": 24,
   "metadata": {},
   "outputs": [
    {
     "name": "stdout",
     "output_type": "stream",
     "text": [
      "Accuracy Cross Gradient Booster : 0.59 \n",
      "\n"
     ]
    }
   ],
   "source": [
    "xgb = XGBClassifier(n_estimators=best_cgb[0], learning_rate=best_cgb[1])\n",
    "xgb.fit(X_train, y_train2)\n",
    "preds = xgb.predict(X_test)\n",
    "print('Accuracy', \"Cross Gradient Booster\", ':', round(accuracy_score(y_test2, preds), 5), '\\n')"
   ]
  },
  {
   "cell_type": "markdown",
   "metadata": {},
   "source": [
    "Cross Gradient Booster (Random Forest)"
   ]
  },
  {
   "cell_type": "code",
   "execution_count": 25,
   "metadata": {},
   "outputs": [
    {
     "name": "stdout",
     "output_type": "stream",
     "text": [
      "Accuracy Cross Gradient Booster (Random Forest) : 0.55667 \n",
      "\n"
     ]
    }
   ],
   "source": [
    "xgbrf = XGBRFClassifier(objective= 'multi:softmax')\n",
    "# model_assess(xgbrf, \"Cross Gradient Booster (Random Forest)\")\n",
    "xgbrf.fit(X_train, y_train2)\n",
    "preds = xgbrf.predict(X_test)\n",
    "print('Accuracy', \"Cross Gradient Booster (Random Forest)\", ':', round(accuracy_score(y_test2, preds), 5), '\\n')"
   ]
  },
  {
   "cell_type": "code",
   "execution_count": 26,
   "metadata": {},
   "outputs": [
    {
     "data": {
      "text/html": [
       "\n",
       "    <style>\n",
       "    table.eli5-weights tr:hover {\n",
       "        filter: brightness(85%);\n",
       "    }\n",
       "</style>\n",
       "\n",
       "\n",
       "\n",
       "    \n",
       "\n",
       "    \n",
       "\n",
       "    \n",
       "\n",
       "    \n",
       "\n",
       "    \n",
       "\n",
       "    \n",
       "\n",
       "\n",
       "    \n",
       "\n",
       "    \n",
       "\n",
       "    \n",
       "\n",
       "    \n",
       "\n",
       "    \n",
       "\n",
       "    \n",
       "\n",
       "\n",
       "    \n",
       "\n",
       "    \n",
       "\n",
       "    \n",
       "\n",
       "    \n",
       "\n",
       "    \n",
       "        <table class=\"eli5-weights eli5-feature-importances\" style=\"border-collapse: collapse; border: none; margin-top: 0em; table-layout: auto;\">\n",
       "    <thead>\n",
       "    <tr style=\"border: none;\">\n",
       "        <th style=\"padding: 0 1em 0 0.5em; text-align: right; border: none;\">Weight</th>\n",
       "        <th style=\"padding: 0 0.5em 0 0.5em; text-align: left; border: none;\">Feature</th>\n",
       "    </tr>\n",
       "    </thead>\n",
       "    <tbody>\n",
       "    \n",
       "        <tr style=\"background-color: hsl(120, 100.00%, 80.00%); border: none;\">\n",
       "            <td style=\"padding: 0 1em 0 0.5em; text-align: right; border: none;\">\n",
       "                0.1293\n",
       "                \n",
       "                    &plusmn; 0.0293\n",
       "                \n",
       "            </td>\n",
       "            <td style=\"padding: 0 0.5em 0 0.5em; text-align: left; border: none;\">\n",
       "                chroma_stft_mean\n",
       "            </td>\n",
       "        </tr>\n",
       "    \n",
       "        <tr style=\"background-color: hsl(120, 100.00%, 81.02%); border: none;\">\n",
       "            <td style=\"padding: 0 1em 0 0.5em; text-align: right; border: none;\">\n",
       "                0.1200\n",
       "                \n",
       "                    &plusmn; 0.0384\n",
       "                \n",
       "            </td>\n",
       "            <td style=\"padding: 0 0.5em 0 0.5em; text-align: left; border: none;\">\n",
       "                spectral_bandwidth_mean\n",
       "            </td>\n",
       "        </tr>\n",
       "    \n",
       "        <tr style=\"background-color: hsl(120, 100.00%, 87.07%); border: none;\">\n",
       "            <td style=\"padding: 0 1em 0 0.5em; text-align: right; border: none;\">\n",
       "                0.0693\n",
       "                \n",
       "                    &plusmn; 0.0171\n",
       "                \n",
       "            </td>\n",
       "            <td style=\"padding: 0 0.5em 0 0.5em; text-align: left; border: none;\">\n",
       "                chroma_stft_var\n",
       "            </td>\n",
       "        </tr>\n",
       "    \n",
       "        <tr style=\"background-color: hsl(120, 100.00%, 88.96%); border: none;\">\n",
       "            <td style=\"padding: 0 1em 0 0.5em; text-align: right; border: none;\">\n",
       "                0.0553\n",
       "                \n",
       "                    &plusmn; 0.0124\n",
       "                \n",
       "            </td>\n",
       "            <td style=\"padding: 0 0.5em 0 0.5em; text-align: left; border: none;\">\n",
       "                rms_var\n",
       "            </td>\n",
       "        </tr>\n",
       "    \n",
       "        <tr style=\"background-color: hsl(120, 100.00%, 91.00%); border: none;\">\n",
       "            <td style=\"padding: 0 1em 0 0.5em; text-align: right; border: none;\">\n",
       "                0.0413\n",
       "                \n",
       "                    &plusmn; 0.0155\n",
       "                \n",
       "            </td>\n",
       "            <td style=\"padding: 0 0.5em 0 0.5em; text-align: left; border: none;\">\n",
       "                zero_crossing_rate_mean\n",
       "            </td>\n",
       "        </tr>\n",
       "    \n",
       "        <tr style=\"background-color: hsl(120, 100.00%, 91.20%); border: none;\">\n",
       "            <td style=\"padding: 0 1em 0 0.5em; text-align: right; border: none;\">\n",
       "                0.0400\n",
       "                \n",
       "                    &plusmn; 0.0084\n",
       "                \n",
       "            </td>\n",
       "            <td style=\"padding: 0 0.5em 0 0.5em; text-align: left; border: none;\">\n",
       "                perceptr_mean\n",
       "            </td>\n",
       "        </tr>\n",
       "    \n",
       "        <tr style=\"background-color: hsl(120, 100.00%, 92.04%); border: none;\">\n",
       "            <td style=\"padding: 0 1em 0 0.5em; text-align: right; border: none;\">\n",
       "                0.0347\n",
       "                \n",
       "                    &plusmn; 0.0248\n",
       "                \n",
       "            </td>\n",
       "            <td style=\"padding: 0 0.5em 0 0.5em; text-align: left; border: none;\">\n",
       "                spectral_centroid_var\n",
       "            </td>\n",
       "        </tr>\n",
       "    \n",
       "        <tr style=\"background-color: hsl(120, 100.00%, 92.37%); border: none;\">\n",
       "            <td style=\"padding: 0 1em 0 0.5em; text-align: right; border: none;\">\n",
       "                0.0327\n",
       "                \n",
       "                    &plusmn; 0.0412\n",
       "                \n",
       "            </td>\n",
       "            <td style=\"padding: 0 0.5em 0 0.5em; text-align: left; border: none;\">\n",
       "                rolloff_var\n",
       "            </td>\n",
       "        </tr>\n",
       "    \n",
       "        <tr style=\"background-color: hsl(120, 100.00%, 92.37%); border: none;\">\n",
       "            <td style=\"padding: 0 1em 0 0.5em; text-align: right; border: none;\">\n",
       "                0.0327\n",
       "                \n",
       "                    &plusmn; 0.0244\n",
       "                \n",
       "            </td>\n",
       "            <td style=\"padding: 0 0.5em 0 0.5em; text-align: left; border: none;\">\n",
       "                rms_mean\n",
       "            </td>\n",
       "        </tr>\n",
       "    \n",
       "        <tr style=\"background-color: hsl(120, 100.00%, 92.59%); border: none;\">\n",
       "            <td style=\"padding: 0 1em 0 0.5em; text-align: right; border: none;\">\n",
       "                0.0313\n",
       "                \n",
       "                    &plusmn; 0.0209\n",
       "                \n",
       "            </td>\n",
       "            <td style=\"padding: 0 0.5em 0 0.5em; text-align: left; border: none;\">\n",
       "                harmony_var\n",
       "            </td>\n",
       "        </tr>\n",
       "    \n",
       "        <tr style=\"background-color: hsl(120, 100.00%, 92.70%); border: none;\">\n",
       "            <td style=\"padding: 0 1em 0 0.5em; text-align: right; border: none;\">\n",
       "                0.0307\n",
       "                \n",
       "                    &plusmn; 0.0142\n",
       "                \n",
       "            </td>\n",
       "            <td style=\"padding: 0 0.5em 0 0.5em; text-align: left; border: none;\">\n",
       "                spectral_bandwidth_var\n",
       "            </td>\n",
       "        </tr>\n",
       "    \n",
       "        <tr style=\"background-color: hsl(120, 100.00%, 93.85%); border: none;\">\n",
       "            <td style=\"padding: 0 1em 0 0.5em; text-align: right; border: none;\">\n",
       "                0.0240\n",
       "                \n",
       "                    &plusmn; 0.0281\n",
       "                \n",
       "            </td>\n",
       "            <td style=\"padding: 0 0.5em 0 0.5em; text-align: left; border: none;\">\n",
       "                zero_crossing_rate_var\n",
       "            </td>\n",
       "        </tr>\n",
       "    \n",
       "        <tr style=\"background-color: hsl(120, 100.00%, 94.71%); border: none;\">\n",
       "            <td style=\"padding: 0 1em 0 0.5em; text-align: right; border: none;\">\n",
       "                0.0193\n",
       "                \n",
       "                    &plusmn; 0.0190\n",
       "                \n",
       "            </td>\n",
       "            <td style=\"padding: 0 0.5em 0 0.5em; text-align: left; border: none;\">\n",
       "                tempo\n",
       "            </td>\n",
       "        </tr>\n",
       "    \n",
       "        <tr style=\"background-color: hsl(120, 100.00%, 94.97%); border: none;\">\n",
       "            <td style=\"padding: 0 1em 0 0.5em; text-align: right; border: none;\">\n",
       "                0.0180\n",
       "                \n",
       "                    &plusmn; 0.0229\n",
       "                \n",
       "            </td>\n",
       "            <td style=\"padding: 0 0.5em 0 0.5em; text-align: left; border: none;\">\n",
       "                rolloff_mean\n",
       "            </td>\n",
       "        </tr>\n",
       "    \n",
       "        <tr style=\"background-color: hsl(120, 100.00%, 94.97%); border: none;\">\n",
       "            <td style=\"padding: 0 1em 0 0.5em; text-align: right; border: none;\">\n",
       "                0.0180\n",
       "                \n",
       "                    &plusmn; 0.0161\n",
       "                \n",
       "            </td>\n",
       "            <td style=\"padding: 0 0.5em 0 0.5em; text-align: left; border: none;\">\n",
       "                mfcc12_mean\n",
       "            </td>\n",
       "        </tr>\n",
       "    \n",
       "        <tr style=\"background-color: hsl(120, 100.00%, 95.10%); border: none;\">\n",
       "            <td style=\"padding: 0 1em 0 0.5em; text-align: right; border: none;\">\n",
       "                0.0173\n",
       "                \n",
       "                    &plusmn; 0.0078\n",
       "                \n",
       "            </td>\n",
       "            <td style=\"padding: 0 0.5em 0 0.5em; text-align: left; border: none;\">\n",
       "                mfcc6_mean\n",
       "            </td>\n",
       "        </tr>\n",
       "    \n",
       "        <tr style=\"background-color: hsl(120, 100.00%, 95.23%); border: none;\">\n",
       "            <td style=\"padding: 0 1em 0 0.5em; text-align: right; border: none;\">\n",
       "                0.0167\n",
       "                \n",
       "                    &plusmn; 0.0283\n",
       "                \n",
       "            </td>\n",
       "            <td style=\"padding: 0 0.5em 0 0.5em; text-align: left; border: none;\">\n",
       "                harmony_mean\n",
       "            </td>\n",
       "        </tr>\n",
       "    \n",
       "        <tr style=\"background-color: hsl(120, 100.00%, 96.07%); border: none;\">\n",
       "            <td style=\"padding: 0 1em 0 0.5em; text-align: right; border: none;\">\n",
       "                0.0127\n",
       "                \n",
       "                    &plusmn; 0.0142\n",
       "                \n",
       "            </td>\n",
       "            <td style=\"padding: 0 0.5em 0 0.5em; text-align: left; border: none;\">\n",
       "                spectral_centroid_mean\n",
       "            </td>\n",
       "        </tr>\n",
       "    \n",
       "        <tr style=\"background-color: hsl(120, 100.00%, 96.21%); border: none;\">\n",
       "            <td style=\"padding: 0 1em 0 0.5em; text-align: right; border: none;\">\n",
       "                0.0120\n",
       "                \n",
       "                    &plusmn; 0.0150\n",
       "                \n",
       "            </td>\n",
       "            <td style=\"padding: 0 0.5em 0 0.5em; text-align: left; border: none;\">\n",
       "                perceptr_var\n",
       "            </td>\n",
       "        </tr>\n",
       "    \n",
       "        <tr style=\"background-color: hsl(120, 100.00%, 96.51%); border: none;\">\n",
       "            <td style=\"padding: 0 1em 0 0.5em; text-align: right; border: none;\">\n",
       "                0.0107\n",
       "                \n",
       "                    &plusmn; 0.0115\n",
       "                \n",
       "            </td>\n",
       "            <td style=\"padding: 0 0.5em 0 0.5em; text-align: left; border: none;\">\n",
       "                mfcc16_var\n",
       "            </td>\n",
       "        </tr>\n",
       "    \n",
       "    \n",
       "        \n",
       "            <tr style=\"background-color: hsl(120, 100.00%, 96.51%); border: none;\">\n",
       "                <td colspan=\"2\" style=\"padding: 0 0.5em 0 0.5em; text-align: center; border: none; white-space: nowrap;\">\n",
       "                    <i>&hellip; 37 more &hellip;</i>\n",
       "                </td>\n",
       "            </tr>\n",
       "        \n",
       "    \n",
       "    </tbody>\n",
       "</table>\n",
       "    \n",
       "\n",
       "    \n",
       "\n",
       "\n",
       "    \n",
       "\n",
       "    \n",
       "\n",
       "    \n",
       "\n",
       "    \n",
       "\n",
       "    \n",
       "\n",
       "    \n",
       "\n",
       "\n",
       "\n"
      ],
      "text/plain": [
       "<IPython.core.display.HTML object>"
      ]
     },
     "execution_count": 26,
     "metadata": {},
     "output_type": "execute_result"
    }
   ],
   "source": [
    "import eli5\n",
    "from eli5.sklearn import PermutationImportance\n",
    "\n",
    "perm = PermutationImportance(estimator=xgb, random_state=1)\n",
    "perm.fit(X_test, y_test2)\n",
    "\n",
    "eli5.show_weights(estimator=perm, feature_names = X_test.columns.tolist())"
   ]
  },
  {
   "cell_type": "code",
   "execution_count": null,
   "metadata": {},
   "outputs": [],
   "source": []
  }
 ],
 "metadata": {
  "kernelspec": {
   "display_name": "Python 3 (ipykernel)",
   "language": "python",
   "name": "python3"
  },
  "language_info": {
   "codemirror_mode": {
    "name": "ipython",
    "version": 3
   },
   "file_extension": ".py",
   "mimetype": "text/x-python",
   "name": "python",
   "nbconvert_exporter": "python",
   "pygments_lexer": "ipython3",
   "version": "3.10.10"
  },
  "orig_nbformat": 4,
  "vscode": {
   "interpreter": {
    "hash": "f34ef1cb52c7ccfbbf6725fcdf02413caf7ee180866be6c5f23cee5d40137ac0"
   }
  }
 },
 "nbformat": 4,
 "nbformat_minor": 2
}
