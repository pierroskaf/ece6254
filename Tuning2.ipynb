{
 "cells": [
  {
   "cell_type": "code",
   "execution_count": 1,
   "metadata": {},
   "outputs": [],
   "source": [
    "from sklearn.naive_bayes import GaussianNB\n",
    "from sklearn.linear_model import SGDClassifier, LogisticRegression\n",
    "from sklearn.neighbors import KNeighborsClassifier\n",
    "from sklearn.tree import DecisionTreeClassifier\n",
    "from sklearn.ensemble import RandomForestClassifier\n",
    "from sklearn.svm import SVC\n",
    "from sklearn.neural_network import MLPClassifier\n",
    "from xgboost import XGBClassifier, XGBRFClassifier\n",
    "from xgboost import plot_tree, plot_importance\n",
    "\n",
    "from sklearn.metrics import confusion_matrix, accuracy_score, roc_auc_score, roc_curve\n",
    "from sklearn import preprocessing\n",
    "from sklearn.model_selection import train_test_split\n",
    "from sklearn.feature_selection import RFE\n",
    "import pandas as pd\n",
    "import numpy as np\n",
    "from tqdm import tqdm"
   ]
  },
  {
   "cell_type": "code",
   "execution_count": 2,
   "metadata": {},
   "outputs": [
    {
     "data": {
      "text/html": [
       "<div>\n",
       "<style scoped>\n",
       "    .dataframe tbody tr th:only-of-type {\n",
       "        vertical-align: middle;\n",
       "    }\n",
       "\n",
       "    .dataframe tbody tr th {\n",
       "        vertical-align: top;\n",
       "    }\n",
       "\n",
       "    .dataframe thead th {\n",
       "        text-align: right;\n",
       "    }\n",
       "</style>\n",
       "<table border=\"1\" class=\"dataframe\">\n",
       "  <thead>\n",
       "    <tr style=\"text-align: right;\">\n",
       "      <th></th>\n",
       "      <th>filename</th>\n",
       "      <th>length</th>\n",
       "      <th>chroma_stft_mean</th>\n",
       "      <th>chroma_stft_var</th>\n",
       "      <th>rms_mean</th>\n",
       "      <th>rms_var</th>\n",
       "      <th>spectral_centroid_mean</th>\n",
       "      <th>spectral_centroid_var</th>\n",
       "      <th>spectral_bandwidth_mean</th>\n",
       "      <th>spectral_bandwidth_var</th>\n",
       "      <th>...</th>\n",
       "      <th>mfcc16_var</th>\n",
       "      <th>mfcc17_mean</th>\n",
       "      <th>mfcc17_var</th>\n",
       "      <th>mfcc18_mean</th>\n",
       "      <th>mfcc18_var</th>\n",
       "      <th>mfcc19_mean</th>\n",
       "      <th>mfcc19_var</th>\n",
       "      <th>mfcc20_mean</th>\n",
       "      <th>mfcc20_var</th>\n",
       "      <th>label</th>\n",
       "    </tr>\n",
       "  </thead>\n",
       "  <tbody>\n",
       "    <tr>\n",
       "      <th>0</th>\n",
       "      <td>pop.00027.wav</td>\n",
       "      <td>30.000181</td>\n",
       "      <td>0.377612</td>\n",
       "      <td>0.085683</td>\n",
       "      <td>0.157902</td>\n",
       "      <td>0.002739</td>\n",
       "      <td>2682.284141</td>\n",
       "      <td>8.052991e+05</td>\n",
       "      <td>2923.967729</td>\n",
       "      <td>190731.575470</td>\n",
       "      <td>...</td>\n",
       "      <td>1.0</td>\n",
       "      <td>2.950268e-09</td>\n",
       "      <td>1.0</td>\n",
       "      <td>5.900537e-09</td>\n",
       "      <td>1.0</td>\n",
       "      <td>0.000000e+00</td>\n",
       "      <td>1.0</td>\n",
       "      <td>0.000000e+00</td>\n",
       "      <td>1.0</td>\n",
       "      <td>pop</td>\n",
       "    </tr>\n",
       "    <tr>\n",
       "      <th>1</th>\n",
       "      <td>pop.00033.wav</td>\n",
       "      <td>30.000181</td>\n",
       "      <td>0.423036</td>\n",
       "      <td>0.085342</td>\n",
       "      <td>0.139896</td>\n",
       "      <td>0.002499</td>\n",
       "      <td>2835.119375</td>\n",
       "      <td>4.375327e+05</td>\n",
       "      <td>2731.752387</td>\n",
       "      <td>163886.609471</td>\n",
       "      <td>...</td>\n",
       "      <td>1.0</td>\n",
       "      <td>-1.180107e-08</td>\n",
       "      <td>1.0</td>\n",
       "      <td>-1.180107e-08</td>\n",
       "      <td>1.0</td>\n",
       "      <td>1.475134e-08</td>\n",
       "      <td>1.0</td>\n",
       "      <td>1.180107e-08</td>\n",
       "      <td>1.0</td>\n",
       "      <td>pop</td>\n",
       "    </tr>\n",
       "    <tr>\n",
       "      <th>2</th>\n",
       "      <td>pop.00032.wav</td>\n",
       "      <td>30.000181</td>\n",
       "      <td>0.426769</td>\n",
       "      <td>0.089141</td>\n",
       "      <td>0.097861</td>\n",
       "      <td>0.002146</td>\n",
       "      <td>4225.461049</td>\n",
       "      <td>1.637053e+06</td>\n",
       "      <td>3404.380733</td>\n",
       "      <td>105212.009597</td>\n",
       "      <td>...</td>\n",
       "      <td>1.0</td>\n",
       "      <td>1.180107e-08</td>\n",
       "      <td>1.0</td>\n",
       "      <td>0.000000e+00</td>\n",
       "      <td>1.0</td>\n",
       "      <td>5.900537e-09</td>\n",
       "      <td>1.0</td>\n",
       "      <td>-5.900537e-09</td>\n",
       "      <td>1.0</td>\n",
       "      <td>pop</td>\n",
       "    </tr>\n",
       "    <tr>\n",
       "      <th>3</th>\n",
       "      <td>pop.00026.wav</td>\n",
       "      <td>30.000181</td>\n",
       "      <td>0.334962</td>\n",
       "      <td>0.090551</td>\n",
       "      <td>0.195626</td>\n",
       "      <td>0.007856</td>\n",
       "      <td>2525.591959</td>\n",
       "      <td>1.009068e+06</td>\n",
       "      <td>2848.409561</td>\n",
       "      <td>276177.417023</td>\n",
       "      <td>...</td>\n",
       "      <td>1.0</td>\n",
       "      <td>-7.375672e-09</td>\n",
       "      <td>1.0</td>\n",
       "      <td>5.900537e-09</td>\n",
       "      <td>1.0</td>\n",
       "      <td>1.180107e-08</td>\n",
       "      <td>1.0</td>\n",
       "      <td>2.950268e-09</td>\n",
       "      <td>1.0</td>\n",
       "      <td>pop</td>\n",
       "    </tr>\n",
       "    <tr>\n",
       "      <th>4</th>\n",
       "      <td>pop.00030.wav</td>\n",
       "      <td>30.000181</td>\n",
       "      <td>0.357630</td>\n",
       "      <td>0.084706</td>\n",
       "      <td>0.203093</td>\n",
       "      <td>0.006338</td>\n",
       "      <td>3070.672741</td>\n",
       "      <td>6.090035e+05</td>\n",
       "      <td>2975.765677</td>\n",
       "      <td>125019.755279</td>\n",
       "      <td>...</td>\n",
       "      <td>1.0</td>\n",
       "      <td>-2.950268e-09</td>\n",
       "      <td>1.0</td>\n",
       "      <td>-5.900537e-09</td>\n",
       "      <td>1.0</td>\n",
       "      <td>-2.950268e-09</td>\n",
       "      <td>1.0</td>\n",
       "      <td>5.900537e-09</td>\n",
       "      <td>1.0</td>\n",
       "      <td>pop</td>\n",
       "    </tr>\n",
       "  </tbody>\n",
       "</table>\n",
       "<p>5 rows × 60 columns</p>\n",
       "</div>"
      ],
      "text/plain": [
       "        filename     length  chroma_stft_mean  chroma_stft_var  rms_mean  \\\n",
       "0  pop.00027.wav  30.000181          0.377612         0.085683  0.157902   \n",
       "1  pop.00033.wav  30.000181          0.423036         0.085342  0.139896   \n",
       "2  pop.00032.wav  30.000181          0.426769         0.089141  0.097861   \n",
       "3  pop.00026.wav  30.000181          0.334962         0.090551  0.195626   \n",
       "4  pop.00030.wav  30.000181          0.357630         0.084706  0.203093   \n",
       "\n",
       "    rms_var  spectral_centroid_mean  spectral_centroid_var  \\\n",
       "0  0.002739             2682.284141           8.052991e+05   \n",
       "1  0.002499             2835.119375           4.375327e+05   \n",
       "2  0.002146             4225.461049           1.637053e+06   \n",
       "3  0.007856             2525.591959           1.009068e+06   \n",
       "4  0.006338             3070.672741           6.090035e+05   \n",
       "\n",
       "   spectral_bandwidth_mean  spectral_bandwidth_var  ...  mfcc16_var  \\\n",
       "0              2923.967729           190731.575470  ...         1.0   \n",
       "1              2731.752387           163886.609471  ...         1.0   \n",
       "2              3404.380733           105212.009597  ...         1.0   \n",
       "3              2848.409561           276177.417023  ...         1.0   \n",
       "4              2975.765677           125019.755279  ...         1.0   \n",
       "\n",
       "    mfcc17_mean  mfcc17_var   mfcc18_mean  mfcc18_var   mfcc19_mean  \\\n",
       "0  2.950268e-09         1.0  5.900537e-09         1.0  0.000000e+00   \n",
       "1 -1.180107e-08         1.0 -1.180107e-08         1.0  1.475134e-08   \n",
       "2  1.180107e-08         1.0  0.000000e+00         1.0  5.900537e-09   \n",
       "3 -7.375672e-09         1.0  5.900537e-09         1.0  1.180107e-08   \n",
       "4 -2.950268e-09         1.0 -5.900537e-09         1.0 -2.950268e-09   \n",
       "\n",
       "   mfcc19_var   mfcc20_mean  mfcc20_var  label  \n",
       "0         1.0  0.000000e+00         1.0    pop  \n",
       "1         1.0  1.180107e-08         1.0    pop  \n",
       "2         1.0 -5.900537e-09         1.0    pop  \n",
       "3         1.0  2.950268e-09         1.0    pop  \n",
       "4         1.0  5.900537e-09         1.0    pop  \n",
       "\n",
       "[5 rows x 60 columns]"
      ]
     },
     "execution_count": 2,
     "metadata": {},
     "output_type": "execute_result"
    }
   ],
   "source": [
    "\n",
    "data = pd.read_csv('/Users/pierros/Documents/Courses/ECE6254/Projects/Final Project/features30sec.csv')\n",
    "data = data.iloc[0:, 1:] \n",
    "data.head()"
   ]
  },
  {
   "cell_type": "code",
   "execution_count": 3,
   "metadata": {},
   "outputs": [],
   "source": [
    "data = data.drop([\"filename\",\"length\"], axis=1)"
   ]
  },
  {
   "cell_type": "code",
   "execution_count": 4,
   "metadata": {},
   "outputs": [],
   "source": [
    "y = data['label'] # genre variable.\n",
    "X = data.loc[:, data.columns != 'label'] #select all columns but not the labels\n",
    "\n",
    "#### NORMALIZE X ####\n",
    "\n",
    "# Normalize so everything is on the same scale. \n",
    "\n",
    "cols = X.columns\n",
    "min_max_scaler = preprocessing.MinMaxScaler()\n",
    "np_scaled = min_max_scaler.fit_transform(X)\n",
    "\n",
    "# new data frame with the new scaled data. \n",
    "X = pd.DataFrame(np_scaled, columns = cols)"
   ]
  },
  {
   "cell_type": "code",
   "execution_count": 5,
   "metadata": {},
   "outputs": [],
   "source": [
    "X_train, X_test, y_train, y_test = train_test_split(X, y, test_size=0.3, random_state=42)"
   ]
  },
  {
   "cell_type": "code",
   "execution_count": 6,
   "metadata": {},
   "outputs": [],
   "source": [
    "def model_assess(model, title = \"Default\"):\n",
    "    model.fit(X_train, y_train)\n",
    "    preds = model.predict(X_test)\n",
    "    #print(confusion_matrix(y_test, preds))\n",
    "    print('Accuracy', title, ':', round(accuracy_score(y_test, preds), 5), '\\n')\n",
    "    return round(accuracy_score(y_test, preds), 5)"
   ]
  },
  {
   "cell_type": "markdown",
   "metadata": {},
   "source": [
    "Native Bayes"
   ]
  },
  {
   "cell_type": "code",
   "execution_count": 7,
   "metadata": {},
   "outputs": [
    {
     "name": "stdout",
     "output_type": "stream",
     "text": [
      "Accuracy Naive Bayes : 0.45333 \n",
      "\n"
     ]
    }
   ],
   "source": [
    "nb = GaussianNB()\n",
    "score = model_assess(nb, \"Naive Bayes\")"
   ]
  },
  {
   "cell_type": "markdown",
   "metadata": {},
   "source": [
    "Stochastic Gradient Descent"
   ]
  },
  {
   "cell_type": "code",
   "execution_count": 8,
   "metadata": {},
   "outputs": [
    {
     "name": "stdout",
     "output_type": "stream",
     "text": [
      "Accuracy Stochastic Gradient Descent : 0.37667 \n",
      "\n"
     ]
    }
   ],
   "source": [
    "sgd = SGDClassifier(max_iter=500, random_state=0)\n",
    "score = model_assess(sgd, \"Stochastic Gradient Descent\")"
   ]
  },
  {
   "cell_type": "markdown",
   "metadata": {},
   "source": [
    "KNN"
   ]
  },
  {
   "cell_type": "code",
   "execution_count": 9,
   "metadata": {},
   "outputs": [
    {
     "name": "stdout",
     "output_type": "stream",
     "text": [
      "Accuracy KNN : 0.26333 \n",
      "\n",
      "Accuracy KNN : 0.28667 \n",
      "\n",
      "Accuracy KNN : 0.26333 \n",
      "\n",
      "Accuracy KNN : 0.30667 \n",
      "\n",
      "Accuracy KNN : 0.30333 \n",
      "\n",
      "Accuracy KNN : 0.32 \n",
      "\n",
      "Accuracy KNN : 0.33333 \n",
      "\n",
      "Accuracy KNN : 0.30333 \n",
      "\n",
      "Accuracy KNN : 0.3 \n",
      "\n",
      "Accuracy KNN : 0.30333 \n",
      "\n",
      "Accuracy KNN : 0.31 \n",
      "\n",
      "Accuracy KNN : 0.32 \n",
      "\n",
      "Accuracy KNN : 0.30333 \n",
      "\n",
      "Accuracy KNN : 0.33 \n",
      "\n",
      "Accuracy KNN : 0.35333 \n",
      "\n",
      "Accuracy KNN : 0.36 \n",
      "\n",
      "Accuracy KNN : 0.34667 \n",
      "\n",
      "Accuracy KNN : 0.35333 \n",
      "\n",
      "Accuracy KNN : 0.35 \n",
      "\n",
      "Accuracy KNN : 0.36 \n",
      "\n",
      "Accuracy KNN : 0.35667 \n",
      "\n",
      "Accuracy KNN : 0.35667 \n",
      "\n",
      "Accuracy KNN : 0.36667 \n",
      "\n",
      "Accuracy KNN : 0.35 \n",
      "\n",
      "Accuracy KNN : 0.35 \n",
      "\n",
      "Accuracy KNN : 0.35333 \n",
      "\n",
      "Accuracy KNN : 0.35667 \n",
      "\n",
      "Accuracy KNN : 0.35 \n",
      "\n",
      "Accuracy KNN : 0.35333 \n",
      "\n",
      "Accuracy KNN : 0.34667 \n",
      "\n",
      "Accuracy KNN : 0.34 \n",
      "\n",
      "Accuracy KNN : 0.36333 \n",
      "\n",
      "Accuracy KNN : 0.34333 \n",
      "\n",
      "Accuracy KNN : 0.33 \n",
      "\n",
      "Accuracy KNN : 0.33333 \n",
      "\n",
      "Accuracy KNN : 0.32333 \n",
      "\n",
      "Accuracy KNN : 0.34333 \n",
      "\n",
      "Accuracy KNN : 0.33667 \n",
      "\n",
      "Accuracy KNN : 0.34 \n",
      "\n",
      "Accuracy KNN : 0.34333 \n",
      "\n",
      "Accuracy KNN : 0.35667 \n",
      "\n",
      "Accuracy KNN : 0.35333 \n",
      "\n",
      "Accuracy KNN : 0.35333 \n",
      "\n",
      "Accuracy KNN : 0.36 \n",
      "\n",
      "Accuracy KNN : 0.35 \n",
      "\n",
      "Accuracy KNN : 0.35333 \n",
      "\n",
      "Accuracy KNN : 0.35667 \n",
      "\n",
      "Accuracy KNN : 0.35667 \n",
      "\n",
      "Accuracy KNN : 0.35333 \n",
      "\n",
      "Accuracy KNN : 0.36 \n",
      "\n",
      "Accuracy KNN : 0.36333 \n",
      "\n",
      "Accuracy KNN : 0.36667 \n",
      "\n",
      "Accuracy KNN : 0.36667 \n",
      "\n",
      "Accuracy KNN : 0.37 \n",
      "\n",
      "Accuracy KNN : 0.37 \n",
      "\n",
      "Accuracy KNN : 0.36667 \n",
      "\n",
      "Accuracy KNN : 0.36333 \n",
      "\n",
      "Accuracy KNN : 0.36667 \n",
      "\n",
      "Accuracy KNN : 0.36333 \n",
      "\n",
      "Accuracy KNN : 0.37667 \n",
      "\n",
      "Accuracy KNN : 0.38 \n",
      "\n",
      "Accuracy KNN : 0.37667 \n",
      "\n",
      "Accuracy KNN : 0.38333 \n",
      "\n",
      "Accuracy KNN : 0.38 \n",
      "\n",
      "Accuracy KNN : 0.39 \n",
      "\n",
      "Accuracy KNN : 0.39333 \n",
      "\n",
      "Accuracy KNN : 0.40667 \n",
      "\n",
      "Accuracy KNN : 0.38 \n",
      "\n",
      "Accuracy KNN : 0.38667 \n",
      "\n",
      "Accuracy KNN : 0.38 \n",
      "\n",
      "Accuracy KNN : 0.37667 \n",
      "\n",
      "Accuracy KNN : 0.37667 \n",
      "\n",
      "Accuracy KNN : 0.36333 \n",
      "\n",
      "Accuracy KNN : 0.36333 \n",
      "\n",
      "Accuracy KNN : 0.37333 \n",
      "\n",
      "Accuracy KNN : 0.36333 \n",
      "\n",
      "Accuracy KNN : 0.36667 \n",
      "\n",
      "Accuracy KNN : 0.37667 \n",
      "\n",
      "Accuracy KNN : 0.37667 \n",
      "\n",
      "Accuracy KNN : 0.37667 \n",
      "\n",
      "Accuracy KNN : 0.37 \n",
      "\n",
      "Accuracy KNN : 0.36333 \n",
      "\n",
      "Accuracy KNN : 0.34667 \n",
      "\n",
      "Accuracy KNN : 0.34667 \n",
      "\n",
      "Accuracy KNN : 0.36333 \n",
      "\n",
      "Accuracy KNN : 0.36333 \n",
      "\n",
      "Accuracy KNN : 0.35667 \n",
      "\n",
      "Accuracy KNN : 0.35333 \n",
      "\n",
      "Accuracy KNN : 0.35667 \n",
      "\n",
      "Accuracy KNN : 0.35333 \n",
      "\n",
      "Accuracy KNN : 0.35667 \n",
      "\n",
      "Accuracy KNN : 0.36333 \n",
      "\n",
      "Accuracy KNN : 0.37333 \n",
      "\n",
      "Accuracy KNN : 0.38 \n",
      "\n",
      "Accuracy KNN : 0.37667 \n",
      "\n",
      "Accuracy KNN : 0.36667 \n",
      "\n",
      "Accuracy KNN : 0.37 \n",
      "\n",
      "Accuracy KNN : 0.36667 \n",
      "\n",
      "Accuracy KNN : 0.36667 \n",
      "\n",
      "Accuracy KNN : 0.37333 \n",
      "\n",
      "Accuracy KNN : 0.37333 \n",
      "\n",
      "Accuracy KNN : 0.36667 \n",
      "\n",
      "Accuracy KNN : 0.36667 \n",
      "\n",
      "Accuracy KNN : 0.36 \n",
      "\n",
      "Accuracy KNN : 0.36333 \n",
      "\n",
      "Accuracy KNN : 0.36667 \n",
      "\n",
      "Accuracy KNN : 0.36333 \n",
      "\n",
      "Accuracy KNN : 0.37667 \n",
      "\n",
      "Accuracy KNN : 0.37667 \n",
      "\n",
      "Accuracy KNN : 0.38333 \n",
      "\n",
      "Accuracy KNN : 0.37667 \n",
      "\n",
      "Accuracy KNN : 0.37333 \n",
      "\n",
      "Accuracy KNN : 0.38 \n",
      "\n",
      "Accuracy KNN : 0.36667 \n",
      "\n",
      "Accuracy KNN : 0.37667 \n",
      "\n",
      "Accuracy KNN : 0.37333 \n",
      "\n",
      "Accuracy KNN : 0.37333 \n",
      "\n",
      "Accuracy KNN : 0.37667 \n",
      "\n",
      "Accuracy KNN : 0.37667 \n",
      "\n",
      "Accuracy KNN : 0.37667 \n",
      "\n",
      "Accuracy KNN : 0.38 \n",
      "\n",
      "Accuracy KNN : 0.37333 \n",
      "\n",
      "Accuracy KNN : 0.37667 \n",
      "\n",
      "Accuracy KNN : 0.38333 \n",
      "\n",
      "Accuracy KNN : 0.37333 \n",
      "\n",
      "Accuracy KNN : 0.38 \n",
      "\n",
      "Accuracy KNN : 0.38 \n",
      "\n",
      "Accuracy KNN : 0.37667 \n",
      "\n",
      "Accuracy KNN : 0.37333 \n",
      "\n",
      "Accuracy KNN : 0.37667 \n",
      "\n",
      "Accuracy KNN : 0.37333 \n",
      "\n",
      "Accuracy KNN : 0.37333 \n",
      "\n",
      "Accuracy KNN : 0.37 \n",
      "\n",
      "Accuracy KNN : 0.37 \n",
      "\n",
      "Accuracy KNN : 0.37 \n",
      "\n",
      "Accuracy KNN : 0.35667 \n",
      "\n",
      "Accuracy KNN : 0.35333 \n",
      "\n",
      "Accuracy KNN : 0.35667 \n",
      "\n",
      "Accuracy KNN : 0.37 \n",
      "\n",
      "Accuracy KNN : 0.36 \n",
      "\n",
      "Accuracy KNN : 0.37667 \n",
      "\n",
      "Accuracy KNN : 0.38 \n",
      "\n",
      "Accuracy KNN : 0.37 \n",
      "\n",
      "Accuracy KNN : 0.38333 \n",
      "\n",
      "Accuracy KNN : 0.38333 \n",
      "\n",
      "Accuracy KNN : 0.38 \n",
      "\n",
      "Accuracy KNN : 0.37667 \n",
      "\n",
      "Accuracy KNN : 0.37667 \n",
      "\n",
      "Accuracy KNN : 0.37667 \n",
      "\n",
      "Accuracy KNN : 0.36333 \n",
      "\n",
      "Accuracy KNN : 0.37 \n",
      "\n",
      "Accuracy KNN : 0.36333 \n",
      "\n",
      "Accuracy KNN : 0.37 \n",
      "\n",
      "Accuracy KNN : 0.38 \n",
      "\n",
      "Accuracy KNN : 0.37667 \n",
      "\n",
      "Accuracy KNN : 0.38333 \n",
      "\n",
      "Accuracy KNN : 0.37667 \n",
      "\n",
      "Accuracy KNN : 0.37333 \n",
      "\n",
      "Accuracy KNN : 0.37667 \n",
      "\n",
      "Accuracy KNN : 0.36 \n",
      "\n",
      "Accuracy KNN : 0.36 \n",
      "\n",
      "Accuracy KNN : 0.36667 \n",
      "\n",
      "Accuracy KNN : 0.35 \n",
      "\n",
      "Accuracy KNN : 0.34333 \n",
      "\n",
      "Accuracy KNN : 0.34333 \n",
      "\n",
      "Accuracy KNN : 0.34667 \n",
      "\n",
      "Accuracy KNN : 0.35 \n",
      "\n",
      "Accuracy KNN : 0.35333 \n",
      "\n",
      "Accuracy KNN : 0.35 \n",
      "\n",
      "Accuracy KNN : 0.34667 \n",
      "\n",
      "Accuracy KNN : 0.34333 \n",
      "\n",
      "Accuracy KNN : 0.35333 \n",
      "\n",
      "Accuracy KNN : 0.35 \n",
      "\n",
      "Accuracy KNN : 0.35 \n",
      "\n",
      "Accuracy KNN : 0.35333 \n",
      "\n",
      "Accuracy KNN : 0.36 \n",
      "\n",
      "Accuracy KNN : 0.36 \n",
      "\n",
      "Accuracy KNN : 0.37 \n",
      "\n",
      "Accuracy KNN : 0.37 \n",
      "\n",
      "Accuracy KNN : 0.37 \n",
      "\n",
      "Accuracy KNN : 0.37333 \n",
      "\n",
      "Accuracy KNN : 0.37667 \n",
      "\n",
      "Accuracy KNN : 0.37 \n",
      "\n",
      "Accuracy KNN : 0.37 \n",
      "\n",
      "Accuracy KNN : 0.38333 \n",
      "\n",
      "Accuracy KNN : 0.37667 \n",
      "\n",
      "Accuracy KNN : 0.37667 \n",
      "\n",
      "Accuracy KNN : 0.37667 \n",
      "\n",
      "Accuracy KNN : 0.37333 \n",
      "\n",
      "Accuracy KNN : 0.38 \n",
      "\n",
      "Accuracy KNN : 0.38667 \n",
      "\n",
      "Accuracy KNN : 0.38333 \n",
      "\n",
      "Accuracy KNN : 0.39 \n",
      "\n",
      "Accuracy KNN : 0.39 \n",
      "\n",
      "Accuracy KNN : 0.39 \n",
      "\n",
      "Accuracy KNN : 0.38 \n",
      "\n",
      "Accuracy KNN : 0.39 \n",
      "\n",
      "Accuracy KNN : 0.4 \n",
      "\n",
      "Accuracy KNN : 0.39667 \n",
      "\n",
      "Accuracy KNN : 0.38667 \n",
      "\n",
      "Accuracy KNN : 0.38333 \n",
      "\n",
      "Accuracy KNN : 0.39 \n",
      "\n",
      "Accuracy KNN : 0.37667 \n",
      "\n",
      "Accuracy KNN : 0.39 \n",
      "\n",
      "Accuracy KNN : 0.39333 \n",
      "\n",
      "Accuracy KNN : 0.38667 \n",
      "\n",
      "Accuracy KNN : 0.39333 \n",
      "\n",
      "Accuracy KNN : 0.38667 \n",
      "\n",
      "Accuracy KNN : 0.38667 \n",
      "\n",
      "Accuracy KNN : 0.39 \n",
      "\n",
      "Accuracy KNN : 0.38667 \n",
      "\n",
      "Accuracy KNN : 0.38333 \n",
      "\n",
      "Accuracy KNN : 0.38667 \n",
      "\n",
      "Accuracy KNN : 0.38667 \n",
      "\n",
      "Accuracy KNN : 0.37333 \n",
      "\n",
      "Accuracy KNN : 0.37 \n",
      "\n",
      "Accuracy KNN : 0.37333 \n",
      "\n",
      "Accuracy KNN : 0.38 \n",
      "\n",
      "Accuracy KNN : 0.36667 \n",
      "\n",
      "Accuracy KNN : 0.36667 \n",
      "\n",
      "Accuracy KNN : 0.37333 \n",
      "\n",
      "Accuracy KNN : 0.36667 \n",
      "\n",
      "Accuracy KNN : 0.36667 \n",
      "\n",
      "Accuracy KNN : 0.36667 \n",
      "\n",
      "Accuracy KNN : 0.35667 \n",
      "\n",
      "Accuracy KNN : 0.36333 \n",
      "\n",
      "Accuracy KNN : 0.35333 \n",
      "\n",
      "Accuracy KNN : 0.35333 \n",
      "\n",
      "Accuracy KNN : 0.34667 \n",
      "\n",
      "Accuracy KNN : 0.35 \n",
      "\n",
      "Accuracy KNN : 0.35667 \n",
      "\n",
      "Accuracy KNN : 0.35667 \n",
      "\n",
      "Accuracy KNN : 0.35333 \n",
      "\n",
      "Accuracy KNN : 0.35 \n",
      "\n",
      "Accuracy KNN : 0.34667 \n",
      "\n",
      "Accuracy KNN : 0.34667 \n",
      "\n",
      "Accuracy KNN : 0.35 \n",
      "\n",
      "Accuracy KNN : 0.34667 \n",
      "\n",
      "Accuracy KNN : 0.34667 \n",
      "\n",
      "Accuracy KNN : 0.34333 \n",
      "\n",
      "Accuracy KNN : 0.34667 \n",
      "\n",
      "Accuracy KNN : 0.34333 \n",
      "\n",
      "Accuracy KNN : 0.33333 \n",
      "\n",
      "Accuracy KNN : 0.33333 \n",
      "\n",
      "Accuracy KNN : 0.34333 \n",
      "\n",
      "Accuracy KNN : 0.33333 \n",
      "\n",
      "Accuracy KNN : 0.34333 \n",
      "\n",
      "Accuracy KNN : 0.34333 \n",
      "\n",
      "Accuracy KNN : 0.35333 \n",
      "\n",
      "Accuracy KNN : 0.35333 \n",
      "\n",
      "Accuracy KNN : 0.34667 \n",
      "\n",
      "Accuracy KNN : 0.34333 \n",
      "\n",
      "Accuracy KNN : 0.34 \n",
      "\n",
      "Accuracy KNN : 0.35333 \n",
      "\n",
      "Accuracy KNN : 0.35 \n",
      "\n",
      "Accuracy KNN : 0.35 \n",
      "\n",
      "Accuracy KNN : 0.35 \n",
      "\n",
      "Accuracy KNN : 0.34667 \n",
      "\n",
      "Accuracy KNN : 0.35 \n",
      "\n",
      "Accuracy KNN : 0.34333 \n",
      "\n",
      "Accuracy KNN : 0.33667 \n",
      "\n",
      "Accuracy KNN : 0.33 \n",
      "\n",
      "Accuracy KNN : 0.33667 \n",
      "\n",
      "Accuracy KNN : 0.32667 \n",
      "\n",
      "Accuracy KNN : 0.32333 \n",
      "\n",
      "Accuracy KNN : 0.32667 \n",
      "\n",
      "Accuracy KNN : 0.33 \n",
      "\n",
      "Accuracy KNN : 0.32 \n",
      "\n",
      "Accuracy KNN : 0.32 \n",
      "\n",
      "Accuracy KNN : 0.31667 \n",
      "\n",
      "Accuracy KNN : 0.32333 \n",
      "\n",
      "Accuracy KNN : 0.32667 \n",
      "\n",
      "Accuracy KNN : 0.33 \n",
      "\n",
      "Accuracy KNN : 0.32667 \n",
      "\n",
      "Accuracy KNN : 0.32 \n",
      "\n",
      "Accuracy KNN : 0.32333 \n",
      "\n",
      "Accuracy KNN : 0.33 \n",
      "\n",
      "Accuracy KNN : 0.33 \n",
      "\n",
      "Accuracy KNN : 0.32 \n",
      "\n",
      "Accuracy KNN : 0.31333 \n",
      "\n",
      "Accuracy KNN : 0.31 \n",
      "\n",
      "Accuracy KNN : 0.30667 \n",
      "\n",
      "Accuracy KNN : 0.31667 \n",
      "\n",
      "Accuracy KNN : 0.33 \n",
      "\n",
      "Accuracy KNN : 0.33667 \n",
      "\n",
      "Accuracy KNN : 0.34333 \n",
      "\n",
      "Accuracy KNN : 0.35 \n",
      "\n",
      "Accuracy KNN : 0.34667 \n",
      "\n",
      "Accuracy KNN : 0.35333 \n",
      "\n",
      "Accuracy KNN : 0.35333 \n",
      "\n",
      "Accuracy KNN : 0.35 \n",
      "\n",
      "Accuracy KNN : 0.35 \n",
      "\n",
      "Accuracy KNN : 0.34667 \n",
      "\n",
      "Accuracy KNN : 0.35 \n",
      "\n",
      "Accuracy KNN : 0.34333 \n",
      "\n",
      "Accuracy KNN : 0.34333 \n",
      "\n",
      "Accuracy KNN : 0.34667 \n",
      "\n",
      "Accuracy KNN : 0.35333 \n",
      "\n",
      "Accuracy KNN : 0.35333 \n",
      "\n",
      "Accuracy KNN : 0.35333 \n",
      "\n",
      "Accuracy KNN : 0.35 \n",
      "\n",
      "Accuracy KNN : 0.35333 \n",
      "\n",
      "Accuracy KNN : 0.35667 \n",
      "\n",
      "Accuracy KNN : 0.35667 \n",
      "\n",
      "Accuracy KNN : 0.35 \n",
      "\n",
      "Accuracy KNN : 0.35333 \n",
      "\n",
      "Accuracy KNN : 0.35 \n",
      "\n",
      "Accuracy KNN : 0.35 \n",
      "\n",
      "Accuracy KNN : 0.34667 \n",
      "\n",
      "Accuracy KNN : 0.34667 \n",
      "\n",
      "Accuracy KNN : 0.34667 \n",
      "\n",
      "Accuracy KNN : 0.35333 \n",
      "\n",
      "Accuracy KNN : 0.34667 \n",
      "\n",
      "Accuracy KNN : 0.34667 \n",
      "\n",
      "Accuracy KNN : 0.35 \n",
      "\n",
      "Accuracy KNN : 0.35333 \n",
      "\n",
      "Accuracy KNN : 0.34667 \n",
      "\n",
      "Accuracy KNN : 0.34333 \n",
      "\n",
      "Accuracy KNN : 0.35333 \n",
      "\n",
      "Accuracy KNN : 0.35333 \n",
      "\n",
      "Accuracy KNN : 0.35667 \n",
      "\n",
      "Accuracy KNN : 0.34667 \n",
      "\n",
      "Accuracy KNN : 0.34 \n",
      "\n",
      "Accuracy KNN : 0.33333 \n",
      "\n",
      "Accuracy KNN : 0.34 \n",
      "\n",
      "Accuracy KNN : 0.33667 \n",
      "\n",
      "Accuracy KNN : 0.33333 \n",
      "\n",
      "Accuracy KNN : 0.33333 \n",
      "\n",
      "Accuracy KNN : 0.33 \n",
      "\n",
      "Accuracy KNN : 0.33 \n",
      "\n",
      "Accuracy KNN : 0.33 \n",
      "\n",
      "Accuracy KNN : 0.32667 \n",
      "\n",
      "Accuracy KNN : 0.32667 \n",
      "\n",
      "Accuracy KNN : 0.33 \n",
      "\n",
      "Accuracy KNN : 0.32667 \n",
      "\n",
      "Accuracy KNN : 0.32 \n",
      "\n",
      "Accuracy KNN : 0.32 \n",
      "\n",
      "Accuracy KNN : 0.33 \n",
      "\n",
      "Accuracy KNN : 0.33333 \n",
      "\n",
      "Accuracy KNN : 0.33333 \n",
      "\n",
      "Accuracy KNN : 0.33 \n",
      "\n",
      "Accuracy KNN : 0.33333 \n",
      "\n",
      "Accuracy KNN : 0.32333 \n",
      "\n",
      "Accuracy KNN : 0.32667 \n",
      "\n",
      "Accuracy KNN : 0.32667 \n",
      "\n",
      "Accuracy KNN : 0.32667 \n",
      "\n",
      "Accuracy KNN : 0.32 \n",
      "\n",
      "Accuracy KNN : 0.31333 \n",
      "\n",
      "Accuracy KNN : 0.31 \n",
      "\n",
      "Accuracy KNN : 0.3 \n",
      "\n",
      "Accuracy KNN : 0.3 \n",
      "\n",
      "Accuracy KNN : 0.30667 \n",
      "\n",
      "Accuracy KNN : 0.31667 \n",
      "\n",
      "Accuracy KNN : 0.31667 \n",
      "\n",
      "Accuracy KNN : 0.32 \n",
      "\n",
      "Accuracy KNN : 0.32333 \n",
      "\n",
      "Accuracy KNN : 0.31667 \n",
      "\n",
      "Accuracy KNN : 0.31667 \n",
      "\n",
      "Accuracy KNN : 0.31333 \n",
      "\n",
      "Accuracy KNN : 0.31333 \n",
      "\n",
      "Accuracy KNN : 0.31333 \n",
      "\n",
      "Accuracy KNN : 0.31333 \n",
      "\n",
      "Accuracy KNN : 0.31 \n",
      "\n",
      "Accuracy KNN : 0.31333 \n",
      "\n",
      "Accuracy KNN : 0.31 \n",
      "\n",
      "Accuracy KNN : 0.31 \n",
      "\n",
      "Accuracy KNN : 0.31 \n",
      "\n",
      "Accuracy KNN : 0.31 \n",
      "\n",
      "Accuracy KNN : 0.31 \n",
      "\n",
      "Accuracy KNN : 0.31333 \n",
      "\n",
      "Accuracy KNN : 0.30667 \n",
      "\n",
      "Accuracy KNN : 0.30333 \n",
      "\n",
      "Accuracy KNN : 0.29667 \n",
      "\n",
      "Accuracy KNN : 0.3 \n",
      "\n",
      "Accuracy KNN : 0.29667 \n",
      "\n",
      "Accuracy KNN : 0.29 \n",
      "\n",
      "Accuracy KNN : 0.3 \n",
      "\n",
      "Accuracy KNN : 0.3 \n",
      "\n",
      "Accuracy KNN : 0.29 \n",
      "\n",
      "Accuracy KNN : 0.28667 \n",
      "\n",
      "Accuracy KNN : 0.28333 \n",
      "\n",
      "Accuracy KNN : 0.28333 \n",
      "\n",
      "Accuracy KNN : 0.28667 \n",
      "\n",
      "Accuracy KNN : 0.28 \n",
      "\n",
      "Accuracy KNN : 0.28333 \n",
      "\n",
      "Accuracy KNN : 0.27333 \n",
      "\n",
      "Accuracy KNN : 0.27667 \n",
      "\n",
      "Accuracy KNN : 0.28333 \n",
      "\n",
      "Accuracy KNN : 0.28333 \n",
      "\n",
      "Accuracy KNN : 0.28333 \n",
      "\n",
      "Accuracy KNN : 0.28 \n",
      "\n",
      "Accuracy KNN : 0.29 \n",
      "\n",
      "Accuracy KNN : 0.29333 \n",
      "\n",
      "Accuracy KNN : 0.29333 \n",
      "\n",
      "Accuracy KNN : 0.3 \n",
      "\n",
      "Accuracy KNN : 0.3 \n",
      "\n",
      "Accuracy KNN : 0.29333 \n",
      "\n",
      "Accuracy KNN : 0.28667 \n",
      "\n",
      "Accuracy KNN : 0.29 \n",
      "\n",
      "Accuracy KNN : 0.27667 \n",
      "\n",
      "Accuracy KNN : 0.28333 \n",
      "\n",
      "Accuracy KNN : 0.28 \n",
      "\n",
      "Accuracy KNN : 0.28 \n",
      "\n",
      "Accuracy KNN : 0.27 \n",
      "\n",
      "Accuracy KNN : 0.29 \n",
      "\n",
      "Accuracy KNN : 0.29667 \n",
      "\n",
      "Accuracy KNN : 0.29333 \n",
      "\n",
      "Accuracy KNN : 0.29 \n",
      "\n",
      "Accuracy KNN : 0.28667 \n",
      "\n",
      "Accuracy KNN : 0.29 \n",
      "\n",
      "Accuracy KNN : 0.28333 \n",
      "\n",
      "Accuracy KNN : 0.26667 \n",
      "\n",
      "Accuracy KNN : 0.26333 \n",
      "\n",
      "Accuracy KNN : 0.27333 \n",
      "\n",
      "Accuracy KNN : 0.26 \n",
      "\n",
      "Accuracy KNN : 0.26667 \n",
      "\n",
      "Accuracy KNN : 0.26667 \n",
      "\n",
      "Accuracy KNN : 0.26 \n",
      "\n",
      "Accuracy KNN : 0.26333 \n",
      "\n",
      "Accuracy KNN : 0.25667 \n",
      "\n",
      "Accuracy KNN : 0.25667 \n",
      "\n",
      "Accuracy KNN : 0.25333 \n",
      "\n",
      "Accuracy KNN : 0.25333 \n",
      "\n",
      "Accuracy KNN : 0.25333 \n",
      "\n",
      "Accuracy KNN : 0.25333 \n",
      "\n",
      "Accuracy KNN : 0.25333 \n",
      "\n",
      "Accuracy KNN : 0.25 \n",
      "\n",
      "Accuracy KNN : 0.25333 \n",
      "\n",
      "Accuracy KNN : 0.26 \n",
      "\n",
      "Accuracy KNN : 0.25333 \n",
      "\n",
      "Accuracy KNN : 0.25667 \n",
      "\n",
      "Accuracy KNN : 0.25667 \n",
      "\n",
      "Accuracy KNN : 0.25 \n",
      "\n",
      "Accuracy KNN : 0.25333 \n",
      "\n",
      "Accuracy KNN : 0.25 \n",
      "\n",
      "Accuracy KNN : 0.25 \n",
      "\n",
      "Accuracy KNN : 0.24667 \n",
      "\n",
      "Accuracy KNN : 0.24333 \n",
      "\n",
      "Accuracy KNN : 0.24667 \n",
      "\n",
      "Accuracy KNN : 0.25 \n",
      "\n",
      "Accuracy KNN : 0.27 \n",
      "\n",
      "Accuracy KNN : 0.26667 \n",
      "\n",
      "Accuracy KNN : 0.26667 \n",
      "\n",
      "Accuracy KNN : 0.26333 \n",
      "\n",
      "Accuracy KNN : 0.25333 \n",
      "\n",
      "Accuracy KNN : 0.25333 \n",
      "\n",
      "Accuracy KNN : 0.25333 \n",
      "\n",
      "Accuracy KNN : 0.26 \n",
      "\n",
      "Accuracy KNN : 0.25 \n",
      "\n",
      "Accuracy KNN : 0.24333 \n",
      "\n",
      "Accuracy KNN : 0.24 \n",
      "\n",
      "Accuracy KNN : 0.23333 \n",
      "\n",
      "Accuracy KNN : 0.23333 \n",
      "\n",
      "Accuracy KNN : 0.23667 \n",
      "\n",
      "Accuracy KNN : 0.23667 \n",
      "\n",
      "Accuracy KNN : 0.23333 \n",
      "\n",
      "Accuracy KNN : 0.23333 \n",
      "\n",
      "Accuracy KNN : 0.22667 \n",
      "\n",
      "Accuracy KNN : 0.22 \n",
      "\n",
      "Accuracy KNN : 0.22 \n",
      "\n",
      "Accuracy KNN : 0.22 \n",
      "\n",
      "Accuracy KNN : 0.23333 \n",
      "\n",
      "Accuracy KNN : 0.24 \n",
      "\n",
      "Accuracy KNN : 0.24 \n",
      "\n",
      "Accuracy KNN : 0.23667 \n",
      "\n",
      "Accuracy KNN : 0.24 \n",
      "\n",
      "Accuracy KNN : 0.24 \n",
      "\n",
      "Accuracy KNN : 0.23667 \n",
      "\n",
      "Accuracy KNN : 0.22667 \n",
      "\n",
      "Accuracy KNN : 0.22 \n",
      "\n",
      "Accuracy KNN : 0.22 \n",
      "\n",
      "Accuracy KNN : 0.21333 \n",
      "\n",
      "Accuracy KNN : 0.20667 \n",
      "\n",
      "Accuracy KNN : 0.20333 \n",
      "\n",
      "Accuracy KNN : 0.19667 \n",
      "\n",
      "Accuracy KNN : 0.19333 \n",
      "\n",
      "Accuracy KNN : 0.19667 \n",
      "\n",
      "Accuracy KNN : 0.19667 \n",
      "\n",
      "Accuracy KNN : 0.19667 \n",
      "\n",
      "Accuracy KNN : 0.19333 \n",
      "\n",
      "Accuracy KNN : 0.19667 \n",
      "\n",
      "Accuracy KNN : 0.2 \n",
      "\n",
      "Accuracy KNN : 0.19333 \n",
      "\n",
      "Accuracy KNN : 0.19667 \n",
      "\n",
      "Accuracy KNN : 0.19667 \n",
      "\n",
      "Accuracy KNN : 0.18667 \n",
      "\n",
      "Accuracy KNN : 0.18667 \n",
      "\n",
      "Accuracy KNN : 0.18333 \n",
      "\n",
      "Accuracy KNN : 0.17667 \n",
      "\n",
      "Accuracy KNN : 0.16667 \n",
      "\n",
      "Accuracy KNN : 0.17 \n",
      "\n",
      "Accuracy KNN : 0.17 \n",
      "\n",
      "Accuracy KNN : 0.16667 \n",
      "\n",
      "Accuracy KNN : 0.18333 \n",
      "\n",
      "Accuracy KNN : 0.18333 \n",
      "\n",
      "Accuracy KNN : 0.18 \n",
      "\n",
      "Accuracy KNN : 0.17667 \n",
      "\n",
      "Accuracy KNN : 0.17 \n",
      "\n",
      "Accuracy KNN : 0.16667 \n",
      "\n",
      "Best K: 67 Value: 0.40667\n"
     ]
    }
   ],
   "source": [
    "knn_scores = []\n",
    "\n",
    "for k in range(1,500):\n",
    "    knn = KNeighborsClassifier(n_neighbors=k)\n",
    "    # print(k)\n",
    "    score = model_assess(knn, \"KNN\")\n",
    "    knn_scores.append(score)\n",
    "\n",
    "# Find index with the lowest error\n",
    "df_knn = pd.DataFrame(knn_scores)\n",
    "df_knn.index = np.arange(1, len(df_knn) + 1)\n",
    "best_k = df_knn.idxmax()[0]\n",
    "print('Best K:',best_k, 'Value:',df_knn.max()[0])\n"
   ]
  },
  {
   "cell_type": "code",
   "execution_count": 10,
   "metadata": {},
   "outputs": [
    {
     "data": {
      "text/plain": [
       "67"
      ]
     },
     "execution_count": 10,
     "metadata": {},
     "output_type": "execute_result"
    }
   ],
   "source": [
    "best_k"
   ]
  },
  {
   "cell_type": "code",
   "execution_count": 11,
   "metadata": {},
   "outputs": [
    {
     "name": "stdout",
     "output_type": "stream",
     "text": [
      "Accuracy KNN : 0.40667 \n",
      "\n"
     ]
    }
   ],
   "source": [
    "# With tuned parameter\n",
    "knn = KNeighborsClassifier(n_neighbors=best_k)\n",
    "score = model_assess(knn, \"KNN\")"
   ]
  },
  {
   "cell_type": "markdown",
   "metadata": {},
   "source": [
    "Decission trees"
   ]
  },
  {
   "cell_type": "code",
   "execution_count": 12,
   "metadata": {},
   "outputs": [
    {
     "name": "stdout",
     "output_type": "stream",
     "text": [
      "Accuracy Decission trees : 0.39667 \n",
      "\n"
     ]
    }
   ],
   "source": [
    "tree = DecisionTreeClassifier()\n",
    "score = model_assess(tree, \"Decission trees\")"
   ]
  },
  {
   "cell_type": "markdown",
   "metadata": {},
   "source": [
    "Random Forest"
   ]
  },
  {
   "cell_type": "code",
   "execution_count": 14,
   "metadata": {},
   "outputs": [
    {
     "name": "stderr",
     "output_type": "stream",
     "text": [
      "  0%|          | 0/20 [00:00<?, ?it/s]"
     ]
    },
    {
     "name": "stdout",
     "output_type": "stream",
     "text": [
      "Accuracy Random Forest : 0.32667 \n",
      "\n",
      "Accuracy Random Forest : 0.59667 \n",
      "\n",
      "Accuracy Random Forest : 0.59667 \n",
      "\n",
      "Accuracy Random Forest : 0.59667 \n",
      "\n",
      "Accuracy Random Forest : 0.59667 \n",
      "\n",
      "Accuracy Random Forest : 0.59667 \n",
      "\n",
      "Accuracy Random Forest : 0.59667 \n",
      "\n",
      "Accuracy Random Forest : 0.59667 \n",
      "\n",
      "Accuracy Random Forest : 0.59667 \n",
      "\n"
     ]
    },
    {
     "name": "stderr",
     "output_type": "stream",
     "text": [
      "  5%|▌         | 1/20 [00:25<08:05, 25.55s/it]"
     ]
    },
    {
     "name": "stdout",
     "output_type": "stream",
     "text": [
      "Accuracy Random Forest : 0.59667 \n",
      "\n",
      "Accuracy Random Forest : 0.32333 \n",
      "\n",
      "Accuracy Random Forest : 0.59333 \n",
      "\n",
      "Accuracy Random Forest : 0.59333 \n",
      "\n",
      "Accuracy Random Forest : 0.59333 \n",
      "\n",
      "Accuracy Random Forest : 0.59333 \n",
      "\n",
      "Accuracy Random Forest : 0.59333 \n",
      "\n",
      "Accuracy Random Forest : 0.59333 \n",
      "\n",
      "Accuracy Random Forest : 0.59333 \n",
      "\n",
      "Accuracy Random Forest : 0.59333 \n",
      "\n"
     ]
    },
    {
     "name": "stderr",
     "output_type": "stream",
     "text": [
      " 10%|█         | 2/20 [00:52<07:52, 26.25s/it]"
     ]
    },
    {
     "name": "stdout",
     "output_type": "stream",
     "text": [
      "Accuracy Random Forest : 0.59333 \n",
      "\n",
      "Accuracy Random Forest : 0.32333 \n",
      "\n",
      "Accuracy Random Forest : 0.58667 \n",
      "\n",
      "Accuracy Random Forest : 0.58667 \n",
      "\n",
      "Accuracy Random Forest : 0.58667 \n",
      "\n",
      "Accuracy Random Forest : 0.58667 \n",
      "\n",
      "Accuracy Random Forest : 0.58667 \n",
      "\n",
      "Accuracy Random Forest : 0.58667 \n",
      "\n",
      "Accuracy Random Forest : 0.58667 \n",
      "\n",
      "Accuracy Random Forest : 0.58667 \n",
      "\n"
     ]
    },
    {
     "name": "stderr",
     "output_type": "stream",
     "text": [
      " 15%|█▌        | 3/20 [01:21<07:49, 27.63s/it]"
     ]
    },
    {
     "name": "stdout",
     "output_type": "stream",
     "text": [
      "Accuracy Random Forest : 0.58667 \n",
      "\n",
      "Accuracy Random Forest : 0.32 \n",
      "\n",
      "Accuracy Random Forest : 0.59 \n",
      "\n",
      "Accuracy Random Forest : 0.59 \n",
      "\n",
      "Accuracy Random Forest : 0.59 \n",
      "\n",
      "Accuracy Random Forest : 0.59 \n",
      "\n",
      "Accuracy Random Forest : 0.59 \n",
      "\n",
      "Accuracy Random Forest : 0.59 \n",
      "\n",
      "Accuracy Random Forest : 0.59 \n",
      "\n",
      "Accuracy Random Forest : 0.59 \n",
      "\n"
     ]
    },
    {
     "name": "stderr",
     "output_type": "stream",
     "text": [
      " 20%|██        | 4/20 [01:53<07:46, 29.19s/it]"
     ]
    },
    {
     "name": "stdout",
     "output_type": "stream",
     "text": [
      "Accuracy Random Forest : 0.59 \n",
      "\n",
      "Accuracy Random Forest : 0.32 \n",
      "\n",
      "Accuracy Random Forest : 0.58667 \n",
      "\n",
      "Accuracy Random Forest : 0.58667 \n",
      "\n",
      "Accuracy Random Forest : 0.58667 \n",
      "\n",
      "Accuracy Random Forest : 0.58667 \n",
      "\n",
      "Accuracy Random Forest : 0.58667 \n",
      "\n",
      "Accuracy Random Forest : 0.58667 \n",
      "\n",
      "Accuracy Random Forest : 0.58667 \n",
      "\n",
      "Accuracy Random Forest : 0.58667 \n",
      "\n"
     ]
    },
    {
     "name": "stderr",
     "output_type": "stream",
     "text": [
      " 25%|██▌       | 5/20 [02:26<07:41, 30.78s/it]"
     ]
    },
    {
     "name": "stdout",
     "output_type": "stream",
     "text": [
      "Accuracy Random Forest : 0.58667 \n",
      "\n",
      "Accuracy Random Forest : 0.32 \n",
      "\n",
      "Accuracy Random Forest : 0.58667 \n",
      "\n",
      "Accuracy Random Forest : 0.58667 \n",
      "\n",
      "Accuracy Random Forest : 0.58667 \n",
      "\n",
      "Accuracy Random Forest : 0.58667 \n",
      "\n",
      "Accuracy Random Forest : 0.58667 \n",
      "\n",
      "Accuracy Random Forest : 0.58667 \n",
      "\n",
      "Accuracy Random Forest : 0.58667 \n",
      "\n",
      "Accuracy Random Forest : 0.58667 \n",
      "\n"
     ]
    },
    {
     "name": "stderr",
     "output_type": "stream",
     "text": [
      " 30%|███       | 6/20 [03:02<07:36, 32.61s/it]"
     ]
    },
    {
     "name": "stdout",
     "output_type": "stream",
     "text": [
      "Accuracy Random Forest : 0.58667 \n",
      "\n",
      "Accuracy Random Forest : 0.32333 \n",
      "\n",
      "Accuracy Random Forest : 0.58667 \n",
      "\n",
      "Accuracy Random Forest : 0.58667 \n",
      "\n",
      "Accuracy Random Forest : 0.58667 \n",
      "\n",
      "Accuracy Random Forest : 0.58667 \n",
      "\n",
      "Accuracy Random Forest : 0.58667 \n",
      "\n",
      "Accuracy Random Forest : 0.58667 \n",
      "\n",
      "Accuracy Random Forest : 0.58667 \n",
      "\n",
      "Accuracy Random Forest : 0.58667 \n",
      "\n"
     ]
    },
    {
     "name": "stderr",
     "output_type": "stream",
     "text": [
      " 35%|███▌      | 7/20 [03:41<07:30, 34.68s/it]"
     ]
    },
    {
     "name": "stdout",
     "output_type": "stream",
     "text": [
      "Accuracy Random Forest : 0.58667 \n",
      "\n",
      "Accuracy Random Forest : 0.31667 \n",
      "\n",
      "Accuracy Random Forest : 0.58667 \n",
      "\n",
      "Accuracy Random Forest : 0.58667 \n",
      "\n",
      "Accuracy Random Forest : 0.58667 \n",
      "\n",
      "Accuracy Random Forest : 0.58667 \n",
      "\n",
      "Accuracy Random Forest : 0.58667 \n",
      "\n",
      "Accuracy Random Forest : 0.58667 \n",
      "\n",
      "Accuracy Random Forest : 0.58667 \n",
      "\n",
      "Accuracy Random Forest : 0.58667 \n",
      "\n"
     ]
    },
    {
     "name": "stderr",
     "output_type": "stream",
     "text": [
      " 40%|████      | 8/20 [04:23<07:22, 36.88s/it]"
     ]
    },
    {
     "name": "stdout",
     "output_type": "stream",
     "text": [
      "Accuracy Random Forest : 0.58667 \n",
      "\n",
      "Accuracy Random Forest : 0.32667 \n",
      "\n",
      "Accuracy Random Forest : 0.58667 \n",
      "\n",
      "Accuracy Random Forest : 0.58667 \n",
      "\n",
      "Accuracy Random Forest : 0.58667 \n",
      "\n",
      "Accuracy Random Forest : 0.58667 \n",
      "\n",
      "Accuracy Random Forest : 0.58667 \n",
      "\n",
      "Accuracy Random Forest : 0.58667 \n",
      "\n",
      "Accuracy Random Forest : 0.58667 \n",
      "\n",
      "Accuracy Random Forest : 0.58667 \n",
      "\n"
     ]
    },
    {
     "name": "stderr",
     "output_type": "stream",
     "text": [
      " 45%|████▌     | 9/20 [05:06<07:07, 38.89s/it]"
     ]
    },
    {
     "name": "stdout",
     "output_type": "stream",
     "text": [
      "Accuracy Random Forest : 0.58667 \n",
      "\n",
      "Accuracy Random Forest : 0.32333 \n",
      "\n",
      "Accuracy Random Forest : 0.59 \n",
      "\n",
      "Accuracy Random Forest : 0.59 \n",
      "\n",
      "Accuracy Random Forest : 0.59 \n",
      "\n",
      "Accuracy Random Forest : 0.59 \n",
      "\n",
      "Accuracy Random Forest : 0.59 \n",
      "\n",
      "Accuracy Random Forest : 0.59 \n",
      "\n",
      "Accuracy Random Forest : 0.59 \n",
      "\n",
      "Accuracy Random Forest : 0.59 \n",
      "\n"
     ]
    },
    {
     "name": "stderr",
     "output_type": "stream",
     "text": [
      " 50%|█████     | 10/20 [05:52<06:50, 41.05s/it]"
     ]
    },
    {
     "name": "stdout",
     "output_type": "stream",
     "text": [
      "Accuracy Random Forest : 0.59 \n",
      "\n",
      "Accuracy Random Forest : 0.32667 \n",
      "\n",
      "Accuracy Random Forest : 0.6 \n",
      "\n",
      "Accuracy Random Forest : 0.6 \n",
      "\n",
      "Accuracy Random Forest : 0.6 \n",
      "\n",
      "Accuracy Random Forest : 0.6 \n",
      "\n",
      "Accuracy Random Forest : 0.6 \n",
      "\n",
      "Accuracy Random Forest : 0.6 \n",
      "\n",
      "Accuracy Random Forest : 0.6 \n",
      "\n",
      "Accuracy Random Forest : 0.6 \n",
      "\n"
     ]
    },
    {
     "name": "stderr",
     "output_type": "stream",
     "text": [
      " 55%|█████▌    | 11/20 [06:40<06:28, 43.20s/it]"
     ]
    },
    {
     "name": "stdout",
     "output_type": "stream",
     "text": [
      "Accuracy Random Forest : 0.6 \n",
      "\n",
      "Accuracy Random Forest : 0.32333 \n",
      "\n",
      "Accuracy Random Forest : 0.59667 \n",
      "\n",
      "Accuracy Random Forest : 0.59667 \n",
      "\n",
      "Accuracy Random Forest : 0.59667 \n",
      "\n",
      "Accuracy Random Forest : 0.59667 \n",
      "\n",
      "Accuracy Random Forest : 0.59667 \n",
      "\n",
      "Accuracy Random Forest : 0.59667 \n",
      "\n",
      "Accuracy Random Forest : 0.59667 \n",
      "\n",
      "Accuracy Random Forest : 0.59667 \n",
      "\n"
     ]
    },
    {
     "name": "stderr",
     "output_type": "stream",
     "text": [
      " 60%|██████    | 12/20 [07:31<06:04, 45.50s/it]"
     ]
    },
    {
     "name": "stdout",
     "output_type": "stream",
     "text": [
      "Accuracy Random Forest : 0.59667 \n",
      "\n",
      "Accuracy Random Forest : 0.32333 \n",
      "\n",
      "Accuracy Random Forest : 0.59667 \n",
      "\n",
      "Accuracy Random Forest : 0.59667 \n",
      "\n",
      "Accuracy Random Forest : 0.59667 \n",
      "\n",
      "Accuracy Random Forest : 0.59667 \n",
      "\n",
      "Accuracy Random Forest : 0.59667 \n",
      "\n",
      "Accuracy Random Forest : 0.59667 \n",
      "\n",
      "Accuracy Random Forest : 0.59667 \n",
      "\n",
      "Accuracy Random Forest : 0.59667 \n",
      "\n"
     ]
    },
    {
     "name": "stderr",
     "output_type": "stream",
     "text": [
      " 65%|██████▌   | 13/20 [08:24<05:35, 47.86s/it]"
     ]
    },
    {
     "name": "stdout",
     "output_type": "stream",
     "text": [
      "Accuracy Random Forest : 0.59667 \n",
      "\n",
      "Accuracy Random Forest : 0.32333 \n",
      "\n",
      "Accuracy Random Forest : 0.59667 \n",
      "\n",
      "Accuracy Random Forest : 0.59667 \n",
      "\n",
      "Accuracy Random Forest : 0.59667 \n",
      "\n",
      "Accuracy Random Forest : 0.59667 \n",
      "\n",
      "Accuracy Random Forest : 0.59667 \n",
      "\n",
      "Accuracy Random Forest : 0.59667 \n",
      "\n",
      "Accuracy Random Forest : 0.59667 \n",
      "\n",
      "Accuracy Random Forest : 0.59667 \n",
      "\n"
     ]
    },
    {
     "name": "stderr",
     "output_type": "stream",
     "text": [
      " 70%|███████   | 14/20 [09:20<05:01, 50.19s/it]"
     ]
    },
    {
     "name": "stdout",
     "output_type": "stream",
     "text": [
      "Accuracy Random Forest : 0.59667 \n",
      "\n",
      "Accuracy Random Forest : 0.32333 \n",
      "\n",
      "Accuracy Random Forest : 0.59667 \n",
      "\n",
      "Accuracy Random Forest : 0.59667 \n",
      "\n",
      "Accuracy Random Forest : 0.59667 \n",
      "\n",
      "Accuracy Random Forest : 0.59667 \n",
      "\n",
      "Accuracy Random Forest : 0.59667 \n",
      "\n",
      "Accuracy Random Forest : 0.59667 \n",
      "\n",
      "Accuracy Random Forest : 0.59667 \n",
      "\n",
      "Accuracy Random Forest : 0.59667 \n",
      "\n"
     ]
    },
    {
     "name": "stderr",
     "output_type": "stream",
     "text": [
      " 75%|███████▌  | 15/20 [10:19<04:24, 52.99s/it]"
     ]
    },
    {
     "name": "stdout",
     "output_type": "stream",
     "text": [
      "Accuracy Random Forest : 0.59667 \n",
      "\n",
      "Accuracy Random Forest : 0.32333 \n",
      "\n",
      "Accuracy Random Forest : 0.59667 \n",
      "\n",
      "Accuracy Random Forest : 0.59667 \n",
      "\n",
      "Accuracy Random Forest : 0.59667 \n",
      "\n",
      "Accuracy Random Forest : 0.59667 \n",
      "\n",
      "Accuracy Random Forest : 0.59667 \n",
      "\n",
      "Accuracy Random Forest : 0.59667 \n",
      "\n",
      "Accuracy Random Forest : 0.59667 \n",
      "\n",
      "Accuracy Random Forest : 0.59667 \n",
      "\n"
     ]
    },
    {
     "name": "stderr",
     "output_type": "stream",
     "text": [
      " 80%|████████  | 16/20 [11:19<03:39, 54.99s/it]"
     ]
    },
    {
     "name": "stdout",
     "output_type": "stream",
     "text": [
      "Accuracy Random Forest : 0.59667 \n",
      "\n",
      "Accuracy Random Forest : 0.32667 \n",
      "\n",
      "Accuracy Random Forest : 0.6 \n",
      "\n",
      "Accuracy Random Forest : 0.6 \n",
      "\n",
      "Accuracy Random Forest : 0.6 \n",
      "\n",
      "Accuracy Random Forest : 0.6 \n",
      "\n",
      "Accuracy Random Forest : 0.6 \n",
      "\n",
      "Accuracy Random Forest : 0.6 \n",
      "\n",
      "Accuracy Random Forest : 0.6 \n",
      "\n",
      "Accuracy Random Forest : 0.6 \n",
      "\n"
     ]
    },
    {
     "name": "stderr",
     "output_type": "stream",
     "text": [
      " 85%|████████▌ | 17/20 [12:21<02:51, 57.10s/it]"
     ]
    },
    {
     "name": "stdout",
     "output_type": "stream",
     "text": [
      "Accuracy Random Forest : 0.6 \n",
      "\n",
      "Accuracy Random Forest : 0.32333 \n",
      "\n",
      "Accuracy Random Forest : 0.6 \n",
      "\n",
      "Accuracy Random Forest : 0.6 \n",
      "\n",
      "Accuracy Random Forest : 0.6 \n",
      "\n",
      "Accuracy Random Forest : 0.6 \n",
      "\n",
      "Accuracy Random Forest : 0.6 \n",
      "\n",
      "Accuracy Random Forest : 0.6 \n",
      "\n",
      "Accuracy Random Forest : 0.6 \n",
      "\n",
      "Accuracy Random Forest : 0.6 \n",
      "\n"
     ]
    },
    {
     "name": "stderr",
     "output_type": "stream",
     "text": [
      " 90%|█████████ | 18/20 [13:26<01:58, 59.34s/it]"
     ]
    },
    {
     "name": "stdout",
     "output_type": "stream",
     "text": [
      "Accuracy Random Forest : 0.6 \n",
      "\n",
      "Accuracy Random Forest : 0.32333 \n",
      "\n",
      "Accuracy Random Forest : 0.6 \n",
      "\n",
      "Accuracy Random Forest : 0.6 \n",
      "\n",
      "Accuracy Random Forest : 0.6 \n",
      "\n",
      "Accuracy Random Forest : 0.6 \n",
      "\n",
      "Accuracy Random Forest : 0.6 \n",
      "\n",
      "Accuracy Random Forest : 0.6 \n",
      "\n",
      "Accuracy Random Forest : 0.6 \n",
      "\n",
      "Accuracy Random Forest : 0.6 \n",
      "\n"
     ]
    },
    {
     "name": "stderr",
     "output_type": "stream",
     "text": [
      " 95%|█████████▌| 19/20 [14:33<01:01, 61.65s/it]"
     ]
    },
    {
     "name": "stdout",
     "output_type": "stream",
     "text": [
      "Accuracy Random Forest : 0.6 \n",
      "\n",
      "Accuracy Random Forest : 0.32667 \n",
      "\n",
      "Accuracy Random Forest : 0.6 \n",
      "\n",
      "Accuracy Random Forest : 0.6 \n",
      "\n",
      "Accuracy Random Forest : 0.6 \n",
      "\n",
      "Accuracy Random Forest : 0.6 \n",
      "\n",
      "Accuracy Random Forest : 0.6 \n",
      "\n",
      "Accuracy Random Forest : 0.6 \n",
      "\n",
      "Accuracy Random Forest : 0.6 \n",
      "\n",
      "Accuracy Random Forest : 0.6 \n",
      "\n"
     ]
    },
    {
     "name": "stderr",
     "output_type": "stream",
     "text": [
      "100%|██████████| 20/20 [15:34<00:00, 46.70s/it]"
     ]
    },
    {
     "name": "stdout",
     "output_type": "stream",
     "text": [
      "Accuracy Random Forest : 0.6 \n",
      "\n",
      "Best n_est: 10 Best depth: 1\n"
     ]
    },
    {
     "name": "stderr",
     "output_type": "stream",
     "text": [
      "\n"
     ]
    }
   ],
   "source": [
    "rf_scores = []\n",
    "for est in tqdm(range(1000,3000,100)):\n",
    "    d_scores = []\n",
    "    for d in range(1,1000,100):\n",
    "        rforest = RandomForestClassifier(n_estimators=est, max_depth=d, random_state=0)\n",
    "        score = model_assess(rforest, \"Random Forest\")\n",
    "        d_scores.append(score)\n",
    "    rf_scores.append(d_scores)\n",
    "\n",
    "df_rf = pd.DataFrame(rf_scores)\n",
    "\n",
    "best_rf_param = np.argwhere(rf_scores == np.max(rf_scores))[0]\n",
    "\n",
    "print(\"Best n_est:\",best_rf_param[0],\"Best depth:\",best_rf_param[1])"
   ]
  },
  {
   "cell_type": "code",
   "execution_count": 15,
   "metadata": {},
   "outputs": [
    {
     "name": "stdout",
     "output_type": "stream",
     "text": [
      "11 2\n"
     ]
    }
   ],
   "source": [
    "print(best_rf_param[0]+1, best_rf_param[1]+1)\n"
   ]
  },
  {
   "cell_type": "code",
   "execution_count": 16,
   "metadata": {},
   "outputs": [
    {
     "name": "stdout",
     "output_type": "stream",
     "text": [
      "Accuracy Random Forest : 0.35333 \n",
      "\n"
     ]
    }
   ],
   "source": [
    "# With tuned parameters\n",
    "rforest = RandomForestClassifier(n_estimators=best_rf_param[0]+1, max_depth=best_rf_param[1]+1, random_state=0)\n",
    "score = model_assess(rforest, \"Random Forest\")"
   ]
  },
  {
   "cell_type": "markdown",
   "metadata": {},
   "source": [
    "Support Vector Machine"
   ]
  },
  {
   "cell_type": "code",
   "execution_count": 17,
   "metadata": {},
   "outputs": [
    {
     "name": "stdout",
     "output_type": "stream",
     "text": [
      "Accuracy Support Vector Machine : 0.45 \n",
      "\n",
      "Accuracy Support Vector Machine : 0.45 \n",
      "\n"
     ]
    }
   ],
   "source": [
    "svm = SVC(decision_function_shape=\"ovo\")\n",
    "score = model_assess(svm, \"Support Vector Machine\")\n",
    "svm = SVC(decision_function_shape=\"ovr\")\n",
    "score = model_assess(svm, \"Support Vector Machine\")\n"
   ]
  },
  {
   "cell_type": "markdown",
   "metadata": {},
   "source": [
    "Logistic Regression"
   ]
  },
  {
   "cell_type": "code",
   "execution_count": 18,
   "metadata": {},
   "outputs": [
    {
     "name": "stdout",
     "output_type": "stream",
     "text": [
      "Accuracy Logistic Regression : 0.46 \n",
      "\n"
     ]
    },
    {
     "name": "stderr",
     "output_type": "stream",
     "text": [
      "/Users/pierros/opt/anaconda3/envs/keras_env/lib/python3.10/site-packages/sklearn/linear_model/_logistic.py:458: ConvergenceWarning: lbfgs failed to converge (status=1):\n",
      "STOP: TOTAL NO. of ITERATIONS REACHED LIMIT.\n",
      "\n",
      "Increase the number of iterations (max_iter) or scale the data as shown in:\n",
      "    https://scikit-learn.org/stable/modules/preprocessing.html\n",
      "Please also refer to the documentation for alternative solver options:\n",
      "    https://scikit-learn.org/stable/modules/linear_model.html#logistic-regression\n",
      "  n_iter_i = _check_optimize_result(\n"
     ]
    }
   ],
   "source": [
    "lg = LogisticRegression(random_state=0, solver='lbfgs', multi_class='multinomial')\n",
    "score = model_assess(lg, \"Logistic Regression\")"
   ]
  },
  {
   "cell_type": "markdown",
   "metadata": {},
   "source": [
    "Neural Nets"
   ]
  },
  {
   "cell_type": "code",
   "execution_count": 19,
   "metadata": {},
   "outputs": [
    {
     "name": "stderr",
     "output_type": "stream",
     "text": [
      "/Users/pierros/opt/anaconda3/envs/keras_env/lib/python3.10/site-packages/sklearn/neural_network/_multilayer_perceptron.py:541: ConvergenceWarning: lbfgs failed to converge (status=1):\n",
      "STOP: TOTAL NO. of ITERATIONS REACHED LIMIT.\n",
      "\n",
      "Increase the number of iterations (max_iter) or scale the data as shown in:\n",
      "    https://scikit-learn.org/stable/modules/preprocessing.html\n",
      "  self.n_iter_ = _check_optimize_result(\"lbfgs\", opt_res, self.max_iter)\n"
     ]
    },
    {
     "name": "stdout",
     "output_type": "stream",
     "text": [
      "Accuracy Neural Nets : 0.46667 \n",
      "\n"
     ]
    },
    {
     "name": "stderr",
     "output_type": "stream",
     "text": [
      "/Users/pierros/opt/anaconda3/envs/keras_env/lib/python3.10/site-packages/sklearn/neural_network/_multilayer_perceptron.py:541: ConvergenceWarning: lbfgs failed to converge (status=1):\n",
      "STOP: TOTAL NO. of ITERATIONS REACHED LIMIT.\n",
      "\n",
      "Increase the number of iterations (max_iter) or scale the data as shown in:\n",
      "    https://scikit-learn.org/stable/modules/preprocessing.html\n",
      "  self.n_iter_ = _check_optimize_result(\"lbfgs\", opt_res, self.max_iter)\n"
     ]
    },
    {
     "name": "stdout",
     "output_type": "stream",
     "text": [
      "Accuracy Neural Nets : 0.47333 \n",
      "\n"
     ]
    },
    {
     "name": "stderr",
     "output_type": "stream",
     "text": [
      "/Users/pierros/opt/anaconda3/envs/keras_env/lib/python3.10/site-packages/sklearn/neural_network/_multilayer_perceptron.py:541: ConvergenceWarning: lbfgs failed to converge (status=1):\n",
      "STOP: TOTAL NO. of ITERATIONS REACHED LIMIT.\n",
      "\n",
      "Increase the number of iterations (max_iter) or scale the data as shown in:\n",
      "    https://scikit-learn.org/stable/modules/preprocessing.html\n",
      "  self.n_iter_ = _check_optimize_result(\"lbfgs\", opt_res, self.max_iter)\n"
     ]
    },
    {
     "name": "stdout",
     "output_type": "stream",
     "text": [
      "Accuracy Neural Nets : 0.47 \n",
      "\n"
     ]
    },
    {
     "name": "stderr",
     "output_type": "stream",
     "text": [
      "/Users/pierros/opt/anaconda3/envs/keras_env/lib/python3.10/site-packages/sklearn/neural_network/_multilayer_perceptron.py:541: ConvergenceWarning: lbfgs failed to converge (status=1):\n",
      "STOP: TOTAL NO. of ITERATIONS REACHED LIMIT.\n",
      "\n",
      "Increase the number of iterations (max_iter) or scale the data as shown in:\n",
      "    https://scikit-learn.org/stable/modules/preprocessing.html\n",
      "  self.n_iter_ = _check_optimize_result(\"lbfgs\", opt_res, self.max_iter)\n"
     ]
    },
    {
     "name": "stdout",
     "output_type": "stream",
     "text": [
      "Accuracy Neural Nets : 0.46 \n",
      "\n"
     ]
    },
    {
     "name": "stderr",
     "output_type": "stream",
     "text": [
      "/Users/pierros/opt/anaconda3/envs/keras_env/lib/python3.10/site-packages/sklearn/neural_network/_multilayer_perceptron.py:541: ConvergenceWarning: lbfgs failed to converge (status=1):\n",
      "STOP: TOTAL NO. of ITERATIONS REACHED LIMIT.\n",
      "\n",
      "Increase the number of iterations (max_iter) or scale the data as shown in:\n",
      "    https://scikit-learn.org/stable/modules/preprocessing.html\n",
      "  self.n_iter_ = _check_optimize_result(\"lbfgs\", opt_res, self.max_iter)\n"
     ]
    },
    {
     "name": "stdout",
     "output_type": "stream",
     "text": [
      "Accuracy Neural Nets : 0.48333 \n",
      "\n"
     ]
    },
    {
     "name": "stderr",
     "output_type": "stream",
     "text": [
      "/Users/pierros/opt/anaconda3/envs/keras_env/lib/python3.10/site-packages/sklearn/neural_network/_multilayer_perceptron.py:541: ConvergenceWarning: lbfgs failed to converge (status=1):\n",
      "STOP: TOTAL NO. of ITERATIONS REACHED LIMIT.\n",
      "\n",
      "Increase the number of iterations (max_iter) or scale the data as shown in:\n",
      "    https://scikit-learn.org/stable/modules/preprocessing.html\n",
      "  self.n_iter_ = _check_optimize_result(\"lbfgs\", opt_res, self.max_iter)\n"
     ]
    },
    {
     "name": "stdout",
     "output_type": "stream",
     "text": [
      "Accuracy Neural Nets : 0.48667 \n",
      "\n"
     ]
    },
    {
     "name": "stderr",
     "output_type": "stream",
     "text": [
      "/Users/pierros/opt/anaconda3/envs/keras_env/lib/python3.10/site-packages/sklearn/neural_network/_multilayer_perceptron.py:541: ConvergenceWarning: lbfgs failed to converge (status=1):\n",
      "STOP: TOTAL NO. of ITERATIONS REACHED LIMIT.\n",
      "\n",
      "Increase the number of iterations (max_iter) or scale the data as shown in:\n",
      "    https://scikit-learn.org/stable/modules/preprocessing.html\n",
      "  self.n_iter_ = _check_optimize_result(\"lbfgs\", opt_res, self.max_iter)\n"
     ]
    },
    {
     "name": "stdout",
     "output_type": "stream",
     "text": [
      "Accuracy Neural Nets : 0.46333 \n",
      "\n"
     ]
    },
    {
     "name": "stderr",
     "output_type": "stream",
     "text": [
      "/Users/pierros/opt/anaconda3/envs/keras_env/lib/python3.10/site-packages/sklearn/neural_network/_multilayer_perceptron.py:541: ConvergenceWarning: lbfgs failed to converge (status=1):\n",
      "STOP: TOTAL NO. of ITERATIONS REACHED LIMIT.\n",
      "\n",
      "Increase the number of iterations (max_iter) or scale the data as shown in:\n",
      "    https://scikit-learn.org/stable/modules/preprocessing.html\n",
      "  self.n_iter_ = _check_optimize_result(\"lbfgs\", opt_res, self.max_iter)\n"
     ]
    },
    {
     "name": "stdout",
     "output_type": "stream",
     "text": [
      "Accuracy Neural Nets : 0.48667 \n",
      "\n"
     ]
    },
    {
     "name": "stderr",
     "output_type": "stream",
     "text": [
      "/Users/pierros/opt/anaconda3/envs/keras_env/lib/python3.10/site-packages/sklearn/neural_network/_multilayer_perceptron.py:541: ConvergenceWarning: lbfgs failed to converge (status=1):\n",
      "STOP: TOTAL NO. of ITERATIONS REACHED LIMIT.\n",
      "\n",
      "Increase the number of iterations (max_iter) or scale the data as shown in:\n",
      "    https://scikit-learn.org/stable/modules/preprocessing.html\n",
      "  self.n_iter_ = _check_optimize_result(\"lbfgs\", opt_res, self.max_iter)\n"
     ]
    },
    {
     "name": "stdout",
     "output_type": "stream",
     "text": [
      "Accuracy Neural Nets : 0.46333 \n",
      "\n"
     ]
    },
    {
     "name": "stderr",
     "output_type": "stream",
     "text": [
      "/Users/pierros/opt/anaconda3/envs/keras_env/lib/python3.10/site-packages/sklearn/neural_network/_multilayer_perceptron.py:541: ConvergenceWarning: lbfgs failed to converge (status=1):\n",
      "STOP: TOTAL NO. of ITERATIONS REACHED LIMIT.\n",
      "\n",
      "Increase the number of iterations (max_iter) or scale the data as shown in:\n",
      "    https://scikit-learn.org/stable/modules/preprocessing.html\n",
      "  self.n_iter_ = _check_optimize_result(\"lbfgs\", opt_res, self.max_iter)\n"
     ]
    },
    {
     "name": "stdout",
     "output_type": "stream",
     "text": [
      "Accuracy Neural Nets : 0.42667 \n",
      "\n"
     ]
    },
    {
     "name": "stderr",
     "output_type": "stream",
     "text": [
      "/Users/pierros/opt/anaconda3/envs/keras_env/lib/python3.10/site-packages/sklearn/neural_network/_multilayer_perceptron.py:541: ConvergenceWarning: lbfgs failed to converge (status=1):\n",
      "STOP: TOTAL NO. of ITERATIONS REACHED LIMIT.\n",
      "\n",
      "Increase the number of iterations (max_iter) or scale the data as shown in:\n",
      "    https://scikit-learn.org/stable/modules/preprocessing.html\n",
      "  self.n_iter_ = _check_optimize_result(\"lbfgs\", opt_res, self.max_iter)\n"
     ]
    },
    {
     "name": "stdout",
     "output_type": "stream",
     "text": [
      "Accuracy Neural Nets : 0.42333 \n",
      "\n"
     ]
    },
    {
     "name": "stderr",
     "output_type": "stream",
     "text": [
      "/Users/pierros/opt/anaconda3/envs/keras_env/lib/python3.10/site-packages/sklearn/neural_network/_multilayer_perceptron.py:541: ConvergenceWarning: lbfgs failed to converge (status=1):\n",
      "STOP: TOTAL NO. of ITERATIONS REACHED LIMIT.\n",
      "\n",
      "Increase the number of iterations (max_iter) or scale the data as shown in:\n",
      "    https://scikit-learn.org/stable/modules/preprocessing.html\n",
      "  self.n_iter_ = _check_optimize_result(\"lbfgs\", opt_res, self.max_iter)\n"
     ]
    },
    {
     "name": "stdout",
     "output_type": "stream",
     "text": [
      "Accuracy Neural Nets : 0.45 \n",
      "\n"
     ]
    },
    {
     "name": "stderr",
     "output_type": "stream",
     "text": [
      "/Users/pierros/opt/anaconda3/envs/keras_env/lib/python3.10/site-packages/sklearn/neural_network/_multilayer_perceptron.py:541: ConvergenceWarning: lbfgs failed to converge (status=1):\n",
      "STOP: TOTAL NO. of ITERATIONS REACHED LIMIT.\n",
      "\n",
      "Increase the number of iterations (max_iter) or scale the data as shown in:\n",
      "    https://scikit-learn.org/stable/modules/preprocessing.html\n",
      "  self.n_iter_ = _check_optimize_result(\"lbfgs\", opt_res, self.max_iter)\n"
     ]
    },
    {
     "name": "stdout",
     "output_type": "stream",
     "text": [
      "Accuracy Neural Nets : 0.43333 \n",
      "\n"
     ]
    },
    {
     "name": "stderr",
     "output_type": "stream",
     "text": [
      "/Users/pierros/opt/anaconda3/envs/keras_env/lib/python3.10/site-packages/sklearn/neural_network/_multilayer_perceptron.py:541: ConvergenceWarning: lbfgs failed to converge (status=1):\n",
      "STOP: TOTAL NO. of ITERATIONS REACHED LIMIT.\n",
      "\n",
      "Increase the number of iterations (max_iter) or scale the data as shown in:\n",
      "    https://scikit-learn.org/stable/modules/preprocessing.html\n",
      "  self.n_iter_ = _check_optimize_result(\"lbfgs\", opt_res, self.max_iter)\n"
     ]
    },
    {
     "name": "stdout",
     "output_type": "stream",
     "text": [
      "Accuracy Neural Nets : 0.5 \n",
      "\n"
     ]
    },
    {
     "name": "stderr",
     "output_type": "stream",
     "text": [
      "/Users/pierros/opt/anaconda3/envs/keras_env/lib/python3.10/site-packages/sklearn/neural_network/_multilayer_perceptron.py:541: ConvergenceWarning: lbfgs failed to converge (status=1):\n",
      "STOP: TOTAL NO. of ITERATIONS REACHED LIMIT.\n",
      "\n",
      "Increase the number of iterations (max_iter) or scale the data as shown in:\n",
      "    https://scikit-learn.org/stable/modules/preprocessing.html\n",
      "  self.n_iter_ = _check_optimize_result(\"lbfgs\", opt_res, self.max_iter)\n"
     ]
    },
    {
     "name": "stdout",
     "output_type": "stream",
     "text": [
      "Accuracy Neural Nets : 0.44333 \n",
      "\n"
     ]
    },
    {
     "name": "stderr",
     "output_type": "stream",
     "text": [
      "/Users/pierros/opt/anaconda3/envs/keras_env/lib/python3.10/site-packages/sklearn/neural_network/_multilayer_perceptron.py:541: ConvergenceWarning: lbfgs failed to converge (status=1):\n",
      "STOP: TOTAL NO. of ITERATIONS REACHED LIMIT.\n",
      "\n",
      "Increase the number of iterations (max_iter) or scale the data as shown in:\n",
      "    https://scikit-learn.org/stable/modules/preprocessing.html\n",
      "  self.n_iter_ = _check_optimize_result(\"lbfgs\", opt_res, self.max_iter)\n"
     ]
    },
    {
     "name": "stdout",
     "output_type": "stream",
     "text": [
      "Accuracy Neural Nets : 0.47667 \n",
      "\n"
     ]
    },
    {
     "name": "stderr",
     "output_type": "stream",
     "text": [
      "/Users/pierros/opt/anaconda3/envs/keras_env/lib/python3.10/site-packages/sklearn/neural_network/_multilayer_perceptron.py:541: ConvergenceWarning: lbfgs failed to converge (status=1):\n",
      "STOP: TOTAL NO. of ITERATIONS REACHED LIMIT.\n",
      "\n",
      "Increase the number of iterations (max_iter) or scale the data as shown in:\n",
      "    https://scikit-learn.org/stable/modules/preprocessing.html\n",
      "  self.n_iter_ = _check_optimize_result(\"lbfgs\", opt_res, self.max_iter)\n"
     ]
    },
    {
     "name": "stdout",
     "output_type": "stream",
     "text": [
      "Accuracy Neural Nets : 0.45333 \n",
      "\n"
     ]
    },
    {
     "name": "stderr",
     "output_type": "stream",
     "text": [
      "/Users/pierros/opt/anaconda3/envs/keras_env/lib/python3.10/site-packages/sklearn/neural_network/_multilayer_perceptron.py:541: ConvergenceWarning: lbfgs failed to converge (status=1):\n",
      "STOP: TOTAL NO. of ITERATIONS REACHED LIMIT.\n",
      "\n",
      "Increase the number of iterations (max_iter) or scale the data as shown in:\n",
      "    https://scikit-learn.org/stable/modules/preprocessing.html\n",
      "  self.n_iter_ = _check_optimize_result(\"lbfgs\", opt_res, self.max_iter)\n"
     ]
    },
    {
     "name": "stdout",
     "output_type": "stream",
     "text": [
      "Accuracy Neural Nets : 0.45667 \n",
      "\n"
     ]
    },
    {
     "name": "stderr",
     "output_type": "stream",
     "text": [
      "/Users/pierros/opt/anaconda3/envs/keras_env/lib/python3.10/site-packages/sklearn/neural_network/_multilayer_perceptron.py:541: ConvergenceWarning: lbfgs failed to converge (status=1):\n",
      "STOP: TOTAL NO. of ITERATIONS REACHED LIMIT.\n",
      "\n",
      "Increase the number of iterations (max_iter) or scale the data as shown in:\n",
      "    https://scikit-learn.org/stable/modules/preprocessing.html\n",
      "  self.n_iter_ = _check_optimize_result(\"lbfgs\", opt_res, self.max_iter)\n"
     ]
    },
    {
     "name": "stdout",
     "output_type": "stream",
     "text": [
      "Accuracy Neural Nets : 0.48 \n",
      "\n",
      "Accuracy Neural Nets : 0.44 \n",
      "\n"
     ]
    },
    {
     "name": "stderr",
     "output_type": "stream",
     "text": [
      "/Users/pierros/opt/anaconda3/envs/keras_env/lib/python3.10/site-packages/sklearn/neural_network/_multilayer_perceptron.py:541: ConvergenceWarning: lbfgs failed to converge (status=1):\n",
      "STOP: TOTAL NO. of ITERATIONS REACHED LIMIT.\n",
      "\n",
      "Increase the number of iterations (max_iter) or scale the data as shown in:\n",
      "    https://scikit-learn.org/stable/modules/preprocessing.html\n",
      "  self.n_iter_ = _check_optimize_result(\"lbfgs\", opt_res, self.max_iter)\n"
     ]
    }
   ],
   "source": [
    "best_score_mlp = 0\n",
    "for a in np.linspace(0.00001,0.0001,20):\n",
    "    nn = MLPClassifier(solver='lbfgs', alpha=a, hidden_layer_sizes=(5000, 10), random_state=1)\n",
    "    score = model_assess(nn, \"Neural Nets\")\n",
    "    if score > best_score_mlp:\n",
    "        best_score_mlp = score\n",
    "        best_alpha = a"
   ]
  },
  {
   "cell_type": "code",
   "execution_count": 20,
   "metadata": {},
   "outputs": [
    {
     "name": "stdout",
     "output_type": "stream",
     "text": [
      "7.157894736842105e-05\n"
     ]
    }
   ],
   "source": [
    "print(best_alpha)"
   ]
  },
  {
   "cell_type": "code",
   "execution_count": 21,
   "metadata": {},
   "outputs": [
    {
     "name": "stdout",
     "output_type": "stream",
     "text": [
      "Accuracy Neural Nets : 0.5 \n",
      "\n"
     ]
    },
    {
     "name": "stderr",
     "output_type": "stream",
     "text": [
      "/Users/pierros/opt/anaconda3/envs/keras_env/lib/python3.10/site-packages/sklearn/neural_network/_multilayer_perceptron.py:541: ConvergenceWarning: lbfgs failed to converge (status=1):\n",
      "STOP: TOTAL NO. of ITERATIONS REACHED LIMIT.\n",
      "\n",
      "Increase the number of iterations (max_iter) or scale the data as shown in:\n",
      "    https://scikit-learn.org/stable/modules/preprocessing.html\n",
      "  self.n_iter_ = _check_optimize_result(\"lbfgs\", opt_res, self.max_iter)\n"
     ]
    }
   ],
   "source": [
    "nn = MLPClassifier(solver='lbfgs', alpha=best_alpha, hidden_layer_sizes=(5000, 10), random_state=1)\n",
    "score = model_assess(nn, \"Neural Nets\")"
   ]
  },
  {
   "cell_type": "code",
   "execution_count": 22,
   "metadata": {},
   "outputs": [],
   "source": [
    "# Transform Data for the next classifiers\n",
    "from sklearn.preprocessing import LabelEncoder\n",
    "le = LabelEncoder()\n",
    "y_train2 = le.fit_transform(y_train)\n",
    "y_test2 =le.fit_transform(y_test)"
   ]
  },
  {
   "cell_type": "markdown",
   "metadata": {},
   "source": [
    "Cross Gradient Booster"
   ]
  },
  {
   "cell_type": "code",
   "execution_count": 23,
   "metadata": {},
   "outputs": [
    {
     "name": "stderr",
     "output_type": "stream",
     "text": [
      "  0%|          | 0/10 [00:00<?, ?it/s]"
     ]
    },
    {
     "name": "stdout",
     "output_type": "stream",
     "text": [
      "Accuracy Cross Gradient Booster : 0.63333 \n",
      "\n",
      "Accuracy Cross Gradient Booster : 0.62333 \n",
      "\n",
      "Accuracy Cross Gradient Booster : 0.62 \n",
      "\n",
      "Accuracy Cross Gradient Booster : 0.61 \n",
      "\n",
      "Accuracy Cross Gradient Booster : 0.62 \n",
      "\n",
      "Accuracy Cross Gradient Booster : 0.59333 \n",
      "\n"
     ]
    },
    {
     "name": "stderr",
     "output_type": "stream",
     "text": [
      " 10%|█         | 1/10 [08:37<1:17:34, 517.16s/it]"
     ]
    },
    {
     "name": "stdout",
     "output_type": "stream",
     "text": [
      "Accuracy Cross Gradient Booster : 0.61333 \n",
      "\n",
      "Accuracy Cross Gradient Booster : 0.64 \n",
      "\n",
      "Accuracy Cross Gradient Booster : 0.62 \n",
      "\n",
      "Accuracy Cross Gradient Booster : 0.61667 \n",
      "\n",
      "Accuracy Cross Gradient Booster : 0.61333 \n",
      "\n",
      "Accuracy Cross Gradient Booster : 0.61667 \n",
      "\n",
      "Accuracy Cross Gradient Booster : 0.59667 \n",
      "\n"
     ]
    },
    {
     "name": "stderr",
     "output_type": "stream",
     "text": [
      " 20%|██        | 2/10 [16:58<1:07:44, 508.11s/it]"
     ]
    },
    {
     "name": "stdout",
     "output_type": "stream",
     "text": [
      "Accuracy Cross Gradient Booster : 0.61333 \n",
      "\n",
      "Accuracy Cross Gradient Booster : 0.64667 \n",
      "\n",
      "Accuracy Cross Gradient Booster : 0.62 \n",
      "\n",
      "Accuracy Cross Gradient Booster : 0.61333 \n",
      "\n",
      "Accuracy Cross Gradient Booster : 0.61333 \n",
      "\n",
      "Accuracy Cross Gradient Booster : 0.61667 \n",
      "\n",
      "Accuracy Cross Gradient Booster : 0.59667 \n",
      "\n"
     ]
    },
    {
     "name": "stderr",
     "output_type": "stream",
     "text": [
      " 30%|███       | 3/10 [26:08<1:01:29, 527.13s/it]"
     ]
    },
    {
     "name": "stdout",
     "output_type": "stream",
     "text": [
      "Accuracy Cross Gradient Booster : 0.61333 \n",
      "\n",
      "Accuracy Cross Gradient Booster : 0.65 \n",
      "\n",
      "Accuracy Cross Gradient Booster : 0.62 \n",
      "\n",
      "Accuracy Cross Gradient Booster : 0.61333 \n",
      "\n",
      "Accuracy Cross Gradient Booster : 0.61333 \n",
      "\n",
      "Accuracy Cross Gradient Booster : 0.62 \n",
      "\n",
      "Accuracy Cross Gradient Booster : 0.59667 \n",
      "\n"
     ]
    },
    {
     "name": "stderr",
     "output_type": "stream",
     "text": [
      " 40%|████      | 4/10 [36:00<55:15, 552.59s/it]  "
     ]
    },
    {
     "name": "stdout",
     "output_type": "stream",
     "text": [
      "Accuracy Cross Gradient Booster : 0.61333 \n",
      "\n",
      "Accuracy Cross Gradient Booster : 0.65333 \n",
      "\n",
      "Accuracy Cross Gradient Booster : 0.62 \n",
      "\n",
      "Accuracy Cross Gradient Booster : 0.61 \n",
      "\n",
      "Accuracy Cross Gradient Booster : 0.61333 \n",
      "\n",
      "Accuracy Cross Gradient Booster : 0.61667 \n",
      "\n",
      "Accuracy Cross Gradient Booster : 0.6 \n",
      "\n"
     ]
    },
    {
     "name": "stderr",
     "output_type": "stream",
     "text": [
      " 50%|█████     | 5/10 [46:21<48:07, 577.47s/it]"
     ]
    },
    {
     "name": "stdout",
     "output_type": "stream",
     "text": [
      "Accuracy Cross Gradient Booster : 0.61333 \n",
      "\n",
      "Accuracy Cross Gradient Booster : 0.65 \n",
      "\n",
      "Accuracy Cross Gradient Booster : 0.62333 \n",
      "\n",
      "Accuracy Cross Gradient Booster : 0.61 \n",
      "\n",
      "Accuracy Cross Gradient Booster : 0.61333 \n",
      "\n",
      "Accuracy Cross Gradient Booster : 0.61667 \n",
      "\n",
      "Accuracy Cross Gradient Booster : 0.6 \n",
      "\n"
     ]
    },
    {
     "name": "stderr",
     "output_type": "stream",
     "text": [
      " 60%|██████    | 6/10 [57:59<41:13, 618.44s/it]"
     ]
    },
    {
     "name": "stdout",
     "output_type": "stream",
     "text": [
      "Accuracy Cross Gradient Booster : 0.61667 \n",
      "\n",
      "Accuracy Cross Gradient Booster : 0.65 \n",
      "\n",
      "Accuracy Cross Gradient Booster : 0.62 \n",
      "\n",
      "Accuracy Cross Gradient Booster : 0.61 \n",
      "\n",
      "Accuracy Cross Gradient Booster : 0.61333 \n",
      "\n",
      "Accuracy Cross Gradient Booster : 0.62 \n",
      "\n",
      "Accuracy Cross Gradient Booster : 0.6 \n",
      "\n"
     ]
    },
    {
     "name": "stderr",
     "output_type": "stream",
     "text": [
      " 70%|███████   | 7/10 [1:09:56<32:31, 650.60s/it]"
     ]
    },
    {
     "name": "stdout",
     "output_type": "stream",
     "text": [
      "Accuracy Cross Gradient Booster : 0.61667 \n",
      "\n",
      "Accuracy Cross Gradient Booster : 0.65333 \n",
      "\n",
      "Accuracy Cross Gradient Booster : 0.62 \n",
      "\n",
      "Accuracy Cross Gradient Booster : 0.61 \n",
      "\n",
      "Accuracy Cross Gradient Booster : 0.61333 \n",
      "\n",
      "Accuracy Cross Gradient Booster : 0.62333 \n",
      "\n",
      "Accuracy Cross Gradient Booster : 0.6 \n",
      "\n"
     ]
    },
    {
     "name": "stderr",
     "output_type": "stream",
     "text": [
      " 80%|████████  | 8/10 [1:21:25<22:05, 662.84s/it]"
     ]
    },
    {
     "name": "stdout",
     "output_type": "stream",
     "text": [
      "Accuracy Cross Gradient Booster : 0.61667 \n",
      "\n",
      "Accuracy Cross Gradient Booster : 0.65 \n",
      "\n",
      "Accuracy Cross Gradient Booster : 0.62 \n",
      "\n",
      "Accuracy Cross Gradient Booster : 0.61333 \n",
      "\n",
      "Accuracy Cross Gradient Booster : 0.61333 \n",
      "\n",
      "Accuracy Cross Gradient Booster : 0.62333 \n",
      "\n",
      "Accuracy Cross Gradient Booster : 0.6 \n",
      "\n"
     ]
    },
    {
     "name": "stderr",
     "output_type": "stream",
     "text": [
      " 90%|█████████ | 9/10 [1:33:26<11:20, 680.92s/it]"
     ]
    },
    {
     "name": "stdout",
     "output_type": "stream",
     "text": [
      "Accuracy Cross Gradient Booster : 0.61667 \n",
      "\n",
      "Accuracy Cross Gradient Booster : 0.65 \n",
      "\n",
      "Accuracy Cross Gradient Booster : 0.62 \n",
      "\n",
      "Accuracy Cross Gradient Booster : 0.61333 \n",
      "\n",
      "Accuracy Cross Gradient Booster : 0.61333 \n",
      "\n",
      "Accuracy Cross Gradient Booster : 0.62333 \n",
      "\n",
      "Accuracy Cross Gradient Booster : 0.6 \n",
      "\n"
     ]
    },
    {
     "name": "stderr",
     "output_type": "stream",
     "text": [
      "100%|██████████| 10/10 [1:43:50<00:00, 623.00s/it]"
     ]
    },
    {
     "name": "stdout",
     "output_type": "stream",
     "text": [
      "Accuracy Cross Gradient Booster : 0.61667 \n",
      "\n"
     ]
    },
    {
     "name": "stderr",
     "output_type": "stream",
     "text": [
      "\n"
     ]
    }
   ],
   "source": [
    "best_cgb = [1,0.01]\n",
    "best_score_cgb = 0\n",
    "for est in tqdm(range(1000,2000,100)):\n",
    "    for lr in np.linspace(0.1,0.7,7):\n",
    "        xgb = XGBClassifier(n_estimators=est, learning_rate=lr)\n",
    "        # model_assess(xgb, \"Cross Gradient Booster\")\n",
    "        xgb.fit(X_train, y_train2)\n",
    "        preds = xgb.predict(X_test)\n",
    "        #print(confusion_matrix(y_test, preds))\n",
    "        print('Accuracy', \"Cross Gradient Booster\", ':', round(accuracy_score(y_test2, preds), 5), '\\n')\n",
    "        if round(accuracy_score(y_test2, preds), 5) > best_score_cgb:\n",
    "            best_score_cgb = round(accuracy_score(y_test2, preds), 5)\n",
    "            best_cgb = [est, lr]"
   ]
  },
  {
   "cell_type": "code",
   "execution_count": 24,
   "metadata": {},
   "outputs": [
    {
     "data": {
      "text/plain": [
       "[1400, 0.1]"
      ]
     },
     "execution_count": 24,
     "metadata": {},
     "output_type": "execute_result"
    }
   ],
   "source": [
    "best_cgb"
   ]
  },
  {
   "cell_type": "code",
   "execution_count": 25,
   "metadata": {},
   "outputs": [
    {
     "name": "stdout",
     "output_type": "stream",
     "text": [
      "Accuracy Cross Gradient Booster : 0.65333 \n",
      "\n"
     ]
    }
   ],
   "source": [
    "xgb = XGBClassifier(n_estimators=best_cgb[0], learning_rate=best_cgb[1])\n",
    "xgb.fit(X_train, y_train2)\n",
    "preds = xgb.predict(X_test)\n",
    "print('Accuracy', \"Cross Gradient Booster\", ':', round(accuracy_score(y_test2, preds), 5), '\\n')"
   ]
  },
  {
   "cell_type": "markdown",
   "metadata": {},
   "source": [
    "Cross Gradient Booster (Random Forest)"
   ]
  },
  {
   "cell_type": "code",
   "execution_count": 26,
   "metadata": {},
   "outputs": [
    {
     "name": "stdout",
     "output_type": "stream",
     "text": [
      "Accuracy Cross Gradient Booster (Random Forest) : 0.57667 \n",
      "\n"
     ]
    }
   ],
   "source": [
    "xgbrf = XGBRFClassifier(objective= 'multi:softmax')\n",
    "# model_assess(xgbrf, \"Cross Gradient Booster (Random Forest)\")\n",
    "xgbrf.fit(X_train, y_train2)\n",
    "preds = xgbrf.predict(X_test)\n",
    "print('Accuracy', \"Cross Gradient Booster (Random Forest)\", ':', round(accuracy_score(y_test2, preds), 5), '\\n')"
   ]
  },
  {
   "cell_type": "code",
   "execution_count": 27,
   "metadata": {},
   "outputs": [
    {
     "data": {
      "text/html": [
       "\n",
       "    <style>\n",
       "    table.eli5-weights tr:hover {\n",
       "        filter: brightness(85%);\n",
       "    }\n",
       "</style>\n",
       "\n",
       "\n",
       "\n",
       "    \n",
       "\n",
       "    \n",
       "\n",
       "    \n",
       "\n",
       "    \n",
       "\n",
       "    \n",
       "\n",
       "    \n",
       "\n",
       "\n",
       "    \n",
       "\n",
       "    \n",
       "\n",
       "    \n",
       "\n",
       "    \n",
       "\n",
       "    \n",
       "\n",
       "    \n",
       "\n",
       "\n",
       "    \n",
       "\n",
       "    \n",
       "\n",
       "    \n",
       "\n",
       "    \n",
       "\n",
       "    \n",
       "        <table class=\"eli5-weights eli5-feature-importances\" style=\"border-collapse: collapse; border: none; margin-top: 0em; table-layout: auto;\">\n",
       "    <thead>\n",
       "    <tr style=\"border: none;\">\n",
       "        <th style=\"padding: 0 1em 0 0.5em; text-align: right; border: none;\">Weight</th>\n",
       "        <th style=\"padding: 0 0.5em 0 0.5em; text-align: left; border: none;\">Feature</th>\n",
       "    </tr>\n",
       "    </thead>\n",
       "    <tbody>\n",
       "    \n",
       "        <tr style=\"background-color: hsl(120, 100.00%, 80.00%); border: none;\">\n",
       "            <td style=\"padding: 0 1em 0 0.5em; text-align: right; border: none;\">\n",
       "                0.1773\n",
       "                \n",
       "                    &plusmn; 0.0481\n",
       "                \n",
       "            </td>\n",
       "            <td style=\"padding: 0 0.5em 0 0.5em; text-align: left; border: none;\">\n",
       "                chroma_stft_mean\n",
       "            </td>\n",
       "        </tr>\n",
       "    \n",
       "        <tr style=\"background-color: hsl(120, 100.00%, 84.90%); border: none;\">\n",
       "            <td style=\"padding: 0 1em 0 0.5em; text-align: right; border: none;\">\n",
       "                0.1187\n",
       "                \n",
       "                    &plusmn; 0.0269\n",
       "                \n",
       "            </td>\n",
       "            <td style=\"padding: 0 0.5em 0 0.5em; text-align: left; border: none;\">\n",
       "                spectral_bandwidth_mean\n",
       "            </td>\n",
       "        </tr>\n",
       "    \n",
       "        <tr style=\"background-color: hsl(120, 100.00%, 88.15%); border: none;\">\n",
       "            <td style=\"padding: 0 1em 0 0.5em; text-align: right; border: none;\">\n",
       "                0.0840\n",
       "                \n",
       "                    &plusmn; 0.0208\n",
       "                \n",
       "            </td>\n",
       "            <td style=\"padding: 0 0.5em 0 0.5em; text-align: left; border: none;\">\n",
       "                chroma_stft_var\n",
       "            </td>\n",
       "        </tr>\n",
       "    \n",
       "        <tr style=\"background-color: hsl(120, 100.00%, 90.06%); border: none;\">\n",
       "            <td style=\"padding: 0 1em 0 0.5em; text-align: right; border: none;\">\n",
       "                0.0653\n",
       "                \n",
       "                    &plusmn; 0.0191\n",
       "                \n",
       "            </td>\n",
       "            <td style=\"padding: 0 0.5em 0 0.5em; text-align: left; border: none;\">\n",
       "                perceptr_mean\n",
       "            </td>\n",
       "        </tr>\n",
       "    \n",
       "        <tr style=\"background-color: hsl(120, 100.00%, 90.27%); border: none;\">\n",
       "            <td style=\"padding: 0 1em 0 0.5em; text-align: right; border: none;\">\n",
       "                0.0633\n",
       "                \n",
       "                    &plusmn; 0.0263\n",
       "                \n",
       "            </td>\n",
       "            <td style=\"padding: 0 0.5em 0 0.5em; text-align: left; border: none;\">\n",
       "                harmony_var\n",
       "            </td>\n",
       "        </tr>\n",
       "    \n",
       "        <tr style=\"background-color: hsl(120, 100.00%, 90.63%); border: none;\">\n",
       "            <td style=\"padding: 0 1em 0 0.5em; text-align: right; border: none;\">\n",
       "                0.0600\n",
       "                \n",
       "                    &plusmn; 0.0316\n",
       "                \n",
       "            </td>\n",
       "            <td style=\"padding: 0 0.5em 0 0.5em; text-align: left; border: none;\">\n",
       "                rms_var\n",
       "            </td>\n",
       "        </tr>\n",
       "    \n",
       "        <tr style=\"background-color: hsl(120, 100.00%, 90.63%); border: none;\">\n",
       "            <td style=\"padding: 0 1em 0 0.5em; text-align: right; border: none;\">\n",
       "                0.0600\n",
       "                \n",
       "                    &plusmn; 0.0256\n",
       "                \n",
       "            </td>\n",
       "            <td style=\"padding: 0 0.5em 0 0.5em; text-align: left; border: none;\">\n",
       "                tempo\n",
       "            </td>\n",
       "        </tr>\n",
       "    \n",
       "        <tr style=\"background-color: hsl(120, 100.00%, 90.85%); border: none;\">\n",
       "            <td style=\"padding: 0 1em 0 0.5em; text-align: right; border: none;\">\n",
       "                0.0580\n",
       "                \n",
       "                    &plusmn; 0.0259\n",
       "                \n",
       "            </td>\n",
       "            <td style=\"padding: 0 0.5em 0 0.5em; text-align: left; border: none;\">\n",
       "                rolloff_var\n",
       "            </td>\n",
       "        </tr>\n",
       "    \n",
       "        <tr style=\"background-color: hsl(120, 100.00%, 92.07%); border: none;\">\n",
       "            <td style=\"padding: 0 1em 0 0.5em; text-align: right; border: none;\">\n",
       "                0.0473\n",
       "                \n",
       "                    &plusmn; 0.0190\n",
       "                \n",
       "            </td>\n",
       "            <td style=\"padding: 0 0.5em 0 0.5em; text-align: left; border: none;\">\n",
       "                spectral_centroid_var\n",
       "            </td>\n",
       "        </tr>\n",
       "    \n",
       "        <tr style=\"background-color: hsl(120, 100.00%, 92.22%); border: none;\">\n",
       "            <td style=\"padding: 0 1em 0 0.5em; text-align: right; border: none;\">\n",
       "                0.0460\n",
       "                \n",
       "                    &plusmn; 0.0236\n",
       "                \n",
       "            </td>\n",
       "            <td style=\"padding: 0 0.5em 0 0.5em; text-align: left; border: none;\">\n",
       "                rolloff_mean\n",
       "            </td>\n",
       "        </tr>\n",
       "    \n",
       "        <tr style=\"background-color: hsl(120, 100.00%, 92.78%); border: none;\">\n",
       "            <td style=\"padding: 0 1em 0 0.5em; text-align: right; border: none;\">\n",
       "                0.0413\n",
       "                \n",
       "                    &plusmn; 0.0259\n",
       "                \n",
       "            </td>\n",
       "            <td style=\"padding: 0 0.5em 0 0.5em; text-align: left; border: none;\">\n",
       "                harmony_mean\n",
       "            </td>\n",
       "        </tr>\n",
       "    \n",
       "        <tr style=\"background-color: hsl(120, 100.00%, 93.53%); border: none;\">\n",
       "            <td style=\"padding: 0 1em 0 0.5em; text-align: right; border: none;\">\n",
       "                0.0353\n",
       "                \n",
       "                    &plusmn; 0.0131\n",
       "                \n",
       "            </td>\n",
       "            <td style=\"padding: 0 0.5em 0 0.5em; text-align: left; border: none;\">\n",
       "                rms_mean\n",
       "            </td>\n",
       "        </tr>\n",
       "    \n",
       "        <tr style=\"background-color: hsl(120, 100.00%, 93.79%); border: none;\">\n",
       "            <td style=\"padding: 0 1em 0 0.5em; text-align: right; border: none;\">\n",
       "                0.0333\n",
       "                \n",
       "                    &plusmn; 0.0140\n",
       "                \n",
       "            </td>\n",
       "            <td style=\"padding: 0 0.5em 0 0.5em; text-align: left; border: none;\">\n",
       "                zero_crossing_rate_mean\n",
       "            </td>\n",
       "        </tr>\n",
       "    \n",
       "        <tr style=\"background-color: hsl(120, 100.00%, 94.41%); border: none;\">\n",
       "            <td style=\"padding: 0 1em 0 0.5em; text-align: right; border: none;\">\n",
       "                0.0287\n",
       "                \n",
       "                    &plusmn; 0.0124\n",
       "                \n",
       "            </td>\n",
       "            <td style=\"padding: 0 0.5em 0 0.5em; text-align: left; border: none;\">\n",
       "                perceptr_var\n",
       "            </td>\n",
       "        </tr>\n",
       "    \n",
       "        <tr style=\"background-color: hsl(120, 100.00%, 95.56%); border: none;\">\n",
       "            <td style=\"padding: 0 1em 0 0.5em; text-align: right; border: none;\">\n",
       "                0.0207\n",
       "                \n",
       "                    &plusmn; 0.0088\n",
       "                \n",
       "            </td>\n",
       "            <td style=\"padding: 0 0.5em 0 0.5em; text-align: left; border: none;\">\n",
       "                spectral_centroid_mean\n",
       "            </td>\n",
       "        </tr>\n",
       "    \n",
       "        <tr style=\"background-color: hsl(120, 100.00%, 95.66%); border: none;\">\n",
       "            <td style=\"padding: 0 1em 0 0.5em; text-align: right; border: none;\">\n",
       "                0.0200\n",
       "                \n",
       "                    &plusmn; 0.0084\n",
       "                \n",
       "            </td>\n",
       "            <td style=\"padding: 0 0.5em 0 0.5em; text-align: left; border: none;\">\n",
       "                mfcc14_mean\n",
       "            </td>\n",
       "        </tr>\n",
       "    \n",
       "        <tr style=\"background-color: hsl(120, 100.00%, 95.97%); border: none;\">\n",
       "            <td style=\"padding: 0 1em 0 0.5em; text-align: right; border: none;\">\n",
       "                0.0180\n",
       "                \n",
       "                    &plusmn; 0.0108\n",
       "                \n",
       "            </td>\n",
       "            <td style=\"padding: 0 0.5em 0 0.5em; text-align: left; border: none;\">\n",
       "                mfcc8_mean\n",
       "            </td>\n",
       "        </tr>\n",
       "    \n",
       "        <tr style=\"background-color: hsl(120, 100.00%, 96.07%); border: none;\">\n",
       "            <td style=\"padding: 0 1em 0 0.5em; text-align: right; border: none;\">\n",
       "                0.0173\n",
       "                \n",
       "                    &plusmn; 0.0122\n",
       "                \n",
       "            </td>\n",
       "            <td style=\"padding: 0 0.5em 0 0.5em; text-align: left; border: none;\">\n",
       "                mfcc9_mean\n",
       "            </td>\n",
       "        </tr>\n",
       "    \n",
       "        <tr style=\"background-color: hsl(120, 100.00%, 96.29%); border: none;\">\n",
       "            <td style=\"padding: 0 1em 0 0.5em; text-align: right; border: none;\">\n",
       "                0.0160\n",
       "                \n",
       "                    &plusmn; 0.0136\n",
       "                \n",
       "            </td>\n",
       "            <td style=\"padding: 0 0.5em 0 0.5em; text-align: left; border: none;\">\n",
       "                mfcc16_mean\n",
       "            </td>\n",
       "        </tr>\n",
       "    \n",
       "        <tr style=\"background-color: hsl(120, 100.00%, 96.40%); border: none;\">\n",
       "            <td style=\"padding: 0 1em 0 0.5em; text-align: right; border: none;\">\n",
       "                0.0153\n",
       "                \n",
       "                    &plusmn; 0.0124\n",
       "                \n",
       "            </td>\n",
       "            <td style=\"padding: 0 0.5em 0 0.5em; text-align: left; border: none;\">\n",
       "                zero_crossing_rate_var\n",
       "            </td>\n",
       "        </tr>\n",
       "    \n",
       "    \n",
       "        \n",
       "            <tr style=\"background-color: hsl(120, 100.00%, 96.40%); border: none;\">\n",
       "                <td colspan=\"2\" style=\"padding: 0 0.5em 0 0.5em; text-align: center; border: none; white-space: nowrap;\">\n",
       "                    <i>&hellip; 37 more &hellip;</i>\n",
       "                </td>\n",
       "            </tr>\n",
       "        \n",
       "    \n",
       "    </tbody>\n",
       "</table>\n",
       "    \n",
       "\n",
       "    \n",
       "\n",
       "\n",
       "    \n",
       "\n",
       "    \n",
       "\n",
       "    \n",
       "\n",
       "    \n",
       "\n",
       "    \n",
       "\n",
       "    \n",
       "\n",
       "\n",
       "\n"
      ],
      "text/plain": [
       "<IPython.core.display.HTML object>"
      ]
     },
     "execution_count": 27,
     "metadata": {},
     "output_type": "execute_result"
    }
   ],
   "source": [
    "import eli5\n",
    "from eli5.sklearn import PermutationImportance\n",
    "\n",
    "perm = PermutationImportance(estimator=xgb, random_state=1)\n",
    "perm.fit(X_test, y_test2)\n",
    "\n",
    "eli5.show_weights(estimator=perm, feature_names = X_test.columns.tolist())"
   ]
  },
  {
   "cell_type": "code",
   "execution_count": null,
   "metadata": {},
   "outputs": [],
   "source": []
  }
 ],
 "metadata": {
  "kernelspec": {
   "display_name": "Python 3 (ipykernel)",
   "language": "python",
   "name": "python3"
  },
  "language_info": {
   "codemirror_mode": {
    "name": "ipython",
    "version": 3
   },
   "file_extension": ".py",
   "mimetype": "text/x-python",
   "name": "python",
   "nbconvert_exporter": "python",
   "pygments_lexer": "ipython3",
   "version": "3.10.10"
  },
  "orig_nbformat": 4,
  "vscode": {
   "interpreter": {
    "hash": "f34ef1cb52c7ccfbbf6725fcdf02413caf7ee180866be6c5f23cee5d40137ac0"
   }
  }
 },
 "nbformat": 4,
 "nbformat_minor": 2
}
