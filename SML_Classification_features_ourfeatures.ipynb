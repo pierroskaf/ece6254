{
 "cells": [
  {
   "attachments": {},
   "cell_type": "markdown",
   "metadata": {},
   "source": [
    "CONTENTS:\n",
    "1. ALL METHODS EXCEPT BOOSTERS\n",
    "2. PARAMETER TUNING\n",
    "3. BOOSTERS\n",
    "4. DIAGRAMS OF ALL METHODS\n",
    "5. FEATURE IMPORTANCE\n"
   ]
  },
  {
   "cell_type": "code",
   "execution_count": 1,
   "metadata": {},
   "outputs": [
    {
     "name": "stderr",
     "output_type": "stream",
     "text": [
      "/opt/miniconda3/envs/CondaEnv/lib/python3.10/site-packages/scipy/__init__.py:146: UserWarning: A NumPy version >=1.16.5 and <1.23.0 is required for this version of SciPy (detected version 1.23.5\n",
      "  warnings.warn(f\"A NumPy version >={np_minversion} and <{np_maxversion}\"\n"
     ]
    }
   ],
   "source": [
    "from sklearn.naive_bayes import GaussianNB\n",
    "from sklearn.linear_model import SGDClassifier, LogisticRegression\n",
    "from sklearn.preprocessing import LabelEncoder\n",
    "from sklearn.neighbors import KNeighborsClassifier\n",
    "from sklearn.tree import DecisionTreeClassifier\n",
    "from sklearn.ensemble import RandomForestClassifier\n",
    "from sklearn.svm import SVC\n",
    "from sklearn.neural_network import MLPClassifier\n",
    "from xgboost import XGBClassifier, XGBRFClassifier\n",
    "from xgboost import plot_tree, plot_importance\n",
    "\n",
    "from sklearn.metrics import confusion_matrix, accuracy_score, roc_auc_score, roc_curve\n",
    "from sklearn import preprocessing\n",
    "from sklearn.preprocessing import StandardScaler\n",
    "from sklearn.model_selection import train_test_split\n",
    "from sklearn.feature_selection import RFE\n",
    "import eli5\n",
    "from eli5.sklearn import PermutationImportance\n",
    "import tensorflow as tf\n",
    "from tensorflow import keras\n",
    "import keras\n",
    "from keras import layers\n",
    "from keras.models import Sequential\n",
    "from keras import regularizers\n",
    "import pandas as pd\n",
    "import numpy as np\n",
    "from tqdm import tqdm\n",
    "from sklearn.decomposition import PCA"
   ]
  },
  {
   "cell_type": "code",
   "execution_count": 2,
   "metadata": {},
   "outputs": [
    {
     "data": {
      "text/plain": "   chroma_stft_mean  chroma_stft_var  rms_mean   rms_var  \\\n0          0.350088         0.088757  0.130228  0.002827   \n1          0.340914         0.094980  0.095948  0.002373   \n2          0.363637         0.085275  0.175570  0.002746   \n3          0.404785         0.093999  0.141093  0.006346   \n4          0.308526         0.087841  0.091529  0.002303   \n\n   spectral_centroid_mean  spectral_centroid_var  spectral_bandwidth_mean  \\\n0             1784.165850          129774.064525              2002.449060   \n1             1530.176679          375850.073649              2039.036516   \n2             1552.811865          156467.643368              1747.702312   \n3             1070.106615          184355.942417              1596.412872   \n4             1835.004266          343399.939274              1748.172116   \n\n   spectral_bandwidth_var  rolloff_mean   rolloff_var  ...  mfcc16_var  \\\n0            85882.761315   3805.839606  9.015054e+05  ...   52.420910   \n1           213843.755497   3550.522098  2.977893e+06  ...   55.356403   \n2            76254.192257   3042.260232  7.840345e+05  ...   40.598766   \n3           166441.494769   2184.745799  1.493194e+06  ...   44.427753   \n4            88445.209036   3579.757627  1.572978e+06  ...   86.099236   \n\n   mfcc17_mean  mfcc17_var  mfcc18_mean  mfcc18_var  mfcc19_mean  mfcc19_var  \\\n0    -1.690215   36.524071    -0.408979   41.597103    -2.303523   55.062923   \n1    -0.731125   60.314529     0.295073   48.120598    -0.283518   51.106190   \n2    -7.729093   47.639427    -1.816407   52.382141    -3.439720   46.639660   \n3    -3.319597   50.206673     0.636965   37.319130    -0.619121   37.259739   \n4    -5.454034   75.269707    -0.916874   53.613918    -4.404827   62.910812   \n\n   mfcc20_mean  mfcc20_var  label  \n0     1.221291   46.936035  blues  \n1     0.531217   45.786282  blues  \n2    -2.231258   30.573025  blues  \n3    -3.407448   31.949339  blues  \n4   -11.703234   55.195160  blues  \n\n[5 rows x 58 columns]",
      "text/html": "<div>\n<style scoped>\n    .dataframe tbody tr th:only-of-type {\n        vertical-align: middle;\n    }\n\n    .dataframe tbody tr th {\n        vertical-align: top;\n    }\n\n    .dataframe thead th {\n        text-align: right;\n    }\n</style>\n<table border=\"1\" class=\"dataframe\">\n  <thead>\n    <tr style=\"text-align: right;\">\n      <th></th>\n      <th>chroma_stft_mean</th>\n      <th>chroma_stft_var</th>\n      <th>rms_mean</th>\n      <th>rms_var</th>\n      <th>spectral_centroid_mean</th>\n      <th>spectral_centroid_var</th>\n      <th>spectral_bandwidth_mean</th>\n      <th>spectral_bandwidth_var</th>\n      <th>rolloff_mean</th>\n      <th>rolloff_var</th>\n      <th>...</th>\n      <th>mfcc16_var</th>\n      <th>mfcc17_mean</th>\n      <th>mfcc17_var</th>\n      <th>mfcc18_mean</th>\n      <th>mfcc18_var</th>\n      <th>mfcc19_mean</th>\n      <th>mfcc19_var</th>\n      <th>mfcc20_mean</th>\n      <th>mfcc20_var</th>\n      <th>label</th>\n    </tr>\n  </thead>\n  <tbody>\n    <tr>\n      <th>0</th>\n      <td>0.350088</td>\n      <td>0.088757</td>\n      <td>0.130228</td>\n      <td>0.002827</td>\n      <td>1784.165850</td>\n      <td>129774.064525</td>\n      <td>2002.449060</td>\n      <td>85882.761315</td>\n      <td>3805.839606</td>\n      <td>9.015054e+05</td>\n      <td>...</td>\n      <td>52.420910</td>\n      <td>-1.690215</td>\n      <td>36.524071</td>\n      <td>-0.408979</td>\n      <td>41.597103</td>\n      <td>-2.303523</td>\n      <td>55.062923</td>\n      <td>1.221291</td>\n      <td>46.936035</td>\n      <td>blues</td>\n    </tr>\n    <tr>\n      <th>1</th>\n      <td>0.340914</td>\n      <td>0.094980</td>\n      <td>0.095948</td>\n      <td>0.002373</td>\n      <td>1530.176679</td>\n      <td>375850.073649</td>\n      <td>2039.036516</td>\n      <td>213843.755497</td>\n      <td>3550.522098</td>\n      <td>2.977893e+06</td>\n      <td>...</td>\n      <td>55.356403</td>\n      <td>-0.731125</td>\n      <td>60.314529</td>\n      <td>0.295073</td>\n      <td>48.120598</td>\n      <td>-0.283518</td>\n      <td>51.106190</td>\n      <td>0.531217</td>\n      <td>45.786282</td>\n      <td>blues</td>\n    </tr>\n    <tr>\n      <th>2</th>\n      <td>0.363637</td>\n      <td>0.085275</td>\n      <td>0.175570</td>\n      <td>0.002746</td>\n      <td>1552.811865</td>\n      <td>156467.643368</td>\n      <td>1747.702312</td>\n      <td>76254.192257</td>\n      <td>3042.260232</td>\n      <td>7.840345e+05</td>\n      <td>...</td>\n      <td>40.598766</td>\n      <td>-7.729093</td>\n      <td>47.639427</td>\n      <td>-1.816407</td>\n      <td>52.382141</td>\n      <td>-3.439720</td>\n      <td>46.639660</td>\n      <td>-2.231258</td>\n      <td>30.573025</td>\n      <td>blues</td>\n    </tr>\n    <tr>\n      <th>3</th>\n      <td>0.404785</td>\n      <td>0.093999</td>\n      <td>0.141093</td>\n      <td>0.006346</td>\n      <td>1070.106615</td>\n      <td>184355.942417</td>\n      <td>1596.412872</td>\n      <td>166441.494769</td>\n      <td>2184.745799</td>\n      <td>1.493194e+06</td>\n      <td>...</td>\n      <td>44.427753</td>\n      <td>-3.319597</td>\n      <td>50.206673</td>\n      <td>0.636965</td>\n      <td>37.319130</td>\n      <td>-0.619121</td>\n      <td>37.259739</td>\n      <td>-3.407448</td>\n      <td>31.949339</td>\n      <td>blues</td>\n    </tr>\n    <tr>\n      <th>4</th>\n      <td>0.308526</td>\n      <td>0.087841</td>\n      <td>0.091529</td>\n      <td>0.002303</td>\n      <td>1835.004266</td>\n      <td>343399.939274</td>\n      <td>1748.172116</td>\n      <td>88445.209036</td>\n      <td>3579.757627</td>\n      <td>1.572978e+06</td>\n      <td>...</td>\n      <td>86.099236</td>\n      <td>-5.454034</td>\n      <td>75.269707</td>\n      <td>-0.916874</td>\n      <td>53.613918</td>\n      <td>-4.404827</td>\n      <td>62.910812</td>\n      <td>-11.703234</td>\n      <td>55.195160</td>\n      <td>blues</td>\n    </tr>\n  </tbody>\n</table>\n<p>5 rows × 58 columns</p>\n</div>"
     },
     "execution_count": 2,
     "metadata": {},
     "output_type": "execute_result"
    }
   ],
   "source": [
    "\n",
    "data = pd.read_csv('features_30_sec.csv')\n",
    "data = data.drop([\"filename\",\"length\"], axis=1)\n",
    "data.head()"
   ]
  },
  {
   "cell_type": "code",
   "execution_count": 3,
   "metadata": {},
   "outputs": [],
   "source": [
    "y = data['label'] # genre variable.\n",
    "X = data.loc[:, data.columns != 'label'] #select all columns but not the labels\n",
    "\n",
    "# pca = PCA(n_components=30)\n",
    "# principalComponents = pca.fit_transform(X)\n",
    "# X = pd.DataFrame(data = principalComponents, columns = ['pc 1', 'pc 2', 'pc 3', 'pc 4', 'pc 5', 'pc 6', 'pc 7', 'pc 8', 'pc 9', 'pc 10', 'pc 11', 'pc 12', 'pc 13', 'pc 14', 'pc 15', 'pc 16', 'pc 17', 'pc 18', 'pc 19', 'pc 20', 'pc 21', 'pc 22', 'pc 23', 'pc 24', 'pc 25', 'pc 26', 'pc 27', 'pc 28', 'pc 29', 'pc 30'])\n",
    "\n",
    "#### Standardize X ####\n",
    "cols = X.columns\n",
    "scaler = StandardScaler()\n",
    "np_scaled = scaler.fit_transform(X)\n",
    "\n",
    "# new data frame with the new scaled data. \n",
    "X = pd.DataFrame(np_scaled, columns = cols)"
   ]
  },
  {
   "cell_type": "code",
   "execution_count": 5,
   "metadata": {},
   "outputs": [],
   "source": [
    "X_train, X_test, y_train, y_test = train_test_split(X, y, test_size=0.2, random_state=42)\n",
    "X_train, X_val, y_train, y_val = train_test_split(X_train, y_train, test_size=0.2)\n",
    "\n",
    "# Transform Data for Sequantial NN and Boosters\n",
    "le = LabelEncoder()\n",
    "y_train2 = le.fit_transform(y_train)\n",
    "y_val2 = le.fit_transform(y_val)\n",
    "y_test2 =le.fit_transform(y_test)"
   ]
  },
  {
   "cell_type": "code",
   "execution_count": 7,
   "metadata": {},
   "outputs": [],
   "source": [
    "def model_assess(model, title = \"Default\"):\n",
    "    model.fit(X_train, y_train)\n",
    "    preds = model.predict(X_test)\n",
    "    print('Accuracy', title, ':', round(accuracy_score(y_test, preds), 5), '\\n')\n",
    "    return round(accuracy_score(y_test, preds), 5)"
   ]
  },
  {
   "cell_type": "code",
   "execution_count": 61,
   "metadata": {},
   "outputs": [
    {
     "data": {
      "text/plain": "0.64375"
     },
     "execution_count": 61,
     "metadata": {},
     "output_type": "execute_result"
    }
   ],
   "source": [
    "# Naive Bayes\n",
    "\n",
    "nb = GaussianNB()\n",
    "model_assess(nb, \"Naive Bayes\")\n",
    "\n",
    "# Stochastic Gradient Descent\n",
    "sgd = SGDClassifier(max_iter=5000, random_state=0)\n",
    "model_assess(sgd, \"Stochastic Gradient Descent\")\n",
    "\n",
    "# KNN\n",
    "knn = KNeighborsClassifier(n_neighbors=1)\n",
    "model_assess(knn, \"KNN\")\n",
    "\n",
    "# Decission trees\n",
    "tree = DecisionTreeClassifier()\n",
    "model_assess(tree, \"Decission trees\")\n",
    "\n",
    "# Random Forest\n",
    "rforest = RandomForestClassifier(n_estimators=1000, max_depth=10, random_state=0)\n",
    "model_assess(rforest, \"Random Forest\")\n",
    "\n",
    "# Support Vector Machine\n",
    "svm = SVC(decision_function_shape=\"ovo\")\n",
    "model_assess(svm, \"Support Vector Machine\")\n",
    "\n",
    "# Logistic Regression\n",
    "#lg = LogisticRegression(random_state=0, solver='lbfgs', multi_class='multinomial')\n",
    "#model_assess(lg, \"Logistic Regression\")\n",
    "\n",
    "# Neural Nets\n",
    "nn = MLPClassifier(solver='lbfgs', alpha=5.2631578947368424e-05, hidden_layer_sizes=(5000, 10), random_state=1)\n",
    "model_assess(nn, \"Neural Nets\")\n",
    "\n",
    "#BOOSTERS AT THE END\n"
   ]
  },
  {
   "cell_type": "code",
   "execution_count": 13,
   "outputs": [
    {
     "name": "stdout",
     "output_type": "stream",
     "text": [
      "Accuracy Decission trees : 0.425 \n",
      "\n"
     ]
    },
    {
     "data": {
      "text/plain": "0.425"
     },
     "execution_count": 13,
     "metadata": {},
     "output_type": "execute_result"
    }
   ],
   "source": [
    "tree = DecisionTreeClassifier()\n",
    "model_assess(tree, \"Decission trees\")"
   ],
   "metadata": {
    "collapsed": false
   }
  },
  {
   "attachments": {},
   "cell_type": "markdown",
   "metadata": {},
   "source": [
    "PARAMETER TUNING"
   ]
  },
  {
   "attachments": {},
   "cell_type": "markdown",
   "metadata": {},
   "source": [
    "NEURAL NETWORK"
   ]
  },
  {
   "cell_type": "code",
   "execution_count": 12,
   "outputs": [
    {
     "name": "stderr",
     "output_type": "stream",
     "text": [
      "WARNING:absl:At this time, the v2.11+ optimizer `tf.keras.optimizers.Adam` runs slowly on M1/M2 Macs, please use the legacy Keras optimizer instead, located at `tf.keras.optimizers.legacy.Adam`.\n",
      "WARNING:absl:There is a known slowdown when using v2.11+ Keras optimizers on M1/M2 Macs. Falling back to the legacy Keras optimizer, i.e., `tf.keras.optimizers.legacy.Adam`.\n"
     ]
    },
    {
     "name": "stdout",
     "output_type": "stream",
     "text": [
      "Model: \"sequential_5\"\n",
      "_________________________________________________________________\n",
      " Layer (type)                Output Shape              Param #   \n",
      "=================================================================\n",
      " dense_10 (Dense)            (None, 100)               5800      \n",
      "                                                                 \n",
      " dropout_4 (Dropout)         (None, 100)               0         \n",
      "                                                                 \n",
      " dense_11 (Dense)            (None, 10)                1010      \n",
      "                                                                 \n",
      "=================================================================\n",
      "Total params: 6,810\n",
      "Trainable params: 6,810\n",
      "Non-trainable params: 0\n",
      "_________________________________________________________________\n",
      "None\n",
      "Epoch 1/200\n",
      "10/10 [==============================] - 1s 41ms/step - loss: 2.5123 - accuracy: 0.1047 - val_loss: 2.2943 - val_accuracy: 0.0938\n",
      "Epoch 2/200\n",
      "10/10 [==============================] - 0s 30ms/step - loss: 2.2284 - accuracy: 0.1516 - val_loss: 2.0419 - val_accuracy: 0.2000\n",
      "Epoch 3/200\n",
      "10/10 [==============================] - 0s 23ms/step - loss: 2.0517 - accuracy: 0.2609 - val_loss: 1.8486 - val_accuracy: 0.3688\n",
      "Epoch 4/200\n",
      "10/10 [==============================] - 0s 29ms/step - loss: 1.8815 - accuracy: 0.3156 - val_loss: 1.7083 - val_accuracy: 0.4375\n",
      "Epoch 5/200\n",
      "10/10 [==============================] - 0s 23ms/step - loss: 1.7819 - accuracy: 0.3688 - val_loss: 1.6010 - val_accuracy: 0.4813\n",
      "Epoch 6/200\n",
      "10/10 [==============================] - 0s 22ms/step - loss: 1.6719 - accuracy: 0.4094 - val_loss: 1.5264 - val_accuracy: 0.4938\n",
      "Epoch 7/200\n",
      "10/10 [==============================] - 0s 23ms/step - loss: 1.6071 - accuracy: 0.4422 - val_loss: 1.4657 - val_accuracy: 0.5125\n",
      "Epoch 8/200\n",
      "10/10 [==============================] - 0s 24ms/step - loss: 1.5451 - accuracy: 0.4453 - val_loss: 1.4128 - val_accuracy: 0.5125\n",
      "Epoch 9/200\n",
      "10/10 [==============================] - 0s 35ms/step - loss: 1.4817 - accuracy: 0.4938 - val_loss: 1.3676 - val_accuracy: 0.5437\n",
      "Epoch 10/200\n",
      "10/10 [==============================] - 0s 21ms/step - loss: 1.4165 - accuracy: 0.5078 - val_loss: 1.3275 - val_accuracy: 0.5500\n",
      "Epoch 11/200\n",
      "10/10 [==============================] - 0s 24ms/step - loss: 1.3772 - accuracy: 0.5156 - val_loss: 1.2929 - val_accuracy: 0.5625\n",
      "Epoch 12/200\n",
      "10/10 [==============================] - 0s 18ms/step - loss: 1.3727 - accuracy: 0.5156 - val_loss: 1.2619 - val_accuracy: 0.5625\n",
      "Epoch 13/200\n",
      "10/10 [==============================] - 0s 25ms/step - loss: 1.3024 - accuracy: 0.5547 - val_loss: 1.2348 - val_accuracy: 0.5875\n",
      "Epoch 14/200\n",
      "10/10 [==============================] - 0s 23ms/step - loss: 1.2839 - accuracy: 0.5641 - val_loss: 1.2091 - val_accuracy: 0.5688\n",
      "Epoch 15/200\n",
      "10/10 [==============================] - 0s 21ms/step - loss: 1.2471 - accuracy: 0.5844 - val_loss: 1.1849 - val_accuracy: 0.5688\n",
      "Epoch 16/200\n",
      "10/10 [==============================] - 0s 22ms/step - loss: 1.2077 - accuracy: 0.5891 - val_loss: 1.1668 - val_accuracy: 0.5813\n",
      "Epoch 17/200\n",
      "10/10 [==============================] - 0s 23ms/step - loss: 1.1890 - accuracy: 0.6078 - val_loss: 1.1450 - val_accuracy: 0.5938\n",
      "Epoch 18/200\n",
      "10/10 [==============================] - 0s 24ms/step - loss: 1.1593 - accuracy: 0.6141 - val_loss: 1.1278 - val_accuracy: 0.6000\n",
      "Epoch 19/200\n",
      "10/10 [==============================] - 0s 26ms/step - loss: 1.1271 - accuracy: 0.6438 - val_loss: 1.1097 - val_accuracy: 0.6062\n",
      "Epoch 20/200\n",
      "10/10 [==============================] - 0s 19ms/step - loss: 1.0959 - accuracy: 0.6453 - val_loss: 1.0958 - val_accuracy: 0.6250\n",
      "Epoch 21/200\n",
      "10/10 [==============================] - 0s 21ms/step - loss: 1.1123 - accuracy: 0.6188 - val_loss: 1.0833 - val_accuracy: 0.6313\n",
      "Epoch 22/200\n",
      "10/10 [==============================] - 0s 22ms/step - loss: 1.0579 - accuracy: 0.6578 - val_loss: 1.0692 - val_accuracy: 0.6250\n",
      "Epoch 23/200\n",
      "10/10 [==============================] - 0s 26ms/step - loss: 1.0291 - accuracy: 0.6656 - val_loss: 1.0567 - val_accuracy: 0.6250\n",
      "Epoch 24/200\n",
      "10/10 [==============================] - 0s 24ms/step - loss: 1.0011 - accuracy: 0.6656 - val_loss: 1.0434 - val_accuracy: 0.6313\n",
      "Epoch 25/200\n",
      "10/10 [==============================] - 0s 26ms/step - loss: 0.9867 - accuracy: 0.6734 - val_loss: 1.0302 - val_accuracy: 0.6438\n",
      "Epoch 26/200\n",
      "10/10 [==============================] - 0s 30ms/step - loss: 0.9997 - accuracy: 0.6906 - val_loss: 1.0179 - val_accuracy: 0.6438\n",
      "Epoch 27/200\n",
      "10/10 [==============================] - 0s 27ms/step - loss: 0.9514 - accuracy: 0.7125 - val_loss: 1.0074 - val_accuracy: 0.6500\n",
      "Epoch 28/200\n",
      "10/10 [==============================] - 0s 19ms/step - loss: 0.9268 - accuracy: 0.6938 - val_loss: 0.9972 - val_accuracy: 0.6438\n",
      "Epoch 29/200\n",
      "10/10 [==============================] - 0s 27ms/step - loss: 0.9092 - accuracy: 0.7203 - val_loss: 0.9866 - val_accuracy: 0.6438\n",
      "Epoch 30/200\n",
      "10/10 [==============================] - 0s 25ms/step - loss: 0.9060 - accuracy: 0.7234 - val_loss: 0.9776 - val_accuracy: 0.6313\n",
      "Epoch 31/200\n",
      "10/10 [==============================] - 0s 15ms/step - loss: 0.8993 - accuracy: 0.7312 - val_loss: 0.9724 - val_accuracy: 0.6313\n",
      "Epoch 32/200\n",
      "10/10 [==============================] - 0s 23ms/step - loss: 0.8771 - accuracy: 0.7188 - val_loss: 0.9642 - val_accuracy: 0.6375\n",
      "Epoch 33/200\n",
      "10/10 [==============================] - 0s 23ms/step - loss: 0.8656 - accuracy: 0.7219 - val_loss: 0.9560 - val_accuracy: 0.6313\n",
      "Epoch 34/200\n",
      "10/10 [==============================] - 0s 27ms/step - loss: 0.8523 - accuracy: 0.7344 - val_loss: 0.9480 - val_accuracy: 0.6438\n",
      "Epoch 35/200\n",
      "10/10 [==============================] - 0s 24ms/step - loss: 0.8351 - accuracy: 0.7547 - val_loss: 0.9433 - val_accuracy: 0.6438\n",
      "Epoch 36/200\n",
      "10/10 [==============================] - 0s 25ms/step - loss: 0.8550 - accuracy: 0.7391 - val_loss: 0.9336 - val_accuracy: 0.6562\n",
      "Epoch 37/200\n",
      "10/10 [==============================] - 0s 26ms/step - loss: 0.8188 - accuracy: 0.7375 - val_loss: 0.9247 - val_accuracy: 0.6562\n",
      "Epoch 38/200\n",
      "10/10 [==============================] - 0s 25ms/step - loss: 0.7850 - accuracy: 0.7609 - val_loss: 0.9189 - val_accuracy: 0.6562\n",
      "Epoch 39/200\n",
      "10/10 [==============================] - 0s 31ms/step - loss: 0.7899 - accuracy: 0.7516 - val_loss: 0.9164 - val_accuracy: 0.6625\n",
      "Epoch 40/200\n",
      "10/10 [==============================] - 0s 16ms/step - loss: 0.7620 - accuracy: 0.7703 - val_loss: 0.9127 - val_accuracy: 0.6687\n",
      "Epoch 41/200\n",
      "10/10 [==============================] - 0s 25ms/step - loss: 0.7766 - accuracy: 0.7516 - val_loss: 0.9072 - val_accuracy: 0.6687\n",
      "Epoch 42/200\n",
      "10/10 [==============================] - 0s 26ms/step - loss: 0.7505 - accuracy: 0.7812 - val_loss: 0.9031 - val_accuracy: 0.6750\n",
      "Epoch 43/200\n",
      "10/10 [==============================] - 0s 24ms/step - loss: 0.7657 - accuracy: 0.7641 - val_loss: 0.9002 - val_accuracy: 0.6875\n",
      "Epoch 44/200\n",
      "10/10 [==============================] - 0s 25ms/step - loss: 0.7445 - accuracy: 0.7625 - val_loss: 0.8948 - val_accuracy: 0.6750\n",
      "Epoch 45/200\n",
      "10/10 [==============================] - 0s 26ms/step - loss: 0.7525 - accuracy: 0.7641 - val_loss: 0.8859 - val_accuracy: 0.6750\n",
      "Epoch 46/200\n",
      "10/10 [==============================] - 0s 28ms/step - loss: 0.7163 - accuracy: 0.7766 - val_loss: 0.8790 - val_accuracy: 0.6625\n",
      "Epoch 47/200\n",
      "10/10 [==============================] - 0s 27ms/step - loss: 0.7031 - accuracy: 0.7859 - val_loss: 0.8758 - val_accuracy: 0.6750\n",
      "Epoch 48/200\n",
      "10/10 [==============================] - 0s 26ms/step - loss: 0.7045 - accuracy: 0.7797 - val_loss: 0.8761 - val_accuracy: 0.6750\n",
      "Epoch 49/200\n",
      "10/10 [==============================] - 0s 26ms/step - loss: 0.6881 - accuracy: 0.7734 - val_loss: 0.8725 - val_accuracy: 0.6813\n",
      "Epoch 50/200\n",
      "10/10 [==============================] - 0s 18ms/step - loss: 0.6897 - accuracy: 0.7734 - val_loss: 0.8701 - val_accuracy: 0.6875\n",
      "Epoch 51/200\n",
      "10/10 [==============================] - 0s 25ms/step - loss: 0.6539 - accuracy: 0.8031 - val_loss: 0.8678 - val_accuracy: 0.6938\n",
      "Epoch 52/200\n",
      "10/10 [==============================] - 0s 26ms/step - loss: 0.6438 - accuracy: 0.7953 - val_loss: 0.8633 - val_accuracy: 0.6875\n",
      "Epoch 53/200\n",
      "10/10 [==============================] - 0s 27ms/step - loss: 0.6653 - accuracy: 0.7875 - val_loss: 0.8628 - val_accuracy: 0.6875\n",
      "Epoch 54/200\n",
      "10/10 [==============================] - 0s 21ms/step - loss: 0.6634 - accuracy: 0.8000 - val_loss: 0.8628 - val_accuracy: 0.6750\n",
      "Epoch 55/200\n",
      "10/10 [==============================] - 0s 26ms/step - loss: 0.6478 - accuracy: 0.8063 - val_loss: 0.8567 - val_accuracy: 0.6875\n",
      "Epoch 56/200\n",
      "10/10 [==============================] - 0s 32ms/step - loss: 0.6413 - accuracy: 0.8094 - val_loss: 0.8494 - val_accuracy: 0.6938\n",
      "Epoch 57/200\n",
      "10/10 [==============================] - 0s 27ms/step - loss: 0.6103 - accuracy: 0.8234 - val_loss: 0.8439 - val_accuracy: 0.7000\n",
      "Epoch 58/200\n",
      "10/10 [==============================] - 0s 27ms/step - loss: 0.6243 - accuracy: 0.8078 - val_loss: 0.8419 - val_accuracy: 0.7063\n",
      "Epoch 59/200\n",
      "10/10 [==============================] - 0s 27ms/step - loss: 0.6065 - accuracy: 0.8125 - val_loss: 0.8409 - val_accuracy: 0.7000\n",
      "Epoch 60/200\n",
      "10/10 [==============================] - 0s 23ms/step - loss: 0.6106 - accuracy: 0.8219 - val_loss: 0.8393 - val_accuracy: 0.7000\n",
      "Epoch 61/200\n",
      "10/10 [==============================] - 0s 26ms/step - loss: 0.5986 - accuracy: 0.8109 - val_loss: 0.8380 - val_accuracy: 0.7125\n",
      "Epoch 62/200\n",
      "10/10 [==============================] - 0s 29ms/step - loss: 0.5972 - accuracy: 0.8250 - val_loss: 0.8362 - val_accuracy: 0.7063\n",
      "Epoch 63/200\n",
      "10/10 [==============================] - 0s 30ms/step - loss: 0.6124 - accuracy: 0.8109 - val_loss: 0.8326 - val_accuracy: 0.7000\n",
      "Epoch 64/200\n",
      "10/10 [==============================] - 0s 27ms/step - loss: 0.5944 - accuracy: 0.8141 - val_loss: 0.8312 - val_accuracy: 0.7063\n",
      "Epoch 65/200\n",
      "10/10 [==============================] - 0s 30ms/step - loss: 0.5729 - accuracy: 0.8109 - val_loss: 0.8258 - val_accuracy: 0.7063\n",
      "Epoch 66/200\n",
      "10/10 [==============================] - 0s 26ms/step - loss: 0.5513 - accuracy: 0.8391 - val_loss: 0.8252 - val_accuracy: 0.7125\n",
      "Epoch 67/200\n",
      "10/10 [==============================] - 0s 21ms/step - loss: 0.5585 - accuracy: 0.8188 - val_loss: 0.8280 - val_accuracy: 0.7063\n",
      "Epoch 68/200\n",
      "10/10 [==============================] - 0s 22ms/step - loss: 0.5413 - accuracy: 0.8422 - val_loss: 0.8276 - val_accuracy: 0.7063\n",
      "Epoch 69/200\n",
      "10/10 [==============================] - 0s 23ms/step - loss: 0.5897 - accuracy: 0.8188 - val_loss: 0.8218 - val_accuracy: 0.7188\n",
      "Epoch 70/200\n",
      "10/10 [==============================] - 0s 28ms/step - loss: 0.5343 - accuracy: 0.8469 - val_loss: 0.8181 - val_accuracy: 0.7188\n",
      "Epoch 71/200\n",
      "10/10 [==============================] - 0s 19ms/step - loss: 0.5248 - accuracy: 0.8594 - val_loss: 0.8147 - val_accuracy: 0.7063\n",
      "Epoch 72/200\n",
      "10/10 [==============================] - 0s 16ms/step - loss: 0.5325 - accuracy: 0.8453 - val_loss: 0.8174 - val_accuracy: 0.7063\n",
      "Epoch 73/200\n",
      "10/10 [==============================] - 0s 28ms/step - loss: 0.5474 - accuracy: 0.8344 - val_loss: 0.8148 - val_accuracy: 0.7125\n",
      "Epoch 74/200\n",
      "10/10 [==============================] - 0s 28ms/step - loss: 0.5201 - accuracy: 0.8484 - val_loss: 0.8126 - val_accuracy: 0.7063\n",
      "Epoch 75/200\n",
      "10/10 [==============================] - 0s 34ms/step - loss: 0.5038 - accuracy: 0.8578 - val_loss: 0.8116 - val_accuracy: 0.7063\n",
      "Epoch 76/200\n",
      "10/10 [==============================] - 0s 20ms/step - loss: 0.5264 - accuracy: 0.8375 - val_loss: 0.8090 - val_accuracy: 0.7000\n",
      "Epoch 77/200\n",
      "10/10 [==============================] - 0s 24ms/step - loss: 0.4990 - accuracy: 0.8594 - val_loss: 0.8074 - val_accuracy: 0.7125\n",
      "Epoch 78/200\n",
      "10/10 [==============================] - 0s 27ms/step - loss: 0.5175 - accuracy: 0.8391 - val_loss: 0.8073 - val_accuracy: 0.7063\n",
      "Epoch 79/200\n",
      "10/10 [==============================] - 0s 35ms/step - loss: 0.4864 - accuracy: 0.8594 - val_loss: 0.8108 - val_accuracy: 0.7000\n",
      "Epoch 80/200\n",
      "10/10 [==============================] - 0s 27ms/step - loss: 0.4718 - accuracy: 0.8719 - val_loss: 0.8085 - val_accuracy: 0.7063\n",
      "Epoch 81/200\n",
      "10/10 [==============================] - 0s 29ms/step - loss: 0.4976 - accuracy: 0.8406 - val_loss: 0.8061 - val_accuracy: 0.7063\n",
      "Epoch 82/200\n",
      "10/10 [==============================] - 0s 16ms/step - loss: 0.4884 - accuracy: 0.8656 - val_loss: 0.8088 - val_accuracy: 0.7063\n",
      "Epoch 83/200\n",
      "10/10 [==============================] - 0s 20ms/step - loss: 0.4759 - accuracy: 0.8578 - val_loss: 0.8081 - val_accuracy: 0.7063\n",
      "Epoch 84/200\n",
      "10/10 [==============================] - 0s 29ms/step - loss: 0.4757 - accuracy: 0.8562 - val_loss: 0.8075 - val_accuracy: 0.7063\n",
      "Epoch 85/200\n",
      "10/10 [==============================] - 0s 22ms/step - loss: 0.4769 - accuracy: 0.8562 - val_loss: 0.8104 - val_accuracy: 0.7125\n",
      "Epoch 86/200\n",
      "10/10 [==============================] - 0s 24ms/step - loss: 0.4729 - accuracy: 0.8531 - val_loss: 0.8120 - val_accuracy: 0.7250\n",
      "Epoch 87/200\n",
      "10/10 [==============================] - 0s 24ms/step - loss: 0.4477 - accuracy: 0.8672 - val_loss: 0.8138 - val_accuracy: 0.7250\n",
      "Epoch 88/200\n",
      "10/10 [==============================] - 0s 25ms/step - loss: 0.4659 - accuracy: 0.8719 - val_loss: 0.8114 - val_accuracy: 0.7188\n",
      "Epoch 89/200\n",
      "10/10 [==============================] - 0s 24ms/step - loss: 0.4423 - accuracy: 0.8813 - val_loss: 0.8103 - val_accuracy: 0.7250\n",
      "Epoch 90/200\n",
      "10/10 [==============================] - 0s 24ms/step - loss: 0.4317 - accuracy: 0.8875 - val_loss: 0.8050 - val_accuracy: 0.7125\n",
      "Epoch 91/200\n",
      "10/10 [==============================] - 0s 38ms/step - loss: 0.4453 - accuracy: 0.8750 - val_loss: 0.8035 - val_accuracy: 0.7125\n",
      "Epoch 92/200\n",
      "10/10 [==============================] - 0s 25ms/step - loss: 0.4411 - accuracy: 0.8922 - val_loss: 0.8041 - val_accuracy: 0.7188\n",
      "Epoch 93/200\n",
      "10/10 [==============================] - 0s 28ms/step - loss: 0.4288 - accuracy: 0.8813 - val_loss: 0.8067 - val_accuracy: 0.7188\n",
      "Epoch 94/200\n",
      "10/10 [==============================] - 0s 26ms/step - loss: 0.4271 - accuracy: 0.8875 - val_loss: 0.8055 - val_accuracy: 0.7188\n",
      "Epoch 95/200\n",
      "10/10 [==============================] - 0s 26ms/step - loss: 0.4232 - accuracy: 0.8859 - val_loss: 0.8023 - val_accuracy: 0.7188\n",
      "Epoch 96/200\n",
      "10/10 [==============================] - 0s 28ms/step - loss: 0.4135 - accuracy: 0.8781 - val_loss: 0.8007 - val_accuracy: 0.7250\n",
      "Epoch 97/200\n",
      "10/10 [==============================] - 0s 25ms/step - loss: 0.4166 - accuracy: 0.8703 - val_loss: 0.7976 - val_accuracy: 0.7188\n",
      "Epoch 98/200\n",
      "10/10 [==============================] - 0s 22ms/step - loss: 0.4028 - accuracy: 0.9000 - val_loss: 0.7954 - val_accuracy: 0.7188\n",
      "Epoch 99/200\n",
      "10/10 [==============================] - 0s 28ms/step - loss: 0.4070 - accuracy: 0.8859 - val_loss: 0.7945 - val_accuracy: 0.7188\n",
      "Epoch 100/200\n",
      "10/10 [==============================] - 0s 26ms/step - loss: 0.4045 - accuracy: 0.9000 - val_loss: 0.8008 - val_accuracy: 0.7188\n",
      "Epoch 101/200\n",
      "10/10 [==============================] - 0s 21ms/step - loss: 0.3881 - accuracy: 0.8875 - val_loss: 0.8043 - val_accuracy: 0.7125\n",
      "Epoch 102/200\n",
      "10/10 [==============================] - 0s 21ms/step - loss: 0.4124 - accuracy: 0.8828 - val_loss: 0.8086 - val_accuracy: 0.7188\n",
      "Epoch 103/200\n",
      "10/10 [==============================] - 0s 34ms/step - loss: 0.4034 - accuracy: 0.8969 - val_loss: 0.8101 - val_accuracy: 0.7188\n",
      "Epoch 104/200\n",
      "10/10 [==============================] - 0s 25ms/step - loss: 0.3934 - accuracy: 0.8875 - val_loss: 0.8089 - val_accuracy: 0.7125\n",
      "Epoch 105/200\n",
      "10/10 [==============================] - 0s 24ms/step - loss: 0.3952 - accuracy: 0.8953 - val_loss: 0.8149 - val_accuracy: 0.7063\n",
      "Epoch 106/200\n",
      "10/10 [==============================] - 0s 28ms/step - loss: 0.3981 - accuracy: 0.8891 - val_loss: 0.8120 - val_accuracy: 0.7125\n",
      "Epoch 107/200\n",
      "10/10 [==============================] - 0s 28ms/step - loss: 0.3785 - accuracy: 0.8953 - val_loss: 0.8085 - val_accuracy: 0.7125\n",
      "Epoch 108/200\n",
      "10/10 [==============================] - 0s 15ms/step - loss: 0.3820 - accuracy: 0.9031 - val_loss: 0.8058 - val_accuracy: 0.7063\n",
      "Epoch 109/200\n",
      "10/10 [==============================] - 0s 24ms/step - loss: 0.3580 - accuracy: 0.9031 - val_loss: 0.8010 - val_accuracy: 0.7125\n",
      "Epoch 110/200\n",
      "10/10 [==============================] - 0s 24ms/step - loss: 0.3788 - accuracy: 0.8922 - val_loss: 0.8013 - val_accuracy: 0.7250\n",
      "Epoch 111/200\n",
      "10/10 [==============================] - 0s 24ms/step - loss: 0.3798 - accuracy: 0.8922 - val_loss: 0.8032 - val_accuracy: 0.7250\n",
      "Epoch 112/200\n",
      "10/10 [==============================] - 0s 25ms/step - loss: 0.3665 - accuracy: 0.8984 - val_loss: 0.8106 - val_accuracy: 0.7188\n",
      "Epoch 113/200\n",
      "10/10 [==============================] - 0s 19ms/step - loss: 0.3372 - accuracy: 0.9172 - val_loss: 0.8137 - val_accuracy: 0.7188\n",
      "Epoch 114/200\n",
      "10/10 [==============================] - 0s 24ms/step - loss: 0.3557 - accuracy: 0.9031 - val_loss: 0.8068 - val_accuracy: 0.7125\n",
      "Epoch 115/200\n",
      "10/10 [==============================] - 0s 25ms/step - loss: 0.3675 - accuracy: 0.9031 - val_loss: 0.8047 - val_accuracy: 0.7188\n",
      "Epoch 116/200\n",
      "10/10 [==============================] - 0s 25ms/step - loss: 0.3595 - accuracy: 0.8969 - val_loss: 0.8061 - val_accuracy: 0.7188\n",
      "Epoch 117/200\n",
      "10/10 [==============================] - 0s 22ms/step - loss: 0.3438 - accuracy: 0.9109 - val_loss: 0.8118 - val_accuracy: 0.7312\n",
      "Epoch 118/200\n",
      "10/10 [==============================] - 0s 24ms/step - loss: 0.3480 - accuracy: 0.9094 - val_loss: 0.8126 - val_accuracy: 0.7188\n",
      "Epoch 119/200\n",
      "10/10 [==============================] - 0s 24ms/step - loss: 0.3467 - accuracy: 0.9109 - val_loss: 0.8131 - val_accuracy: 0.7250\n",
      "Epoch 120/200\n",
      "10/10 [==============================] - 0s 26ms/step - loss: 0.3459 - accuracy: 0.9109 - val_loss: 0.8106 - val_accuracy: 0.7250\n",
      "Epoch 121/200\n",
      "10/10 [==============================] - 0s 23ms/step - loss: 0.3332 - accuracy: 0.9219 - val_loss: 0.8114 - val_accuracy: 0.7250\n",
      "Epoch 122/200\n",
      "10/10 [==============================] - 0s 29ms/step - loss: 0.3221 - accuracy: 0.9203 - val_loss: 0.8117 - val_accuracy: 0.7250\n",
      "Epoch 123/200\n",
      "10/10 [==============================] - 0s 21ms/step - loss: 0.3325 - accuracy: 0.9187 - val_loss: 0.8111 - val_accuracy: 0.7250\n",
      "Epoch 124/200\n",
      "10/10 [==============================] - 0s 24ms/step - loss: 0.3391 - accuracy: 0.9109 - val_loss: 0.8102 - val_accuracy: 0.7250\n",
      "Epoch 125/200\n",
      "10/10 [==============================] - 0s 34ms/step - loss: 0.3367 - accuracy: 0.9234 - val_loss: 0.8043 - val_accuracy: 0.7312\n",
      "Epoch 126/200\n",
      "10/10 [==============================] - 0s 27ms/step - loss: 0.3231 - accuracy: 0.9125 - val_loss: 0.8056 - val_accuracy: 0.7312\n",
      "Epoch 127/200\n",
      "10/10 [==============================] - 0s 26ms/step - loss: 0.3120 - accuracy: 0.9219 - val_loss: 0.8098 - val_accuracy: 0.7312\n",
      "Epoch 128/200\n",
      "10/10 [==============================] - 0s 25ms/step - loss: 0.3252 - accuracy: 0.9172 - val_loss: 0.8152 - val_accuracy: 0.7250\n",
      "Epoch 129/200\n",
      "10/10 [==============================] - 0s 22ms/step - loss: 0.3284 - accuracy: 0.9313 - val_loss: 0.8191 - val_accuracy: 0.7250\n",
      "Epoch 130/200\n",
      "10/10 [==============================] - 0s 24ms/step - loss: 0.3119 - accuracy: 0.9156 - val_loss: 0.8209 - val_accuracy: 0.7250\n",
      "Epoch 131/200\n",
      "10/10 [==============================] - 0s 35ms/step - loss: 0.3204 - accuracy: 0.9203 - val_loss: 0.8240 - val_accuracy: 0.7188\n",
      "Epoch 132/200\n",
      "10/10 [==============================] - 0s 17ms/step - loss: 0.3153 - accuracy: 0.9219 - val_loss: 0.8234 - val_accuracy: 0.7188\n",
      "Epoch 133/200\n",
      "10/10 [==============================] - 0s 19ms/step - loss: 0.3002 - accuracy: 0.9281 - val_loss: 0.8190 - val_accuracy: 0.7188\n",
      "Epoch 134/200\n",
      "10/10 [==============================] - 0s 22ms/step - loss: 0.3098 - accuracy: 0.9266 - val_loss: 0.8160 - val_accuracy: 0.7250\n",
      "Epoch 135/200\n",
      "10/10 [==============================] - 0s 25ms/step - loss: 0.2891 - accuracy: 0.9297 - val_loss: 0.8140 - val_accuracy: 0.7250\n",
      "Epoch 136/200\n",
      "10/10 [==============================] - 0s 24ms/step - loss: 0.3063 - accuracy: 0.9141 - val_loss: 0.8125 - val_accuracy: 0.7250\n",
      "Epoch 137/200\n",
      "10/10 [==============================] - 0s 24ms/step - loss: 0.3043 - accuracy: 0.9078 - val_loss: 0.8163 - val_accuracy: 0.7312\n",
      "Epoch 138/200\n",
      "10/10 [==============================] - 0s 21ms/step - loss: 0.3128 - accuracy: 0.9234 - val_loss: 0.8235 - val_accuracy: 0.7250\n",
      "Epoch 139/200\n",
      "10/10 [==============================] - 0s 24ms/step - loss: 0.3116 - accuracy: 0.9281 - val_loss: 0.8326 - val_accuracy: 0.7188\n",
      "Epoch 140/200\n",
      "10/10 [==============================] - 0s 26ms/step - loss: 0.2834 - accuracy: 0.9453 - val_loss: 0.8346 - val_accuracy: 0.7125\n",
      "Epoch 141/200\n",
      "10/10 [==============================] - 0s 24ms/step - loss: 0.2889 - accuracy: 0.9375 - val_loss: 0.8305 - val_accuracy: 0.7188\n",
      "Epoch 142/200\n",
      "10/10 [==============================] - 0s 27ms/step - loss: 0.2830 - accuracy: 0.9219 - val_loss: 0.8270 - val_accuracy: 0.7188\n",
      "Epoch 143/200\n",
      "10/10 [==============================] - 0s 27ms/step - loss: 0.2833 - accuracy: 0.9391 - val_loss: 0.8263 - val_accuracy: 0.7188\n",
      "Epoch 144/200\n",
      "10/10 [==============================] - 0s 22ms/step - loss: 0.2888 - accuracy: 0.9266 - val_loss: 0.8240 - val_accuracy: 0.7188\n",
      "Epoch 145/200\n",
      "10/10 [==============================] - 0s 29ms/step - loss: 0.2912 - accuracy: 0.9266 - val_loss: 0.8331 - val_accuracy: 0.7188\n",
      "Epoch 146/200\n",
      "10/10 [==============================] - 0s 25ms/step - loss: 0.2668 - accuracy: 0.9453 - val_loss: 0.8293 - val_accuracy: 0.7312\n",
      "Epoch 147/200\n",
      "10/10 [==============================] - 0s 23ms/step - loss: 0.2672 - accuracy: 0.9266 - val_loss: 0.8311 - val_accuracy: 0.7250\n",
      "Epoch 148/200\n",
      "10/10 [==============================] - 0s 30ms/step - loss: 0.2643 - accuracy: 0.9438 - val_loss: 0.8284 - val_accuracy: 0.7188\n",
      "Epoch 149/200\n",
      "10/10 [==============================] - 0s 24ms/step - loss: 0.2574 - accuracy: 0.9406 - val_loss: 0.8296 - val_accuracy: 0.7188\n",
      "Epoch 150/200\n",
      "10/10 [==============================] - 0s 26ms/step - loss: 0.2646 - accuracy: 0.9313 - val_loss: 0.8333 - val_accuracy: 0.7188\n",
      "Epoch 151/200\n",
      "10/10 [==============================] - 0s 25ms/step - loss: 0.2621 - accuracy: 0.9563 - val_loss: 0.8351 - val_accuracy: 0.7312\n",
      "Epoch 152/200\n",
      "10/10 [==============================] - 0s 31ms/step - loss: 0.2524 - accuracy: 0.9578 - val_loss: 0.8391 - val_accuracy: 0.7312\n",
      "Epoch 153/200\n",
      "10/10 [==============================] - 0s 24ms/step - loss: 0.2582 - accuracy: 0.9469 - val_loss: 0.8411 - val_accuracy: 0.7250\n",
      "Epoch 154/200\n",
      "10/10 [==============================] - 0s 35ms/step - loss: 0.2595 - accuracy: 0.9406 - val_loss: 0.8452 - val_accuracy: 0.7063\n",
      "Epoch 155/200\n",
      "10/10 [==============================] - 0s 17ms/step - loss: 0.2671 - accuracy: 0.9438 - val_loss: 0.8432 - val_accuracy: 0.7250\n",
      "Epoch 156/200\n",
      "10/10 [==============================] - 0s 26ms/step - loss: 0.2502 - accuracy: 0.9469 - val_loss: 0.8461 - val_accuracy: 0.7188\n",
      "Epoch 157/200\n",
      "10/10 [==============================] - 0s 23ms/step - loss: 0.2572 - accuracy: 0.9469 - val_loss: 0.8478 - val_accuracy: 0.7250\n",
      "Epoch 158/200\n",
      "10/10 [==============================] - 0s 23ms/step - loss: 0.2494 - accuracy: 0.9578 - val_loss: 0.8451 - val_accuracy: 0.7250\n",
      "Epoch 159/200\n",
      "10/10 [==============================] - 0s 34ms/step - loss: 0.2503 - accuracy: 0.9469 - val_loss: 0.8422 - val_accuracy: 0.7188\n",
      "Epoch 160/200\n",
      "10/10 [==============================] - 0s 28ms/step - loss: 0.2553 - accuracy: 0.9281 - val_loss: 0.8390 - val_accuracy: 0.7125\n",
      "Epoch 161/200\n",
      "10/10 [==============================] - 0s 30ms/step - loss: 0.2430 - accuracy: 0.9438 - val_loss: 0.8323 - val_accuracy: 0.7125\n",
      "Epoch 162/200\n",
      "10/10 [==============================] - 0s 24ms/step - loss: 0.2537 - accuracy: 0.9406 - val_loss: 0.8351 - val_accuracy: 0.7125\n",
      "Epoch 163/200\n",
      "10/10 [==============================] - 0s 30ms/step - loss: 0.2620 - accuracy: 0.9313 - val_loss: 0.8421 - val_accuracy: 0.7125\n",
      "Epoch 164/200\n",
      "10/10 [==============================] - 0s 26ms/step - loss: 0.2357 - accuracy: 0.9438 - val_loss: 0.8438 - val_accuracy: 0.7125\n",
      "Epoch 165/200\n",
      "10/10 [==============================] - 0s 27ms/step - loss: 0.2366 - accuracy: 0.9469 - val_loss: 0.8413 - val_accuracy: 0.7188\n",
      "Epoch 166/200\n",
      "10/10 [==============================] - 0s 29ms/step - loss: 0.2563 - accuracy: 0.9422 - val_loss: 0.8400 - val_accuracy: 0.7188\n",
      "Epoch 167/200\n",
      "10/10 [==============================] - 0s 28ms/step - loss: 0.2451 - accuracy: 0.9313 - val_loss: 0.8448 - val_accuracy: 0.7188\n",
      "Epoch 168/200\n",
      "10/10 [==============================] - 0s 29ms/step - loss: 0.2145 - accuracy: 0.9500 - val_loss: 0.8448 - val_accuracy: 0.7125\n",
      "Epoch 169/200\n",
      "10/10 [==============================] - 0s 25ms/step - loss: 0.2239 - accuracy: 0.9516 - val_loss: 0.8466 - val_accuracy: 0.7188\n",
      "Epoch 170/200\n",
      "10/10 [==============================] - 0s 26ms/step - loss: 0.2363 - accuracy: 0.9500 - val_loss: 0.8470 - val_accuracy: 0.7250\n",
      "Epoch 171/200\n",
      "10/10 [==============================] - 0s 27ms/step - loss: 0.2310 - accuracy: 0.9484 - val_loss: 0.8476 - val_accuracy: 0.7250\n",
      "Epoch 172/200\n",
      "10/10 [==============================] - 0s 21ms/step - loss: 0.2275 - accuracy: 0.9500 - val_loss: 0.8516 - val_accuracy: 0.7188\n",
      "Epoch 173/200\n",
      "10/10 [==============================] - 0s 22ms/step - loss: 0.2276 - accuracy: 0.9500 - val_loss: 0.8478 - val_accuracy: 0.7188\n",
      "Epoch 174/200\n",
      "10/10 [==============================] - 0s 22ms/step - loss: 0.2282 - accuracy: 0.9547 - val_loss: 0.8448 - val_accuracy: 0.7125\n",
      "Epoch 175/200\n",
      "10/10 [==============================] - 0s 26ms/step - loss: 0.2208 - accuracy: 0.9453 - val_loss: 0.8471 - val_accuracy: 0.7125\n",
      "Epoch 176/200\n",
      "10/10 [==============================] - 0s 26ms/step - loss: 0.2151 - accuracy: 0.9594 - val_loss: 0.8427 - val_accuracy: 0.7250\n",
      "Epoch 177/200\n",
      "10/10 [==============================] - 0s 25ms/step - loss: 0.2291 - accuracy: 0.9484 - val_loss: 0.8519 - val_accuracy: 0.7188\n",
      "Epoch 178/200\n",
      "10/10 [==============================] - 0s 31ms/step - loss: 0.2361 - accuracy: 0.9547 - val_loss: 0.8595 - val_accuracy: 0.7125\n",
      "Epoch 179/200\n",
      "10/10 [==============================] - 0s 30ms/step - loss: 0.2133 - accuracy: 0.9563 - val_loss: 0.8615 - val_accuracy: 0.7125\n",
      "Epoch 180/200\n",
      "10/10 [==============================] - 0s 16ms/step - loss: 0.2151 - accuracy: 0.9578 - val_loss: 0.8607 - val_accuracy: 0.7188\n",
      "Epoch 181/200\n",
      "10/10 [==============================] - 0s 24ms/step - loss: 0.2195 - accuracy: 0.9516 - val_loss: 0.8704 - val_accuracy: 0.7250\n",
      "Epoch 182/200\n",
      "10/10 [==============================] - 0s 26ms/step - loss: 0.2087 - accuracy: 0.9641 - val_loss: 0.8740 - val_accuracy: 0.7250\n",
      "Epoch 183/200\n",
      "10/10 [==============================] - 0s 28ms/step - loss: 0.2215 - accuracy: 0.9531 - val_loss: 0.8761 - val_accuracy: 0.7250\n",
      "Epoch 184/200\n",
      "10/10 [==============================] - 0s 26ms/step - loss: 0.2121 - accuracy: 0.9578 - val_loss: 0.8771 - val_accuracy: 0.7250\n",
      "Epoch 185/200\n",
      "10/10 [==============================] - 0s 30ms/step - loss: 0.2104 - accuracy: 0.9609 - val_loss: 0.8804 - val_accuracy: 0.7125\n",
      "Epoch 186/200\n",
      "10/10 [==============================] - 0s 16ms/step - loss: 0.2183 - accuracy: 0.9453 - val_loss: 0.8765 - val_accuracy: 0.7125\n",
      "Epoch 187/200\n",
      "10/10 [==============================] - 0s 24ms/step - loss: 0.2067 - accuracy: 0.9563 - val_loss: 0.8713 - val_accuracy: 0.7125\n",
      "Epoch 188/200\n",
      "10/10 [==============================] - 0s 35ms/step - loss: 0.1997 - accuracy: 0.9547 - val_loss: 0.8737 - val_accuracy: 0.7250\n",
      "Epoch 189/200\n",
      "10/10 [==============================] - 0s 19ms/step - loss: 0.2061 - accuracy: 0.9563 - val_loss: 0.8698 - val_accuracy: 0.7250\n",
      "Epoch 190/200\n",
      "10/10 [==============================] - 0s 34ms/step - loss: 0.2024 - accuracy: 0.9563 - val_loss: 0.8713 - val_accuracy: 0.7250\n",
      "Epoch 191/200\n",
      "10/10 [==============================] - 0s 28ms/step - loss: 0.2001 - accuracy: 0.9516 - val_loss: 0.8714 - val_accuracy: 0.7188\n",
      "Epoch 192/200\n",
      "10/10 [==============================] - 0s 26ms/step - loss: 0.1817 - accuracy: 0.9672 - val_loss: 0.8762 - val_accuracy: 0.7250\n",
      "Epoch 193/200\n",
      "10/10 [==============================] - 0s 33ms/step - loss: 0.1939 - accuracy: 0.9656 - val_loss: 0.8814 - val_accuracy: 0.7188\n",
      "Epoch 194/200\n",
      "10/10 [==============================] - 0s 21ms/step - loss: 0.2132 - accuracy: 0.9438 - val_loss: 0.8843 - val_accuracy: 0.7125\n",
      "Epoch 195/200\n",
      "10/10 [==============================] - 0s 26ms/step - loss: 0.1990 - accuracy: 0.9547 - val_loss: 0.8900 - val_accuracy: 0.7063\n",
      "Epoch 196/200\n",
      "10/10 [==============================] - 0s 27ms/step - loss: 0.1937 - accuracy: 0.9594 - val_loss: 0.8912 - val_accuracy: 0.7063\n",
      "Epoch 197/200\n",
      "10/10 [==============================] - 0s 23ms/step - loss: 0.2031 - accuracy: 0.9578 - val_loss: 0.8869 - val_accuracy: 0.7188\n",
      "Epoch 198/200\n",
      "10/10 [==============================] - 0s 25ms/step - loss: 0.1847 - accuracy: 0.9672 - val_loss: 0.8810 - val_accuracy: 0.7188\n",
      "Epoch 199/200\n",
      "10/10 [==============================] - 0s 27ms/step - loss: 0.1907 - accuracy: 0.9750 - val_loss: 0.8810 - val_accuracy: 0.7125\n",
      "Epoch 200/200\n",
      "10/10 [==============================] - 0s 22ms/step - loss: 0.1882 - accuracy: 0.9641 - val_loss: 0.8795 - val_accuracy: 0.7125\n",
      "7/7 [==============================] - 0s 24ms/step - loss: 1.0785 - accuracy: 0.7150\n"
     ]
    }
   ],
   "source": [
    "model = Sequential()\n",
    "#add regularizer to prevent overfitting\n",
    "model.add(layers.Dense(120, activation='relu', kernel_regularizer=regularizers.l2(1e-4), input_shape=(X_train.shape[1],)))\n",
    "model.add(layers.Dropout(0.))\n",
    "model.add(layers.Dense(40, activation='relu'))\n",
    "model.add(layers.Dense(10, activation='softmax'))\n",
    "model.compile(optimizer=tf.keras.optimizers.Adam(learning_rate=0.005), loss='sparse_categorical_crossentropy', metrics=['accuracy'])\n",
    "classifier = model.fit(X_train, y_train2, epochs=20, batch_size=64, validation_data=(X_val, y_val2))\n",
    "nn_test_loss, nn_test_acc  = model.evaluate(X_test, y_test2)"
   ],
   "metadata": {
    "collapsed": false
   }
  },
  {
   "cell_type": "code",
   "execution_count": 13,
   "outputs": [
    {
     "data": {
      "text/plain": "<Figure size 2000x1500 with 0 Axes>"
     },
     "metadata": {},
     "output_type": "display_data"
    },
    {
     "data": {
      "text/plain": "<Figure size 640x480 with 2 Axes>",
      "image/png": "[encoded data removed]"
     },
     "metadata": {},
     "output_type": "display_data"
    }
   ],
   "source": [
    "def plot_history(hist):\n",
    "    plt.figure(figsize=(20, 15))\n",
    "    fig, axs = plt.subplots(2)\n",
    "    # accuracy subplot\n",
    "    axs[0].plot(hist.history[\"accuracy\"], label=\"train accuracy\")\n",
    "    axs[0].plot(hist.history[\"val_accuracy\"], label=\"validation accuracy\")\n",
    "    axs[0].set_ylabel(\"Accuracy\")\n",
    "    axs[0].legend(loc=\"lower right\")\n",
    "    axs[0].set_title(\"Training using ANN\")\n",
    "    axs[0].grid()\n",
    "\n",
    "    # Error subplot\n",
    "    axs[1].plot(hist.history[\"loss\"], label=\"train error\")\n",
    "    axs[1].plot(hist.history[\"val_loss\"], label=\"validation error\")\n",
    "    axs[1].set_ylabel(\"Error\")\n",
    "    axs[1].set_xlabel(\"Epoch\")\n",
    "    axs[1].legend(loc=\"upper right\")\n",
    "    axs[1].grid()\n",
    "\n",
    "    plt.show()\n",
    "\n",
    "\n",
    "plot_history(classifier)\n",
    "\n"
   ],
   "metadata": {
    "collapsed": false
   }
  },
  {
   "cell_type": "markdown",
   "metadata": {},
   "source": [
    "KNN"
   ]
  },
  {
   "cell_type": "code",
   "execution_count": 8,
   "metadata": {},
   "outputs": [
    {
     "name": "stdout",
     "output_type": "stream",
     "text": [
      "Accuracy KNN : 0.62 \n",
      "\n"
     ]
    }
   ],
   "source": [
    "# With tuned parameter\n",
    "knn = KNeighborsClassifier(n_neighbors=1)\n",
    "knn_accuracy_score = model_assess(knn, \"KNN\")"
   ]
  },
  {
   "cell_type": "markdown",
   "metadata": {},
   "source": [
    "Random Forest"
   ]
  },
  {
   "cell_type": "code",
   "execution_count": 11,
   "metadata": {},
   "outputs": [
    {
     "name": "stdout",
     "output_type": "stream",
     "text": [
      "Accuracy Random Forest : 0.685 \n",
      "\n"
     ]
    }
   ],
   "source": [
    "# With tuned parameters\n",
    "rforest = RandomForestClassifier(n_estimators=2001, max_depth=21, random_state=0)\n",
    "rf_accuracy_score = model_assess(rforest, \"Random Forest\")"
   ]
  },
  {
   "cell_type": "markdown",
   "metadata": {},
   "source": [
    "Support Vector Machine"
   ]
  },
  {
   "cell_type": "code",
   "execution_count": 12,
   "metadata": {},
   "outputs": [
    {
     "name": "stdout",
     "output_type": "stream",
     "text": [
      "Accuracy Support Vector Machine : 0.665 \n",
      "\n"
     ]
    }
   ],
   "source": [
    "svm = SVC(decision_function_shape=\"ovo\")\n",
    "svc_accuracy = model_assess(svm, \"Support Vector Machine\")\n"
   ]
  },
  {
   "cell_type": "markdown",
   "metadata": {},
   "source": [
    "Neural Nets"
   ]
  },
  {
   "cell_type": "markdown",
   "metadata": {},
   "source": [
    "Cross Gradient Booster"
   ]
  },
  {
   "cell_type": "code",
   "execution_count": null,
   "metadata": {
    "pycharm": {
     "is_executing": true
    }
   },
   "outputs": [
    {
     "name": "stderr",
     "output_type": "stream",
     "text": [
      "  0%|          | 0/10 [00:00<?, ?it/s]"
     ]
    },
    {
     "name": "stdout",
     "output_type": "stream",
     "text": [
      "Accuracy Cross Gradient Booster : 0.63333 \n",
      "\n",
      "Accuracy Cross Gradient Booster : 0.62333 \n",
      "\n",
      "Accuracy Cross Gradient Booster : 0.62 \n",
      "\n",
      "Accuracy Cross Gradient Booster : 0.61 \n",
      "\n",
      "Accuracy Cross Gradient Booster : 0.62 \n",
      "\n",
      "Accuracy Cross Gradient Booster : 0.59333 \n",
      "\n"
     ]
    },
    {
     "name": "stderr",
     "output_type": "stream",
     "text": [
      " 10%|█         | 1/10 [00:38<05:46, 38.45s/it]"
     ]
    },
    {
     "name": "stdout",
     "output_type": "stream",
     "text": [
      "Accuracy Cross Gradient Booster : 0.61 \n",
      "\n",
      "Accuracy Cross Gradient Booster : 0.64 \n",
      "\n",
      "Accuracy Cross Gradient Booster : 0.62 \n",
      "\n",
      "Accuracy Cross Gradient Booster : 0.62 \n",
      "\n",
      "Accuracy Cross Gradient Booster : 0.61333 \n",
      "\n",
      "Accuracy Cross Gradient Booster : 0.61667 \n",
      "\n",
      "Accuracy Cross Gradient Booster : 0.59667 \n",
      "\n"
     ]
    },
    {
     "name": "stderr",
     "output_type": "stream",
     "text": [
      " 20%|██        | 2/10 [01:20<05:22, 40.31s/it]"
     ]
    },
    {
     "name": "stdout",
     "output_type": "stream",
     "text": [
      "Accuracy Cross Gradient Booster : 0.61 \n",
      "\n",
      "Accuracy Cross Gradient Booster : 0.64667 \n",
      "\n",
      "Accuracy Cross Gradient Booster : 0.62 \n",
      "\n",
      "Accuracy Cross Gradient Booster : 0.61333 \n",
      "\n",
      "Accuracy Cross Gradient Booster : 0.61333 \n",
      "\n",
      "Accuracy Cross Gradient Booster : 0.61667 \n",
      "\n",
      "Accuracy Cross Gradient Booster : 0.59667 \n",
      "\n"
     ]
    },
    {
     "name": "stderr",
     "output_type": "stream",
     "text": [
      " 30%|███       | 3/10 [02:04<04:55, 42.25s/it]"
     ]
    },
    {
     "name": "stdout",
     "output_type": "stream",
     "text": [
      "Accuracy Cross Gradient Booster : 0.61 \n",
      "\n",
      "Accuracy Cross Gradient Booster : 0.64667 \n",
      "\n",
      "Accuracy Cross Gradient Booster : 0.62333 \n",
      "\n",
      "Accuracy Cross Gradient Booster : 0.61333 \n",
      "\n",
      "Accuracy Cross Gradient Booster : 0.61333 \n",
      "\n",
      "Accuracy Cross Gradient Booster : 0.62 \n",
      "\n",
      "Accuracy Cross Gradient Booster : 0.59667 \n",
      "\n"
     ]
    },
    {
     "name": "stderr",
     "output_type": "stream",
     "text": [
      " 40%|████      | 4/10 [02:50<04:23, 43.86s/it]"
     ]
    },
    {
     "name": "stdout",
     "output_type": "stream",
     "text": [
      "Accuracy Cross Gradient Booster : 0.61333 \n",
      "\n",
      "Accuracy Cross Gradient Booster : 0.64667 \n",
      "\n",
      "Accuracy Cross Gradient Booster : 0.62333 \n",
      "\n",
      "Accuracy Cross Gradient Booster : 0.61333 \n",
      "\n",
      "Accuracy Cross Gradient Booster : 0.61333 \n",
      "\n",
      "Accuracy Cross Gradient Booster : 0.61667 \n",
      "\n",
      "Accuracy Cross Gradient Booster : 0.59667 \n",
      "\n"
     ]
    },
    {
     "name": "stderr",
     "output_type": "stream",
     "text": [
      " 50%|█████     | 5/10 [03:39<03:48, 45.60s/it]"
     ]
    },
    {
     "name": "stdout",
     "output_type": "stream",
     "text": [
      "Accuracy Cross Gradient Booster : 0.61333 \n",
      "\n",
      "Accuracy Cross Gradient Booster : 0.65 \n",
      "\n",
      "Accuracy Cross Gradient Booster : 0.62333 \n",
      "\n",
      "Accuracy Cross Gradient Booster : 0.61 \n",
      "\n",
      "Accuracy Cross Gradient Booster : 0.61333 \n",
      "\n",
      "Accuracy Cross Gradient Booster : 0.61667 \n",
      "\n",
      "Accuracy Cross Gradient Booster : 0.6 \n",
      "\n"
     ]
    },
    {
     "name": "stderr",
     "output_type": "stream",
     "text": [
      " 60%|██████    | 6/10 [04:31<03:11, 47.87s/it]"
     ]
    },
    {
     "name": "stdout",
     "output_type": "stream",
     "text": [
      "Accuracy Cross Gradient Booster : 0.61667 \n",
      "\n",
      "Accuracy Cross Gradient Booster : 0.65 \n",
      "\n",
      "Accuracy Cross Gradient Booster : 0.62333 \n",
      "\n",
      "Accuracy Cross Gradient Booster : 0.61 \n",
      "\n",
      "Accuracy Cross Gradient Booster : 0.61333 \n",
      "\n",
      "Accuracy Cross Gradient Booster : 0.62 \n",
      "\n",
      "Accuracy Cross Gradient Booster : 0.6 \n",
      "\n"
     ]
    },
    {
     "name": "stderr",
     "output_type": "stream",
     "text": [
      " 70%|███████   | 7/10 [05:25<02:29, 49.82s/it]"
     ]
    },
    {
     "name": "stdout",
     "output_type": "stream",
     "text": [
      "Accuracy Cross Gradient Booster : 0.61667 \n",
      "\n",
      "Accuracy Cross Gradient Booster : 0.65333 \n",
      "\n",
      "Accuracy Cross Gradient Booster : 0.62 \n",
      "\n",
      "Accuracy Cross Gradient Booster : 0.61 \n",
      "\n",
      "Accuracy Cross Gradient Booster : 0.61333 \n",
      "\n",
      "Accuracy Cross Gradient Booster : 0.62333 \n",
      "\n",
      "Accuracy Cross Gradient Booster : 0.6 \n",
      "\n"
     ]
    },
    {
     "name": "stderr",
     "output_type": "stream",
     "text": [
      " 80%|████████  | 8/10 [06:21<01:43, 51.69s/it]"
     ]
    },
    {
     "name": "stdout",
     "output_type": "stream",
     "text": [
      "Accuracy Cross Gradient Booster : 0.61667 \n",
      "\n",
      "Accuracy Cross Gradient Booster : 0.65333 \n",
      "\n"
     ]
    }
   ],
   "source": [
    "best_cgb = [1,0.01]\n",
    "best_score_cgb = 0\n",
    "for est in tqdm(range(1000,2000,100)):\n",
    "    for lr in np.linspace(0.1,0.7,7):\n",
    "        xgb = XGBClassifier(n_estimators=est, learning_rate=lr)\n",
    "        # model_assess(xgb, \"Cross Gradient Booster\")\n",
    "        xgb.fit(X_train, y_train2)\n",
    "        preds = xgb.predict(X_test)\n",
    "        #print(confusion_matrix(y_test, preds))\n",
    "        print('Accuracy', \"Cross Gradient Booster\", ':', round(accuracy_score(y_test2, preds), 5), '\\n')\n",
    "        if round(accuracy_score(y_test2, preds), 5) > best_score_cgb:\n",
    "            best_score_cgb = round(accuracy_score(y_test2, preds), 5)\n",
    "            best_cgb = [est, lr]"
   ]
  },
  {
   "cell_type": "code",
   "execution_count": 14,
   "metadata": {},
   "outputs": [
    {
     "name": "stdout",
     "output_type": "stream",
     "text": [
      "Accuracy Cross Gradient Booster : 0.68 \n",
      "\n"
     ]
    }
   ],
   "source": [
    "xgb = XGBClassifier(n_estimators=1200, learning_rate=0.3)\n",
    "xgb.fit(X_train, y_train2)\n",
    "preds = xgb.predict(X_test)\n",
    "xgb_acc = round(accuracy_score(y_test2, preds))\n",
    "print('Accuracy', \"Cross Gradient Booster\", ':', round(accuracy_score(y_test2, preds), 5), '\\n')"
   ]
  },
  {
   "cell_type": "markdown",
   "metadata": {},
   "source": [
    "Cross Gradient Booster (Random Forest)"
   ]
  },
  {
   "cell_type": "code",
   "execution_count": 29,
   "metadata": {},
   "outputs": [
    {
     "data": {
      "text/plain": "<IPython.core.display.HTML object>",
      "text/html": "\n    <style>\n    table.eli5-weights tr:hover {\n        filter: brightness(85%);\n    }\n</style>\n\n\n\n    \n\n    \n\n    \n\n    \n\n    \n\n    \n\n\n    \n\n    \n\n    \n\n    \n\n    \n\n    \n\n\n    \n\n    \n\n    \n\n    \n\n    \n        <table class=\"eli5-weights eli5-feature-importances\" style=\"border-collapse: collapse; border: none; margin-top: 0em; table-layout: auto;\">\n    <thead>\n    <tr style=\"border: none;\">\n        <th style=\"padding: 0 1em 0 0.5em; text-align: right; border: none;\">Weight</th>\n        <th style=\"padding: 0 0.5em 0 0.5em; text-align: left; border: none;\">Feature</th>\n    </tr>\n    </thead>\n    <tbody>\n    \n        <tr style=\"background-color: hsl(120, 100.00%, 80.00%); border: none;\">\n            <td style=\"padding: 0 1em 0 0.5em; text-align: right; border: none;\">\n                0.0893\n                \n                    &plusmn; 0.0129\n                \n            </td>\n            <td style=\"padding: 0 0.5em 0 0.5em; text-align: left; border: none;\">\n                perceptr_var\n            </td>\n        </tr>\n    \n        <tr style=\"background-color: hsl(120, 100.00%, 82.69%); border: none;\">\n            <td style=\"padding: 0 1em 0 0.5em; text-align: right; border: none;\">\n                0.0727\n                \n                    &plusmn; 0.0122\n                \n            </td>\n            <td style=\"padding: 0 0.5em 0 0.5em; text-align: left; border: none;\">\n                chroma_stft_mean\n            </td>\n        </tr>\n    \n        <tr style=\"background-color: hsl(120, 100.00%, 86.55%); border: none;\">\n            <td style=\"padding: 0 1em 0 0.5em; text-align: right; border: none;\">\n                0.0507\n                \n                    &plusmn; 0.0160\n                \n            </td>\n            <td style=\"padding: 0 0.5em 0 0.5em; text-align: left; border: none;\">\n                chroma_stft_var\n            </td>\n        </tr>\n    \n        <tr style=\"background-color: hsl(120, 100.00%, 88.74%); border: none;\">\n            <td style=\"padding: 0 1em 0 0.5em; text-align: right; border: none;\">\n                0.0393\n                \n                    &plusmn; 0.0107\n                \n            </td>\n            <td style=\"padding: 0 0.5em 0 0.5em; text-align: left; border: none;\">\n                mfcc4_mean\n            </td>\n        </tr>\n    \n        <tr style=\"background-color: hsl(120, 100.00%, 89.55%); border: none;\">\n            <td style=\"padding: 0 1em 0 0.5em; text-align: right; border: none;\">\n                0.0353\n                \n                    &plusmn; 0.0172\n                \n            </td>\n            <td style=\"padding: 0 0.5em 0 0.5em; text-align: left; border: none;\">\n                mfcc9_mean\n            </td>\n        </tr>\n    \n        <tr style=\"background-color: hsl(120, 100.00%, 89.83%); border: none;\">\n            <td style=\"padding: 0 1em 0 0.5em; text-align: right; border: none;\">\n                0.0340\n                \n                    &plusmn; 0.0212\n                \n            </td>\n            <td style=\"padding: 0 0.5em 0 0.5em; text-align: left; border: none;\">\n                spectral_centroid_var\n            </td>\n        </tr>\n    \n        <tr style=\"background-color: hsl(120, 100.00%, 90.39%); border: none;\">\n            <td style=\"padding: 0 1em 0 0.5em; text-align: right; border: none;\">\n                0.0313\n                \n                    &plusmn; 0.0161\n                \n            </td>\n            <td style=\"padding: 0 0.5em 0 0.5em; text-align: left; border: none;\">\n                mfcc17_mean\n            </td>\n        </tr>\n    \n        <tr style=\"background-color: hsl(120, 100.00%, 90.97%); border: none;\">\n            <td style=\"padding: 0 1em 0 0.5em; text-align: right; border: none;\">\n                0.0287\n                \n                    &plusmn; 0.0137\n                \n            </td>\n            <td style=\"padding: 0 0.5em 0 0.5em; text-align: left; border: none;\">\n                mfcc5_var\n            </td>\n        </tr>\n    \n        <tr style=\"background-color: hsl(120, 100.00%, 91.27%); border: none;\">\n            <td style=\"padding: 0 1em 0 0.5em; text-align: right; border: none;\">\n                0.0273\n                \n                    &plusmn; 0.0098\n                \n            </td>\n            <td style=\"padding: 0 0.5em 0 0.5em; text-align: left; border: none;\">\n                harmony_mean\n            </td>\n        </tr>\n    \n        <tr style=\"background-color: hsl(120, 100.00%, 91.72%); border: none;\">\n            <td style=\"padding: 0 1em 0 0.5em; text-align: right; border: none;\">\n                0.0253\n                \n                    &plusmn; 0.0090\n                \n            </td>\n            <td style=\"padding: 0 0.5em 0 0.5em; text-align: left; border: none;\">\n                mfcc14_mean\n            </td>\n        </tr>\n    \n        <tr style=\"background-color: hsl(120, 100.00%, 91.72%); border: none;\">\n            <td style=\"padding: 0 1em 0 0.5em; text-align: right; border: none;\">\n                0.0253\n                \n                    &plusmn; 0.0200\n                \n            </td>\n            <td style=\"padding: 0 0.5em 0 0.5em; text-align: left; border: none;\">\n                rms_var\n            </td>\n        </tr>\n    \n        <tr style=\"background-color: hsl(120, 100.00%, 92.03%); border: none;\">\n            <td style=\"padding: 0 1em 0 0.5em; text-align: right; border: none;\">\n                0.0240\n                \n                    &plusmn; 0.0148\n                \n            </td>\n            <td style=\"padding: 0 0.5em 0 0.5em; text-align: left; border: none;\">\n                mfcc6_var\n            </td>\n        </tr>\n    \n        <tr style=\"background-color: hsl(120, 100.00%, 92.19%); border: none;\">\n            <td style=\"padding: 0 1em 0 0.5em; text-align: right; border: none;\">\n                0.0233\n                \n                    &plusmn; 0.0174\n                \n            </td>\n            <td style=\"padding: 0 0.5em 0 0.5em; text-align: left; border: none;\">\n                mfcc6_mean\n            </td>\n        </tr>\n    \n        <tr style=\"background-color: hsl(120, 100.00%, 92.98%); border: none;\">\n            <td style=\"padding: 0 1em 0 0.5em; text-align: right; border: none;\">\n                0.0200\n                \n                    &plusmn; 0.0060\n                \n            </td>\n            <td style=\"padding: 0 0.5em 0 0.5em; text-align: left; border: none;\">\n                rolloff_var\n            </td>\n        </tr>\n    \n        <tr style=\"background-color: hsl(120, 100.00%, 93.32%); border: none;\">\n            <td style=\"padding: 0 1em 0 0.5em; text-align: right; border: none;\">\n                0.0187\n                \n                    &plusmn; 0.0033\n                \n            </td>\n            <td style=\"padding: 0 0.5em 0 0.5em; text-align: left; border: none;\">\n                mfcc15_mean\n            </td>\n        </tr>\n    \n        <tr style=\"background-color: hsl(120, 100.00%, 93.48%); border: none;\">\n            <td style=\"padding: 0 1em 0 0.5em; text-align: right; border: none;\">\n                0.0180\n                \n                    &plusmn; 0.0131\n                \n            </td>\n            <td style=\"padding: 0 0.5em 0 0.5em; text-align: left; border: none;\">\n                perceptr_mean\n            </td>\n        </tr>\n    \n        <tr style=\"background-color: hsl(120, 100.00%, 93.48%); border: none;\">\n            <td style=\"padding: 0 1em 0 0.5em; text-align: right; border: none;\">\n                0.0180\n                \n                    &plusmn; 0.0033\n                \n            </td>\n            <td style=\"padding: 0 0.5em 0 0.5em; text-align: left; border: none;\">\n                zero_crossing_rate_var\n            </td>\n        </tr>\n    \n        <tr style=\"background-color: hsl(120, 100.00%, 93.65%); border: none;\">\n            <td style=\"padding: 0 1em 0 0.5em; text-align: right; border: none;\">\n                0.0173\n                \n                    &plusmn; 0.0107\n                \n            </td>\n            <td style=\"padding: 0 0.5em 0 0.5em; text-align: left; border: none;\">\n                mfcc7_var\n            </td>\n        </tr>\n    \n        <tr style=\"background-color: hsl(120, 100.00%, 93.65%); border: none;\">\n            <td style=\"padding: 0 1em 0 0.5em; text-align: right; border: none;\">\n                0.0173\n                \n                    &plusmn; 0.0078\n                \n            </td>\n            <td style=\"padding: 0 0.5em 0 0.5em; text-align: left; border: none;\">\n                rolloff_mean\n            </td>\n        </tr>\n    \n        <tr style=\"background-color: hsl(120, 100.00%, 93.65%); border: none;\">\n            <td style=\"padding: 0 1em 0 0.5em; text-align: right; border: none;\">\n                0.0173\n                \n                    &plusmn; 0.0088\n                \n            </td>\n            <td style=\"padding: 0 0.5em 0 0.5em; text-align: left; border: none;\">\n                mfcc5_mean\n            </td>\n        </tr>\n    \n    \n        \n            <tr style=\"background-color: hsl(120, 100.00%, 93.65%); border: none;\">\n                <td colspan=\"2\" style=\"padding: 0 0.5em 0 0.5em; text-align: center; border: none; white-space: nowrap;\">\n                    <i>&hellip; 37 more &hellip;</i>\n                </td>\n            </tr>\n        \n    \n    </tbody>\n</table>\n    \n\n    \n\n\n    \n\n    \n\n    \n\n    \n\n    \n\n    \n\n\n\n"
     },
     "execution_count": 29,
     "metadata": {},
     "output_type": "execute_result"
    }
   ],
   "source": [
    "import eli5\n",
    "from eli5.sklearn import PermutationImportance\n",
    "\n",
    "perm = PermutationImportance(estimator=xgb, random_state=1)\n",
    "perm.fit(X_test, y_test2)\n",
    "\n",
    "eli5.show_weights(estimator=perm, feature_names = X_test.columns.tolist())"
   ]
  },
  {
   "cell_type": "code",
   "execution_count": 88,
   "outputs": [
    {
     "data": {
      "text/plain": "<Figure size 1000x500 with 1 Axes>",
      "image/png": "[encoded data removed]"
     },
     "metadata": {},
     "output_type": "display_data"
    }
   ],
   "source": [
    "import matplotlib.pyplot as plt\n",
    "data = {'Naive Bayes': 50,  'k NN':67,'Decision Trees':46, 'Random Forest':65, 'SVM':64, 'XGBoost':68, 'ANN':73, 'CNN':77}\n",
    "classifiers = list(data.keys())\n",
    "values = list(data.values())\n",
    "\n",
    "fig = plt.figure(figsize = (10, 5))\n",
    "# creating the bar plot\n",
    "plt.bar(classifiers, values, color ='blue',\n",
    "        width = 0.4)\n",
    "plt.xticks(fontsize=10, rotation=30)\n",
    "\n",
    "\n",
    "plt.xlabel(\"Classifiers\")\n",
    "plt.ylabel(\"Accuracy (%)\")\n",
    "plt.title(\"Accuracy of Different Classifiers Evaluated on the Test Set\")\n",
    "plt.show()"
   ],
   "metadata": {
    "collapsed": false
   }
  },
  {
   "cell_type": "code",
   "execution_count": 31,
   "outputs": [
    {
     "data": {
      "text/plain": "<Figure size 640x480 with 2 Axes>",
      "image/png": "[encoded data removed]"
     },
     "metadata": {},
     "output_type": "display_data"
    }
   ],
   "source": [
    "\n",
    "import matplotlib.pyplot as plt\n",
    "import numpy as np\n",
    "import pandas as pd\n",
    "from io import StringIO\n",
    "\n",
    "s = StringIO(\"\"\"     Accuracy     Time\n",
    "NB     50   1\n",
    "k-NN     67   1\n",
    "DTs    46  1\n",
    "RF    65  4\n",
    "SVM    64  2.5\n",
    "XGBoost    68  7\n",
    "ANN     73   3\n",
    "CNN     77   45\n",
    "LSTM    30   30\n",
    "\"\"\")\n",
    "\n",
    "df = pd.read_csv(s, index_col=0, delimiter=' ', skipinitialspace=True)\n",
    "\n",
    "fig = plt.figure() # Create matplotlib figure\n",
    "\n",
    "ax = fig.add_subplot(111) # Create matplotlib axes\n",
    "ax2 = ax.twinx() # Create another axes that shares the same x-axis as ax.\n",
    "\n",
    "width = 0.4\n",
    "\n",
    "df.Accuracy.plot(kind='bar', color='red', ax=ax, width=width, position=1, label='Accuracy')\n",
    "df.Time.plot(kind='bar', color='blue', ax=ax2, width=width, position=0, label='Time')\n",
    "\n",
    "ax.set_ylabel('Accuracy(%)')\n",
    "ax2.set_ylabel('Time to Train (sec)')\n",
    "ax.legend(loc='upper left')\n",
    "ax2.legend(loc='upper center')\n",
    "\n",
    "plt.show()"
   ],
   "metadata": {
    "collapsed": false
   }
  },
  {
   "cell_type": "code",
   "execution_count": null,
   "outputs": [],
   "source": [],
   "metadata": {
    "collapsed": false,
    "pycharm": {
     "is_executing": true
    }
   }
  },
  {
   "cell_type": "code",
   "execution_count": 114,
   "outputs": [],
   "source": [],
   "metadata": {
    "collapsed": false
   }
  }
 ],
 "metadata": {
  "kernelspec": {
   "display_name": "Python 3 (ipykernel)",
   "language": "python",
   "name": "python3"
  },
  "language_info": {
   "codemirror_mode": {
    "name": "ipython",
    "version": 3
   },
   "file_extension": ".py",
   "mimetype": "text/x-python",
   "name": "python",
   "nbconvert_exporter": "python",
   "pygments_lexer": "ipython3",
   "version": "3.10.10"
  },
  "orig_nbformat": 4,
  "vscode": {
   "interpreter": {
    "hash": "f34ef1cb52c7ccfbbf6725fcdf02413caf7ee180866be6c5f23cee5d40137ac0"
   }
  }
 },
 "nbformat": 4,
 "nbformat_minor": 2
}
