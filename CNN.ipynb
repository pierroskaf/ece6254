{
 "cells": [
  {
   "cell_type": "code",
   "execution_count": 1,
   "outputs": [],
   "source": [
    "import os\n",
    "import librosa\n",
    "import math\n",
    "import json\n",
    "import matplotlib.pyplot as plt\n",
    "import numpy as np\n",
    "import json\n",
    "import numpy as np\n",
    "from tensorflow import keras\n",
    "from keras import backend as K\n",
    "from tensorflow.keras import Sequential\n",
    "from tensorflow.keras.layers import *\n",
    "from tensorflow.keras import optimizers\n",
    "from tensorflow.keras.callbacks import ModelCheckpoint\n",
    "from IPython.display import clear_output\n",
    "from sklearn.model_selection import train_test_split\n",
    "from tensorflow.keras import regularizers\n",
    "import scipy.io as sio\n",
    "import random\n"
   ],
   "metadata": {
    "collapsed": false
   }
  },
  {
   "cell_type": "code",
   "execution_count": 2,
   "outputs": [],
   "source": [
    "random.seed(100)\n",
    "\n",
    "dataset_path = r\"Data/genres_original\"\n",
    "json_path = \"data.json\"\n",
    "SAMPLE_RATE = 22050\n",
    "DURATION = 29\n",
    "SAMPLES_PER_TRACK = SAMPLE_RATE * DURATION\n",
    "hop_length = 512\n",
    "n_mels = 200\n",
    "expected_length = math.ceil(SAMPLES_PER_TRACK / hop_length)\n"
   ],
   "metadata": {
    "collapsed": false
   }
  },
  {
   "cell_type": "code",
   "execution_count": 3,
   "outputs": [],
   "source": [
    "\n",
    "def plot_history(hist):\n",
    "    plt.figure(figsize=(25,  15))\n",
    "    fig, axs = plt.subplots(2)\n",
    "    # accuracy subplot\n",
    "    axs[0].plot(hist.history[\"accuracy\"], label=\"train accuracy\")\n",
    "    axs[0].plot(hist.history[\"val_accuracy\"], label=\"validation accuracy\")\n",
    "    axs[0].set_ylabel(\"Accuracy\")\n",
    "    axs[0].legend(loc=\"lower right\")\n",
    "    axs[0].set_title(\"Accuracy eval\")\n",
    "    axs[0].grid()\n",
    "\n",
    "    # Error subplot\n",
    "    axs[1].plot(hist.history[\"loss\"], label=\"train error\")\n",
    "    axs[1].plot(hist.history[\"val_loss\"], label=\"validation error\")\n",
    "    axs[1].set_ylabel(\"Error\")\n",
    "    axs[1].set_xlabel(\"Epoch\")\n",
    "    axs[1].legend(loc=\"upper right\")\n",
    "    axs[1].set_title(\"Error eval\")\n",
    "    axs[1].grid()\n",
    "\n",
    "    plt.show()\n",
    "\n",
    "\n",
    "# load data from json file\n",
    "def load_data():\n",
    "    # with open(dataset_path,\"r\") as f:\n",
    "    #     data = json.load(f)\n",
    "    #\n",
    "    # # Convert list to numpy arrays\n",
    "    # inputs = np.array(data[\"mfcc\"])\n",
    "    # targets = np.array(data[\"labels\"])\n",
    "\n",
    "    data = sio.loadmat(\"data.mat\")\n",
    "    inputs = data[\"mfcc\"]\n",
    "    targets = np.array(data[\"labels\"])\n",
    "\n",
    "    return inputs, targets\n"
   ],
   "metadata": {
    "collapsed": false
   }
  },
  {
   "cell_type": "code",
   "execution_count": 4,
   "metadata": {
    "collapsed": true
   },
   "outputs": [],
   "source": [
    "def prepare_dataset(test_size, validation_size):\n",
    "    X, y = load_data()\n",
    "\n",
    "    # for i in range(X.shape[1]):\n",
    "    #     X[:,i,:] = X[:,i,:]/np.mean(X[:,i,:])\n",
    "\n",
    "    y = y.reshape(-1)\n",
    "\n",
    "    X_train, X_test, y_train, y_test = train_test_split(X, y, test_size=test_size)\n",
    "    X_train, X_val, y_train, y_val = train_test_split(X_train, y_train, test_size=validation_size)\n",
    "    X_train = X_train[..., np.newaxis]\n",
    "    X_val = X_val[..., np.newaxis]\n",
    "    X_test = X_test[..., np.newaxis]\n",
    "\n",
    "    return X_train, X_val, X_test, y_train, y_val, y_test\n"
   ]
  },
  {
   "cell_type": "code",
   "execution_count": 5,
   "outputs": [
    {
     "name": "stdout",
     "output_type": "stream",
     "text": [
      "(20, 1249, 1)\n"
     ]
    }
   ],
   "source": [
    "\n",
    "X_train, X_val, X_test, y_train, y_val, y_test = prepare_dataset(0.25, 0.2)\n",
    "input_shape = (X_train.shape[1], X_train.shape[2], X_train.shape[3])\n",
    "print(input_shape)"
   ],
   "metadata": {
    "collapsed": false
   }
  },
  {
   "cell_type": "code",
   "execution_count": 23,
   "outputs": [
    {
     "name": "stdout",
     "output_type": "stream",
     "text": [
      "Model: \"sequential\"\n",
      "_________________________________________________________________\n",
      " Layer (type)                Output Shape              Param #   \n",
      "=================================================================\n",
      " conv2d (Conv2D)             (None, 18, 1230, 32)      1952      \n",
      "                                                                 \n",
      " batch_normalization (BatchN  (None, 18, 1230, 32)     128       \n",
      " ormalization)                                                   \n",
      "                                                                 \n",
      " activation (Activation)     (None, 18, 1230, 32)      0         \n",
      "                                                                 \n",
      " max_pooling2d (MaxPooling2D  (None, 9, 82, 32)        0         \n",
      " )                                                               \n",
      "                                                                 \n",
      " dropout (Dropout)           (None, 9, 82, 32)         0         \n",
      "                                                                 \n",
      " conv2d_1 (Conv2D)           (None, 7, 67, 32)         49184     \n",
      "                                                                 \n",
      " batch_normalization_1 (Batc  (None, 7, 67, 32)        128       \n",
      " hNormalization)                                                 \n",
      "                                                                 \n",
      " activation_1 (Activation)   (None, 7, 67, 32)         0         \n",
      "                                                                 \n",
      " max_pooling2d_1 (MaxPooling  (None, 4, 9, 32)         0         \n",
      " 2D)                                                             \n",
      "                                                                 \n",
      " dropout_1 (Dropout)         (None, 4, 9, 32)          0         \n",
      "                                                                 \n",
      " conv2d_2 (Conv2D)           (None, 3, 8, 32)          4128      \n",
      "                                                                 \n",
      " batch_normalization_2 (Batc  (None, 3, 8, 32)         128       \n",
      " hNormalization)                                                 \n",
      "                                                                 \n",
      " activation_2 (Activation)   (None, 3, 8, 32)          0         \n",
      "                                                                 \n",
      " max_pooling2d_2 (MaxPooling  (None, 2, 4, 32)         0         \n",
      " 2D)                                                             \n",
      "                                                                 \n",
      " dropout_2 (Dropout)         (None, 2, 4, 32)          0         \n",
      "                                                                 \n",
      " flatten (Flatten)           (None, 256)               0         \n",
      "                                                                 \n",
      " dense (Dense)               (None, 40)                10280     \n",
      "                                                                 \n",
      " dropout_3 (Dropout)         (None, 40)                0         \n",
      "                                                                 \n",
      " dense_1 (Dense)             (None, 10)                410       \n",
      "                                                                 \n",
      "=================================================================\n",
      "Total params: 66,338\n",
      "Trainable params: 66,146\n",
      "Non-trainable params: 192\n",
      "_________________________________________________________________\n"
     ]
    }
   ],
   "source": [
    "# build network topology\n",
    "import tensorflow.keras as keras\n",
    "\n",
    "model = keras.Sequential()\n",
    "\n",
    "# 66%\n",
    "# 1st conv layer\n",
    "model.add(keras.layers.Conv2D(32, (3, 20), input_shape=input_shape, kernel_regularizer = regularizers.l2(1e-3) ))\n",
    "model.add(keras.layers.BatchNormalization())\n",
    "model.add(keras.layers.Activation('relu'))\n",
    "model.add(keras.layers.MaxPooling2D((2, 30), strides=(2, 15), padding='same'))\n",
    "model.add(keras.layers.Dropout(0.3))\n",
    "\n",
    "# 2nd conv layer\n",
    "model.add(keras.layers.Conv2D(32, (3, 16), kernel_regularizer = regularizers.l2(1e-3) ))\n",
    "model.add(keras.layers.BatchNormalization())\n",
    "model.add(keras.layers.Activation('relu'))\n",
    "model.add(keras.layers.MaxPooling2D((2, 16), strides=(2, 8), padding='same'))\n",
    "model.add(keras.layers.Dropout(0.3))\n",
    "\n",
    "# 3rd conv layer\n",
    "model.add(keras.layers.Conv2D(32, (2, 2), kernel_regularizer = regularizers.l2(1e-3) ))\n",
    "model.add(keras.layers.BatchNormalization())\n",
    "model.add(keras.layers.Activation('relu'))\n",
    "model.add(keras.layers.MaxPooling2D((2, 2), strides=(2, 2), padding='same'))\n",
    "model.add(keras.layers.Dropout(0.3))\n",
    "\n",
    "model.add(keras.layers.Flatten())\n",
    "model.add(keras.layers.Dense(40, activation='relu'))\n",
    "model.add(keras.layers.Dropout(0.3))\n",
    "# output layer\n",
    "model.add(keras.layers.Dense(10, activation='softmax'))\n",
    "\n",
    "# # 1st conv layer\n",
    "# model.add(keras.layers.Conv2D(20, (2, 40), strides=(1, 20), input_shape=input_shape, activity_regularizer=regularizers.L2(1e-5)))\n",
    "# model.add(keras.layers.BatchNormalization())\n",
    "# model.add(keras.layers.Activation('relu'))\n",
    "# model.add(keras.layers.MaxPooling2D((1, 20), strides=(1, 20), padding='same'))\n",
    "# model.add(keras.layers.Dropout(0.3))\n",
    "\n",
    "# # 2nd conv layer\n",
    "# model.add(keras.layers.Conv2D(10, (2, 2), strides = (1,1), activity_regularizer=regularizers.L2(1e-5)))\n",
    "# model.add(keras.layers.BatchNormalization())\n",
    "# model.add(keras.layers.Activation('relu'))\n",
    "# model.add(keras.layers.MaxPooling2D((2, 2),strides = (1,1), padding='same'))\n",
    "#\n",
    "# # flatten output and feed it into dense layer\n",
    "# model.add(keras.layers.Flatten())\n",
    "# # model.add(keras.layers.Dense(10, activation='relu'))\n",
    "# # # model.add(keras.layers.Dropout(0.3))\n",
    "# #\n",
    "# # # output layer\n",
    "# model.add(keras.layers.Dense(10, activation='softmax'))\n",
    "\n",
    "model.summary()"
   ],
   "metadata": {
    "collapsed": false
   }
  },
  {
   "cell_type": "code",
   "execution_count": 24,
   "outputs": [
    {
     "name": "stdout",
     "output_type": "stream",
     "text": [
      "Epoch 1/400\n",
      "INFO:tensorflow:Assets written to: CNN_models\\assets\n"
     ]
    },
    {
     "name": "stderr",
     "output_type": "stream",
     "text": [
      "INFO:tensorflow:Assets written to: CNN_models\\assets\n"
     ]
    },
    {
     "name": "stdout",
     "output_type": "stream",
     "text": [
      "9/9 - 3s - loss: 3.1888 - accuracy: 0.1202 - val_loss: 5.3684 - val_accuracy: 0.1067 - 3s/epoch - 325ms/step\n",
      "Epoch 2/400\n",
      "INFO:tensorflow:Assets written to: CNN_models\\assets\n"
     ]
    },
    {
     "name": "stderr",
     "output_type": "stream",
     "text": [
      "INFO:tensorflow:Assets written to: CNN_models\\assets\n"
     ]
    },
    {
     "name": "stdout",
     "output_type": "stream",
     "text": [
      "9/9 - 2s - loss: 2.4889 - accuracy: 0.1436 - val_loss: 3.3500 - val_accuracy: 0.1200 - 2s/epoch - 197ms/step\n",
      "Epoch 3/400\n",
      "9/9 - 1s - loss: 2.3282 - accuracy: 0.1786 - val_loss: 2.9265 - val_accuracy: 0.1200 - 557ms/epoch - 62ms/step\n",
      "Epoch 4/400\n",
      "INFO:tensorflow:Assets written to: CNN_models\\assets\n"
     ]
    },
    {
     "name": "stderr",
     "output_type": "stream",
     "text": [
      "INFO:tensorflow:Assets written to: CNN_models\\assets\n"
     ]
    },
    {
     "name": "stdout",
     "output_type": "stream",
     "text": [
      "9/9 - 2s - loss: 2.2703 - accuracy: 0.1770 - val_loss: 2.5966 - val_accuracy: 0.1267 - 2s/epoch - 212ms/step\n",
      "Epoch 5/400\n",
      "INFO:tensorflow:Assets written to: CNN_models\\assets\n"
     ]
    },
    {
     "name": "stderr",
     "output_type": "stream",
     "text": [
      "INFO:tensorflow:Assets written to: CNN_models\\assets\n"
     ]
    },
    {
     "name": "stdout",
     "output_type": "stream",
     "text": [
      "9/9 - 2s - loss: 2.2495 - accuracy: 0.1920 - val_loss: 2.3905 - val_accuracy: 0.1533 - 2s/epoch - 197ms/step\n",
      "Epoch 6/400\n",
      "INFO:tensorflow:Assets written to: CNN_models\\assets\n"
     ]
    },
    {
     "name": "stderr",
     "output_type": "stream",
     "text": [
      "INFO:tensorflow:Assets written to: CNN_models\\assets\n"
     ]
    },
    {
     "name": "stdout",
     "output_type": "stream",
     "text": [
      "9/9 - 2s - loss: 2.1841 - accuracy: 0.2454 - val_loss: 2.2242 - val_accuracy: 0.1600 - 2s/epoch - 223ms/step\n",
      "Epoch 7/400\n",
      "INFO:tensorflow:Assets written to: CNN_models\\assets\n"
     ]
    },
    {
     "name": "stderr",
     "output_type": "stream",
     "text": [
      "INFO:tensorflow:Assets written to: CNN_models\\assets\n"
     ]
    },
    {
     "name": "stdout",
     "output_type": "stream",
     "text": [
      "9/9 - 2s - loss: 2.1319 - accuracy: 0.2538 - val_loss: 2.1403 - val_accuracy: 0.1733 - 2s/epoch - 202ms/step\n",
      "Epoch 8/400\n",
      "INFO:tensorflow:Assets written to: CNN_models\\assets\n"
     ]
    },
    {
     "name": "stderr",
     "output_type": "stream",
     "text": [
      "INFO:tensorflow:Assets written to: CNN_models\\assets\n"
     ]
    },
    {
     "name": "stdout",
     "output_type": "stream",
     "text": [
      "9/9 - 2s - loss: 2.1087 - accuracy: 0.2304 - val_loss: 2.0676 - val_accuracy: 0.2133 - 2s/epoch - 220ms/step\n",
      "Epoch 9/400\n",
      "INFO:tensorflow:Assets written to: CNN_models\\assets\n"
     ]
    },
    {
     "name": "stderr",
     "output_type": "stream",
     "text": [
      "INFO:tensorflow:Assets written to: CNN_models\\assets\n"
     ]
    },
    {
     "name": "stdout",
     "output_type": "stream",
     "text": [
      "9/9 - 2s - loss: 2.0380 - accuracy: 0.2888 - val_loss: 2.0008 - val_accuracy: 0.2600 - 2s/epoch - 201ms/step\n",
      "Epoch 10/400\n",
      "INFO:tensorflow:Assets written to: CNN_models\\assets\n"
     ]
    },
    {
     "name": "stderr",
     "output_type": "stream",
     "text": [
      "INFO:tensorflow:Assets written to: CNN_models\\assets\n"
     ]
    },
    {
     "name": "stdout",
     "output_type": "stream",
     "text": [
      "9/9 - 2s - loss: 2.0078 - accuracy: 0.2888 - val_loss: 1.9759 - val_accuracy: 0.2867 - 2s/epoch - 199ms/step\n",
      "Epoch 11/400\n",
      "INFO:tensorflow:Assets written to: CNN_models\\assets\n"
     ]
    },
    {
     "name": "stderr",
     "output_type": "stream",
     "text": [
      "INFO:tensorflow:Assets written to: CNN_models\\assets\n"
     ]
    },
    {
     "name": "stdout",
     "output_type": "stream",
     "text": [
      "9/9 - 2s - loss: 1.9610 - accuracy: 0.3122 - val_loss: 1.9258 - val_accuracy: 0.3267 - 2s/epoch - 216ms/step\n",
      "Epoch 12/400\n",
      "INFO:tensorflow:Assets written to: CNN_models\\assets\n"
     ]
    },
    {
     "name": "stderr",
     "output_type": "stream",
     "text": [
      "INFO:tensorflow:Assets written to: CNN_models\\assets\n"
     ]
    },
    {
     "name": "stdout",
     "output_type": "stream",
     "text": [
      "9/9 - 2s - loss: 1.9418 - accuracy: 0.3055 - val_loss: 1.8879 - val_accuracy: 0.3467 - 2s/epoch - 198ms/step\n",
      "Epoch 13/400\n",
      "INFO:tensorflow:Assets written to: CNN_models\\assets\n"
     ]
    },
    {
     "name": "stderr",
     "output_type": "stream",
     "text": [
      "INFO:tensorflow:Assets written to: CNN_models\\assets\n"
     ]
    },
    {
     "name": "stdout",
     "output_type": "stream",
     "text": [
      "9/9 - 2s - loss: 1.9384 - accuracy: 0.2855 - val_loss: 1.8711 - val_accuracy: 0.3533 - 2s/epoch - 217ms/step\n",
      "Epoch 14/400\n",
      "INFO:tensorflow:Assets written to: CNN_models\\assets\n"
     ]
    },
    {
     "name": "stderr",
     "output_type": "stream",
     "text": [
      "INFO:tensorflow:Assets written to: CNN_models\\assets\n"
     ]
    },
    {
     "name": "stdout",
     "output_type": "stream",
     "text": [
      "9/9 - 2s - loss: 1.8777 - accuracy: 0.3255 - val_loss: 1.8510 - val_accuracy: 0.3667 - 2s/epoch - 197ms/step\n",
      "Epoch 15/400\n",
      "INFO:tensorflow:Assets written to: CNN_models\\assets\n"
     ]
    },
    {
     "name": "stderr",
     "output_type": "stream",
     "text": [
      "INFO:tensorflow:Assets written to: CNN_models\\assets\n"
     ]
    },
    {
     "name": "stdout",
     "output_type": "stream",
     "text": [
      "9/9 - 2s - loss: 1.8618 - accuracy: 0.3155 - val_loss: 1.8377 - val_accuracy: 0.3800 - 2s/epoch - 202ms/step\n",
      "Epoch 16/400\n",
      "9/9 - 1s - loss: 1.8199 - accuracy: 0.3656 - val_loss: 1.8147 - val_accuracy: 0.3533 - 549ms/epoch - 61ms/step\n",
      "Epoch 17/400\n",
      "9/9 - 1s - loss: 1.7964 - accuracy: 0.3573 - val_loss: 1.7845 - val_accuracy: 0.3267 - 549ms/epoch - 61ms/step\n",
      "Epoch 18/400\n",
      "INFO:tensorflow:Assets written to: CNN_models\\assets\n"
     ]
    },
    {
     "name": "stderr",
     "output_type": "stream",
     "text": [
      "INFO:tensorflow:Assets written to: CNN_models\\assets\n"
     ]
    },
    {
     "name": "stdout",
     "output_type": "stream",
     "text": [
      "9/9 - 2s - loss: 1.7826 - accuracy: 0.3406 - val_loss: 1.7534 - val_accuracy: 0.3867 - 2s/epoch - 216ms/step\n",
      "Epoch 19/400\n",
      "INFO:tensorflow:Assets written to: CNN_models\\assets\n"
     ]
    },
    {
     "name": "stderr",
     "output_type": "stream",
     "text": [
      "INFO:tensorflow:Assets written to: CNN_models\\assets\n"
     ]
    },
    {
     "name": "stdout",
     "output_type": "stream",
     "text": [
      "9/9 - 2s - loss: 1.7550 - accuracy: 0.3790 - val_loss: 1.7292 - val_accuracy: 0.4067 - 2s/epoch - 201ms/step\n",
      "Epoch 20/400\n",
      "9/9 - 1s - loss: 1.7205 - accuracy: 0.3923 - val_loss: 1.7183 - val_accuracy: 0.3933 - 557ms/epoch - 62ms/step\n",
      "Epoch 21/400\n",
      "9/9 - 1s - loss: 1.7258 - accuracy: 0.3539 - val_loss: 1.6674 - val_accuracy: 0.4067 - 566ms/epoch - 63ms/step\n",
      "Epoch 22/400\n",
      "9/9 - 1s - loss: 1.6371 - accuracy: 0.3940 - val_loss: 1.6612 - val_accuracy: 0.4067 - 565ms/epoch - 63ms/step\n",
      "Epoch 23/400\n",
      "INFO:tensorflow:Assets written to: CNN_models\\assets\n"
     ]
    },
    {
     "name": "stderr",
     "output_type": "stream",
     "text": [
      "INFO:tensorflow:Assets written to: CNN_models\\assets\n"
     ]
    },
    {
     "name": "stdout",
     "output_type": "stream",
     "text": [
      "9/9 - 2s - loss: 1.6717 - accuracy: 0.3856 - val_loss: 1.6455 - val_accuracy: 0.4400 - 2s/epoch - 228ms/step\n",
      "Epoch 24/400\n",
      "INFO:tensorflow:Assets written to: CNN_models\\assets\n"
     ]
    },
    {
     "name": "stderr",
     "output_type": "stream",
     "text": [
      "INFO:tensorflow:Assets written to: CNN_models\\assets\n"
     ]
    },
    {
     "name": "stdout",
     "output_type": "stream",
     "text": [
      "9/9 - 2s - loss: 1.6351 - accuracy: 0.4124 - val_loss: 1.6129 - val_accuracy: 0.4533 - 2s/epoch - 198ms/step\n",
      "Epoch 25/400\n",
      "9/9 - 1s - loss: 1.6287 - accuracy: 0.3923 - val_loss: 1.6755 - val_accuracy: 0.4400 - 548ms/epoch - 61ms/step\n",
      "Epoch 26/400\n",
      "9/9 - 1s - loss: 1.6017 - accuracy: 0.4357 - val_loss: 1.6828 - val_accuracy: 0.4200 - 595ms/epoch - 66ms/step\n",
      "Epoch 27/400\n",
      "9/9 - 1s - loss: 1.5904 - accuracy: 0.4207 - val_loss: 1.6717 - val_accuracy: 0.4333 - 596ms/epoch - 66ms/step\n",
      "Epoch 28/400\n",
      "9/9 - 1s - loss: 1.5823 - accuracy: 0.4073 - val_loss: 1.7169 - val_accuracy: 0.4200 - 584ms/epoch - 65ms/step\n",
      "Epoch 29/400\n",
      "INFO:tensorflow:Assets written to: CNN_models\\assets\n"
     ]
    },
    {
     "name": "stderr",
     "output_type": "stream",
     "text": [
      "INFO:tensorflow:Assets written to: CNN_models\\assets\n"
     ]
    },
    {
     "name": "stdout",
     "output_type": "stream",
     "text": [
      "9/9 - 2s - loss: 1.6276 - accuracy: 0.4174 - val_loss: 1.6228 - val_accuracy: 0.4667 - 2s/epoch - 224ms/step\n",
      "Epoch 30/400\n",
      "INFO:tensorflow:Assets written to: CNN_models\\assets\n"
     ]
    },
    {
     "name": "stderr",
     "output_type": "stream",
     "text": [
      "INFO:tensorflow:Assets written to: CNN_models\\assets\n"
     ]
    },
    {
     "name": "stdout",
     "output_type": "stream",
     "text": [
      "9/9 - 2s - loss: 1.4689 - accuracy: 0.4608 - val_loss: 1.5306 - val_accuracy: 0.4733 - 2s/epoch - 213ms/step\n",
      "Epoch 31/400\n",
      "9/9 - 1s - loss: 1.4871 - accuracy: 0.4441 - val_loss: 1.5948 - val_accuracy: 0.4067 - 579ms/epoch - 64ms/step\n",
      "Epoch 32/400\n",
      "9/9 - 1s - loss: 1.4872 - accuracy: 0.4641 - val_loss: 1.5923 - val_accuracy: 0.4200 - 614ms/epoch - 68ms/step\n",
      "Epoch 33/400\n",
      "9/9 - 1s - loss: 1.4203 - accuracy: 0.4775 - val_loss: 1.5055 - val_accuracy: 0.4667 - 579ms/epoch - 64ms/step\n",
      "Epoch 34/400\n",
      "INFO:tensorflow:Assets written to: CNN_models\\assets\n"
     ]
    },
    {
     "name": "stderr",
     "output_type": "stream",
     "text": [
      "INFO:tensorflow:Assets written to: CNN_models\\assets\n"
     ]
    },
    {
     "name": "stdout",
     "output_type": "stream",
     "text": [
      "9/9 - 2s - loss: 1.4571 - accuracy: 0.4624 - val_loss: 1.4644 - val_accuracy: 0.5133 - 2s/epoch - 234ms/step\n",
      "Epoch 35/400\n",
      "INFO:tensorflow:Assets written to: CNN_models\\assets\n"
     ]
    },
    {
     "name": "stderr",
     "output_type": "stream",
     "text": [
      "INFO:tensorflow:Assets written to: CNN_models\\assets\n"
     ]
    },
    {
     "name": "stdout",
     "output_type": "stream",
     "text": [
      "9/9 - 2s - loss: 1.3939 - accuracy: 0.4942 - val_loss: 1.4044 - val_accuracy: 0.5267 - 2s/epoch - 207ms/step\n",
      "Epoch 36/400\n",
      "INFO:tensorflow:Assets written to: CNN_models\\assets\n"
     ]
    },
    {
     "name": "stderr",
     "output_type": "stream",
     "text": [
      "INFO:tensorflow:Assets written to: CNN_models\\assets\n"
     ]
    },
    {
     "name": "stdout",
     "output_type": "stream",
     "text": [
      "9/9 - 2s - loss: 1.3938 - accuracy: 0.4591 - val_loss: 1.4209 - val_accuracy: 0.5467 - 2s/epoch - 204ms/step\n",
      "Epoch 37/400\n",
      "9/9 - 1s - loss: 1.4151 - accuracy: 0.4925 - val_loss: 1.5066 - val_accuracy: 0.4600 - 574ms/epoch - 64ms/step\n",
      "Epoch 38/400\n",
      "9/9 - 1s - loss: 1.3951 - accuracy: 0.4841 - val_loss: 1.6087 - val_accuracy: 0.4133 - 644ms/epoch - 72ms/step\n",
      "Epoch 39/400\n",
      "9/9 - 1s - loss: 1.3821 - accuracy: 0.5092 - val_loss: 1.4128 - val_accuracy: 0.4800 - 603ms/epoch - 67ms/step\n",
      "Epoch 40/400\n",
      "INFO:tensorflow:Assets written to: CNN_models\\assets\n"
     ]
    },
    {
     "name": "stderr",
     "output_type": "stream",
     "text": [
      "INFO:tensorflow:Assets written to: CNN_models\\assets\n"
     ]
    },
    {
     "name": "stdout",
     "output_type": "stream",
     "text": [
      "9/9 - 2s - loss: 1.3796 - accuracy: 0.5092 - val_loss: 1.4286 - val_accuracy: 0.5733 - 2s/epoch - 234ms/step\n",
      "Epoch 41/400\n",
      "9/9 - 1s - loss: 1.3016 - accuracy: 0.5092 - val_loss: 1.4734 - val_accuracy: 0.4533 - 579ms/epoch - 64ms/step\n",
      "Epoch 42/400\n",
      "9/9 - 1s - loss: 1.3527 - accuracy: 0.5175 - val_loss: 1.4720 - val_accuracy: 0.4600 - 658ms/epoch - 73ms/step\n",
      "Epoch 43/400\n",
      "9/9 - 1s - loss: 1.2642 - accuracy: 0.5309 - val_loss: 1.4138 - val_accuracy: 0.5400 - 636ms/epoch - 71ms/step\n",
      "Epoch 44/400\n",
      "9/9 - 1s - loss: 1.2944 - accuracy: 0.5326 - val_loss: 1.4155 - val_accuracy: 0.4933 - 641ms/epoch - 71ms/step\n",
      "Epoch 45/400\n",
      "INFO:tensorflow:Assets written to: CNN_models\\assets\n"
     ]
    },
    {
     "name": "stderr",
     "output_type": "stream",
     "text": [
      "INFO:tensorflow:Assets written to: CNN_models\\assets\n"
     ]
    },
    {
     "name": "stdout",
     "output_type": "stream",
     "text": [
      "9/9 - 2s - loss: 1.2796 - accuracy: 0.5509 - val_loss: 1.3178 - val_accuracy: 0.6000 - 2s/epoch - 212ms/step\n",
      "Epoch 46/400\n",
      "9/9 - 1s - loss: 1.2805 - accuracy: 0.5776 - val_loss: 1.3269 - val_accuracy: 0.5400 - 595ms/epoch - 66ms/step\n",
      "Epoch 47/400\n",
      "9/9 - 1s - loss: 1.2467 - accuracy: 0.5559 - val_loss: 1.3790 - val_accuracy: 0.5000 - 673ms/epoch - 75ms/step\n",
      "Epoch 48/400\n",
      "9/9 - 1s - loss: 1.2907 - accuracy: 0.5459 - val_loss: 1.4385 - val_accuracy: 0.5200 - 653ms/epoch - 73ms/step\n",
      "Epoch 49/400\n",
      "9/9 - 1s - loss: 1.2152 - accuracy: 0.5793 - val_loss: 1.4470 - val_accuracy: 0.4600 - 623ms/epoch - 69ms/step\n",
      "Epoch 50/400\n",
      "9/9 - 1s - loss: 1.2147 - accuracy: 0.5476 - val_loss: 1.2914 - val_accuracy: 0.6000 - 662ms/epoch - 74ms/step\n",
      "Epoch 51/400\n",
      "9/9 - 1s - loss: 1.2691 - accuracy: 0.5643 - val_loss: 1.4270 - val_accuracy: 0.5400 - 652ms/epoch - 72ms/step\n",
      "Epoch 52/400\n",
      "INFO:tensorflow:Assets written to: CNN_models\\assets\n"
     ]
    },
    {
     "name": "stderr",
     "output_type": "stream",
     "text": [
      "INFO:tensorflow:Assets written to: CNN_models\\assets\n"
     ]
    },
    {
     "name": "stdout",
     "output_type": "stream",
     "text": [
      "9/9 - 2s - loss: 1.2257 - accuracy: 0.5810 - val_loss: 1.3003 - val_accuracy: 0.6333 - 2s/epoch - 235ms/step\n",
      "Epoch 53/400\n",
      "9/9 - 1s - loss: 1.2198 - accuracy: 0.5810 - val_loss: 1.2936 - val_accuracy: 0.5467 - 611ms/epoch - 68ms/step\n",
      "Epoch 54/400\n",
      "9/9 - 1s - loss: 1.1358 - accuracy: 0.6093 - val_loss: 1.3324 - val_accuracy: 0.5267 - 657ms/epoch - 73ms/step\n",
      "Epoch 55/400\n",
      "9/9 - 1s - loss: 1.1663 - accuracy: 0.5977 - val_loss: 1.2253 - val_accuracy: 0.5667 - 673ms/epoch - 75ms/step\n",
      "Epoch 56/400\n",
      "9/9 - 1s - loss: 1.1841 - accuracy: 0.5810 - val_loss: 1.2470 - val_accuracy: 0.5867 - 673ms/epoch - 75ms/step\n",
      "Epoch 57/400\n",
      "9/9 - 1s - loss: 1.1570 - accuracy: 0.6077 - val_loss: 1.3535 - val_accuracy: 0.5267 - 671ms/epoch - 75ms/step\n",
      "Epoch 58/400\n",
      "9/9 - 1s - loss: 1.1374 - accuracy: 0.6127 - val_loss: 1.2843 - val_accuracy: 0.5400 - 672ms/epoch - 75ms/step\n",
      "Epoch 59/400\n",
      "9/9 - 1s - loss: 1.0949 - accuracy: 0.6227 - val_loss: 1.2809 - val_accuracy: 0.5733 - 661ms/epoch - 73ms/step\n",
      "Epoch 60/400\n",
      "9/9 - 1s - loss: 1.1225 - accuracy: 0.6177 - val_loss: 1.3723 - val_accuracy: 0.5133 - 662ms/epoch - 74ms/step\n",
      "Epoch 61/400\n",
      "9/9 - 1s - loss: 1.0447 - accuracy: 0.6394 - val_loss: 1.3951 - val_accuracy: 0.4667 - 665ms/epoch - 74ms/step\n",
      "Epoch 62/400\n",
      "9/9 - 1s - loss: 1.0565 - accuracy: 0.6444 - val_loss: 1.3859 - val_accuracy: 0.4933 - 661ms/epoch - 73ms/step\n",
      "Epoch 63/400\n",
      "9/9 - 1s - loss: 1.0833 - accuracy: 0.6311 - val_loss: 1.2219 - val_accuracy: 0.5800 - 662ms/epoch - 74ms/step\n",
      "Epoch 64/400\n",
      "9/9 - 1s - loss: 1.1050 - accuracy: 0.5977 - val_loss: 1.4980 - val_accuracy: 0.4400 - 675ms/epoch - 75ms/step\n",
      "Epoch 65/400\n",
      "9/9 - 1s - loss: 1.0702 - accuracy: 0.6177 - val_loss: 1.2799 - val_accuracy: 0.5467 - 666ms/epoch - 74ms/step\n",
      "Epoch 66/400\n",
      "9/9 - 1s - loss: 1.1086 - accuracy: 0.6127 - val_loss: 1.3218 - val_accuracy: 0.5133 - 664ms/epoch - 74ms/step\n",
      "Epoch 67/400\n",
      "9/9 - 1s - loss: 1.0341 - accuracy: 0.6544 - val_loss: 1.4095 - val_accuracy: 0.5400 - 669ms/epoch - 74ms/step\n",
      "Epoch 68/400\n",
      "9/9 - 1s - loss: 1.0489 - accuracy: 0.6294 - val_loss: 1.3541 - val_accuracy: 0.5733 - 671ms/epoch - 75ms/step\n",
      "Epoch 69/400\n",
      "9/9 - 1s - loss: 1.0943 - accuracy: 0.6311 - val_loss: 1.2541 - val_accuracy: 0.5800 - 662ms/epoch - 74ms/step\n",
      "Epoch 70/400\n",
      "9/9 - 1s - loss: 1.0063 - accuracy: 0.6528 - val_loss: 1.1938 - val_accuracy: 0.6000 - 672ms/epoch - 75ms/step\n",
      "Epoch 71/400\n",
      "9/9 - 1s - loss: 1.0055 - accuracy: 0.6511 - val_loss: 1.2172 - val_accuracy: 0.5933 - 672ms/epoch - 75ms/step\n",
      "Epoch 72/400\n",
      "9/9 - 1s - loss: 1.0701 - accuracy: 0.6027 - val_loss: 1.9078 - val_accuracy: 0.3667 - 661ms/epoch - 73ms/step\n",
      "Epoch 73/400\n",
      "9/9 - 1s - loss: 1.0923 - accuracy: 0.6411 - val_loss: 1.4546 - val_accuracy: 0.4800 - 663ms/epoch - 74ms/step\n",
      "Epoch 74/400\n",
      "9/9 - 1s - loss: 1.0223 - accuracy: 0.6394 - val_loss: 1.5032 - val_accuracy: 0.4733 - 673ms/epoch - 75ms/step\n",
      "Epoch 75/400\n",
      "9/9 - 1s - loss: 0.9894 - accuracy: 0.6461 - val_loss: 1.4809 - val_accuracy: 0.4800 - 659ms/epoch - 73ms/step\n",
      "Epoch 76/400\n",
      "9/9 - 1s - loss: 0.9841 - accuracy: 0.6761 - val_loss: 1.5241 - val_accuracy: 0.4800 - 667ms/epoch - 74ms/step\n",
      "Epoch 77/400\n",
      "9/9 - 1s - loss: 0.9551 - accuracy: 0.6878 - val_loss: 1.2339 - val_accuracy: 0.5733 - 663ms/epoch - 74ms/step\n",
      "Epoch 78/400\n",
      "9/9 - 1s - loss: 0.9425 - accuracy: 0.6928 - val_loss: 1.2456 - val_accuracy: 0.5667 - 667ms/epoch - 74ms/step\n",
      "Epoch 79/400\n",
      "9/9 - 1s - loss: 0.9617 - accuracy: 0.6928 - val_loss: 1.3125 - val_accuracy: 0.5733 - 671ms/epoch - 75ms/step\n",
      "Epoch 80/400\n",
      "9/9 - 1s - loss: 0.9472 - accuracy: 0.6694 - val_loss: 1.5673 - val_accuracy: 0.4867 - 675ms/epoch - 75ms/step\n",
      "Epoch 81/400\n",
      "9/9 - 1s - loss: 0.9273 - accuracy: 0.6745 - val_loss: 1.3244 - val_accuracy: 0.5400 - 667ms/epoch - 74ms/step\n",
      "Epoch 82/400\n",
      "9/9 - 1s - loss: 0.9509 - accuracy: 0.6761 - val_loss: 1.1471 - val_accuracy: 0.6133 - 671ms/epoch - 75ms/step\n",
      "Epoch 83/400\n",
      "9/9 - 1s - loss: 0.9339 - accuracy: 0.6945 - val_loss: 1.2556 - val_accuracy: 0.5467 - 673ms/epoch - 75ms/step\n",
      "Epoch 84/400\n",
      "9/9 - 1s - loss: 0.9329 - accuracy: 0.6811 - val_loss: 1.4085 - val_accuracy: 0.5200 - 668ms/epoch - 74ms/step\n",
      "Epoch 85/400\n",
      "9/9 - 1s - loss: 0.9107 - accuracy: 0.6895 - val_loss: 1.2062 - val_accuracy: 0.6067 - 661ms/epoch - 73ms/step\n",
      "Epoch 86/400\n",
      "9/9 - 1s - loss: 0.9123 - accuracy: 0.7028 - val_loss: 1.3078 - val_accuracy: 0.5733 - 661ms/epoch - 73ms/step\n",
      "Epoch 87/400\n",
      "9/9 - 1s - loss: 0.9250 - accuracy: 0.6978 - val_loss: 1.4222 - val_accuracy: 0.4867 - 675ms/epoch - 75ms/step\n",
      "Epoch 88/400\n",
      "9/9 - 1s - loss: 0.9138 - accuracy: 0.6912 - val_loss: 1.3419 - val_accuracy: 0.5333 - 661ms/epoch - 73ms/step\n",
      "Epoch 89/400\n",
      "9/9 - 1s - loss: 0.9132 - accuracy: 0.6895 - val_loss: 1.3319 - val_accuracy: 0.5467 - 671ms/epoch - 75ms/step\n",
      "Epoch 90/400\n",
      "9/9 - 1s - loss: 0.8698 - accuracy: 0.7329 - val_loss: 1.5929 - val_accuracy: 0.4867 - 671ms/epoch - 75ms/step\n",
      "Epoch 91/400\n",
      "9/9 - 1s - loss: 0.8815 - accuracy: 0.6995 - val_loss: 1.3817 - val_accuracy: 0.5467 - 667ms/epoch - 74ms/step\n",
      "Epoch 92/400\n",
      "9/9 - 1s - loss: 0.8420 - accuracy: 0.7145 - val_loss: 1.2969 - val_accuracy: 0.5733 - 675ms/epoch - 75ms/step\n",
      "Epoch 93/400\n",
      "9/9 - 1s - loss: 0.8952 - accuracy: 0.6761 - val_loss: 1.2872 - val_accuracy: 0.5800 - 677ms/epoch - 75ms/step\n",
      "Epoch 94/400\n",
      "9/9 - 1s - loss: 0.8709 - accuracy: 0.6962 - val_loss: 1.4698 - val_accuracy: 0.5267 - 672ms/epoch - 75ms/step\n",
      "Epoch 95/400\n",
      "9/9 - 1s - loss: 0.7864 - accuracy: 0.7513 - val_loss: 1.1656 - val_accuracy: 0.6000 - 668ms/epoch - 74ms/step\n",
      "Epoch 96/400\n",
      "9/9 - 1s - loss: 0.8868 - accuracy: 0.7045 - val_loss: 1.3445 - val_accuracy: 0.5667 - 661ms/epoch - 73ms/step\n",
      "Epoch 97/400\n",
      "9/9 - 1s - loss: 0.8283 - accuracy: 0.7362 - val_loss: 1.2782 - val_accuracy: 0.5733 - 662ms/epoch - 74ms/step\n",
      "Epoch 98/400\n",
      "9/9 - 1s - loss: 0.8162 - accuracy: 0.7045 - val_loss: 1.4030 - val_accuracy: 0.5600 - 663ms/epoch - 74ms/step\n",
      "Epoch 99/400\n",
      "9/9 - 1s - loss: 0.7958 - accuracy: 0.7396 - val_loss: 1.1894 - val_accuracy: 0.6333 - 666ms/epoch - 74ms/step\n",
      "Epoch 100/400\n",
      "9/9 - 1s - loss: 0.7895 - accuracy: 0.7563 - val_loss: 1.2347 - val_accuracy: 0.5933 - 657ms/epoch - 73ms/step\n",
      "Epoch 101/400\n",
      "9/9 - 1s - loss: 0.8514 - accuracy: 0.7262 - val_loss: 1.3599 - val_accuracy: 0.5533 - 661ms/epoch - 73ms/step\n",
      "Epoch 102/400\n",
      "9/9 - 1s - loss: 0.8215 - accuracy: 0.7112 - val_loss: 1.6126 - val_accuracy: 0.5067 - 671ms/epoch - 75ms/step\n",
      "Epoch 103/400\n",
      "9/9 - 1s - loss: 0.8278 - accuracy: 0.7245 - val_loss: 1.3984 - val_accuracy: 0.5400 - 663ms/epoch - 74ms/step\n",
      "Epoch 104/400\n",
      "9/9 - 1s - loss: 0.8060 - accuracy: 0.7429 - val_loss: 1.3430 - val_accuracy: 0.6200 - 662ms/epoch - 74ms/step\n",
      "Epoch 105/400\n",
      "9/9 - 1s - loss: 0.8483 - accuracy: 0.7412 - val_loss: 1.2898 - val_accuracy: 0.5933 - 661ms/epoch - 73ms/step\n",
      "Epoch 106/400\n",
      "9/9 - 1s - loss: 0.7839 - accuracy: 0.7496 - val_loss: 1.4454 - val_accuracy: 0.5267 - 669ms/epoch - 74ms/step\n",
      "Epoch 107/400\n",
      "9/9 - 1s - loss: 0.7885 - accuracy: 0.7513 - val_loss: 1.3838 - val_accuracy: 0.5867 - 665ms/epoch - 74ms/step\n",
      "Epoch 108/400\n",
      "9/9 - 1s - loss: 0.7757 - accuracy: 0.7262 - val_loss: 1.1935 - val_accuracy: 0.6267 - 663ms/epoch - 74ms/step\n",
      "Epoch 109/400\n",
      "9/9 - 1s - loss: 0.7967 - accuracy: 0.7529 - val_loss: 1.2954 - val_accuracy: 0.5867 - 670ms/epoch - 74ms/step\n",
      "Epoch 110/400\n",
      "9/9 - 1s - loss: 0.7559 - accuracy: 0.7579 - val_loss: 1.3731 - val_accuracy: 0.6133 - 669ms/epoch - 74ms/step\n",
      "Epoch 111/400\n",
      "9/9 - 1s - loss: 0.7748 - accuracy: 0.7446 - val_loss: 1.2821 - val_accuracy: 0.6133 - 663ms/epoch - 74ms/step\n",
      "Epoch 112/400\n",
      "9/9 - 1s - loss: 0.7997 - accuracy: 0.7579 - val_loss: 1.2729 - val_accuracy: 0.6000 - 671ms/epoch - 75ms/step\n",
      "Epoch 113/400\n",
      "INFO:tensorflow:Assets written to: CNN_models\\assets\n"
     ]
    },
    {
     "name": "stderr",
     "output_type": "stream",
     "text": [
      "INFO:tensorflow:Assets written to: CNN_models\\assets\n"
     ]
    },
    {
     "name": "stdout",
     "output_type": "stream",
     "text": [
      "9/9 - 2s - loss: 0.7717 - accuracy: 0.7362 - val_loss: 1.0588 - val_accuracy: 0.6733 - 2s/epoch - 222ms/step\n",
      "Epoch 114/400\n",
      "9/9 - 1s - loss: 0.6993 - accuracy: 0.7763 - val_loss: 1.4170 - val_accuracy: 0.5933 - 658ms/epoch - 73ms/step\n",
      "Epoch 115/400\n",
      "9/9 - 1s - loss: 0.6816 - accuracy: 0.7896 - val_loss: 1.1841 - val_accuracy: 0.6333 - 656ms/epoch - 73ms/step\n",
      "Epoch 116/400\n",
      "9/9 - 1s - loss: 0.7243 - accuracy: 0.7613 - val_loss: 1.1624 - val_accuracy: 0.6200 - 669ms/epoch - 74ms/step\n",
      "Epoch 117/400\n",
      "9/9 - 1s - loss: 0.7215 - accuracy: 0.7730 - val_loss: 1.2933 - val_accuracy: 0.5733 - 674ms/epoch - 75ms/step\n",
      "Epoch 118/400\n",
      "9/9 - 1s - loss: 0.7197 - accuracy: 0.7646 - val_loss: 1.4077 - val_accuracy: 0.5800 - 671ms/epoch - 75ms/step\n",
      "Epoch 119/400\n",
      "9/9 - 1s - loss: 0.6787 - accuracy: 0.7780 - val_loss: 1.5382 - val_accuracy: 0.5800 - 662ms/epoch - 74ms/step\n",
      "Epoch 120/400\n",
      "9/9 - 1s - loss: 0.6681 - accuracy: 0.7980 - val_loss: 1.2244 - val_accuracy: 0.6267 - 674ms/epoch - 75ms/step\n",
      "Epoch 121/400\n",
      "9/9 - 1s - loss: 0.7076 - accuracy: 0.7880 - val_loss: 1.3737 - val_accuracy: 0.6333 - 672ms/epoch - 75ms/step\n",
      "Epoch 122/400\n",
      "9/9 - 1s - loss: 0.6973 - accuracy: 0.7763 - val_loss: 1.2900 - val_accuracy: 0.5467 - 661ms/epoch - 73ms/step\n",
      "Epoch 123/400\n",
      "9/9 - 1s - loss: 0.6571 - accuracy: 0.8047 - val_loss: 1.7549 - val_accuracy: 0.5067 - 671ms/epoch - 75ms/step\n",
      "Epoch 124/400\n",
      "9/9 - 1s - loss: 0.7021 - accuracy: 0.7880 - val_loss: 1.2990 - val_accuracy: 0.6333 - 662ms/epoch - 74ms/step\n",
      "Epoch 125/400\n",
      "9/9 - 1s - loss: 0.6935 - accuracy: 0.7830 - val_loss: 1.1527 - val_accuracy: 0.6133 - 673ms/epoch - 75ms/step\n",
      "Epoch 126/400\n",
      "9/9 - 1s - loss: 0.7174 - accuracy: 0.7796 - val_loss: 1.1322 - val_accuracy: 0.6267 - 674ms/epoch - 75ms/step\n",
      "Epoch 127/400\n",
      "9/9 - 1s - loss: 0.6946 - accuracy: 0.7813 - val_loss: 1.3529 - val_accuracy: 0.6267 - 665ms/epoch - 74ms/step\n",
      "Epoch 128/400\n",
      "9/9 - 1s - loss: 0.6294 - accuracy: 0.7997 - val_loss: 1.4232 - val_accuracy: 0.6000 - 662ms/epoch - 74ms/step\n",
      "Epoch 129/400\n",
      "9/9 - 1s - loss: 0.6805 - accuracy: 0.7913 - val_loss: 1.3929 - val_accuracy: 0.6200 - 672ms/epoch - 75ms/step\n",
      "Epoch 130/400\n",
      "9/9 - 1s - loss: 0.6554 - accuracy: 0.7896 - val_loss: 1.3463 - val_accuracy: 0.5733 - 663ms/epoch - 74ms/step\n",
      "Epoch 131/400\n",
      "9/9 - 1s - loss: 0.6791 - accuracy: 0.8130 - val_loss: 1.1032 - val_accuracy: 0.6267 - 663ms/epoch - 74ms/step\n",
      "Epoch 132/400\n",
      "9/9 - 1s - loss: 0.6544 - accuracy: 0.7830 - val_loss: 1.3994 - val_accuracy: 0.6267 - 661ms/epoch - 73ms/step\n",
      "Epoch 133/400\n",
      "9/9 - 1s - loss: 0.6440 - accuracy: 0.7997 - val_loss: 1.2290 - val_accuracy: 0.6667 - 661ms/epoch - 73ms/step\n",
      "Epoch 134/400\n",
      "9/9 - 1s - loss: 0.6790 - accuracy: 0.7863 - val_loss: 1.5393 - val_accuracy: 0.5800 - 663ms/epoch - 74ms/step\n",
      "Epoch 135/400\n",
      "9/9 - 1s - loss: 0.6134 - accuracy: 0.8164 - val_loss: 1.3648 - val_accuracy: 0.6067 - 663ms/epoch - 74ms/step\n",
      "Epoch 136/400\n",
      "9/9 - 1s - loss: 0.6247 - accuracy: 0.8047 - val_loss: 1.2486 - val_accuracy: 0.6467 - 665ms/epoch - 74ms/step\n",
      "Epoch 137/400\n",
      "9/9 - 1s - loss: 0.6456 - accuracy: 0.8063 - val_loss: 1.4233 - val_accuracy: 0.6000 - 672ms/epoch - 75ms/step\n",
      "Epoch 138/400\n",
      "9/9 - 1s - loss: 0.6035 - accuracy: 0.8063 - val_loss: 1.5378 - val_accuracy: 0.5400 - 663ms/epoch - 74ms/step\n",
      "Epoch 139/400\n",
      "9/9 - 1s - loss: 0.6837 - accuracy: 0.7813 - val_loss: 1.4546 - val_accuracy: 0.6000 - 663ms/epoch - 74ms/step\n",
      "Epoch 140/400\n",
      "9/9 - 1s - loss: 0.5982 - accuracy: 0.8214 - val_loss: 1.4427 - val_accuracy: 0.6200 - 671ms/epoch - 75ms/step\n",
      "Epoch 141/400\n",
      "9/9 - 1s - loss: 0.5998 - accuracy: 0.8114 - val_loss: 1.2519 - val_accuracy: 0.6333 - 662ms/epoch - 74ms/step\n",
      "Epoch 142/400\n",
      "9/9 - 1s - loss: 0.6747 - accuracy: 0.7863 - val_loss: 1.2575 - val_accuracy: 0.6333 - 671ms/epoch - 75ms/step\n",
      "Epoch 143/400\n",
      "9/9 - 1s - loss: 0.5976 - accuracy: 0.8164 - val_loss: 1.4305 - val_accuracy: 0.5733 - 663ms/epoch - 74ms/step\n",
      "Epoch 144/400\n",
      "9/9 - 1s - loss: 0.6155 - accuracy: 0.8030 - val_loss: 1.3077 - val_accuracy: 0.6267 - 661ms/epoch - 73ms/step\n",
      "Epoch 145/400\n",
      "9/9 - 1s - loss: 0.6580 - accuracy: 0.7930 - val_loss: 1.3782 - val_accuracy: 0.6200 - 667ms/epoch - 74ms/step\n",
      "Epoch 146/400\n",
      "9/9 - 1s - loss: 0.5660 - accuracy: 0.8381 - val_loss: 1.3901 - val_accuracy: 0.6200 - 664ms/epoch - 74ms/step\n",
      "Epoch 147/400\n",
      "9/9 - 1s - loss: 0.5723 - accuracy: 0.8197 - val_loss: 1.4477 - val_accuracy: 0.5933 - 661ms/epoch - 73ms/step\n",
      "Epoch 148/400\n",
      "9/9 - 1s - loss: 0.5761 - accuracy: 0.8214 - val_loss: 1.2404 - val_accuracy: 0.6333 - 672ms/epoch - 75ms/step\n",
      "Epoch 149/400\n",
      "9/9 - 1s - loss: 0.5834 - accuracy: 0.8331 - val_loss: 1.3537 - val_accuracy: 0.6333 - 662ms/epoch - 74ms/step\n",
      "Epoch 150/400\n",
      "9/9 - 1s - loss: 0.6132 - accuracy: 0.8063 - val_loss: 1.3094 - val_accuracy: 0.6333 - 667ms/epoch - 74ms/step\n",
      "Epoch 151/400\n",
      "9/9 - 1s - loss: 0.5787 - accuracy: 0.8280 - val_loss: 1.6548 - val_accuracy: 0.5733 - 661ms/epoch - 73ms/step\n",
      "Epoch 152/400\n",
      "9/9 - 1s - loss: 0.5842 - accuracy: 0.8297 - val_loss: 1.3063 - val_accuracy: 0.6267 - 671ms/epoch - 75ms/step\n",
      "Epoch 153/400\n",
      "9/9 - 1s - loss: 0.5614 - accuracy: 0.8314 - val_loss: 1.6167 - val_accuracy: 0.5667 - 665ms/epoch - 74ms/step\n",
      "Epoch 154/400\n",
      "9/9 - 1s - loss: 0.5071 - accuracy: 0.8447 - val_loss: 1.5377 - val_accuracy: 0.5600 - 664ms/epoch - 74ms/step\n",
      "Epoch 155/400\n",
      "9/9 - 1s - loss: 0.5315 - accuracy: 0.8447 - val_loss: 1.6105 - val_accuracy: 0.5667 - 664ms/epoch - 74ms/step\n",
      "Epoch 156/400\n",
      "9/9 - 1s - loss: 0.5434 - accuracy: 0.8464 - val_loss: 1.3500 - val_accuracy: 0.6267 - 660ms/epoch - 73ms/step\n",
      "Epoch 157/400\n",
      "9/9 - 1s - loss: 0.6027 - accuracy: 0.8264 - val_loss: 1.6025 - val_accuracy: 0.5733 - 667ms/epoch - 74ms/step\n",
      "Epoch 158/400\n",
      "9/9 - 1s - loss: 0.6403 - accuracy: 0.8180 - val_loss: 1.2475 - val_accuracy: 0.6600 - 674ms/epoch - 75ms/step\n",
      "Epoch 159/400\n",
      "9/9 - 1s - loss: 0.5711 - accuracy: 0.8314 - val_loss: 1.1795 - val_accuracy: 0.6267 - 672ms/epoch - 75ms/step\n",
      "Epoch 160/400\n",
      "9/9 - 1s - loss: 0.5609 - accuracy: 0.8314 - val_loss: 1.4880 - val_accuracy: 0.5533 - 671ms/epoch - 75ms/step\n",
      "Epoch 161/400\n",
      "9/9 - 1s - loss: 0.5181 - accuracy: 0.8548 - val_loss: 1.3594 - val_accuracy: 0.6200 - 673ms/epoch - 75ms/step\n",
      "Epoch 162/400\n",
      "9/9 - 1s - loss: 0.4980 - accuracy: 0.8497 - val_loss: 1.3018 - val_accuracy: 0.6000 - 671ms/epoch - 75ms/step\n",
      "Epoch 163/400\n",
      "9/9 - 1s - loss: 0.5363 - accuracy: 0.8581 - val_loss: 1.2726 - val_accuracy: 0.6333 - 667ms/epoch - 74ms/step\n",
      "Epoch 164/400\n",
      "9/9 - 1s - loss: 0.5201 - accuracy: 0.8414 - val_loss: 1.3570 - val_accuracy: 0.6400 - 668ms/epoch - 74ms/step\n",
      "Epoch 165/400\n",
      "9/9 - 1s - loss: 0.5760 - accuracy: 0.8247 - val_loss: 1.6366 - val_accuracy: 0.5333 - 659ms/epoch - 73ms/step\n",
      "Epoch 166/400\n",
      "9/9 - 1s - loss: 0.5572 - accuracy: 0.8431 - val_loss: 1.3038 - val_accuracy: 0.6600 - 666ms/epoch - 74ms/step\n",
      "Epoch 167/400\n",
      "9/9 - 1s - loss: 0.5499 - accuracy: 0.8364 - val_loss: 1.6041 - val_accuracy: 0.5867 - 669ms/epoch - 74ms/step\n",
      "Epoch 168/400\n",
      "9/9 - 1s - loss: 0.5191 - accuracy: 0.8481 - val_loss: 1.4187 - val_accuracy: 0.6133 - 667ms/epoch - 74ms/step\n",
      "Epoch 169/400\n",
      "9/9 - 1s - loss: 0.5269 - accuracy: 0.8531 - val_loss: 1.2396 - val_accuracy: 0.6533 - 668ms/epoch - 74ms/step\n",
      "Epoch 170/400\n",
      "9/9 - 1s - loss: 0.5727 - accuracy: 0.8431 - val_loss: 1.4627 - val_accuracy: 0.6333 - 681ms/epoch - 76ms/step\n",
      "Epoch 171/400\n",
      "9/9 - 1s - loss: 0.5169 - accuracy: 0.8497 - val_loss: 1.3784 - val_accuracy: 0.5933 - 677ms/epoch - 75ms/step\n",
      "Epoch 172/400\n",
      "9/9 - 1s - loss: 0.5467 - accuracy: 0.8364 - val_loss: 1.2762 - val_accuracy: 0.6600 - 680ms/epoch - 76ms/step\n",
      "Epoch 173/400\n",
      "9/9 - 1s - loss: 0.5056 - accuracy: 0.8514 - val_loss: 1.3016 - val_accuracy: 0.6533 - 675ms/epoch - 75ms/step\n",
      "Epoch 174/400\n",
      "9/9 - 1s - loss: 0.5249 - accuracy: 0.8364 - val_loss: 1.8019 - val_accuracy: 0.5200 - 673ms/epoch - 75ms/step\n",
      "Epoch 175/400\n",
      "9/9 - 1s - loss: 0.5130 - accuracy: 0.8447 - val_loss: 1.4202 - val_accuracy: 0.6133 - 671ms/epoch - 75ms/step\n",
      "Epoch 176/400\n",
      "9/9 - 1s - loss: 0.5013 - accuracy: 0.8548 - val_loss: 1.5405 - val_accuracy: 0.5867 - 672ms/epoch - 75ms/step\n",
      "Epoch 177/400\n",
      "9/9 - 1s - loss: 0.4504 - accuracy: 0.8798 - val_loss: 1.2561 - val_accuracy: 0.6667 - 672ms/epoch - 75ms/step\n",
      "Epoch 178/400\n",
      "9/9 - 1s - loss: 0.5046 - accuracy: 0.8564 - val_loss: 1.4202 - val_accuracy: 0.6333 - 666ms/epoch - 74ms/step\n",
      "Epoch 179/400\n",
      "9/9 - 1s - loss: 0.4572 - accuracy: 0.8681 - val_loss: 1.3285 - val_accuracy: 0.6600 - 683ms/epoch - 76ms/step\n",
      "Epoch 180/400\n",
      "9/9 - 1s - loss: 0.5415 - accuracy: 0.8397 - val_loss: 1.4855 - val_accuracy: 0.5867 - 673ms/epoch - 75ms/step\n",
      "Epoch 181/400\n",
      "9/9 - 1s - loss: 0.4490 - accuracy: 0.8865 - val_loss: 1.2535 - val_accuracy: 0.6667 - 676ms/epoch - 75ms/step\n",
      "Epoch 182/400\n",
      "9/9 - 1s - loss: 0.4937 - accuracy: 0.8464 - val_loss: 1.4709 - val_accuracy: 0.5867 - 676ms/epoch - 75ms/step\n",
      "Epoch 183/400\n",
      "9/9 - 1s - loss: 0.5216 - accuracy: 0.8531 - val_loss: 1.3120 - val_accuracy: 0.6333 - 671ms/epoch - 75ms/step\n",
      "Epoch 184/400\n",
      "9/9 - 1s - loss: 0.4666 - accuracy: 0.8748 - val_loss: 1.5521 - val_accuracy: 0.6133 - 673ms/epoch - 75ms/step\n",
      "Epoch 185/400\n",
      "9/9 - 1s - loss: 0.4472 - accuracy: 0.8915 - val_loss: 1.3066 - val_accuracy: 0.6467 - 671ms/epoch - 75ms/step\n",
      "Epoch 186/400\n",
      "9/9 - 1s - loss: 0.4677 - accuracy: 0.8648 - val_loss: 1.3738 - val_accuracy: 0.6667 - 663ms/epoch - 74ms/step\n",
      "Epoch 187/400\n",
      "9/9 - 1s - loss: 0.5234 - accuracy: 0.8531 - val_loss: 1.6574 - val_accuracy: 0.5800 - 662ms/epoch - 74ms/step\n",
      "Epoch 188/400\n",
      "9/9 - 1s - loss: 0.4709 - accuracy: 0.8648 - val_loss: 1.3213 - val_accuracy: 0.6533 - 673ms/epoch - 75ms/step\n",
      "Epoch 189/400\n",
      "9/9 - 1s - loss: 0.4514 - accuracy: 0.8848 - val_loss: 1.4558 - val_accuracy: 0.6067 - 672ms/epoch - 75ms/step\n",
      "Epoch 190/400\n",
      "9/9 - 1s - loss: 0.4793 - accuracy: 0.8614 - val_loss: 1.4470 - val_accuracy: 0.6333 - 671ms/epoch - 75ms/step\n",
      "Epoch 191/400\n",
      "9/9 - 1s - loss: 0.4413 - accuracy: 0.8765 - val_loss: 1.5533 - val_accuracy: 0.5667 - 671ms/epoch - 75ms/step\n",
      "Epoch 192/400\n",
      "INFO:tensorflow:Assets written to: CNN_models\\assets\n"
     ]
    },
    {
     "name": "stderr",
     "output_type": "stream",
     "text": [
      "INFO:tensorflow:Assets written to: CNN_models\\assets\n"
     ]
    },
    {
     "name": "stdout",
     "output_type": "stream",
     "text": [
      "9/9 - 2s - loss: 0.4559 - accuracy: 0.8664 - val_loss: 1.3908 - val_accuracy: 0.6800 - 2s/epoch - 234ms/step\n",
      "Epoch 193/400\n",
      "INFO:tensorflow:Assets written to: CNN_models\\assets\n"
     ]
    },
    {
     "name": "stderr",
     "output_type": "stream",
     "text": [
      "INFO:tensorflow:Assets written to: CNN_models\\assets\n"
     ]
    },
    {
     "name": "stdout",
     "output_type": "stream",
     "text": [
      "9/9 - 2s - loss: 0.3868 - accuracy: 0.9115 - val_loss: 1.3720 - val_accuracy: 0.7067 - 2s/epoch - 243ms/step\n",
      "Epoch 194/400\n",
      "9/9 - 1s - loss: 0.4798 - accuracy: 0.8598 - val_loss: 1.3864 - val_accuracy: 0.7067 - 639ms/epoch - 71ms/step\n",
      "Epoch 195/400\n",
      "9/9 - 1s - loss: 0.5133 - accuracy: 0.8414 - val_loss: 1.8181 - val_accuracy: 0.5800 - 657ms/epoch - 73ms/step\n",
      "Epoch 196/400\n",
      "9/9 - 1s - loss: 0.4376 - accuracy: 0.8831 - val_loss: 1.5114 - val_accuracy: 0.5933 - 659ms/epoch - 73ms/step\n",
      "Epoch 197/400\n",
      "9/9 - 1s - loss: 0.4427 - accuracy: 0.8681 - val_loss: 1.5322 - val_accuracy: 0.6333 - 656ms/epoch - 73ms/step\n",
      "Epoch 198/400\n",
      "9/9 - 1s - loss: 0.4711 - accuracy: 0.8614 - val_loss: 1.3624 - val_accuracy: 0.6133 - 686ms/epoch - 76ms/step\n",
      "Epoch 199/400\n",
      "9/9 - 1s - loss: 0.4301 - accuracy: 0.8831 - val_loss: 1.3812 - val_accuracy: 0.6200 - 671ms/epoch - 75ms/step\n",
      "Epoch 200/400\n",
      "9/9 - 1s - loss: 0.5141 - accuracy: 0.8364 - val_loss: 1.7750 - val_accuracy: 0.5667 - 668ms/epoch - 74ms/step\n",
      "Epoch 201/400\n",
      "9/9 - 1s - loss: 0.4611 - accuracy: 0.8798 - val_loss: 1.5487 - val_accuracy: 0.6533 - 661ms/epoch - 73ms/step\n",
      "Epoch 202/400\n",
      "9/9 - 1s - loss: 0.4513 - accuracy: 0.8765 - val_loss: 1.3489 - val_accuracy: 0.6400 - 673ms/epoch - 75ms/step\n",
      "Epoch 203/400\n",
      "9/9 - 1s - loss: 0.4511 - accuracy: 0.8765 - val_loss: 1.2430 - val_accuracy: 0.6400 - 673ms/epoch - 75ms/step\n",
      "Epoch 204/400\n",
      "9/9 - 1s - loss: 0.4353 - accuracy: 0.8915 - val_loss: 1.4816 - val_accuracy: 0.6733 - 671ms/epoch - 75ms/step\n",
      "Epoch 205/400\n",
      "9/9 - 1s - loss: 0.4164 - accuracy: 0.8982 - val_loss: 1.4394 - val_accuracy: 0.6600 - 672ms/epoch - 75ms/step\n",
      "Epoch 206/400\n",
      "9/9 - 1s - loss: 0.4152 - accuracy: 0.8865 - val_loss: 1.5503 - val_accuracy: 0.6267 - 661ms/epoch - 73ms/step\n",
      "Epoch 207/400\n",
      "9/9 - 1s - loss: 0.4805 - accuracy: 0.8698 - val_loss: 1.4824 - val_accuracy: 0.6733 - 661ms/epoch - 73ms/step\n",
      "Epoch 208/400\n",
      "9/9 - 1s - loss: 0.4204 - accuracy: 0.8831 - val_loss: 1.4005 - val_accuracy: 0.6400 - 662ms/epoch - 74ms/step\n",
      "Epoch 209/400\n",
      "9/9 - 1s - loss: 0.3971 - accuracy: 0.8848 - val_loss: 1.5177 - val_accuracy: 0.6200 - 665ms/epoch - 74ms/step\n",
      "Epoch 210/400\n",
      "9/9 - 1s - loss: 0.4418 - accuracy: 0.8948 - val_loss: 1.4077 - val_accuracy: 0.6067 - 672ms/epoch - 75ms/step\n",
      "Epoch 211/400\n",
      "9/9 - 1s - loss: 0.4008 - accuracy: 0.8948 - val_loss: 1.4051 - val_accuracy: 0.6533 - 668ms/epoch - 74ms/step\n",
      "Epoch 212/400\n",
      "9/9 - 1s - loss: 0.4286 - accuracy: 0.9015 - val_loss: 1.4681 - val_accuracy: 0.6600 - 661ms/epoch - 73ms/step\n",
      "Epoch 213/400\n",
      "9/9 - 1s - loss: 0.3828 - accuracy: 0.9115 - val_loss: 1.4647 - val_accuracy: 0.6067 - 663ms/epoch - 74ms/step\n",
      "Epoch 214/400\n",
      "9/9 - 1s - loss: 0.4237 - accuracy: 0.8865 - val_loss: 1.4804 - val_accuracy: 0.6333 - 675ms/epoch - 75ms/step\n",
      "Epoch 215/400\n",
      "9/9 - 1s - loss: 0.3560 - accuracy: 0.9098 - val_loss: 1.5213 - val_accuracy: 0.6533 - 666ms/epoch - 74ms/step\n",
      "Epoch 216/400\n",
      "9/9 - 1s - loss: 0.3876 - accuracy: 0.9032 - val_loss: 1.5546 - val_accuracy: 0.6200 - 682ms/epoch - 76ms/step\n",
      "Epoch 217/400\n",
      "9/9 - 1s - loss: 0.3820 - accuracy: 0.8982 - val_loss: 2.0678 - val_accuracy: 0.5600 - 661ms/epoch - 73ms/step\n",
      "Epoch 218/400\n",
      "9/9 - 1s - loss: 0.3440 - accuracy: 0.9132 - val_loss: 1.4136 - val_accuracy: 0.6867 - 663ms/epoch - 74ms/step\n",
      "Epoch 219/400\n",
      "9/9 - 1s - loss: 0.3931 - accuracy: 0.8915 - val_loss: 1.9036 - val_accuracy: 0.5867 - 663ms/epoch - 74ms/step\n",
      "Epoch 220/400\n",
      "9/9 - 1s - loss: 0.3621 - accuracy: 0.9149 - val_loss: 1.3778 - val_accuracy: 0.6867 - 675ms/epoch - 75ms/step\n",
      "Epoch 221/400\n",
      "9/9 - 1s - loss: 0.4139 - accuracy: 0.8915 - val_loss: 2.0110 - val_accuracy: 0.5200 - 672ms/epoch - 75ms/step\n",
      "Epoch 222/400\n",
      "9/9 - 1s - loss: 0.4169 - accuracy: 0.8831 - val_loss: 1.6006 - val_accuracy: 0.6867 - 677ms/epoch - 75ms/step\n",
      "Epoch 223/400\n",
      "9/9 - 1s - loss: 0.4320 - accuracy: 0.8781 - val_loss: 2.2970 - val_accuracy: 0.5000 - 661ms/epoch - 73ms/step\n",
      "Epoch 224/400\n",
      "9/9 - 1s - loss: 0.4298 - accuracy: 0.8798 - val_loss: 1.2340 - val_accuracy: 0.7000 - 666ms/epoch - 74ms/step\n",
      "Epoch 225/400\n",
      "9/9 - 1s - loss: 0.4382 - accuracy: 0.8798 - val_loss: 1.9857 - val_accuracy: 0.6133 - 674ms/epoch - 75ms/step\n",
      "Epoch 226/400\n",
      "9/9 - 1s - loss: 0.3857 - accuracy: 0.9048 - val_loss: 1.4449 - val_accuracy: 0.6600 - 661ms/epoch - 73ms/step\n",
      "Epoch 227/400\n",
      "9/9 - 1s - loss: 0.3917 - accuracy: 0.9048 - val_loss: 1.6251 - val_accuracy: 0.5867 - 665ms/epoch - 74ms/step\n",
      "Epoch 228/400\n",
      "9/9 - 1s - loss: 0.4003 - accuracy: 0.8948 - val_loss: 1.5944 - val_accuracy: 0.6133 - 671ms/epoch - 75ms/step\n",
      "Epoch 229/400\n",
      "9/9 - 1s - loss: 0.4194 - accuracy: 0.8998 - val_loss: 1.9901 - val_accuracy: 0.6133 - 671ms/epoch - 75ms/step\n",
      "Epoch 230/400\n",
      "9/9 - 1s - loss: 0.3901 - accuracy: 0.9182 - val_loss: 1.9886 - val_accuracy: 0.6000 - 661ms/epoch - 73ms/step\n",
      "Epoch 231/400\n",
      "9/9 - 1s - loss: 0.3765 - accuracy: 0.9065 - val_loss: 1.9866 - val_accuracy: 0.5467 - 661ms/epoch - 73ms/step\n",
      "Epoch 232/400\n",
      "9/9 - 1s - loss: 0.4192 - accuracy: 0.8898 - val_loss: 1.3640 - val_accuracy: 0.6533 - 665ms/epoch - 74ms/step\n",
      "Epoch 233/400\n",
      "9/9 - 1s - loss: 0.4244 - accuracy: 0.8965 - val_loss: 1.4148 - val_accuracy: 0.6400 - 687ms/epoch - 76ms/step\n",
      "Epoch 234/400\n",
      "9/9 - 1s - loss: 0.3822 - accuracy: 0.8982 - val_loss: 1.3462 - val_accuracy: 0.6333 - 692ms/epoch - 77ms/step\n",
      "Epoch 235/400\n",
      "9/9 - 1s - loss: 0.4172 - accuracy: 0.8798 - val_loss: 1.2775 - val_accuracy: 0.6800 - 679ms/epoch - 75ms/step\n",
      "Epoch 236/400\n",
      "9/9 - 1s - loss: 0.3784 - accuracy: 0.8998 - val_loss: 1.5875 - val_accuracy: 0.6067 - 670ms/epoch - 74ms/step\n",
      "Epoch 237/400\n",
      "9/9 - 1s - loss: 0.3887 - accuracy: 0.8998 - val_loss: 1.4241 - val_accuracy: 0.6067 - 681ms/epoch - 76ms/step\n",
      "Epoch 238/400\n",
      "9/9 - 1s - loss: 0.3752 - accuracy: 0.9015 - val_loss: 1.5559 - val_accuracy: 0.6600 - 677ms/epoch - 75ms/step\n",
      "Epoch 239/400\n",
      "9/9 - 1s - loss: 0.3565 - accuracy: 0.9048 - val_loss: 1.8358 - val_accuracy: 0.5533 - 673ms/epoch - 75ms/step\n",
      "Epoch 240/400\n",
      "9/9 - 1s - loss: 0.3478 - accuracy: 0.9199 - val_loss: 1.5616 - val_accuracy: 0.6533 - 681ms/epoch - 76ms/step\n",
      "Epoch 241/400\n",
      "9/9 - 1s - loss: 0.3601 - accuracy: 0.9065 - val_loss: 1.8931 - val_accuracy: 0.5733 - 703ms/epoch - 78ms/step\n",
      "Epoch 242/400\n",
      "9/9 - 1s - loss: 0.3866 - accuracy: 0.8998 - val_loss: 1.5645 - val_accuracy: 0.5867 - 671ms/epoch - 75ms/step\n",
      "Epoch 243/400\n",
      "9/9 - 1s - loss: 0.3875 - accuracy: 0.9032 - val_loss: 1.3970 - val_accuracy: 0.6667 - 670ms/epoch - 74ms/step\n",
      "Epoch 244/400\n",
      "9/9 - 1s - loss: 0.3884 - accuracy: 0.8998 - val_loss: 1.3337 - val_accuracy: 0.6600 - 679ms/epoch - 75ms/step\n",
      "Epoch 245/400\n",
      "9/9 - 1s - loss: 0.3668 - accuracy: 0.9048 - val_loss: 1.7752 - val_accuracy: 0.5867 - 671ms/epoch - 75ms/step\n",
      "Epoch 246/400\n",
      "9/9 - 1s - loss: 0.4269 - accuracy: 0.8932 - val_loss: 1.4596 - val_accuracy: 0.6667 - 682ms/epoch - 76ms/step\n",
      "Epoch 247/400\n",
      "9/9 - 1s - loss: 0.3239 - accuracy: 0.9199 - val_loss: 1.3791 - val_accuracy: 0.6867 - 670ms/epoch - 74ms/step\n",
      "Epoch 248/400\n",
      "9/9 - 1s - loss: 0.3622 - accuracy: 0.9115 - val_loss: 1.5357 - val_accuracy: 0.6533 - 673ms/epoch - 75ms/step\n",
      "Epoch 249/400\n",
      "9/9 - 1s - loss: 0.3191 - accuracy: 0.9265 - val_loss: 1.4989 - val_accuracy: 0.6667 - 673ms/epoch - 75ms/step\n",
      "Epoch 250/400\n",
      "9/9 - 1s - loss: 0.3887 - accuracy: 0.9115 - val_loss: 1.9064 - val_accuracy: 0.5600 - 671ms/epoch - 75ms/step\n",
      "Epoch 251/400\n",
      "9/9 - 1s - loss: 0.3154 - accuracy: 0.9249 - val_loss: 1.4140 - val_accuracy: 0.6933 - 672ms/epoch - 75ms/step\n",
      "Epoch 252/400\n",
      "9/9 - 1s - loss: 0.3242 - accuracy: 0.9165 - val_loss: 1.8674 - val_accuracy: 0.5800 - 673ms/epoch - 75ms/step\n",
      "Epoch 253/400\n",
      "9/9 - 1s - loss: 0.3209 - accuracy: 0.9115 - val_loss: 1.5700 - val_accuracy: 0.6600 - 674ms/epoch - 75ms/step\n",
      "Epoch 254/400\n",
      "9/9 - 1s - loss: 0.3489 - accuracy: 0.9282 - val_loss: 1.4840 - val_accuracy: 0.6667 - 667ms/epoch - 74ms/step\n",
      "Epoch 255/400\n",
      "9/9 - 1s - loss: 0.3813 - accuracy: 0.9115 - val_loss: 1.4138 - val_accuracy: 0.6667 - 670ms/epoch - 74ms/step\n",
      "Epoch 256/400\n",
      "9/9 - 1s - loss: 0.3431 - accuracy: 0.9098 - val_loss: 1.3844 - val_accuracy: 0.6800 - 677ms/epoch - 75ms/step\n",
      "Epoch 257/400\n",
      "9/9 - 1s - loss: 0.3801 - accuracy: 0.8948 - val_loss: 2.0873 - val_accuracy: 0.5867 - 677ms/epoch - 75ms/step\n",
      "Epoch 258/400\n",
      "9/9 - 1s - loss: 0.3322 - accuracy: 0.9265 - val_loss: 1.3407 - val_accuracy: 0.6933 - 671ms/epoch - 75ms/step\n",
      "Epoch 259/400\n",
      "9/9 - 1s - loss: 0.3440 - accuracy: 0.9149 - val_loss: 1.8010 - val_accuracy: 0.5933 - 674ms/epoch - 75ms/step\n",
      "Epoch 260/400\n",
      "9/9 - 1s - loss: 0.3580 - accuracy: 0.8998 - val_loss: 1.4787 - val_accuracy: 0.6733 - 671ms/epoch - 75ms/step\n",
      "Epoch 261/400\n",
      "9/9 - 1s - loss: 0.3583 - accuracy: 0.9215 - val_loss: 1.7372 - val_accuracy: 0.6400 - 676ms/epoch - 75ms/step\n",
      "Epoch 262/400\n",
      "9/9 - 1s - loss: 0.3816 - accuracy: 0.8965 - val_loss: 1.5981 - val_accuracy: 0.6133 - 665ms/epoch - 74ms/step\n",
      "Epoch 263/400\n",
      "9/9 - 1s - loss: 0.3560 - accuracy: 0.9215 - val_loss: 1.3575 - val_accuracy: 0.6133 - 672ms/epoch - 75ms/step\n",
      "Epoch 264/400\n",
      "9/9 - 1s - loss: 0.3662 - accuracy: 0.8998 - val_loss: 1.6797 - val_accuracy: 0.6133 - 680ms/epoch - 76ms/step\n",
      "Epoch 265/400\n",
      "9/9 - 1s - loss: 0.3238 - accuracy: 0.9332 - val_loss: 1.5283 - val_accuracy: 0.6667 - 663ms/epoch - 74ms/step\n",
      "Epoch 266/400\n",
      "9/9 - 1s - loss: 0.3602 - accuracy: 0.9165 - val_loss: 1.2252 - val_accuracy: 0.6733 - 677ms/epoch - 75ms/step\n",
      "Epoch 267/400\n",
      "9/9 - 1s - loss: 0.3211 - accuracy: 0.9282 - val_loss: 1.2217 - val_accuracy: 0.7000 - 672ms/epoch - 75ms/step\n",
      "Epoch 268/400\n",
      "9/9 - 1s - loss: 0.3431 - accuracy: 0.9165 - val_loss: 1.4876 - val_accuracy: 0.6667 - 674ms/epoch - 75ms/step\n",
      "Epoch 269/400\n",
      "9/9 - 1s - loss: 0.3166 - accuracy: 0.9182 - val_loss: 1.4475 - val_accuracy: 0.6733 - 671ms/epoch - 75ms/step\n",
      "Epoch 270/400\n",
      "9/9 - 1s - loss: 0.3426 - accuracy: 0.9065 - val_loss: 1.9318 - val_accuracy: 0.6067 - 671ms/epoch - 75ms/step\n",
      "Epoch 271/400\n",
      "9/9 - 1s - loss: 0.3234 - accuracy: 0.9265 - val_loss: 1.2800 - val_accuracy: 0.7067 - 676ms/epoch - 75ms/step\n",
      "Epoch 272/400\n",
      "9/9 - 1s - loss: 0.3504 - accuracy: 0.9332 - val_loss: 1.4438 - val_accuracy: 0.7000 - 671ms/epoch - 75ms/step\n",
      "Epoch 273/400\n",
      "9/9 - 1s - loss: 0.3520 - accuracy: 0.9082 - val_loss: 1.4107 - val_accuracy: 0.6733 - 672ms/epoch - 75ms/step\n",
      "Epoch 274/400\n",
      "9/9 - 1s - loss: 0.3164 - accuracy: 0.9165 - val_loss: 1.3701 - val_accuracy: 0.6733 - 674ms/epoch - 75ms/step\n",
      "Epoch 275/400\n",
      "9/9 - 1s - loss: 0.2866 - accuracy: 0.9382 - val_loss: 2.1193 - val_accuracy: 0.5200 - 673ms/epoch - 75ms/step\n",
      "Epoch 276/400\n",
      "9/9 - 1s - loss: 0.3033 - accuracy: 0.9332 - val_loss: 1.7468 - val_accuracy: 0.6333 - 662ms/epoch - 74ms/step\n",
      "Epoch 277/400\n",
      "9/9 - 1s - loss: 0.3270 - accuracy: 0.9282 - val_loss: 1.7516 - val_accuracy: 0.6533 - 662ms/epoch - 74ms/step\n",
      "Epoch 278/400\n",
      "9/9 - 1s - loss: 0.3493 - accuracy: 0.9032 - val_loss: 1.4802 - val_accuracy: 0.6733 - 670ms/epoch - 74ms/step\n",
      "Epoch 279/400\n",
      "9/9 - 1s - loss: 0.3448 - accuracy: 0.9115 - val_loss: 1.5543 - val_accuracy: 0.6800 - 671ms/epoch - 75ms/step\n",
      "Epoch 280/400\n",
      "9/9 - 1s - loss: 0.3452 - accuracy: 0.9182 - val_loss: 1.4833 - val_accuracy: 0.6533 - 672ms/epoch - 75ms/step\n",
      "Epoch 281/400\n",
      "9/9 - 1s - loss: 0.3010 - accuracy: 0.9265 - val_loss: 1.3898 - val_accuracy: 0.6467 - 662ms/epoch - 74ms/step\n",
      "Epoch 282/400\n",
      "9/9 - 1s - loss: 0.3525 - accuracy: 0.9199 - val_loss: 1.6400 - val_accuracy: 0.6333 - 672ms/epoch - 75ms/step\n",
      "Epoch 283/400\n",
      "9/9 - 1s - loss: 0.3743 - accuracy: 0.9015 - val_loss: 1.3100 - val_accuracy: 0.6667 - 665ms/epoch - 74ms/step\n",
      "Epoch 284/400\n",
      "9/9 - 1s - loss: 0.3587 - accuracy: 0.9199 - val_loss: 2.2816 - val_accuracy: 0.5600 - 672ms/epoch - 75ms/step\n",
      "Epoch 285/400\n",
      "9/9 - 1s - loss: 0.3629 - accuracy: 0.9082 - val_loss: 1.2506 - val_accuracy: 0.6933 - 664ms/epoch - 74ms/step\n",
      "Epoch 286/400\n",
      "9/9 - 1s - loss: 0.3161 - accuracy: 0.9349 - val_loss: 1.6037 - val_accuracy: 0.6133 - 666ms/epoch - 74ms/step\n",
      "Epoch 287/400\n",
      "9/9 - 1s - loss: 0.3220 - accuracy: 0.9199 - val_loss: 1.4083 - val_accuracy: 0.6400 - 671ms/epoch - 75ms/step\n",
      "Epoch 288/400\n",
      "9/9 - 1s - loss: 0.3336 - accuracy: 0.9165 - val_loss: 1.5733 - val_accuracy: 0.6467 - 662ms/epoch - 74ms/step\n",
      "Epoch 289/400\n",
      "9/9 - 1s - loss: 0.3629 - accuracy: 0.9082 - val_loss: 1.7583 - val_accuracy: 0.5867 - 662ms/epoch - 74ms/step\n",
      "Epoch 290/400\n",
      "9/9 - 1s - loss: 0.3150 - accuracy: 0.9316 - val_loss: 1.4263 - val_accuracy: 0.6800 - 670ms/epoch - 74ms/step\n",
      "Epoch 291/400\n",
      "9/9 - 1s - loss: 0.2845 - accuracy: 0.9249 - val_loss: 1.3576 - val_accuracy: 0.6800 - 660ms/epoch - 73ms/step\n",
      "Epoch 292/400\n",
      "9/9 - 1s - loss: 0.2757 - accuracy: 0.9466 - val_loss: 1.6415 - val_accuracy: 0.6267 - 672ms/epoch - 75ms/step\n",
      "Epoch 293/400\n",
      "9/9 - 1s - loss: 0.3549 - accuracy: 0.9215 - val_loss: 1.4938 - val_accuracy: 0.6533 - 671ms/epoch - 75ms/step\n",
      "Epoch 294/400\n",
      "9/9 - 1s - loss: 0.3316 - accuracy: 0.9182 - val_loss: 1.8173 - val_accuracy: 0.6467 - 673ms/epoch - 75ms/step\n",
      "Epoch 295/400\n",
      "9/9 - 1s - loss: 0.3816 - accuracy: 0.8965 - val_loss: 1.6722 - val_accuracy: 0.6133 - 670ms/epoch - 74ms/step\n",
      "Epoch 296/400\n",
      "9/9 - 1s - loss: 0.3641 - accuracy: 0.9065 - val_loss: 1.3271 - val_accuracy: 0.6867 - 667ms/epoch - 74ms/step\n",
      "Epoch 297/400\n",
      "9/9 - 1s - loss: 0.3768 - accuracy: 0.9032 - val_loss: 1.8709 - val_accuracy: 0.5800 - 663ms/epoch - 74ms/step\n",
      "Epoch 298/400\n",
      "9/9 - 1s - loss: 0.3446 - accuracy: 0.9098 - val_loss: 1.6177 - val_accuracy: 0.6267 - 672ms/epoch - 75ms/step\n",
      "Epoch 299/400\n",
      "9/9 - 1s - loss: 0.3129 - accuracy: 0.9299 - val_loss: 1.5325 - val_accuracy: 0.6467 - 661ms/epoch - 73ms/step\n",
      "Epoch 300/400\n",
      "9/9 - 1s - loss: 0.3242 - accuracy: 0.9098 - val_loss: 1.6523 - val_accuracy: 0.6600 - 662ms/epoch - 74ms/step\n",
      "Epoch 301/400\n",
      "9/9 - 1s - loss: 0.3549 - accuracy: 0.9182 - val_loss: 1.7662 - val_accuracy: 0.6333 - 673ms/epoch - 75ms/step\n",
      "Epoch 302/400\n",
      "9/9 - 1s - loss: 0.3071 - accuracy: 0.9349 - val_loss: 1.5552 - val_accuracy: 0.6800 - 665ms/epoch - 74ms/step\n",
      "Epoch 303/400\n",
      "9/9 - 1s - loss: 0.2878 - accuracy: 0.9382 - val_loss: 1.8953 - val_accuracy: 0.5933 - 663ms/epoch - 74ms/step\n",
      "Epoch 304/400\n",
      "9/9 - 1s - loss: 0.2616 - accuracy: 0.9449 - val_loss: 1.3211 - val_accuracy: 0.7067 - 665ms/epoch - 74ms/step\n",
      "Epoch 305/400\n",
      "9/9 - 1s - loss: 0.3657 - accuracy: 0.9165 - val_loss: 1.6863 - val_accuracy: 0.6200 - 663ms/epoch - 74ms/step\n",
      "Epoch 306/400\n",
      "9/9 - 1s - loss: 0.3856 - accuracy: 0.9149 - val_loss: 1.8982 - val_accuracy: 0.5267 - 677ms/epoch - 75ms/step\n",
      "Epoch 307/400\n",
      "9/9 - 1s - loss: 0.3582 - accuracy: 0.9082 - val_loss: 1.3688 - val_accuracy: 0.6733 - 666ms/epoch - 74ms/step\n",
      "Epoch 308/400\n",
      "9/9 - 1s - loss: 0.3510 - accuracy: 0.9098 - val_loss: 1.8482 - val_accuracy: 0.5600 - 671ms/epoch - 75ms/step\n",
      "Epoch 309/400\n",
      "9/9 - 1s - loss: 0.4043 - accuracy: 0.8982 - val_loss: 1.6616 - val_accuracy: 0.6333 - 671ms/epoch - 75ms/step\n",
      "Epoch 310/400\n",
      "9/9 - 1s - loss: 0.3213 - accuracy: 0.9265 - val_loss: 1.4723 - val_accuracy: 0.6933 - 673ms/epoch - 75ms/step\n",
      "Epoch 311/400\n",
      "9/9 - 1s - loss: 0.3428 - accuracy: 0.9165 - val_loss: 1.5542 - val_accuracy: 0.6200 - 666ms/epoch - 74ms/step\n",
      "Epoch 312/400\n",
      "9/9 - 1s - loss: 0.2849 - accuracy: 0.9382 - val_loss: 1.8686 - val_accuracy: 0.6133 - 672ms/epoch - 75ms/step\n",
      "Epoch 313/400\n",
      "9/9 - 1s - loss: 0.3554 - accuracy: 0.9082 - val_loss: 1.5476 - val_accuracy: 0.6533 - 672ms/epoch - 75ms/step\n",
      "Epoch 314/400\n",
      "9/9 - 1s - loss: 0.2926 - accuracy: 0.9316 - val_loss: 1.4188 - val_accuracy: 0.6667 - 668ms/epoch - 74ms/step\n",
      "Epoch 315/400\n",
      "9/9 - 1s - loss: 0.3121 - accuracy: 0.9265 - val_loss: 1.4811 - val_accuracy: 0.7000 - 662ms/epoch - 74ms/step\n",
      "Epoch 316/400\n",
      "9/9 - 1s - loss: 0.2889 - accuracy: 0.9432 - val_loss: 2.0896 - val_accuracy: 0.6200 - 673ms/epoch - 75ms/step\n",
      "Epoch 317/400\n",
      "9/9 - 1s - loss: 0.2891 - accuracy: 0.9482 - val_loss: 1.8503 - val_accuracy: 0.5800 - 672ms/epoch - 75ms/step\n",
      "Epoch 318/400\n",
      "9/9 - 1s - loss: 0.2746 - accuracy: 0.9449 - val_loss: 1.6319 - val_accuracy: 0.6533 - 672ms/epoch - 75ms/step\n",
      "Epoch 319/400\n",
      "9/9 - 1s - loss: 0.3079 - accuracy: 0.9349 - val_loss: 1.4254 - val_accuracy: 0.6867 - 679ms/epoch - 75ms/step\n",
      "Epoch 320/400\n",
      "9/9 - 1s - loss: 0.2632 - accuracy: 0.9416 - val_loss: 1.7571 - val_accuracy: 0.6067 - 686ms/epoch - 76ms/step\n",
      "Epoch 321/400\n",
      "INFO:tensorflow:Assets written to: CNN_models\\assets\n"
     ]
    },
    {
     "name": "stderr",
     "output_type": "stream",
     "text": [
      "INFO:tensorflow:Assets written to: CNN_models\\assets\n"
     ]
    },
    {
     "name": "stdout",
     "output_type": "stream",
     "text": [
      "9/9 - 3s - loss: 0.2769 - accuracy: 0.9416 - val_loss: 1.3417 - val_accuracy: 0.7133 - 3s/epoch - 314ms/step\n",
      "Epoch 322/400\n",
      "9/9 - 1s - loss: 0.2527 - accuracy: 0.9549 - val_loss: 1.7642 - val_accuracy: 0.6133 - 617ms/epoch - 69ms/step\n",
      "Epoch 323/400\n",
      "9/9 - 1s - loss: 0.3014 - accuracy: 0.9265 - val_loss: 1.5430 - val_accuracy: 0.6800 - 693ms/epoch - 77ms/step\n",
      "Epoch 324/400\n",
      "9/9 - 1s - loss: 0.2807 - accuracy: 0.9382 - val_loss: 1.4555 - val_accuracy: 0.6533 - 679ms/epoch - 75ms/step\n",
      "Epoch 325/400\n",
      "9/9 - 1s - loss: 0.3148 - accuracy: 0.9249 - val_loss: 1.7513 - val_accuracy: 0.6067 - 692ms/epoch - 77ms/step\n",
      "Epoch 326/400\n",
      "9/9 - 1s - loss: 0.3308 - accuracy: 0.9199 - val_loss: 1.9177 - val_accuracy: 0.6467 - 664ms/epoch - 74ms/step\n",
      "Epoch 327/400\n",
      "9/9 - 1s - loss: 0.2868 - accuracy: 0.9332 - val_loss: 1.8141 - val_accuracy: 0.6133 - 712ms/epoch - 79ms/step\n",
      "Epoch 328/400\n",
      "9/9 - 1s - loss: 0.3431 - accuracy: 0.9282 - val_loss: 1.5581 - val_accuracy: 0.6467 - 706ms/epoch - 78ms/step\n",
      "Epoch 329/400\n",
      "9/9 - 1s - loss: 0.3219 - accuracy: 0.9332 - val_loss: 1.3010 - val_accuracy: 0.6600 - 686ms/epoch - 76ms/step\n",
      "Epoch 330/400\n",
      "9/9 - 1s - loss: 0.2942 - accuracy: 0.9282 - val_loss: 1.3218 - val_accuracy: 0.6867 - 684ms/epoch - 76ms/step\n",
      "Epoch 331/400\n",
      "9/9 - 1s - loss: 0.3107 - accuracy: 0.9299 - val_loss: 1.3835 - val_accuracy: 0.6467 - 679ms/epoch - 75ms/step\n",
      "Epoch 332/400\n",
      "9/9 - 1s - loss: 0.2947 - accuracy: 0.9332 - val_loss: 1.4275 - val_accuracy: 0.6600 - 687ms/epoch - 76ms/step\n",
      "Epoch 333/400\n",
      "9/9 - 1s - loss: 0.3005 - accuracy: 0.9349 - val_loss: 1.4787 - val_accuracy: 0.6400 - 683ms/epoch - 76ms/step\n",
      "Epoch 334/400\n",
      "9/9 - 1s - loss: 0.3053 - accuracy: 0.9399 - val_loss: 2.0009 - val_accuracy: 0.6133 - 673ms/epoch - 75ms/step\n",
      "Epoch 335/400\n",
      "9/9 - 1s - loss: 0.3000 - accuracy: 0.9416 - val_loss: 1.4130 - val_accuracy: 0.6600 - 670ms/epoch - 74ms/step\n",
      "Epoch 336/400\n",
      "9/9 - 1s - loss: 0.3009 - accuracy: 0.9265 - val_loss: 1.6225 - val_accuracy: 0.6133 - 678ms/epoch - 75ms/step\n",
      "Epoch 337/400\n",
      "9/9 - 1s - loss: 0.3170 - accuracy: 0.9432 - val_loss: 1.9550 - val_accuracy: 0.5933 - 671ms/epoch - 75ms/step\n",
      "Epoch 338/400\n",
      "9/9 - 1s - loss: 0.2832 - accuracy: 0.9482 - val_loss: 1.8643 - val_accuracy: 0.6533 - 671ms/epoch - 75ms/step\n",
      "Epoch 339/400\n",
      "9/9 - 1s - loss: 0.3425 - accuracy: 0.9132 - val_loss: 2.1618 - val_accuracy: 0.6067 - 692ms/epoch - 77ms/step\n",
      "Epoch 340/400\n",
      "9/9 - 1s - loss: 0.2954 - accuracy: 0.9332 - val_loss: 1.8077 - val_accuracy: 0.6200 - 679ms/epoch - 75ms/step\n",
      "Epoch 341/400\n",
      "9/9 - 1s - loss: 0.3250 - accuracy: 0.9232 - val_loss: 1.7036 - val_accuracy: 0.6133 - 687ms/epoch - 76ms/step\n",
      "Epoch 342/400\n",
      "9/9 - 1s - loss: 0.2972 - accuracy: 0.9316 - val_loss: 1.7066 - val_accuracy: 0.6200 - 683ms/epoch - 76ms/step\n",
      "Epoch 343/400\n",
      "9/9 - 1s - loss: 0.2592 - accuracy: 0.9499 - val_loss: 2.2870 - val_accuracy: 0.5400 - 673ms/epoch - 75ms/step\n",
      "Epoch 344/400\n",
      "9/9 - 1s - loss: 0.3318 - accuracy: 0.9299 - val_loss: 1.9325 - val_accuracy: 0.5867 - 678ms/epoch - 75ms/step\n",
      "Epoch 345/400\n",
      "9/9 - 1s - loss: 0.2493 - accuracy: 0.9499 - val_loss: 1.6888 - val_accuracy: 0.6400 - 693ms/epoch - 77ms/step\n",
      "Epoch 346/400\n",
      "9/9 - 1s - loss: 0.2774 - accuracy: 0.9382 - val_loss: 1.9340 - val_accuracy: 0.6400 - 696ms/epoch - 77ms/step\n",
      "Epoch 347/400\n",
      "9/9 - 1s - loss: 0.2763 - accuracy: 0.9499 - val_loss: 2.0891 - val_accuracy: 0.5400 - 689ms/epoch - 77ms/step\n",
      "Epoch 348/400\n",
      "9/9 - 1s - loss: 0.2944 - accuracy: 0.9366 - val_loss: 1.4522 - val_accuracy: 0.6533 - 692ms/epoch - 77ms/step\n",
      "Epoch 349/400\n",
      "9/9 - 1s - loss: 0.2859 - accuracy: 0.9382 - val_loss: 1.8589 - val_accuracy: 0.6200 - 684ms/epoch - 76ms/step\n",
      "Epoch 350/400\n",
      "9/9 - 1s - loss: 0.2626 - accuracy: 0.9499 - val_loss: 2.0857 - val_accuracy: 0.5733 - 691ms/epoch - 77ms/step\n",
      "Epoch 351/400\n",
      "9/9 - 1s - loss: 0.2914 - accuracy: 0.9282 - val_loss: 1.3847 - val_accuracy: 0.6600 - 676ms/epoch - 75ms/step\n",
      "Epoch 352/400\n",
      "9/9 - 1s - loss: 0.2726 - accuracy: 0.9382 - val_loss: 1.6414 - val_accuracy: 0.6400 - 694ms/epoch - 77ms/step\n",
      "Epoch 353/400\n",
      "9/9 - 1s - loss: 0.3030 - accuracy: 0.9449 - val_loss: 1.5211 - val_accuracy: 0.6267 - 683ms/epoch - 76ms/step\n",
      "Epoch 354/400\n",
      "9/9 - 1s - loss: 0.2970 - accuracy: 0.9382 - val_loss: 1.4774 - val_accuracy: 0.6733 - 683ms/epoch - 76ms/step\n",
      "Epoch 355/400\n",
      "9/9 - 1s - loss: 0.3108 - accuracy: 0.9399 - val_loss: 1.3161 - val_accuracy: 0.6600 - 689ms/epoch - 77ms/step\n",
      "Epoch 356/400\n",
      "9/9 - 1s - loss: 0.2790 - accuracy: 0.9432 - val_loss: 2.0075 - val_accuracy: 0.5533 - 680ms/epoch - 76ms/step\n",
      "Epoch 357/400\n",
      "9/9 - 1s - loss: 0.2573 - accuracy: 0.9499 - val_loss: 1.6214 - val_accuracy: 0.6267 - 696ms/epoch - 77ms/step\n",
      "Epoch 358/400\n",
      "9/9 - 1s - loss: 0.2960 - accuracy: 0.9399 - val_loss: 1.6161 - val_accuracy: 0.6200 - 677ms/epoch - 75ms/step\n",
      "Epoch 359/400\n",
      "9/9 - 1s - loss: 0.3021 - accuracy: 0.9282 - val_loss: 2.7113 - val_accuracy: 0.4400 - 683ms/epoch - 76ms/step\n",
      "Epoch 360/400\n",
      "9/9 - 1s - loss: 0.2841 - accuracy: 0.9416 - val_loss: 1.7191 - val_accuracy: 0.6133 - 684ms/epoch - 76ms/step\n",
      "Epoch 361/400\n",
      "9/9 - 1s - loss: 0.2250 - accuracy: 0.9633 - val_loss: 1.9454 - val_accuracy: 0.5867 - 681ms/epoch - 76ms/step\n",
      "Epoch 362/400\n",
      "9/9 - 1s - loss: 0.2720 - accuracy: 0.9499 - val_loss: 2.5842 - val_accuracy: 0.5133 - 680ms/epoch - 76ms/step\n",
      "Epoch 363/400\n",
      "9/9 - 1s - loss: 0.2758 - accuracy: 0.9482 - val_loss: 1.6674 - val_accuracy: 0.6400 - 685ms/epoch - 76ms/step\n",
      "Epoch 364/400\n",
      "9/9 - 1s - loss: 0.2823 - accuracy: 0.9382 - val_loss: 1.9233 - val_accuracy: 0.5933 - 672ms/epoch - 75ms/step\n",
      "Epoch 365/400\n",
      "9/9 - 1s - loss: 0.2870 - accuracy: 0.9382 - val_loss: 2.5791 - val_accuracy: 0.5333 - 695ms/epoch - 77ms/step\n",
      "Epoch 366/400\n",
      "9/9 - 1s - loss: 0.2683 - accuracy: 0.9482 - val_loss: 1.4321 - val_accuracy: 0.6600 - 704ms/epoch - 78ms/step\n",
      "Epoch 367/400\n",
      "9/9 - 1s - loss: 0.2726 - accuracy: 0.9482 - val_loss: 1.6444 - val_accuracy: 0.6600 - 704ms/epoch - 78ms/step\n",
      "Epoch 368/400\n",
      "9/9 - 1s - loss: 0.2702 - accuracy: 0.9566 - val_loss: 1.6694 - val_accuracy: 0.6667 - 696ms/epoch - 77ms/step\n",
      "Epoch 369/400\n",
      "9/9 - 1s - loss: 0.2633 - accuracy: 0.9432 - val_loss: 1.3610 - val_accuracy: 0.6800 - 697ms/epoch - 77ms/step\n",
      "Epoch 370/400\n",
      "9/9 - 1s - loss: 0.2504 - accuracy: 0.9482 - val_loss: 1.5511 - val_accuracy: 0.6733 - 716ms/epoch - 80ms/step\n",
      "Epoch 371/400\n",
      "9/9 - 1s - loss: 0.2546 - accuracy: 0.9432 - val_loss: 1.8966 - val_accuracy: 0.6533 - 709ms/epoch - 79ms/step\n",
      "Epoch 372/400\n",
      "9/9 - 1s - loss: 0.3009 - accuracy: 0.9366 - val_loss: 1.6051 - val_accuracy: 0.6400 - 694ms/epoch - 77ms/step\n",
      "Epoch 373/400\n",
      "9/9 - 1s - loss: 0.2953 - accuracy: 0.9416 - val_loss: 1.4468 - val_accuracy: 0.6933 - 678ms/epoch - 75ms/step\n",
      "Epoch 374/400\n",
      "9/9 - 1s - loss: 0.2708 - accuracy: 0.9533 - val_loss: 1.3946 - val_accuracy: 0.7000 - 685ms/epoch - 76ms/step\n",
      "Epoch 375/400\n",
      "9/9 - 1s - loss: 0.2762 - accuracy: 0.9482 - val_loss: 1.4536 - val_accuracy: 0.6333 - 678ms/epoch - 75ms/step\n",
      "Epoch 376/400\n",
      "9/9 - 1s - loss: 0.2485 - accuracy: 0.9616 - val_loss: 1.4755 - val_accuracy: 0.6733 - 686ms/epoch - 76ms/step\n",
      "Epoch 377/400\n",
      "9/9 - 1s - loss: 0.2339 - accuracy: 0.9599 - val_loss: 1.5533 - val_accuracy: 0.7000 - 683ms/epoch - 76ms/step\n",
      "Epoch 378/400\n",
      "9/9 - 1s - loss: 0.2904 - accuracy: 0.9549 - val_loss: 1.5194 - val_accuracy: 0.6733 - 675ms/epoch - 75ms/step\n",
      "Epoch 379/400\n",
      "9/9 - 1s - loss: 0.3153 - accuracy: 0.9299 - val_loss: 1.4925 - val_accuracy: 0.6533 - 680ms/epoch - 76ms/step\n",
      "Epoch 380/400\n",
      "9/9 - 1s - loss: 0.2467 - accuracy: 0.9583 - val_loss: 1.5691 - val_accuracy: 0.7000 - 681ms/epoch - 76ms/step\n",
      "Epoch 381/400\n",
      "9/9 - 1s - loss: 0.2764 - accuracy: 0.9349 - val_loss: 2.0456 - val_accuracy: 0.6533 - 690ms/epoch - 77ms/step\n",
      "Epoch 382/400\n",
      "9/9 - 1s - loss: 0.2543 - accuracy: 0.9533 - val_loss: 1.5204 - val_accuracy: 0.7133 - 688ms/epoch - 76ms/step\n",
      "Epoch 383/400\n",
      "9/9 - 1s - loss: 0.2564 - accuracy: 0.9516 - val_loss: 1.8654 - val_accuracy: 0.6267 - 689ms/epoch - 77ms/step\n",
      "Epoch 384/400\n",
      "9/9 - 1s - loss: 0.2176 - accuracy: 0.9666 - val_loss: 1.7784 - val_accuracy: 0.6267 - 689ms/epoch - 77ms/step\n",
      "Epoch 385/400\n",
      "9/9 - 1s - loss: 0.2242 - accuracy: 0.9683 - val_loss: 1.8571 - val_accuracy: 0.6267 - 682ms/epoch - 76ms/step\n",
      "Epoch 386/400\n",
      "9/9 - 1s - loss: 0.2880 - accuracy: 0.9299 - val_loss: 1.5613 - val_accuracy: 0.6733 - 679ms/epoch - 75ms/step\n",
      "Epoch 387/400\n",
      "9/9 - 1s - loss: 0.2683 - accuracy: 0.9482 - val_loss: 1.4505 - val_accuracy: 0.6800 - 666ms/epoch - 74ms/step\n",
      "Epoch 388/400\n",
      "9/9 - 1s - loss: 0.2465 - accuracy: 0.9482 - val_loss: 2.2207 - val_accuracy: 0.5800 - 679ms/epoch - 75ms/step\n",
      "Epoch 389/400\n",
      "INFO:tensorflow:Assets written to: CNN_models\\assets\n"
     ]
    },
    {
     "name": "stderr",
     "output_type": "stream",
     "text": [
      "INFO:tensorflow:Assets written to: CNN_models\\assets\n"
     ]
    },
    {
     "name": "stdout",
     "output_type": "stream",
     "text": [
      "9/9 - 2s - loss: 0.2863 - accuracy: 0.9499 - val_loss: 1.2569 - val_accuracy: 0.7200 - 2s/epoch - 255ms/step\n",
      "Epoch 390/400\n",
      "9/9 - 1s - loss: 0.2622 - accuracy: 0.9516 - val_loss: 1.2595 - val_accuracy: 0.7200 - 613ms/epoch - 68ms/step\n",
      "Epoch 391/400\n",
      "9/9 - 1s - loss: 0.2807 - accuracy: 0.9299 - val_loss: 1.4491 - val_accuracy: 0.7067 - 677ms/epoch - 75ms/step\n",
      "Epoch 392/400\n",
      "9/9 - 1s - loss: 0.2679 - accuracy: 0.9482 - val_loss: 1.7457 - val_accuracy: 0.6600 - 673ms/epoch - 75ms/step\n",
      "Epoch 393/400\n",
      "9/9 - 1s - loss: 0.2283 - accuracy: 0.9633 - val_loss: 2.0499 - val_accuracy: 0.6533 - 672ms/epoch - 75ms/step\n",
      "Epoch 394/400\n",
      "9/9 - 1s - loss: 0.2233 - accuracy: 0.9616 - val_loss: 1.6024 - val_accuracy: 0.6733 - 672ms/epoch - 75ms/step\n",
      "Epoch 395/400\n",
      "9/9 - 1s - loss: 0.2367 - accuracy: 0.9583 - val_loss: 1.5760 - val_accuracy: 0.6600 - 670ms/epoch - 74ms/step\n",
      "Epoch 396/400\n",
      "9/9 - 1s - loss: 0.2705 - accuracy: 0.9533 - val_loss: 1.4676 - val_accuracy: 0.6667 - 666ms/epoch - 74ms/step\n",
      "Epoch 397/400\n",
      "9/9 - 1s - loss: 0.2913 - accuracy: 0.9416 - val_loss: 2.0346 - val_accuracy: 0.5733 - 668ms/epoch - 74ms/step\n",
      "Epoch 398/400\n",
      "9/9 - 1s - loss: 0.2724 - accuracy: 0.9466 - val_loss: 1.7293 - val_accuracy: 0.6533 - 666ms/epoch - 74ms/step\n",
      "Epoch 399/400\n",
      "9/9 - 1s - loss: 0.2546 - accuracy: 0.9633 - val_loss: 1.5002 - val_accuracy: 0.6800 - 673ms/epoch - 75ms/step\n",
      "Epoch 400/400\n",
      "9/9 - 1s - loss: 0.2303 - accuracy: 0.9566 - val_loss: 1.6018 - val_accuracy: 0.6467 - 666ms/epoch - 74ms/step\n"
     ]
    }
   ],
   "source": [
    "K.clear_session()\n",
    "import glob\n",
    "import shutil\n",
    "import absl.logging\n",
    "os.environ['TF_CPP_MIN_LOG_LEVEL'] = '0'  # or any {'0', '1', '2'}\n",
    "\n",
    "\n",
    "absl.logging.set_verbosity(absl.logging.ERROR)\n",
    "\n",
    "save_model_path = 'CNN_models'\n",
    "\n",
    "if not os.path.exists(save_model_path):\n",
    "            os.mkdir(save_model_path)\n",
    "\n",
    "if len(os.listdir(save_model_path)) != 0:\n",
    "    # files = glob.glob(save_model_path)\n",
    "    # for f in files:\n",
    "    #     os.remove(f)\n",
    "    shutil.rmtree(save_model_path)\n",
    "\n",
    "cp = ModelCheckpoint(filepath='CNN_models', save_weights_only=False, monitor='val_accuracy',\n",
    "                             mode='max', save_best_only=True)\n",
    "\n",
    "# model.fit(self.X_train, self.y_train, batch_size=self.dictionary['batch_size'],\n",
    "#                                  epochs=self.dictionary['epochs'], validation_data=(self.X_val, self.y_val),\n",
    "#                                  verbose=1)\n",
    "\n",
    "model.compile(optimizer=optimizers.Adam(learning_rate=0.001),\n",
    "              loss=\"sparse_categorical_crossentropy\",\n",
    "              metrics=[\"accuracy\"] )\n",
    "\n",
    "hist = model.fit(X_train, y_train,\n",
    "                 validation_data=(X_val, y_val),\n",
    "                 epochs=400,\n",
    "                 batch_size=70,\n",
    "                 verbose = 2,\n",
    "                 callbacks =cp)"
   ],
   "metadata": {
    "collapsed": false
   }
  },
  {
   "cell_type": "code",
   "execution_count": 25,
   "outputs": [
    {
     "data": {
      "text/plain": "<Figure size 640x480 with 2 Axes>",
      "image/png": "[encoded data removed]"
     },
     "metadata": {},
     "output_type": "display_data"
    },
    {
     "name": "stdout",
     "output_type": "stream",
     "text": [
      "5/5 [==============================] - 0s 48ms/step - loss: 1.2569 - accuracy: 0.7200\n",
      "Test accuracy: 0.7200000286102295\n"
     ]
    }
   ],
   "source": [
    "model = keras.models.load_model(save_model_path)\n",
    "\n",
    "def plot_history(hist):\n",
    "    # plt.figure(figsize=(30,  25))\n",
    "    fig, axs = plt.subplots(2,1)\n",
    "\n",
    "    axs[0].set_title(\"Training using CNN\")\n",
    "    # accuracy subplot\n",
    "    axs[0].plot(hist.history[\"accuracy\"], label=\"train accuracy\")\n",
    "    axs[0].plot(hist.history[\"val_accuracy\"], label=\"validation accuracy\")\n",
    "    axs[0].set_ylabel(\"Accuracy\")\n",
    "    axs[0].legend(loc=\"lower right\")\n",
    "    # axs[0].set_title(\"Accuracy\")\n",
    "    axs[0].grid()\n",
    "\n",
    "    # Error subplot\n",
    "    axs[1].plot(hist.history[\"loss\"], label=\"train error\")\n",
    "    axs[1].plot(hist.history[\"val_loss\"], label=\"validation error\")\n",
    "    axs[1].set_ylabel(\"Error\")\n",
    "    axs[1].set_xlabel(\"Epoch\")\n",
    "    axs[1].legend(loc=\"upper right\")\n",
    "    # axs[1].set_title(\"Error\")\n",
    "    axs[1].grid()\n",
    "\n",
    "    plt.show()\n",
    "\n",
    "\n",
    "plot_history(hist)\n",
    "test_error, test_accuracy = model.evaluate(X_val, y_val, verbose=1)\n",
    "print(f\"Test accuracy: {test_accuracy}\")\n"
   ],
   "metadata": {
    "collapsed": false
   }
  },
  {
   "cell_type": "code",
   "execution_count": 26,
   "outputs": [
    {
     "name": "stdout",
     "output_type": "stream",
     "text": [
      "1/1 [==============================] - 0s 63ms/step\n",
      "Expected index: 5, Predicted index: [5]\n"
     ]
    }
   ],
   "source": [
    "\n",
    "def predict(model, X, y):\n",
    "    X = X[np.newaxis, ...]\n",
    "    prediction = model.predict(X)\n",
    "    predicted_index = np.argmax(prediction, axis=1)\n",
    "    print(f\"Expected index: {y}, Predicted index: {predicted_index}\")\n",
    "\n",
    "\n",
    "# print(X_val.shape)\n",
    "# print(X_train.shape)\n",
    "predict(model, X_test[10], y_test[10])"
   ],
   "metadata": {
    "collapsed": false
   }
  },
  {
   "cell_type": "code",
   "execution_count": 7,
   "outputs": [
    {
     "name": "stdout",
     "output_type": "stream",
     "text": [
      "8/8 [==============================] - 5s 13ms/step - loss: 0.4183 - accuracy: 0.9320\n",
      "Test accuracy: 0.9319999814033508\n"
     ]
    }
   ],
   "source": [
    "save_model_path = 'CNN_models'\n",
    "model = keras.models.load_model(save_model_path)\n",
    "\n",
    "test_error, test_accuracy = model.evaluate(X_test, y_test, verbose=1)\n",
    "print(f\"Test accuracy: {test_accuracy}\")"
   ],
   "metadata": {
    "collapsed": false
   }
  },
  {
   "cell_type": "code",
   "execution_count": 11,
   "outputs": [
    {
     "name": "stdout",
     "output_type": "stream",
     "text": [
      "8/8 [==============================] - 0s 34ms/step\n"
     ]
    },
    {
     "data": {
      "text/plain": "Text(0.5, 1.0, 'Confusion Matrix for CNN classifier')"
     },
     "execution_count": 11,
     "metadata": {},
     "output_type": "execute_result"
    },
    {
     "data": {
      "text/plain": "<Figure size 640x480 with 2 Axes>",
      "image/png": "[encoded data removed]"
     },
     "metadata": {},
     "output_type": "display_data"
    }
   ],
   "source": [
    "import sklearn\n",
    "y_pred = np.argmax(model.predict(X_test), 1)\n",
    "# print(y_pred)\n",
    "\n",
    "labels = ['blues', 'classical', 'country', 'disco', 'hiphop', 'jazz', 'metal', 'pop', 'reggae', 'rock']\n",
    "y_test_str = ['' for x in range(len(y_test))]\n",
    "y_pred_str = ['' for x in range(len(y_pred))]\n",
    "\n",
    "# for i in range(len(y_test)):\n",
    "#     y_test_str[i] = labels[y_test[i]]\n",
    "#     y_pred_str[i] = labels[y_pred[i]]\n",
    "\n",
    "# print(y_test_pred)\n",
    "cf = sklearn.metrics.confusion_matrix(y_test, y_pred, sample_weight=None, normalize=None)\n",
    "plot = sklearn.metrics.ConfusionMatrixDisplay(cf, display_labels=labels )\n",
    "plot.plot(cmap='Blues', xticks_rotation = 'vertical')\n",
    "plt.title('Confusion Matrix for CNN classifier')"
   ],
   "metadata": {
    "collapsed": false
   }
  },
  {
   "cell_type": "code",
   "execution_count": null,
   "outputs": [],
   "source": [],
   "metadata": {
    "collapsed": false
   }
  },
  {
   "cell_type": "code",
   "execution_count": 41,
   "outputs": [],
   "source": [],
   "metadata": {
    "collapsed": false
   }
  }
 ],
 "metadata": {
  "kernelspec": {
   "display_name": "Python 3",
   "language": "python",
   "name": "python3"
  },
  "language_info": {
   "codemirror_mode": {
    "name": "ipython",
    "version": 2
   },
   "file_extension": ".py",
   "mimetype": "text/x-python",
   "name": "python",
   "nbconvert_exporter": "python",
   "pygments_lexer": "ipython2",
   "version": "2.7.6"
  }
 },
 "nbformat": 4,
 "nbformat_minor": 0
}
